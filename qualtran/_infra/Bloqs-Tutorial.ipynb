{
 "cells": [
  {
   "cell_type": "markdown",
   "id": "9640a40f",
   "metadata": {
    "id": "9640a40f"
   },
   "source": [
    "# Bloqs Tutorial\n",
    "\n",
    "Qualtran lets you represent high-level quantum programs and subroutines as a hierarchical\n",
    "collection of Python objects. The main interface is the `Bloq` abstract base class."
   ]
  },
  {
   "cell_type": "code",
   "execution_count": 1,
   "id": "37c9b7ce",
   "metadata": {
    "id": "37c9b7ce"
   },
   "outputs": [],
   "source": [
    "import abc\n",
    "from typing import *\n",
    "\n",
    "\n",
    "class Bloq(metaclass=abc.ABCMeta):\n",
    "    ..."
   ]
  },
  {
   "cell_type": "markdown",
   "id": "d4169ffa",
   "metadata": {
    "id": "d4169ffa"
   },
   "source": [
    "We use a graph-like container to wire up collections of bloqs to define new bloqs.\n",
    "\n",
    "By the end of this tutorial, you should understand how to declare bloqs, wire them up, use named registers, use high-bitsize registers, use 'bookkeeping' operations to split and join wires, represent allocations as operations in the graph, and use linear logic to prevent violations of the no cloning theorem."
   ]
  },
  {
   "cell_type": "markdown",
   "id": "7a3d76e5",
   "metadata": {
    "id": "7a3d76e5"
   },
   "source": [
    "## Basics\n",
    "\n",
    "There are two important flavors of implementations of the `Bloq` interface. The first flavor\n",
    "consists of bloqs implemented by you, the user-developer to express quantum operations of\n",
    "interest. For example:\n"
   ]
  },
  {
   "cell_type": "code",
   "execution_count": 2,
   "id": "4aaf9451",
   "metadata": {
    "id": "4aaf9451"
   },
   "outputs": [],
   "source": [
    "class ShorsAlgorithm(Bloq):\n",
    "    ..."
   ]
  },
  {
   "cell_type": "markdown",
   "id": "9b504f60",
   "metadata": {
    "id": "9b504f60"
   },
   "source": [
    "The other important `Bloq` subclass is `CompositeBloq`, which is a container type for a\n",
    "collection of sub-bloqs. We'll investigate this class more later. First, let's define a\n",
    "bloq for a simple quantum operation: the controlled-not (CNOT)."
   ]
  },
  {
   "cell_type": "code",
   "execution_count": 3,
   "id": "114b1560",
   "metadata": {
    "id": "114b1560"
   },
   "outputs": [],
   "source": [
    "class CNOT(Bloq):\n",
    "    ..."
   ]
  },
  {
   "cell_type": "markdown",
   "id": "c632807b",
   "metadata": {
    "id": "c632807b"
   },
   "source": [
    "There is only one mandatory method we must implement to have a well-formed `Bloq`.\n",
    "\n",
    "The mandatory method is the `Bloq.signature` property. This declares what the inputs and\n",
    "outputs are for our bloq, and is a list of registers. A register has a name and quantum-type\n",
    "information. By default, a register declares both an input and an output allowing quantum\n",
    "data to pass through it, like the \"control\" register below. We call these `THRU` registers.\n"
   ]
  },
  {
   "cell_type": "code",
   "execution_count": 4,
   "id": "22d8749d",
   "metadata": {
    "colab": {
     "base_uri": "https://localhost:8080/",
     "height": 351
    },
    "id": "22d8749d",
    "outputId": "b4764180-e624-4579-9e94-f7dc277f374b"
   },
   "outputs": [
    {
     "data": {
      "text/plain": [
       "Register(name='control', dtype=QBit(), _shape=(), side=<Side.THRU: 3>)"
      ]
     },
     "execution_count": 4,
     "metadata": {},
     "output_type": "execute_result"
    }
   ],
   "source": [
    "from qualtran import Register, QBit\n",
    "\n",
    "Register('control', QBit())"
   ]
  },
  {
   "cell_type": "markdown",
   "id": "11e163ca",
   "metadata": {
    "id": "11e163ca"
   },
   "source": [
    "\n",
    "\n",
    "The above code declares a register named \"control\" with the quantum data type `Qbit()`, representing a single qubit. We also return this along with a register for the \"target\" input/output of the CNOT bloq wrapped in the `Signature` container.\n",
    "\n",
    "<div class=\"alert alert-block alert-info\">The `attrs.frozen` annotation removes some of the boilerplate to write an immutable Python class with a pre-defined set of attributes.</div>"
   ]
  },
  {
   "cell_type": "code",
   "execution_count": 5,
   "id": "34a159c4",
   "metadata": {
    "id": "34a159c4"
   },
   "outputs": [],
   "source": [
    "import attrs\n",
    "from qualtran import Bloq, Signature\n",
    "\n",
    "@attrs.frozen\n",
    "class CNOT(Bloq):\n",
    "    @property\n",
    "    def signature(self):\n",
    "        return Signature([\n",
    "            Register('control', QBit()),\n",
    "            Register('target', QBit()),\n",
    "        ])"
   ]
  },
  {
   "cell_type": "markdown",
   "id": "8533a7f5",
   "metadata": {
    "id": "8533a7f5"
   },
   "source": [
    "We now have a well-formed bloq. We can instantiate it and visualize it."
   ]
  },
  {
   "cell_type": "code",
   "execution_count": 6,
   "id": "5cec9aff",
   "metadata": {
    "id": "5cec9aff"
   },
   "outputs": [
    {
     "data": {
      "image/svg+xml": [
       "<svg xmlns=\"http://www.w3.org/2000/svg\" xmlns:xlink=\"http://www.w3.org/1999/xlink\" width=\"273pt\" height=\"98pt\" viewBox=\"0.00 0.00 273.00 98.00\">\n",
       "<g id=\"graph0\" class=\"graph\" transform=\"scale(1 1) rotate(0) translate(4 94)\">\n",
       "<title>my_graph</title>\n",
       "<polygon fill=\"white\" stroke=\"transparent\" points=\"-4,4 -4,-94 269,-94 269,4 -4,4\"/>\n",
       "<!-- control_G0 -->\n",
       "<g id=\"node1\" class=\"node\">\n",
       "<title>control_G0</title>\n",
       "<text text-anchor=\"middle\" x=\"33.5\" y=\"-68.3\" font-family=\"Times,serif\" font-size=\"14.00\">control</text>\n",
       "</g>\n",
       "<!-- CNOT -->\n",
       "<g id=\"node3\" class=\"node\">\n",
       "<title>CNOT</title>\n",
       "<polygon fill=\"none\" stroke=\"black\" points=\"104.5,-66 104.5,-83 161.5,-83 161.5,-66 104.5,-66\"/>\n",
       "<text text-anchor=\"start\" x=\"117\" y=\"-72\" font-family=\"Times,serif\" font-size=\"10.00\">CNOT</text>\n",
       "<polygon fill=\"none\" stroke=\"black\" points=\"104.5,-45 104.5,-66 161.5,-66 161.5,-45 104.5,-45\"/>\n",
       "<text text-anchor=\"start\" x=\"107.5\" y=\"-51.8\" font-family=\"Times,serif\" font-size=\"14.00\">control</text>\n",
       "<polygon fill=\"none\" stroke=\"black\" points=\"104.5,-24 104.5,-45 161.5,-45 161.5,-24 104.5,-24\"/>\n",
       "<text text-anchor=\"start\" x=\"110.5\" y=\"-30.8\" font-family=\"Times,serif\" font-size=\"14.00\">target</text>\n",
       "</g>\n",
       "<!-- control_G0&#45;&gt;CNOT -->\n",
       "<g id=\"edge1\" class=\"edge\">\n",
       "<title>control_G0:e-&gt;CNOT:w</title>\n",
       "<path fill=\"none\" stroke=\"black\" d=\"M67,-72C84.22,-72 85.97,-57.23 101.98,-56.07\"/>\n",
       "<ellipse fill=\"black\" stroke=\"black\" cx=\"103\" cy=\"-56.04\" rx=\"1\" ry=\"1\"/>\n",
       "<text text-anchor=\"middle\" x=\"85.5\" y=\"-67\" font-family=\"Times,serif\" font-size=\"10.00\">1</text>\n",
       "</g>\n",
       "<!-- target_G3 -->\n",
       "<g id=\"node2\" class=\"node\">\n",
       "<title>target_G3</title>\n",
       "<text text-anchor=\"middle\" x=\"33.5\" y=\"-14.3\" font-family=\"Times,serif\" font-size=\"14.00\">target</text>\n",
       "</g>\n",
       "<!-- target_G3&#45;&gt;CNOT -->\n",
       "<g id=\"edge2\" class=\"edge\">\n",
       "<title>target_G3:e-&gt;CNOT:w</title>\n",
       "<path fill=\"none\" stroke=\"black\" d=\"M65.5,-18C83.31,-18 85.33,-32.77 101.9,-33.93\"/>\n",
       "<ellipse fill=\"black\" stroke=\"black\" cx=\"103\" cy=\"-33.97\" rx=\"1\" ry=\"1\"/>\n",
       "<text text-anchor=\"middle\" x=\"85.5\" y=\"-30\" font-family=\"Times,serif\" font-size=\"10.00\">1</text>\n",
       "</g>\n",
       "<!-- control_G1 -->\n",
       "<g id=\"node4\" class=\"node\">\n",
       "<title>control_G1</title>\n",
       "<text text-anchor=\"middle\" x=\"231.5\" y=\"-68.3\" font-family=\"Times,serif\" font-size=\"14.00\">control</text>\n",
       "</g>\n",
       "<!-- CNOT&#45;&gt;control_G1 -->\n",
       "<g id=\"edge3\" class=\"edge\">\n",
       "<title>CNOT:e-&gt;control_G1:w</title>\n",
       "<path fill=\"none\" stroke=\"black\" d=\"M161,-56C178.22,-56 179.97,-70.77 195.98,-71.93\"/>\n",
       "<ellipse fill=\"black\" stroke=\"black\" cx=\"197\" cy=\"-71.96\" rx=\"1\" ry=\"1\"/>\n",
       "<text text-anchor=\"middle\" x=\"179.5\" y=\"-67\" font-family=\"Times,serif\" font-size=\"10.00\">1</text>\n",
       "</g>\n",
       "<!-- target_G5 -->\n",
       "<g id=\"node5\" class=\"node\">\n",
       "<title>target_G5</title>\n",
       "<text text-anchor=\"middle\" x=\"231.5\" y=\"-14.3\" font-family=\"Times,serif\" font-size=\"14.00\">target</text>\n",
       "</g>\n",
       "<!-- CNOT&#45;&gt;target_G5 -->\n",
       "<g id=\"edge4\" class=\"edge\">\n",
       "<title>CNOT:e-&gt;target_G5:w</title>\n",
       "<path fill=\"none\" stroke=\"black\" d=\"M161,-34C178.81,-34 180.83,-19.23 197.4,-18.07\"/>\n",
       "<ellipse fill=\"black\" stroke=\"black\" cx=\"198.5\" cy=\"-18.03\" rx=\"1\" ry=\"1\"/>\n",
       "<text text-anchor=\"middle\" x=\"179.5\" y=\"-30\" font-family=\"Times,serif\" font-size=\"10.00\">1</text>\n",
       "</g>\n",
       "</g>\n",
       "</svg>"
      ],
      "text/plain": [
       "<IPython.core.display.SVG object>"
      ]
     },
     "metadata": {},
     "output_type": "display_data"
    }
   ],
   "source": [
    "from qualtran.drawing import show_bloq\n",
    "\n",
    "cnot = CNOT()\n",
    "show_bloq(cnot)"
   ]
  },
  {
   "cell_type": "markdown",
   "id": "da9baea0",
   "metadata": {
    "id": "da9baea0"
   },
   "source": [
    "This is the absolute minimum amount of information needed to define a Bloq: a name (i.e.\n",
    "the class name) and a `signature` property.\n",
    "The `Bloq.signature` property can be thought of as analogous\n",
    "to the function signature in ordinary programming. You can think of a bloq\n",
    "with just this property implemented like a function\n",
    "declarations in a C header (`*.h`) file.\n",
    "\n",
    "\n",
    "\n",
    "```\n",
    "void CNOT(Qbit* control, Qbit* target);\n",
    "```\n",
    "\n",
    "\n"
   ]
  },
  {
   "cell_type": "markdown",
   "id": "ypBCB5OuGw7w",
   "metadata": {
    "id": "ypBCB5OuGw7w"
   },
   "source": [
    "\n",
    " <div class=\"alert alert-block alert-warning\">If you're familiar with Cirq, you can consider\n",
    "a `cirq.Gate` to be analogous to a `Bloq` with one register named \"qubits\" of size `n`. In\n",
    "fact, `CirqGateAsBloq` lets you wrap any Cirq gate in\n",
    "this way.</div>"
   ]
  },
  {
   "cell_type": "markdown",
   "id": "CfkXHAFzGMUU",
   "metadata": {
    "id": "CfkXHAFzGMUU"
   },
   "source": [
    "There are many other methods we can optionally implement to encode more information about the bloq. The code below is an abbreviated implementation of the CNOT gate in the Qualtran source code. We will examine each method in detail in another tutorial. The main idea is that new methods can be added to the bloq as we progress.\n",
    "\n",
    "\n",
    "```\n",
    "class CNOT(Bloq):\n",
    "    \"\"\"Two-qubit controlled-NOT.\n",
    "\n",
    "    Registers:\n",
    "        ctrl: One-bit control register.\n",
    "        target: One-bit target register.\n",
    "    \"\"\"\n",
    "\n",
    "    @cached_property\n",
    "    def signature(self) -> 'Signature':\n",
    "        return Signature.build(ctrl=1, target=1)\n",
    "\n",
    "    def decompose_bloq(self) -> 'CompositeBloq':\n",
    "        raise DecomposeTypeError(f\"{self} is atomic\")\n",
    "\n",
    "    def adjoint(self) -> 'Bloq':\n",
    "        return self\n",
    "\n",
    "    def add_my_tensors( ...\n",
    "        )\n",
    "\n",
    "    def on_classical_vals(self, ctrl: int, target: int) -> Dict[str, 'ClassicalValT']:\n",
    "        return {'ctrl': ctrl, 'target': (ctrl + target) % 2}\n",
    "\n",
    "    def get_ctrl_system(\n",
    "        return super().get_ctrl_system(ctrl_spec=ctrl_spec)\n",
    "\n",
    "    def as_cirq_op(\n",
    "        return cirq.CNOT(ctrl, target), {'ctrl': np.array([ctrl]), 'target': np.array([target])}\n",
    "\n",
    "    def wire_symbol(self, reg: Optional[Register], idx: Tuple[int, ...] = tuple()) -> 'WireSymbol':\n",
    "        raise ValueError(f'Unknown wire symbol register name: {reg.name}')\n",
    "\n",
    "    def _t_complexity_(self) -> 'TComplexity':\n",
    "        return TComplexity(clifford=1)\n",
    "\n",
    "```\n",
    "\n"
   ]
  },
  {
   "cell_type": "markdown",
   "id": "9b36a23d",
   "metadata": {
    "id": "9b36a23d"
   },
   "source": [
    "## Decomposing Bloqs\n",
    "\n",
    "As you can probably guess, such a simple block-box model of an operation has limited utility.\n",
    "We now turn our attention to a second bloq: SWAP -- which we will define in terms of its\n",
    "decomposition into three CNOTs."
   ]
  },
  {
   "cell_type": "code",
   "execution_count": 7,
   "id": "c2bf35bf",
   "metadata": {
    "id": "c2bf35bf"
   },
   "outputs": [],
   "source": [
    "class SwapTwoBits(Bloq):\n",
    "    ..."
   ]
  },
  {
   "cell_type": "markdown",
   "id": "1bdf983c",
   "metadata": {
    "id": "1bdf983c"
   },
   "source": [
    "As before, we must define the function signature by naming and sizing the registers on\n",
    "which it operates. We'll implement a bloq that swaps two (qu)bits. We'll name the arguments\n",
    "`x` and `y`, but you have some creative freedom with these choices. <div class=\"alert alert-block alert-info\">We've been filling in the `name` and `bitsize`\n",
    "attributes for our registers. The other two attributes are for more advanced usage and\n",
    "will be covered later. In simple cases, we could use the convenience method\n",
    "`Signature.build(x=1, y=1)` for the same object below.</div>"
   ]
  },
  {
   "cell_type": "code",
   "execution_count": 8,
   "id": "9e548b5f",
   "metadata": {
    "id": "9e548b5f"
   },
   "outputs": [],
   "source": [
    "class SwapTwoBits(Bloq):\n",
    "    @property\n",
    "    def signature(self):\n",
    "        return Signature([\n",
    "            Register('x', QBit()),\n",
    "            Register('y', QBit()),\n",
    "        ])"
   ]
  },
  {
   "cell_type": "markdown",
   "id": "54bf8781",
   "metadata": {
    "id": "54bf8781"
   },
   "source": [
    "Now, for the moment you've been waiting for. We can define the implementation of SWAP in terms\n",
    "of sub-operations. `Bloq.decompose_bloq()` will decompose a bloq into its component parts.\n",
    "The return type of this operation is `CompositeBloq` -- our bloq container type which itself\n",
    "follows the `Bloq` interface.\n",
    "\n",
    "Instead of overriding `decompose_bloq()` directly, we override `build_composite_bloq`, which\n",
    "makes it easier for you, the user-developer, to write decompositions."
   ]
  },
  {
   "cell_type": "code",
   "execution_count": 9,
   "id": "305ad1ed",
   "metadata": {
    "id": "305ad1ed"
   },
   "outputs": [],
   "source": [
    "from qualtran import BloqBuilder\n",
    "\n",
    "class SwapTwoBits(Bloq):\n",
    "    ...\n",
    "\n",
    "    def build_composite_bloq(self, bb: BloqBuilder, *, x, y):\n",
    "        ..."
   ]
  },
  {
   "cell_type": "markdown",
   "id": "dfdfc199",
   "metadata": {
    "id": "dfdfc199"
   },
   "source": [
    "The bloqs infrastructure will pass in keyword arguments for each of the input registers,\n",
    "here `x` and `y`. I stress that these names must match the names of the registers declared\n",
    "in the `.signatures` property. The infrastructure also passes in a `BloqBuilder`\n",
    "which is what you will use to add suboperations to the composite bloq storing your\n",
    "decomposition.\n",
    "\n",
    "We use `bb.add(...)` to add sub-operations. For our swap operation, we will need to call\n",
    "`add` three times for each of the CNOTs. The signature is: `bb.add(bloq, **bloq_args)` where\n",
    "the first argument is an instantiation of the bloq we want to add, and then keyword arguments\n",
    "providing the input quantum variables. This call will return quantum variables representing\n",
    "the outputs of the operation that are suitable for using as inputs to subsequent operations.\n",
    "\n",
    "The method returns a dictionary mapping (output) register names to the final quantum variables."
   ]
  },
  {
   "cell_type": "code",
   "execution_count": 10,
   "id": "1b2af153",
   "metadata": {
    "id": "1b2af153"
   },
   "outputs": [],
   "source": [
    "class SwapTwoBits(Bloq):\n",
    "    @property\n",
    "    def signature(self):\n",
    "        return Signature([\n",
    "            Register('x', QBit()),\n",
    "            Register('y', QBit()),\n",
    "        ])\n",
    "\n",
    "    def build_composite_bloq(self, bb: BloqBuilder, *, x, y):\n",
    "        x, y = bb.add(CNOT(), control=x, target=y)\n",
    "        y, x = bb.add(CNOT(), control=y, target=x)\n",
    "        x, y = bb.add(CNOT(), control=x, target=y)\n",
    "        return {'x': x, 'y': y}"
   ]
  },
  {
   "cell_type": "markdown",
   "id": "9ade0bc3",
   "metadata": {
    "id": "9ade0bc3"
   },
   "source": [
    "Note that each CNOT operation takes two arguments named \"control\" and \"target\" and returns\n",
    "two quantum variables which are ordered according to the ordering of the registers\n",
    "in `CNOT.signature` (so in this case: control, target).\n",
    "\n",
    "Let's see what this looks like."
   ]
  },
  {
   "cell_type": "code",
   "execution_count": 11,
   "id": "676dddd5",
   "metadata": {
    "id": "676dddd5"
   },
   "outputs": [
    {
     "data": {
      "image/svg+xml": [
       "<svg xmlns=\"http://www.w3.org/2000/svg\" xmlns:xlink=\"http://www.w3.org/1999/xlink\" width=\"264pt\" height=\"98pt\" viewBox=\"0.00 0.00 264.00 98.00\">\n",
       "<g id=\"graph0\" class=\"graph\" transform=\"scale(1 1) rotate(0) translate(4 94)\">\n",
       "<title>my_graph</title>\n",
       "<polygon fill=\"white\" stroke=\"transparent\" points=\"-4,4 -4,-94 260,-94 260,4 -4,4\"/>\n",
       "<!-- x_G2 -->\n",
       "<g id=\"node1\" class=\"node\">\n",
       "<title>x_G2</title>\n",
       "<text text-anchor=\"middle\" x=\"27\" y=\"-68.3\" font-family=\"Times,serif\" font-size=\"14.00\">x</text>\n",
       "</g>\n",
       "<!-- SwapTwoBits -->\n",
       "<g id=\"node3\" class=\"node\">\n",
       "<title>SwapTwoBits</title>\n",
       "<polygon fill=\"none\" stroke=\"black\" points=\"91,-66 91,-83 165,-83 165,-66 91,-66\"/>\n",
       "<text text-anchor=\"start\" x=\"94\" y=\"-72\" font-family=\"Times,serif\" font-size=\"10.00\">SwapTwoBits</text>\n",
       "<polygon fill=\"none\" stroke=\"black\" points=\"91,-45 91,-66 165,-66 165,-45 91,-45\"/>\n",
       "<text text-anchor=\"start\" x=\"123.5\" y=\"-51.8\" font-family=\"Times,serif\" font-size=\"14.00\">x</text>\n",
       "<polygon fill=\"none\" stroke=\"black\" points=\"91,-24 91,-45 165,-45 165,-24 91,-24\"/>\n",
       "<text text-anchor=\"start\" x=\"123.5\" y=\"-30.8\" font-family=\"Times,serif\" font-size=\"14.00\">y</text>\n",
       "</g>\n",
       "<!-- x_G2&#45;&gt;SwapTwoBits -->\n",
       "<g id=\"edge1\" class=\"edge\">\n",
       "<title>x_G2:e-&gt;SwapTwoBits:w</title>\n",
       "<path fill=\"none\" stroke=\"black\" d=\"M54,-72C71.22,-72 72.97,-57.23 88.98,-56.07\"/>\n",
       "<ellipse fill=\"black\" stroke=\"black\" cx=\"90\" cy=\"-56.04\" rx=\"1\" ry=\"1\"/>\n",
       "<text text-anchor=\"middle\" x=\"72.5\" y=\"-67\" font-family=\"Times,serif\" font-size=\"10.00\">1</text>\n",
       "</g>\n",
       "<!-- y_G4 -->\n",
       "<g id=\"node2\" class=\"node\">\n",
       "<title>y_G4</title>\n",
       "<text text-anchor=\"middle\" x=\"27\" y=\"-14.3\" font-family=\"Times,serif\" font-size=\"14.00\">y</text>\n",
       "</g>\n",
       "<!-- y_G4&#45;&gt;SwapTwoBits -->\n",
       "<g id=\"edge2\" class=\"edge\">\n",
       "<title>y_G4:e-&gt;SwapTwoBits:w</title>\n",
       "<path fill=\"none\" stroke=\"black\" d=\"M54,-18C71.22,-18 72.97,-32.77 88.98,-33.93\"/>\n",
       "<ellipse fill=\"black\" stroke=\"black\" cx=\"90\" cy=\"-33.96\" rx=\"1\" ry=\"1\"/>\n",
       "<text text-anchor=\"middle\" x=\"72.5\" y=\"-29\" font-family=\"Times,serif\" font-size=\"10.00\">1</text>\n",
       "</g>\n",
       "<!-- x_G0 -->\n",
       "<g id=\"node4\" class=\"node\">\n",
       "<title>x_G0</title>\n",
       "<text text-anchor=\"middle\" x=\"229\" y=\"-68.3\" font-family=\"Times,serif\" font-size=\"14.00\">x</text>\n",
       "</g>\n",
       "<!-- SwapTwoBits&#45;&gt;x_G0 -->\n",
       "<g id=\"edge3\" class=\"edge\">\n",
       "<title>SwapTwoBits:e-&gt;x_G0:w</title>\n",
       "<path fill=\"none\" stroke=\"black\" d=\"M165,-56C182.22,-56 183.97,-70.77 199.98,-71.93\"/>\n",
       "<ellipse fill=\"black\" stroke=\"black\" cx=\"201\" cy=\"-71.96\" rx=\"1\" ry=\"1\"/>\n",
       "<text text-anchor=\"middle\" x=\"183.5\" y=\"-67\" font-family=\"Times,serif\" font-size=\"10.00\">1</text>\n",
       "</g>\n",
       "<!-- y_G1 -->\n",
       "<g id=\"node5\" class=\"node\">\n",
       "<title>y_G1</title>\n",
       "<text text-anchor=\"middle\" x=\"229\" y=\"-14.3\" font-family=\"Times,serif\" font-size=\"14.00\">y</text>\n",
       "</g>\n",
       "<!-- SwapTwoBits&#45;&gt;y_G1 -->\n",
       "<g id=\"edge4\" class=\"edge\">\n",
       "<title>SwapTwoBits:e-&gt;y_G1:w</title>\n",
       "<path fill=\"none\" stroke=\"black\" d=\"M165,-34C182.22,-34 183.97,-19.23 199.98,-18.07\"/>\n",
       "<ellipse fill=\"black\" stroke=\"black\" cx=\"201\" cy=\"-18.04\" rx=\"1\" ry=\"1\"/>\n",
       "<text text-anchor=\"middle\" x=\"183.5\" y=\"-29\" font-family=\"Times,serif\" font-size=\"10.00\">1</text>\n",
       "</g>\n",
       "</g>\n",
       "</svg>"
      ],
      "text/plain": [
       "<IPython.core.display.SVG object>"
      ]
     },
     "metadata": {},
     "output_type": "display_data"
    }
   ],
   "source": [
    "swap = SwapTwoBits()\n",
    "show_bloq(swap)"
   ]
  },
  {
   "cell_type": "markdown",
   "id": "87172163",
   "metadata": {
    "id": "87172163"
   },
   "source": [
    "Wait! This is still just a two-bit black box! I thought we defined the bloq by its decomposition.\n",
    "The Bloq object always represents the atomic operation and `CompositeBloq` always represents\n",
    "a collection of sub-operations. We have to explicitly request the decomposition if that's\n",
    "what we want to visualize."
   ]
  },
  {
   "cell_type": "code",
   "execution_count": 12,
   "id": "f08bb50b",
   "metadata": {
    "id": "f08bb50b"
   },
   "outputs": [
    {
     "data": {
      "image/svg+xml": [
       "<svg xmlns=\"http://www.w3.org/2000/svg\" xmlns:xlink=\"http://www.w3.org/1999/xlink\" width=\"435pt\" height=\"98pt\" viewBox=\"0.00 0.00 435.00 98.00\">\n",
       "<g id=\"graph0\" class=\"graph\" transform=\"scale(1 1) rotate(0) translate(4 94)\">\n",
       "<title>my_graph</title>\n",
       "<polygon fill=\"white\" stroke=\"transparent\" points=\"-4,4 -4,-94 431,-94 431,4 -4,4\"/>\n",
       "<!-- x_G13 -->\n",
       "<g id=\"node1\" class=\"node\">\n",
       "<title>x_G13</title>\n",
       "<text text-anchor=\"middle\" x=\"27\" y=\"-68.3\" font-family=\"Times,serif\" font-size=\"14.00\">x</text>\n",
       "</g>\n",
       "<!-- CNOT -->\n",
       "<g id=\"node3\" class=\"node\">\n",
       "<title>CNOT</title>\n",
       "<polygon fill=\"none\" stroke=\"black\" points=\"91.5,-66 91.5,-83 148.5,-83 148.5,-66 91.5,-66\"/>\n",
       "<text text-anchor=\"start\" x=\"104\" y=\"-72\" font-family=\"Times,serif\" font-size=\"10.00\">CNOT</text>\n",
       "<polygon fill=\"none\" stroke=\"black\" points=\"91.5,-45 91.5,-66 148.5,-66 148.5,-45 91.5,-45\"/>\n",
       "<text text-anchor=\"start\" x=\"94.5\" y=\"-51.8\" font-family=\"Times,serif\" font-size=\"14.00\">control</text>\n",
       "<polygon fill=\"none\" stroke=\"black\" points=\"91.5,-24 91.5,-45 148.5,-45 148.5,-24 91.5,-24\"/>\n",
       "<text text-anchor=\"start\" x=\"97.5\" y=\"-30.8\" font-family=\"Times,serif\" font-size=\"14.00\">target</text>\n",
       "</g>\n",
       "<!-- x_G13&#45;&gt;CNOT -->\n",
       "<g id=\"edge1\" class=\"edge\">\n",
       "<title>x_G13:e-&gt;CNOT:w</title>\n",
       "<path fill=\"none\" stroke=\"black\" d=\"M54,-72C71.22,-72 72.97,-57.23 88.98,-56.07\"/>\n",
       "<ellipse fill=\"black\" stroke=\"black\" cx=\"90\" cy=\"-56.04\" rx=\"1\" ry=\"1\"/>\n",
       "<text text-anchor=\"middle\" x=\"72.5\" y=\"-67\" font-family=\"Times,serif\" font-size=\"10.00\">1</text>\n",
       "</g>\n",
       "<!-- y_G11 -->\n",
       "<g id=\"node2\" class=\"node\">\n",
       "<title>y_G11</title>\n",
       "<text text-anchor=\"middle\" x=\"27\" y=\"-14.3\" font-family=\"Times,serif\" font-size=\"14.00\">y</text>\n",
       "</g>\n",
       "<!-- y_G11&#45;&gt;CNOT -->\n",
       "<g id=\"edge2\" class=\"edge\">\n",
       "<title>y_G11:e-&gt;CNOT:w</title>\n",
       "<path fill=\"none\" stroke=\"black\" d=\"M54,-18C71.22,-18 72.97,-32.77 88.98,-33.93\"/>\n",
       "<ellipse fill=\"black\" stroke=\"black\" cx=\"90\" cy=\"-33.96\" rx=\"1\" ry=\"1\"/>\n",
       "<text text-anchor=\"middle\" x=\"72.5\" y=\"-29\" font-family=\"Times,serif\" font-size=\"10.00\">1</text>\n",
       "</g>\n",
       "<!-- CNOT_G0 -->\n",
       "<g id=\"node4\" class=\"node\">\n",
       "<title>CNOT_G0</title>\n",
       "<polygon fill=\"none\" stroke=\"black\" points=\"185.5,-66 185.5,-83 242.5,-83 242.5,-66 185.5,-66\"/>\n",
       "<text text-anchor=\"start\" x=\"198\" y=\"-72\" font-family=\"Times,serif\" font-size=\"10.00\">CNOT</text>\n",
       "<polygon fill=\"none\" stroke=\"black\" points=\"185.5,-45 185.5,-66 242.5,-66 242.5,-45 185.5,-45\"/>\n",
       "<text text-anchor=\"start\" x=\"188.5\" y=\"-51.8\" font-family=\"Times,serif\" font-size=\"14.00\">control</text>\n",
       "<polygon fill=\"none\" stroke=\"black\" points=\"185.5,-24 185.5,-45 242.5,-45 242.5,-24 185.5,-24\"/>\n",
       "<text text-anchor=\"start\" x=\"191.5\" y=\"-30.8\" font-family=\"Times,serif\" font-size=\"14.00\">target</text>\n",
       "</g>\n",
       "<!-- CNOT&#45;&gt;CNOT_G0 -->\n",
       "<g id=\"edge3\" class=\"edge\">\n",
       "<title>CNOT:e-&gt;CNOT_G0:w</title>\n",
       "<path fill=\"none\" stroke=\"black\" d=\"M148,-34C157.16,-34 159.09,-37.37 167,-42 175.06,-46.72 174.94,-54.64 182.82,-55.84\"/>\n",
       "<ellipse fill=\"black\" stroke=\"black\" cx=\"184\" cy=\"-55.93\" rx=\"1\" ry=\"1\"/>\n",
       "<text text-anchor=\"middle\" x=\"166.5\" y=\"-45\" font-family=\"Times,serif\" font-size=\"10.00\">1</text>\n",
       "</g>\n",
       "<!-- CNOT&#45;&gt;CNOT_G0 -->\n",
       "<g id=\"edge4\" class=\"edge\">\n",
       "<title>CNOT:e-&gt;CNOT_G0:w</title>\n",
       "<path fill=\"none\" stroke=\"black\" d=\"M148,-56C166.38,-56 165.94,-35.69 182.85,-34.1\"/>\n",
       "<ellipse fill=\"black\" stroke=\"black\" cx=\"184\" cy=\"-34.05\" rx=\"1\" ry=\"1\"/>\n",
       "<text text-anchor=\"middle\" x=\"166.5\" y=\"-48\" font-family=\"Times,serif\" font-size=\"10.00\">1</text>\n",
       "</g>\n",
       "<!-- CNOT_G3 -->\n",
       "<g id=\"node5\" class=\"node\">\n",
       "<title>CNOT_G3</title>\n",
       "<polygon fill=\"none\" stroke=\"black\" points=\"279.5,-66 279.5,-83 336.5,-83 336.5,-66 279.5,-66\"/>\n",
       "<text text-anchor=\"start\" x=\"292\" y=\"-72\" font-family=\"Times,serif\" font-size=\"10.00\">CNOT</text>\n",
       "<polygon fill=\"none\" stroke=\"black\" points=\"279.5,-45 279.5,-66 336.5,-66 336.5,-45 279.5,-45\"/>\n",
       "<text text-anchor=\"start\" x=\"282.5\" y=\"-51.8\" font-family=\"Times,serif\" font-size=\"14.00\">control</text>\n",
       "<polygon fill=\"none\" stroke=\"black\" points=\"279.5,-24 279.5,-45 336.5,-45 336.5,-24 279.5,-24\"/>\n",
       "<text text-anchor=\"start\" x=\"285.5\" y=\"-30.8\" font-family=\"Times,serif\" font-size=\"14.00\">target</text>\n",
       "</g>\n",
       "<!-- CNOT_G0&#45;&gt;CNOT_G3 -->\n",
       "<g id=\"edge5\" class=\"edge\">\n",
       "<title>CNOT_G0:e-&gt;CNOT_G3:w</title>\n",
       "<path fill=\"none\" stroke=\"black\" d=\"M242,-34C251.16,-34 253.09,-37.37 261,-42 269.06,-46.72 268.94,-54.64 276.82,-55.84\"/>\n",
       "<ellipse fill=\"black\" stroke=\"black\" cx=\"278\" cy=\"-55.93\" rx=\"1\" ry=\"1\"/>\n",
       "<text text-anchor=\"middle\" x=\"260.5\" y=\"-45\" font-family=\"Times,serif\" font-size=\"10.00\">1</text>\n",
       "</g>\n",
       "<!-- CNOT_G0&#45;&gt;CNOT_G3 -->\n",
       "<g id=\"edge6\" class=\"edge\">\n",
       "<title>CNOT_G0:e-&gt;CNOT_G3:w</title>\n",
       "<path fill=\"none\" stroke=\"black\" d=\"M242,-56C260.38,-56 259.94,-35.69 276.85,-34.1\"/>\n",
       "<ellipse fill=\"black\" stroke=\"black\" cx=\"278\" cy=\"-34.05\" rx=\"1\" ry=\"1\"/>\n",
       "<text text-anchor=\"middle\" x=\"260.5\" y=\"-48\" font-family=\"Times,serif\" font-size=\"10.00\">1</text>\n",
       "</g>\n",
       "<!-- x -->\n",
       "<g id=\"node6\" class=\"node\">\n",
       "<title>x</title>\n",
       "<text text-anchor=\"middle\" x=\"400\" y=\"-68.3\" font-family=\"Times,serif\" font-size=\"14.00\">x</text>\n",
       "</g>\n",
       "<!-- CNOT_G3&#45;&gt;x -->\n",
       "<g id=\"edge7\" class=\"edge\">\n",
       "<title>CNOT_G3:e-&gt;x:w</title>\n",
       "<path fill=\"none\" stroke=\"black\" d=\"M336,-56C353.22,-56 354.97,-70.77 370.98,-71.93\"/>\n",
       "<ellipse fill=\"black\" stroke=\"black\" cx=\"372\" cy=\"-71.96\" rx=\"1\" ry=\"1\"/>\n",
       "<text text-anchor=\"middle\" x=\"354.5\" y=\"-67\" font-family=\"Times,serif\" font-size=\"10.00\">1</text>\n",
       "</g>\n",
       "<!-- y -->\n",
       "<g id=\"node7\" class=\"node\">\n",
       "<title>y</title>\n",
       "<text text-anchor=\"middle\" x=\"400\" y=\"-14.3\" font-family=\"Times,serif\" font-size=\"14.00\">y</text>\n",
       "</g>\n",
       "<!-- CNOT_G3&#45;&gt;y -->\n",
       "<g id=\"edge8\" class=\"edge\">\n",
       "<title>CNOT_G3:e-&gt;y:w</title>\n",
       "<path fill=\"none\" stroke=\"black\" d=\"M336,-34C353.22,-34 354.97,-19.23 370.98,-18.07\"/>\n",
       "<ellipse fill=\"black\" stroke=\"black\" cx=\"372\" cy=\"-18.04\" rx=\"1\" ry=\"1\"/>\n",
       "<text text-anchor=\"middle\" x=\"354.5\" y=\"-29\" font-family=\"Times,serif\" font-size=\"10.00\">1</text>\n",
       "</g>\n",
       "</g>\n",
       "</svg>"
      ],
      "text/plain": [
       "<IPython.core.display.SVG object>"
      ]
     },
     "metadata": {},
     "output_type": "display_data"
    }
   ],
   "source": [
    "show_bloq(swap.decompose_bloq())"
   ]
  },
  {
   "cell_type": "markdown",
   "id": "5cf1a3d8",
   "metadata": {
    "id": "5cf1a3d8"
   },
   "source": [
    "### Using `BloqBuilder` directly\n",
    "\n",
    "You can build a standalone `CompositeBloq` (i.e. not as part of the decomposition of\n",
    "another bloq) as well. This can come in handy for testing or prototyping. Simply\n",
    "instantiate a `BloqBuilder`. You need to manually\n",
    "manage your registers with `bb.add_register(...)` and you must finish your building session\n",
    "by calling `bb.finalize(...)` to freeze your composite-bloq-under-construction into an\n",
    "immutable `CompositeBloq`."
   ]
  },
  {
   "cell_type": "code",
   "execution_count": 13,
   "id": "d23ab186",
   "metadata": {
    "id": "d23ab186"
   },
   "outputs": [
    {
     "data": {
      "image/svg+xml": [
       "<svg xmlns=\"http://www.w3.org/2000/svg\" xmlns:xlink=\"http://www.w3.org/1999/xlink\" width=\"435pt\" height=\"98pt\" viewBox=\"0.00 0.00 435.00 98.00\">\n",
       "<g id=\"graph0\" class=\"graph\" transform=\"scale(1 1) rotate(0) translate(4 94)\">\n",
       "<title>my_graph</title>\n",
       "<polygon fill=\"white\" stroke=\"transparent\" points=\"-4,4 -4,-94 431,-94 431,4 -4,4\"/>\n",
       "<!-- x_G13 -->\n",
       "<g id=\"node1\" class=\"node\">\n",
       "<title>x_G13</title>\n",
       "<text text-anchor=\"middle\" x=\"27\" y=\"-68.3\" font-family=\"Times,serif\" font-size=\"14.00\">x</text>\n",
       "</g>\n",
       "<!-- CNOT -->\n",
       "<g id=\"node3\" class=\"node\">\n",
       "<title>CNOT</title>\n",
       "<polygon fill=\"none\" stroke=\"black\" points=\"91.5,-66 91.5,-83 148.5,-83 148.5,-66 91.5,-66\"/>\n",
       "<text text-anchor=\"start\" x=\"104\" y=\"-72\" font-family=\"Times,serif\" font-size=\"10.00\">CNOT</text>\n",
       "<polygon fill=\"none\" stroke=\"black\" points=\"91.5,-45 91.5,-66 148.5,-66 148.5,-45 91.5,-45\"/>\n",
       "<text text-anchor=\"start\" x=\"94.5\" y=\"-51.8\" font-family=\"Times,serif\" font-size=\"14.00\">control</text>\n",
       "<polygon fill=\"none\" stroke=\"black\" points=\"91.5,-24 91.5,-45 148.5,-45 148.5,-24 91.5,-24\"/>\n",
       "<text text-anchor=\"start\" x=\"97.5\" y=\"-30.8\" font-family=\"Times,serif\" font-size=\"14.00\">target</text>\n",
       "</g>\n",
       "<!-- x_G13&#45;&gt;CNOT -->\n",
       "<g id=\"edge1\" class=\"edge\">\n",
       "<title>x_G13:e-&gt;CNOT:w</title>\n",
       "<path fill=\"none\" stroke=\"black\" d=\"M54,-72C71.22,-72 72.97,-57.23 88.98,-56.07\"/>\n",
       "<ellipse fill=\"black\" stroke=\"black\" cx=\"90\" cy=\"-56.04\" rx=\"1\" ry=\"1\"/>\n",
       "<text text-anchor=\"middle\" x=\"72.5\" y=\"-67\" font-family=\"Times,serif\" font-size=\"10.00\">1</text>\n",
       "</g>\n",
       "<!-- y_G11 -->\n",
       "<g id=\"node2\" class=\"node\">\n",
       "<title>y_G11</title>\n",
       "<text text-anchor=\"middle\" x=\"27\" y=\"-14.3\" font-family=\"Times,serif\" font-size=\"14.00\">y</text>\n",
       "</g>\n",
       "<!-- y_G11&#45;&gt;CNOT -->\n",
       "<g id=\"edge2\" class=\"edge\">\n",
       "<title>y_G11:e-&gt;CNOT:w</title>\n",
       "<path fill=\"none\" stroke=\"black\" d=\"M54,-18C71.22,-18 72.97,-32.77 88.98,-33.93\"/>\n",
       "<ellipse fill=\"black\" stroke=\"black\" cx=\"90\" cy=\"-33.96\" rx=\"1\" ry=\"1\"/>\n",
       "<text text-anchor=\"middle\" x=\"72.5\" y=\"-29\" font-family=\"Times,serif\" font-size=\"10.00\">1</text>\n",
       "</g>\n",
       "<!-- CNOT_G0 -->\n",
       "<g id=\"node4\" class=\"node\">\n",
       "<title>CNOT_G0</title>\n",
       "<polygon fill=\"none\" stroke=\"black\" points=\"185.5,-66 185.5,-83 242.5,-83 242.5,-66 185.5,-66\"/>\n",
       "<text text-anchor=\"start\" x=\"198\" y=\"-72\" font-family=\"Times,serif\" font-size=\"10.00\">CNOT</text>\n",
       "<polygon fill=\"none\" stroke=\"black\" points=\"185.5,-45 185.5,-66 242.5,-66 242.5,-45 185.5,-45\"/>\n",
       "<text text-anchor=\"start\" x=\"188.5\" y=\"-51.8\" font-family=\"Times,serif\" font-size=\"14.00\">control</text>\n",
       "<polygon fill=\"none\" stroke=\"black\" points=\"185.5,-24 185.5,-45 242.5,-45 242.5,-24 185.5,-24\"/>\n",
       "<text text-anchor=\"start\" x=\"191.5\" y=\"-30.8\" font-family=\"Times,serif\" font-size=\"14.00\">target</text>\n",
       "</g>\n",
       "<!-- CNOT&#45;&gt;CNOT_G0 -->\n",
       "<g id=\"edge3\" class=\"edge\">\n",
       "<title>CNOT:e-&gt;CNOT_G0:w</title>\n",
       "<path fill=\"none\" stroke=\"black\" d=\"M148,-34C157.16,-34 159.09,-37.37 167,-42 175.06,-46.72 174.94,-54.64 182.82,-55.84\"/>\n",
       "<ellipse fill=\"black\" stroke=\"black\" cx=\"184\" cy=\"-55.93\" rx=\"1\" ry=\"1\"/>\n",
       "<text text-anchor=\"middle\" x=\"166.5\" y=\"-45\" font-family=\"Times,serif\" font-size=\"10.00\">1</text>\n",
       "</g>\n",
       "<!-- CNOT&#45;&gt;CNOT_G0 -->\n",
       "<g id=\"edge4\" class=\"edge\">\n",
       "<title>CNOT:e-&gt;CNOT_G0:w</title>\n",
       "<path fill=\"none\" stroke=\"black\" d=\"M148,-56C166.38,-56 165.94,-35.69 182.85,-34.1\"/>\n",
       "<ellipse fill=\"black\" stroke=\"black\" cx=\"184\" cy=\"-34.05\" rx=\"1\" ry=\"1\"/>\n",
       "<text text-anchor=\"middle\" x=\"166.5\" y=\"-48\" font-family=\"Times,serif\" font-size=\"10.00\">1</text>\n",
       "</g>\n",
       "<!-- CNOT_G3 -->\n",
       "<g id=\"node5\" class=\"node\">\n",
       "<title>CNOT_G3</title>\n",
       "<polygon fill=\"none\" stroke=\"black\" points=\"279.5,-66 279.5,-83 336.5,-83 336.5,-66 279.5,-66\"/>\n",
       "<text text-anchor=\"start\" x=\"292\" y=\"-72\" font-family=\"Times,serif\" font-size=\"10.00\">CNOT</text>\n",
       "<polygon fill=\"none\" stroke=\"black\" points=\"279.5,-45 279.5,-66 336.5,-66 336.5,-45 279.5,-45\"/>\n",
       "<text text-anchor=\"start\" x=\"282.5\" y=\"-51.8\" font-family=\"Times,serif\" font-size=\"14.00\">control</text>\n",
       "<polygon fill=\"none\" stroke=\"black\" points=\"279.5,-24 279.5,-45 336.5,-45 336.5,-24 279.5,-24\"/>\n",
       "<text text-anchor=\"start\" x=\"285.5\" y=\"-30.8\" font-family=\"Times,serif\" font-size=\"14.00\">target</text>\n",
       "</g>\n",
       "<!-- CNOT_G0&#45;&gt;CNOT_G3 -->\n",
       "<g id=\"edge5\" class=\"edge\">\n",
       "<title>CNOT_G0:e-&gt;CNOT_G3:w</title>\n",
       "<path fill=\"none\" stroke=\"black\" d=\"M242,-34C251.16,-34 253.09,-37.37 261,-42 269.06,-46.72 268.94,-54.64 276.82,-55.84\"/>\n",
       "<ellipse fill=\"black\" stroke=\"black\" cx=\"278\" cy=\"-55.93\" rx=\"1\" ry=\"1\"/>\n",
       "<text text-anchor=\"middle\" x=\"260.5\" y=\"-45\" font-family=\"Times,serif\" font-size=\"10.00\">1</text>\n",
       "</g>\n",
       "<!-- CNOT_G0&#45;&gt;CNOT_G3 -->\n",
       "<g id=\"edge6\" class=\"edge\">\n",
       "<title>CNOT_G0:e-&gt;CNOT_G3:w</title>\n",
       "<path fill=\"none\" stroke=\"black\" d=\"M242,-56C260.38,-56 259.94,-35.69 276.85,-34.1\"/>\n",
       "<ellipse fill=\"black\" stroke=\"black\" cx=\"278\" cy=\"-34.05\" rx=\"1\" ry=\"1\"/>\n",
       "<text text-anchor=\"middle\" x=\"260.5\" y=\"-48\" font-family=\"Times,serif\" font-size=\"10.00\">1</text>\n",
       "</g>\n",
       "<!-- x -->\n",
       "<g id=\"node6\" class=\"node\">\n",
       "<title>x</title>\n",
       "<text text-anchor=\"middle\" x=\"400\" y=\"-68.3\" font-family=\"Times,serif\" font-size=\"14.00\">x</text>\n",
       "</g>\n",
       "<!-- CNOT_G3&#45;&gt;x -->\n",
       "<g id=\"edge7\" class=\"edge\">\n",
       "<title>CNOT_G3:e-&gt;x:w</title>\n",
       "<path fill=\"none\" stroke=\"black\" d=\"M336,-56C353.22,-56 354.97,-70.77 370.98,-71.93\"/>\n",
       "<ellipse fill=\"black\" stroke=\"black\" cx=\"372\" cy=\"-71.96\" rx=\"1\" ry=\"1\"/>\n",
       "<text text-anchor=\"middle\" x=\"354.5\" y=\"-67\" font-family=\"Times,serif\" font-size=\"10.00\">1</text>\n",
       "</g>\n",
       "<!-- y -->\n",
       "<g id=\"node7\" class=\"node\">\n",
       "<title>y</title>\n",
       "<text text-anchor=\"middle\" x=\"400\" y=\"-14.3\" font-family=\"Times,serif\" font-size=\"14.00\">y</text>\n",
       "</g>\n",
       "<!-- CNOT_G3&#45;&gt;y -->\n",
       "<g id=\"edge8\" class=\"edge\">\n",
       "<title>CNOT_G3:e-&gt;y:w</title>\n",
       "<path fill=\"none\" stroke=\"black\" d=\"M336,-34C353.22,-34 354.97,-19.23 370.98,-18.07\"/>\n",
       "<ellipse fill=\"black\" stroke=\"black\" cx=\"372\" cy=\"-18.04\" rx=\"1\" ry=\"1\"/>\n",
       "<text text-anchor=\"middle\" x=\"354.5\" y=\"-29\" font-family=\"Times,serif\" font-size=\"10.00\">1</text>\n",
       "</g>\n",
       "</g>\n",
       "</svg>"
      ],
      "text/plain": [
       "<IPython.core.display.SVG object>"
      ]
     },
     "metadata": {},
     "output_type": "display_data"
    }
   ],
   "source": [
    "bb = BloqBuilder()\n",
    "x = bb.add_register('x', 1)\n",
    "y = bb.add_register('y', 1)\n",
    "x, y = bb.add(CNOT(), control=x, target=y)\n",
    "y, x = bb.add(CNOT(), control=y, target=x)\n",
    "x, y = bb.add(CNOT(), control=x, target=y)\n",
    "cbloq = bb.finalize(x=x, y=y)\n",
    "show_bloq(cbloq)"
   ]
  },
  {
   "cell_type": "markdown",
   "id": "a63a9531",
   "metadata": {
    "id": "a63a9531"
   },
   "source": [
    "## Quantum variables and `Soquet`s.\n",
    "\n",
    "What are the types of `x` and `y`? They represent quantum variables used to \"wire up\" sub\n",
    "operations by providing them as inputs and receiving them as outputs during calls to `bb.add`. <div class=\"alert alert-block alert-warning\">If you're familiar with Cirq, you might think\n",
    "that they are equivalent to `cirq.Qubit`s. Whereas a cirq.Circuit has a fixed pool of qubits\n",
    "on which many operations act, these quantum variables follow different rules &mdash; read on!</div>\n",
    "\n",
    "The rules of quantum mechanics makes these quantum variables behave very differently than\n",
    "normal variables. The most salient rules are the no-cloning theorem and its dual, the\n",
    "[no-deleting theorem](https://en.wikipedia.org/wiki/No-deleting_theorem). In the parlance\n",
    "of programming language research, our variables follow \"linear logic\". A linear variable\n",
    "must be used once and only once.\n",
    "\n",
    "The following snippets show improper use of our quantum variables. Luckily, the bloq builder will\n",
    "raise an error if the rules of quantum mechanics are not followed!"
   ]
  },
  {
   "cell_type": "code",
   "execution_count": 14,
   "id": "85da3eb7",
   "metadata": {
    "id": "85da3eb7"
   },
   "outputs": [
    {
     "name": "stdout",
     "output_type": "stream",
     "text": [
      "Can't use a variable as both control and target!\n",
      "LeftDangle.x is not an available Soquet for `CNOT.target`.\n"
     ]
    }
   ],
   "source": [
    "from qualtran import BloqError\n",
    "\n",
    "bb = BloqBuilder()\n",
    "x = bb.add_register('x', 1)\n",
    "y = bb.add_register('y', 1)\n",
    "\n",
    "try:\n",
    "    _ = bb.add(CNOT(), control=x, target=x)\n",
    "except BloqError as e:\n",
    "    print(\"Can't use a variable as both control and target!\")\n",
    "    print(e)"
   ]
  },
  {
   "cell_type": "code",
   "execution_count": 15,
   "id": "cfe23c3e",
   "metadata": {
    "id": "cfe23c3e"
   },
   "outputs": [
    {
     "name": "stdout",
     "output_type": "stream",
     "text": [
      "`x` and `y` were consumed by the first call to `add`.\n",
      "Returned quantum variables are *new, immutable* variables that you use\n",
      "in subsequent operations\n",
      "LeftDangle.x is not an available Soquet for `CNOT.control`.\n"
     ]
    }
   ],
   "source": [
    "bb = BloqBuilder()\n",
    "x = bb.add_register('x', 1)\n",
    "y = bb.add_register('y', 1)\n",
    "x2, y2 = bb.add(CNOT(), control=x, target=y)\n",
    "\n",
    "try:\n",
    "    x3, y3 = bb.add(CNOT(), control=x, target=y)\n",
    "except BloqError as e:\n",
    "    print(\"`x` and `y` were consumed by the first call to `add`.\")\n",
    "    print(\"Returned quantum variables are *new, immutable* variables that you use\")\n",
    "    print(\"in subsequent operations\")\n",
    "    print(e)"
   ]
  },
  {
   "cell_type": "code",
   "execution_count": 16,
   "id": "3b07af73",
   "metadata": {
    "id": "3b07af73"
   },
   "outputs": [
    {
     "name": "stdout",
     "output_type": "stream",
     "text": [
      "Any unused variables must be 'passed on' to `finalize` to be outputs.\n",
      "Finalizing requires a Soquet named `y`.\n"
     ]
    }
   ],
   "source": [
    "bb = BloqBuilder()\n",
    "x = bb.add_register('x', 1)\n",
    "y = bb.add_register('y', 1)\n",
    "\n",
    "# The following line turns on the additional checks needed to\n",
    "# raise an exception in this case:\n",
    "bb.add_register_allowed = False\n",
    "\n",
    "x2, y2 = bb.add(CNOT(), control=x, target=y)\n",
    "x3, y3 = bb.add(CNOT(), control=x2, target=y2)\n",
    "\n",
    "try:\n",
    "    bb.finalize(x=x3)\n",
    "except BloqError as e:\n",
    "    print(\"Any unused variables must be 'passed on' to `finalize` to be outputs.\")\n",
    "    print(e)"
   ]
  },
  {
   "cell_type": "markdown",
   "id": "432b4c75",
   "metadata": {
    "id": "432b4c75"
   },
   "source": [
    "The actual Python type of these objects is `Soquet`, which you will see in type annotations,\n",
    "but you should never instantiate a `Soquet` directly, nor should you use or set its attributes.\n",
    "Soquets should be constructed and managed by `BloqBuilder` and other infrastructure. <div class=\"alert alert-block alert-warning\">Another opaque, infrastructural class that\n",
    "    you may see but should not be manipulating directly is `BloqInstance`. This simple wrapper\n",
    "lets us distinguish between two *instances* of e.g. a CNOT bloq. Usually we want value\n",
    "equality semantics between bloqs.</div>"
   ]
  },
  {
   "cell_type": "markdown",
   "id": "4f44f287",
   "metadata": {
    "id": "4f44f287"
   },
   "source": [
    "## Larger registers\n",
    "\n",
    "Our two bloqs have still been operating at the level of individual bits. We now consider\n",
    "a general swap between two `n`-sized registers. To define register with size greater than one, quantum data type `QAny()` is used. <div class=\"alert alert-block alert-info\">The `n: int` line means our class has one attribute named `n` of type `int`. The attrs annotation will automatically generate an `__init__` function.</div>"
   ]
  },
  {
   "cell_type": "code",
   "execution_count": 17,
   "id": "145c65b6",
   "metadata": {
    "id": "145c65b6"
   },
   "outputs": [],
   "source": [
    "from qualtran import QAny\n",
    "\n",
    "@attrs.frozen\n",
    "class Swap(Bloq):\n",
    "    n: int\n",
    "\n",
    "    @property\n",
    "    def signature(self):\n",
    "        return Signature([\n",
    "            Register('x', QAny(bitsize=self.n)),\n",
    "            Register('y', QAny(bitsize=self.n)),\n",
    "        ])"
   ]
  },
  {
   "cell_type": "markdown",
   "id": "1513500c",
   "metadata": {
    "id": "1513500c"
   },
   "source": [
    "Note that our bloq now has an attrs attribute `n` that lets us configure the exact parameters\n",
    "of the bloq without defining a new class. This is analogous to a template parameter in C++,\n",
    "for example. Bloqs should be immutable and hashable."
   ]
  },
  {
   "cell_type": "code",
   "execution_count": 18,
   "id": "4bcc3e93",
   "metadata": {
    "id": "4bcc3e93"
   },
   "outputs": [],
   "source": [
    "assert Swap(5) == Swap(5)\n",
    "assert Swap(5) != Swap(6)"
   ]
  },
  {
   "cell_type": "code",
   "execution_count": 19,
   "id": "2ebf0d70",
   "metadata": {
    "id": "2ebf0d70"
   },
   "outputs": [],
   "source": [
    "from qualtran import SoquetT\n",
    "\n",
    "@attrs.frozen\n",
    "class Swap(Bloq):\n",
    "    n: int\n",
    "\n",
    "    @property\n",
    "    def signature(self):\n",
    "        return Signature.build(x=self.n, y=self.n)\n",
    "\n",
    "    def build_composite_bloq(\n",
    "            self, bb: BloqBuilder, *, x: SoquetT, y: SoquetT\n",
    "    ) -> Dict[str, SoquetT]:\n",
    "        # THIS WON'T ACTUALLY WORK! Read on.\n",
    "        for i in range(self.n):\n",
    "            x[i], y[i] = bb.add(SwapTwoBits(), x=x[i], y=y[i])\n",
    "        return {'x': x, 'y': y}"
   ]
  },
  {
   "cell_type": "markdown",
   "id": "3db1bfa8",
   "metadata": {
    "id": "3db1bfa8"
   },
   "source": [
    "For our first attempt, we will straightforwardly decompose our swap between two n-bit registers\n",
    "into n swaps over each bit in the two registers. There's a note that this won't actually work.\n",
    "Let's see what happens."
   ]
  },
  {
   "cell_type": "code",
   "execution_count": 20,
   "id": "b08436af",
   "metadata": {
    "id": "b08436af"
   },
   "outputs": [
    {
     "data": {
      "image/svg+xml": [
       "<svg xmlns=\"http://www.w3.org/2000/svg\" xmlns:xlink=\"http://www.w3.org/1999/xlink\" width=\"224pt\" height=\"98pt\" viewBox=\"0.00 0.00 224.00 98.00\">\n",
       "<g id=\"graph0\" class=\"graph\" transform=\"scale(1 1) rotate(0) translate(4 94)\">\n",
       "<title>my_graph</title>\n",
       "<polygon fill=\"white\" stroke=\"transparent\" points=\"-4,4 -4,-94 220,-94 220,4 -4,4\"/>\n",
       "<!-- x_G3 -->\n",
       "<g id=\"node1\" class=\"node\">\n",
       "<title>x_G3</title>\n",
       "<text text-anchor=\"middle\" x=\"27\" y=\"-68.3\" font-family=\"Times,serif\" font-size=\"14.00\">x</text>\n",
       "</g>\n",
       "<!-- Swap -->\n",
       "<g id=\"node3\" class=\"node\">\n",
       "<title>Swap</title>\n",
       "<polygon fill=\"none\" stroke=\"black\" points=\"91,-66 91,-83 125,-83 125,-66 91,-66\"/>\n",
       "<text text-anchor=\"start\" x=\"94\" y=\"-72\" font-family=\"Times,serif\" font-size=\"10.00\">Swap</text>\n",
       "<polygon fill=\"none\" stroke=\"black\" points=\"91,-45 91,-66 125,-66 125,-45 91,-45\"/>\n",
       "<text text-anchor=\"start\" x=\"103.5\" y=\"-51.8\" font-family=\"Times,serif\" font-size=\"14.00\">x</text>\n",
       "<polygon fill=\"none\" stroke=\"black\" points=\"91,-24 91,-45 125,-45 125,-24 91,-24\"/>\n",
       "<text text-anchor=\"start\" x=\"103.5\" y=\"-30.8\" font-family=\"Times,serif\" font-size=\"14.00\">y</text>\n",
       "</g>\n",
       "<!-- x_G3&#45;&gt;Swap -->\n",
       "<g id=\"edge1\" class=\"edge\">\n",
       "<title>x_G3:e-&gt;Swap:w</title>\n",
       "<path fill=\"none\" stroke=\"black\" d=\"M54,-72C71.22,-72 72.97,-57.23 88.98,-56.07\"/>\n",
       "<ellipse fill=\"black\" stroke=\"black\" cx=\"90\" cy=\"-56.04\" rx=\"1\" ry=\"1\"/>\n",
       "<text text-anchor=\"middle\" x=\"72.5\" y=\"-67\" font-family=\"Times,serif\" font-size=\"10.00\">5</text>\n",
       "</g>\n",
       "<!-- y_G5 -->\n",
       "<g id=\"node2\" class=\"node\">\n",
       "<title>y_G5</title>\n",
       "<text text-anchor=\"middle\" x=\"27\" y=\"-14.3\" font-family=\"Times,serif\" font-size=\"14.00\">y</text>\n",
       "</g>\n",
       "<!-- y_G5&#45;&gt;Swap -->\n",
       "<g id=\"edge2\" class=\"edge\">\n",
       "<title>y_G5:e-&gt;Swap:w</title>\n",
       "<path fill=\"none\" stroke=\"black\" d=\"M54,-18C71.22,-18 72.97,-32.77 88.98,-33.93\"/>\n",
       "<ellipse fill=\"black\" stroke=\"black\" cx=\"90\" cy=\"-33.96\" rx=\"1\" ry=\"1\"/>\n",
       "<text text-anchor=\"middle\" x=\"72.5\" y=\"-29\" font-family=\"Times,serif\" font-size=\"10.00\">5</text>\n",
       "</g>\n",
       "<!-- x_G4 -->\n",
       "<g id=\"node4\" class=\"node\">\n",
       "<title>x_G4</title>\n",
       "<text text-anchor=\"middle\" x=\"189\" y=\"-68.3\" font-family=\"Times,serif\" font-size=\"14.00\">x</text>\n",
       "</g>\n",
       "<!-- Swap&#45;&gt;x_G4 -->\n",
       "<g id=\"edge3\" class=\"edge\">\n",
       "<title>Swap:e-&gt;x_G4:w</title>\n",
       "<path fill=\"none\" stroke=\"black\" d=\"M125,-56C142.22,-56 143.97,-70.77 159.98,-71.93\"/>\n",
       "<ellipse fill=\"black\" stroke=\"black\" cx=\"161\" cy=\"-71.96\" rx=\"1\" ry=\"1\"/>\n",
       "<text text-anchor=\"middle\" x=\"143.5\" y=\"-67\" font-family=\"Times,serif\" font-size=\"10.00\">5</text>\n",
       "</g>\n",
       "<!-- y_G1 -->\n",
       "<g id=\"node5\" class=\"node\">\n",
       "<title>y_G1</title>\n",
       "<text text-anchor=\"middle\" x=\"189\" y=\"-14.3\" font-family=\"Times,serif\" font-size=\"14.00\">y</text>\n",
       "</g>\n",
       "<!-- Swap&#45;&gt;y_G1 -->\n",
       "<g id=\"edge4\" class=\"edge\">\n",
       "<title>Swap:e-&gt;y_G1:w</title>\n",
       "<path fill=\"none\" stroke=\"black\" d=\"M125,-34C142.22,-34 143.97,-19.23 159.98,-18.07\"/>\n",
       "<ellipse fill=\"black\" stroke=\"black\" cx=\"161\" cy=\"-18.04\" rx=\"1\" ry=\"1\"/>\n",
       "<text text-anchor=\"middle\" x=\"143.5\" y=\"-29\" font-family=\"Times,serif\" font-size=\"10.00\">5</text>\n",
       "</g>\n",
       "</g>\n",
       "</svg>"
      ],
      "text/plain": [
       "<IPython.core.display.SVG object>"
      ]
     },
     "metadata": {},
     "output_type": "display_data"
    }
   ],
   "source": [
    "show_bloq(Swap(n=5))"
   ]
  },
  {
   "cell_type": "markdown",
   "id": "fdc991f3",
   "metadata": {
    "id": "fdc991f3"
   },
   "source": [
    "That looks fine... In fact: you can see a useful property of bloqs. Instead of representing\n",
    "each qubit as its own quantum variable, the size of our register is just a property annotated\n",
    "on the graph. We can make it arbitrarily large with no performance penalty"
   ]
  },
  {
   "cell_type": "code",
   "execution_count": 21,
   "id": "fba876e0",
   "metadata": {
    "id": "fba876e0"
   },
   "outputs": [
    {
     "data": {
      "image/svg+xml": [
       "<svg xmlns=\"http://www.w3.org/2000/svg\" xmlns:xlink=\"http://www.w3.org/1999/xlink\" width=\"224pt\" height=\"98pt\" viewBox=\"0.00 0.00 224.00 98.00\">\n",
       "<g id=\"graph0\" class=\"graph\" transform=\"scale(1 1) rotate(0) translate(4 94)\">\n",
       "<title>my_graph</title>\n",
       "<polygon fill=\"white\" stroke=\"transparent\" points=\"-4,4 -4,-94 220,-94 220,4 -4,4\"/>\n",
       "<!-- x_G0 -->\n",
       "<g id=\"node1\" class=\"node\">\n",
       "<title>x_G0</title>\n",
       "<text text-anchor=\"middle\" x=\"27\" y=\"-68.3\" font-family=\"Times,serif\" font-size=\"14.00\">x</text>\n",
       "</g>\n",
       "<!-- Swap -->\n",
       "<g id=\"node3\" class=\"node\">\n",
       "<title>Swap</title>\n",
       "<polygon fill=\"none\" stroke=\"black\" points=\"91,-66 91,-83 125,-83 125,-66 91,-66\"/>\n",
       "<text text-anchor=\"start\" x=\"94\" y=\"-72\" font-family=\"Times,serif\" font-size=\"10.00\">Swap</text>\n",
       "<polygon fill=\"none\" stroke=\"black\" points=\"91,-45 91,-66 125,-66 125,-45 91,-45\"/>\n",
       "<text text-anchor=\"start\" x=\"103.5\" y=\"-51.8\" font-family=\"Times,serif\" font-size=\"14.00\">x</text>\n",
       "<polygon fill=\"none\" stroke=\"black\" points=\"91,-24 91,-45 125,-45 125,-24 91,-24\"/>\n",
       "<text text-anchor=\"start\" x=\"103.5\" y=\"-30.8\" font-family=\"Times,serif\" font-size=\"14.00\">y</text>\n",
       "</g>\n",
       "<!-- x_G0&#45;&gt;Swap -->\n",
       "<g id=\"edge1\" class=\"edge\">\n",
       "<title>x_G0:e-&gt;Swap:w</title>\n",
       "<path fill=\"none\" stroke=\"black\" d=\"M54,-72C71.22,-72 72.97,-57.23 88.98,-56.07\"/>\n",
       "<ellipse fill=\"black\" stroke=\"black\" cx=\"90\" cy=\"-56.04\" rx=\"1\" ry=\"1\"/>\n",
       "<text text-anchor=\"middle\" x=\"72.5\" y=\"-67\" font-family=\"Times,serif\" font-size=\"10.00\">10000</text>\n",
       "</g>\n",
       "<!-- y_G2 -->\n",
       "<g id=\"node2\" class=\"node\">\n",
       "<title>y_G2</title>\n",
       "<text text-anchor=\"middle\" x=\"27\" y=\"-14.3\" font-family=\"Times,serif\" font-size=\"14.00\">y</text>\n",
       "</g>\n",
       "<!-- y_G2&#45;&gt;Swap -->\n",
       "<g id=\"edge2\" class=\"edge\">\n",
       "<title>y_G2:e-&gt;Swap:w</title>\n",
       "<path fill=\"none\" stroke=\"black\" d=\"M54,-18C71.22,-18 72.97,-32.77 88.98,-33.93\"/>\n",
       "<ellipse fill=\"black\" stroke=\"black\" cx=\"90\" cy=\"-33.96\" rx=\"1\" ry=\"1\"/>\n",
       "<text text-anchor=\"middle\" x=\"72.5\" y=\"-29\" font-family=\"Times,serif\" font-size=\"10.00\">10000</text>\n",
       "</g>\n",
       "<!-- x_G5 -->\n",
       "<g id=\"node4\" class=\"node\">\n",
       "<title>x_G5</title>\n",
       "<text text-anchor=\"middle\" x=\"189\" y=\"-68.3\" font-family=\"Times,serif\" font-size=\"14.00\">x</text>\n",
       "</g>\n",
       "<!-- Swap&#45;&gt;x_G5 -->\n",
       "<g id=\"edge3\" class=\"edge\">\n",
       "<title>Swap:e-&gt;x_G5:w</title>\n",
       "<path fill=\"none\" stroke=\"black\" d=\"M125,-56C142.22,-56 143.97,-70.77 159.98,-71.93\"/>\n",
       "<ellipse fill=\"black\" stroke=\"black\" cx=\"161\" cy=\"-71.96\" rx=\"1\" ry=\"1\"/>\n",
       "<text text-anchor=\"middle\" x=\"143.5\" y=\"-67\" font-family=\"Times,serif\" font-size=\"10.00\">10000</text>\n",
       "</g>\n",
       "<!-- y_G1 -->\n",
       "<g id=\"node5\" class=\"node\">\n",
       "<title>y_G1</title>\n",
       "<text text-anchor=\"middle\" x=\"189\" y=\"-14.3\" font-family=\"Times,serif\" font-size=\"14.00\">y</text>\n",
       "</g>\n",
       "<!-- Swap&#45;&gt;y_G1 -->\n",
       "<g id=\"edge4\" class=\"edge\">\n",
       "<title>Swap:e-&gt;y_G1:w</title>\n",
       "<path fill=\"none\" stroke=\"black\" d=\"M125,-34C142.22,-34 143.97,-19.23 159.98,-18.07\"/>\n",
       "<ellipse fill=\"black\" stroke=\"black\" cx=\"161\" cy=\"-18.04\" rx=\"1\" ry=\"1\"/>\n",
       "<text text-anchor=\"middle\" x=\"143.5\" y=\"-29\" font-family=\"Times,serif\" font-size=\"10.00\">10000</text>\n",
       "</g>\n",
       "</g>\n",
       "</svg>"
      ],
      "text/plain": [
       "<IPython.core.display.SVG object>"
      ]
     },
     "metadata": {},
     "output_type": "display_data"
    }
   ],
   "source": [
    "show_bloq(Swap(n=10_000))"
   ]
  },
  {
   "cell_type": "markdown",
   "id": "ec5150d2",
   "metadata": {
    "id": "ec5150d2"
   },
   "source": [
    "The problem occurs when we decompose our bloq."
   ]
  },
  {
   "cell_type": "code",
   "execution_count": 22,
   "id": "48648ac4",
   "metadata": {
    "id": "48648ac4"
   },
   "outputs": [
    {
     "name": "stdout",
     "output_type": "stream",
     "text": [
      "Traceback (most recent call last):\n",
      "  File \"/tmp/ipykernel_843138/2679143270.py\", line 4, in <module>\n",
      "    cbloq = Swap(n=5).decompose_bloq()\n",
      "  File \"/home/quan/PycharmProjects/Qualtran2/qualtran/_infra/bloq.py\", line 142, in decompose_bloq\n",
      "    return _decompose_from_build_composite_bloq(self)\n",
      "  File \"/home/quan/PycharmProjects/Qualtran2/qualtran/_infra/bloq.py\", line 51, in _decompose_from_build_composite_bloq\n",
      "    out_soqs = bloq.build_composite_bloq(bb=bb, **initial_soqs)\n",
      "  File \"/tmp/ipykernel_843138/1590169855.py\", line 16, in build_composite_bloq\n",
      "    x[i], y[i] = bb.add(SwapTwoBits(), x=x[i], y=y[i])\n",
      "TypeError: 'Soquet' object is not subscriptable\n",
      "\n"
     ]
    }
   ],
   "source": [
    "import traceback\n",
    "\n",
    "try:\n",
    "    cbloq = Swap(n=5).decompose_bloq()\n",
    "except TypeError as e:\n",
    "    print(traceback.format_exc())"
   ]
  },
  {
   "cell_type": "markdown",
   "id": "d029bf65",
   "metadata": {
    "id": "d029bf65"
   },
   "source": [
    "Can you figure out what's happening? The very advantage alluded to above has come back\n",
    "to bite us! If we have one object representing an n-bit register, we can't index into it\n",
    "to do bit-twiddling in our decomposition. We'll take a second look at `Register` to see\n",
    "if we can modify our signature declaration to make this work.\n",
    "\n",
    "`Register` can represent an n-dimensional array of quantum bits. For example, I can\n",
    "declare a 3x3 matrix of 32-bit quantum variables:"
   ]
  },
  {
   "cell_type": "code",
   "execution_count": 23,
   "id": "c98fa648",
   "metadata": {
    "id": "c98fa648"
   },
   "outputs": [
    {
     "name": "stdout",
     "output_type": "stream",
     "text": [
      "total bits: 288\n"
     ]
    }
   ],
   "source": [
    "arr_reg = Register('arr', QAny(32), shape=(3, 3))\n",
    "print('total bits:', arr_reg.total_bits())"
   ]
  },
  {
   "cell_type": "markdown",
   "id": "91d649ca",
   "metadata": {
    "id": "91d649ca"
   },
   "source": [
    "<div class=\"alert alert-block alert-info\">`shape` is like `np.ndarray.shape`.</div>\n",
    "\n",
    "In computing, we can think of all data as an ndarray of bits or qubits, but -- analogous to\n",
    "classical data types -- it's preferable to treat a certain number of bits (or qubits) as\n",
    "our atomic datatype. For example, in C, an array of `int32 x[10];` does not let you index\n",
    "into individual bits like `x[3][31]`. Unlike in C, you are not limited by machine word size\n",
    "for atomic type sizes, which is why above we could define a register of `bitsize=5`.\n",
    "\n",
    "In the `SwapTwoBits` example everything was `bitsize=1` and we could write our decomposition\n",
    "without slicing into the registers. Let's write a version of `Swap` that uses an array\n",
    "of `bitsize=1` values."
   ]
  },
  {
   "cell_type": "code",
   "execution_count": 24,
   "id": "7095d363",
   "metadata": {
    "id": "7095d363"
   },
   "outputs": [],
   "source": [
    "@attrs.frozen\n",
    "class SwapManyBits(Bloq):\n",
    "    n: int\n",
    "\n",
    "    @property\n",
    "    def signature(self):\n",
    "        # Not ideal; read on.\n",
    "        return Signature([\n",
    "            Register('x', QBit(), shape=(self.n,)),\n",
    "            Register('y', QBit(), shape=(self.n,)),\n",
    "        ])\n",
    "\n",
    "    def build_composite_bloq(\n",
    "            self, bb: BloqBuilder, *, x: SoquetT, y: SoquetT\n",
    "    ) -> Dict[str, SoquetT]:\n",
    "        for i in range(self.n):\n",
    "            x[i], y[i] = bb.add(SwapTwoBits(), x=x[i], y=y[i])\n",
    "        return {'x': x, 'y': y}"
   ]
  },
  {
   "cell_type": "markdown",
   "id": "6a5649f3",
   "metadata": {
    "id": "6a5649f3"
   },
   "source": [
    "Now since we've moved our `n` dimension of our inputs into the `shape` part of\n",
    "the register declaration, slicing should work:"
   ]
  },
  {
   "cell_type": "code",
   "execution_count": 25,
   "id": "6db17a87",
   "metadata": {
    "id": "6db17a87"
   },
   "outputs": [
    {
     "data": {
      "image/svg+xml": [
       "<svg xmlns=\"http://www.w3.org/2000/svg\" xmlns:xlink=\"http://www.w3.org/1999/xlink\" width=\"264pt\" height=\"442pt\" viewBox=\"0.00 0.00 264.00 442.00\">\n",
       "<g id=\"graph0\" class=\"graph\" transform=\"scale(1 1) rotate(0) translate(4 438)\">\n",
       "<title>my_graph</title>\n",
       "<polygon fill=\"white\" stroke=\"transparent\" points=\"-4,4 -4,-438 260,-438 260,4 -4,4\"/>\n",
       "<!-- x_G17 -->\n",
       "<g id=\"node1\" class=\"node\">\n",
       "<title>x_G17</title>\n",
       "<text text-anchor=\"middle\" x=\"27\" y=\"-68.3\" font-family=\"Times,serif\" font-size=\"14.00\">x[0]</text>\n",
       "</g>\n",
       "<!-- SwapTwoBits_G0 -->\n",
       "<g id=\"node10\" class=\"node\">\n",
       "<title>SwapTwoBits_G0</title>\n",
       "<polygon fill=\"none\" stroke=\"black\" points=\"91,-66 91,-83 165,-83 165,-66 91,-66\"/>\n",
       "<text text-anchor=\"start\" x=\"94\" y=\"-72\" font-family=\"Times,serif\" font-size=\"10.00\">SwapTwoBits</text>\n",
       "<polygon fill=\"none\" stroke=\"black\" points=\"91,-45 91,-66 165,-66 165,-45 91,-45\"/>\n",
       "<text text-anchor=\"start\" x=\"123.5\" y=\"-51.8\" font-family=\"Times,serif\" font-size=\"14.00\">x</text>\n",
       "<polygon fill=\"none\" stroke=\"black\" points=\"91,-24 91,-45 165,-45 165,-24 91,-24\"/>\n",
       "<text text-anchor=\"start\" x=\"123.5\" y=\"-30.8\" font-family=\"Times,serif\" font-size=\"14.00\">y</text>\n",
       "</g>\n",
       "<!-- x_G17&#45;&gt;SwapTwoBits_G0 -->\n",
       "<g id=\"edge1\" class=\"edge\">\n",
       "<title>x_G17:e-&gt;SwapTwoBits_G0:w</title>\n",
       "<path fill=\"none\" stroke=\"black\" d=\"M54,-72C71.22,-72 72.97,-57.23 88.98,-56.07\"/>\n",
       "<ellipse fill=\"black\" stroke=\"black\" cx=\"90\" cy=\"-56.04\" rx=\"1\" ry=\"1\"/>\n",
       "<text text-anchor=\"middle\" x=\"72.5\" y=\"-67\" font-family=\"Times,serif\" font-size=\"10.00\">1</text>\n",
       "</g>\n",
       "<!-- x_G12 -->\n",
       "<g id=\"node2\" class=\"node\">\n",
       "<title>x_G12</title>\n",
       "<text text-anchor=\"middle\" x=\"27\" y=\"-188.3\" font-family=\"Times,serif\" font-size=\"14.00\">x[1]</text>\n",
       "</g>\n",
       "<!-- SwapTwoBits_G3 -->\n",
       "<g id=\"node11\" class=\"node\">\n",
       "<title>SwapTwoBits_G3</title>\n",
       "<polygon fill=\"none\" stroke=\"black\" points=\"91,-178 91,-195 165,-195 165,-178 91,-178\"/>\n",
       "<text text-anchor=\"start\" x=\"94\" y=\"-184\" font-family=\"Times,serif\" font-size=\"10.00\">SwapTwoBits</text>\n",
       "<polygon fill=\"none\" stroke=\"black\" points=\"91,-157 91,-178 165,-178 165,-157 91,-157\"/>\n",
       "<text text-anchor=\"start\" x=\"123.5\" y=\"-163.8\" font-family=\"Times,serif\" font-size=\"14.00\">x</text>\n",
       "<polygon fill=\"none\" stroke=\"black\" points=\"91,-136 91,-157 165,-157 165,-136 91,-136\"/>\n",
       "<text text-anchor=\"start\" x=\"123.5\" y=\"-142.8\" font-family=\"Times,serif\" font-size=\"14.00\">y</text>\n",
       "</g>\n",
       "<!-- x_G12&#45;&gt;SwapTwoBits_G3 -->\n",
       "<g id=\"edge3\" class=\"edge\">\n",
       "<title>x_G12:e-&gt;SwapTwoBits_G3:w</title>\n",
       "<path fill=\"none\" stroke=\"black\" d=\"M54,-192C72.84,-192 71.54,-169.84 88.8,-168.11\"/>\n",
       "<ellipse fill=\"black\" stroke=\"black\" cx=\"90\" cy=\"-168.05\" rx=\"1\" ry=\"1\"/>\n",
       "<text text-anchor=\"middle\" x=\"72.5\" y=\"-183\" font-family=\"Times,serif\" font-size=\"10.00\">1</text>\n",
       "</g>\n",
       "<!-- x_G19 -->\n",
       "<g id=\"node3\" class=\"node\">\n",
       "<title>x_G19</title>\n",
       "<text text-anchor=\"middle\" x=\"27\" y=\"-296.3\" font-family=\"Times,serif\" font-size=\"14.00\">x[2]</text>\n",
       "</g>\n",
       "<!-- SwapTwoBits -->\n",
       "<g id=\"node9\" class=\"node\">\n",
       "<title>SwapTwoBits</title>\n",
       "<polygon fill=\"none\" stroke=\"black\" points=\"91,-310 91,-327 165,-327 165,-310 91,-310\"/>\n",
       "<text text-anchor=\"start\" x=\"94\" y=\"-316\" font-family=\"Times,serif\" font-size=\"10.00\">SwapTwoBits</text>\n",
       "<polygon fill=\"none\" stroke=\"black\" points=\"91,-289 91,-310 165,-310 165,-289 91,-289\"/>\n",
       "<text text-anchor=\"start\" x=\"123.5\" y=\"-295.8\" font-family=\"Times,serif\" font-size=\"14.00\">x</text>\n",
       "<polygon fill=\"none\" stroke=\"black\" points=\"91,-268 91,-289 165,-289 165,-268 91,-268\"/>\n",
       "<text text-anchor=\"start\" x=\"123.5\" y=\"-274.8\" font-family=\"Times,serif\" font-size=\"14.00\">y</text>\n",
       "</g>\n",
       "<!-- x_G19&#45;&gt;SwapTwoBits -->\n",
       "<g id=\"edge5\" class=\"edge\">\n",
       "<title>x_G19:e-&gt;SwapTwoBits:w</title>\n",
       "<path fill=\"none\" stroke=\"black\" d=\"M54,-300C69.67,-300 74.14,-300 88.77,-300\"/>\n",
       "<ellipse fill=\"black\" stroke=\"black\" cx=\"90\" cy=\"-300\" rx=\"1\" ry=\"1\"/>\n",
       "<text text-anchor=\"middle\" x=\"72.5\" y=\"-303\" font-family=\"Times,serif\" font-size=\"10.00\">1</text>\n",
       "</g>\n",
       "<!-- x_G24 -->\n",
       "<g id=\"node4\" class=\"node\">\n",
       "<title>x_G24</title>\n",
       "<text text-anchor=\"middle\" x=\"27\" y=\"-412.3\" font-family=\"Times,serif\" font-size=\"14.00\">x[3]</text>\n",
       "</g>\n",
       "<!-- SwapTwoBits_G6 -->\n",
       "<g id=\"node12\" class=\"node\">\n",
       "<title>SwapTwoBits_G6</title>\n",
       "<polygon fill=\"none\" stroke=\"black\" points=\"91,-410 91,-427 165,-427 165,-410 91,-410\"/>\n",
       "<text text-anchor=\"start\" x=\"94\" y=\"-416\" font-family=\"Times,serif\" font-size=\"10.00\">SwapTwoBits</text>\n",
       "<polygon fill=\"none\" stroke=\"black\" points=\"91,-389 91,-410 165,-410 165,-389 91,-389\"/>\n",
       "<text text-anchor=\"start\" x=\"123.5\" y=\"-395.8\" font-family=\"Times,serif\" font-size=\"14.00\">x</text>\n",
       "<polygon fill=\"none\" stroke=\"black\" points=\"91,-368 91,-389 165,-389 165,-368 91,-368\"/>\n",
       "<text text-anchor=\"start\" x=\"123.5\" y=\"-374.8\" font-family=\"Times,serif\" font-size=\"14.00\">y</text>\n",
       "</g>\n",
       "<!-- x_G24&#45;&gt;SwapTwoBits_G6 -->\n",
       "<g id=\"edge7\" class=\"edge\">\n",
       "<title>x_G24:e-&gt;SwapTwoBits_G6:w</title>\n",
       "<path fill=\"none\" stroke=\"black\" d=\"M54,-416C71.22,-416 72.97,-401.23 88.98,-400.07\"/>\n",
       "<ellipse fill=\"black\" stroke=\"black\" cx=\"90\" cy=\"-400.04\" rx=\"1\" ry=\"1\"/>\n",
       "<text text-anchor=\"middle\" x=\"72.5\" y=\"-411\" font-family=\"Times,serif\" font-size=\"10.00\">1</text>\n",
       "</g>\n",
       "<!-- y_G26 -->\n",
       "<g id=\"node5\" class=\"node\">\n",
       "<title>y_G26</title>\n",
       "<text text-anchor=\"middle\" x=\"27\" y=\"-14.3\" font-family=\"Times,serif\" font-size=\"14.00\">y[0]</text>\n",
       "</g>\n",
       "<!-- y_G26&#45;&gt;SwapTwoBits_G0 -->\n",
       "<g id=\"edge2\" class=\"edge\">\n",
       "<title>y_G26:e-&gt;SwapTwoBits_G0:w</title>\n",
       "<path fill=\"none\" stroke=\"black\" d=\"M54,-18C71.22,-18 72.97,-32.77 88.98,-33.93\"/>\n",
       "<ellipse fill=\"black\" stroke=\"black\" cx=\"90\" cy=\"-33.96\" rx=\"1\" ry=\"1\"/>\n",
       "<text text-anchor=\"middle\" x=\"72.5\" y=\"-29\" font-family=\"Times,serif\" font-size=\"10.00\">1</text>\n",
       "</g>\n",
       "<!-- y_G22 -->\n",
       "<g id=\"node6\" class=\"node\">\n",
       "<title>y_G22</title>\n",
       "<text text-anchor=\"middle\" x=\"27\" y=\"-134.3\" font-family=\"Times,serif\" font-size=\"14.00\">y[1]</text>\n",
       "</g>\n",
       "<!-- y_G22&#45;&gt;SwapTwoBits_G3 -->\n",
       "<g id=\"edge4\" class=\"edge\">\n",
       "<title>y_G22:e-&gt;SwapTwoBits_G3:w</title>\n",
       "<path fill=\"none\" stroke=\"black\" d=\"M54,-138C70.04,-138 73.83,-145.27 88.72,-145.95\"/>\n",
       "<ellipse fill=\"black\" stroke=\"black\" cx=\"90\" cy=\"-145.98\" rx=\"1\" ry=\"1\"/>\n",
       "<text text-anchor=\"middle\" x=\"72.5\" y=\"-145\" font-family=\"Times,serif\" font-size=\"10.00\">1</text>\n",
       "</g>\n",
       "<!-- y_G27 -->\n",
       "<g id=\"node7\" class=\"node\">\n",
       "<title>y_G27</title>\n",
       "<text text-anchor=\"middle\" x=\"27\" y=\"-242.3\" font-family=\"Times,serif\" font-size=\"14.00\">y[2]</text>\n",
       "</g>\n",
       "<!-- y_G27&#45;&gt;SwapTwoBits -->\n",
       "<g id=\"edge6\" class=\"edge\">\n",
       "<title>y_G27:e-&gt;SwapTwoBits:w</title>\n",
       "<path fill=\"none\" stroke=\"black\" d=\"M54,-246C74.89,-246 69.72,-275.55 88.58,-277.86\"/>\n",
       "<ellipse fill=\"black\" stroke=\"black\" cx=\"90\" cy=\"-277.94\" rx=\"1\" ry=\"1\"/>\n",
       "<text text-anchor=\"middle\" x=\"72.5\" y=\"-265\" font-family=\"Times,serif\" font-size=\"10.00\">1</text>\n",
       "</g>\n",
       "<!-- y_G11 -->\n",
       "<g id=\"node8\" class=\"node\">\n",
       "<title>y_G11</title>\n",
       "<text text-anchor=\"middle\" x=\"27\" y=\"-358.3\" font-family=\"Times,serif\" font-size=\"14.00\">y[3]</text>\n",
       "</g>\n",
       "<!-- y_G11&#45;&gt;SwapTwoBits_G6 -->\n",
       "<g id=\"edge8\" class=\"edge\">\n",
       "<title>y_G11:e-&gt;SwapTwoBits_G6:w</title>\n",
       "<path fill=\"none\" stroke=\"black\" d=\"M54,-362C71.22,-362 72.97,-376.77 88.98,-377.93\"/>\n",
       "<ellipse fill=\"black\" stroke=\"black\" cx=\"90\" cy=\"-377.96\" rx=\"1\" ry=\"1\"/>\n",
       "<text text-anchor=\"middle\" x=\"72.5\" y=\"-373\" font-family=\"Times,serif\" font-size=\"10.00\">1</text>\n",
       "</g>\n",
       "<!-- x_G32 -->\n",
       "<g id=\"node15\" class=\"node\">\n",
       "<title>x_G32</title>\n",
       "<text text-anchor=\"middle\" x=\"229\" y=\"-296.3\" font-family=\"Times,serif\" font-size=\"14.00\">x[2]</text>\n",
       "</g>\n",
       "<!-- SwapTwoBits&#45;&gt;x_G32 -->\n",
       "<g id=\"edge11\" class=\"edge\">\n",
       "<title>SwapTwoBits:e-&gt;x_G32:w</title>\n",
       "<path fill=\"none\" stroke=\"black\" d=\"M165,-300C180.67,-300 185.14,-300 199.77,-300\"/>\n",
       "<ellipse fill=\"black\" stroke=\"black\" cx=\"201\" cy=\"-300\" rx=\"1\" ry=\"1\"/>\n",
       "<text text-anchor=\"middle\" x=\"183.5\" y=\"-303\" font-family=\"Times,serif\" font-size=\"10.00\">1</text>\n",
       "</g>\n",
       "<!-- y_G21 -->\n",
       "<g id=\"node19\" class=\"node\">\n",
       "<title>y_G21</title>\n",
       "<text text-anchor=\"middle\" x=\"229\" y=\"-242.3\" font-family=\"Times,serif\" font-size=\"14.00\">y[2]</text>\n",
       "</g>\n",
       "<!-- SwapTwoBits&#45;&gt;y_G21 -->\n",
       "<g id=\"edge15\" class=\"edge\">\n",
       "<title>SwapTwoBits:e-&gt;y_G21:w</title>\n",
       "<path fill=\"none\" stroke=\"black\" d=\"M165,-278C185.89,-278 180.72,-248.45 199.58,-246.14\"/>\n",
       "<ellipse fill=\"black\" stroke=\"black\" cx=\"201\" cy=\"-246.06\" rx=\"1\" ry=\"1\"/>\n",
       "<text text-anchor=\"middle\" x=\"183.5\" y=\"-265\" font-family=\"Times,serif\" font-size=\"10.00\">1</text>\n",
       "</g>\n",
       "<!-- x_G29 -->\n",
       "<g id=\"node13\" class=\"node\">\n",
       "<title>x_G29</title>\n",
       "<text text-anchor=\"middle\" x=\"229\" y=\"-72.3\" font-family=\"Times,serif\" font-size=\"14.00\">x[0]</text>\n",
       "</g>\n",
       "<!-- SwapTwoBits_G0&#45;&gt;x_G29 -->\n",
       "<g id=\"edge9\" class=\"edge\">\n",
       "<title>SwapTwoBits_G0:e-&gt;x_G29:w</title>\n",
       "<path fill=\"none\" stroke=\"black\" d=\"M165,-56C182.96,-56 183.31,-74.47 199.89,-75.91\"/>\n",
       "<ellipse fill=\"black\" stroke=\"black\" cx=\"201\" cy=\"-75.96\" rx=\"1\" ry=\"1\"/>\n",
       "<text text-anchor=\"middle\" x=\"183.5\" y=\"-69\" font-family=\"Times,serif\" font-size=\"10.00\">1</text>\n",
       "</g>\n",
       "<!-- y_G18 -->\n",
       "<g id=\"node17\" class=\"node\">\n",
       "<title>y_G18</title>\n",
       "<text text-anchor=\"middle\" x=\"229\" y=\"-18.3\" font-family=\"Times,serif\" font-size=\"14.00\">y[0]</text>\n",
       "</g>\n",
       "<!-- SwapTwoBits_G0&#45;&gt;y_G18 -->\n",
       "<g id=\"edge13\" class=\"edge\">\n",
       "<title>SwapTwoBits_G0:e-&gt;y_G18:w</title>\n",
       "<path fill=\"none\" stroke=\"black\" d=\"M165,-34C181.48,-34 184.45,-23.1 199.66,-22.08\"/>\n",
       "<ellipse fill=\"black\" stroke=\"black\" cx=\"201\" cy=\"-22.03\" rx=\"1\" ry=\"1\"/>\n",
       "<text text-anchor=\"middle\" x=\"183.5\" y=\"-31\" font-family=\"Times,serif\" font-size=\"10.00\">1</text>\n",
       "</g>\n",
       "<!-- x_G28 -->\n",
       "<g id=\"node14\" class=\"node\">\n",
       "<title>x_G28</title>\n",
       "<text text-anchor=\"middle\" x=\"229\" y=\"-180.3\" font-family=\"Times,serif\" font-size=\"14.00\">x[1]</text>\n",
       "</g>\n",
       "<!-- SwapTwoBits_G3&#45;&gt;x_G28 -->\n",
       "<g id=\"edge10\" class=\"edge\">\n",
       "<title>SwapTwoBits_G3:e-&gt;x_G28:w</title>\n",
       "<path fill=\"none\" stroke=\"black\" d=\"M165,-168C182.22,-168 183.97,-182.77 199.98,-183.93\"/>\n",
       "<ellipse fill=\"black\" stroke=\"black\" cx=\"201\" cy=\"-183.96\" rx=\"1\" ry=\"1\"/>\n",
       "<text text-anchor=\"middle\" x=\"183.5\" y=\"-179\" font-family=\"Times,serif\" font-size=\"10.00\">1</text>\n",
       "</g>\n",
       "<!-- y_G14 -->\n",
       "<g id=\"node18\" class=\"node\">\n",
       "<title>y_G14</title>\n",
       "<text text-anchor=\"middle\" x=\"229\" y=\"-126.3\" font-family=\"Times,serif\" font-size=\"14.00\">y[1]</text>\n",
       "</g>\n",
       "<!-- SwapTwoBits_G3&#45;&gt;y_G14 -->\n",
       "<g id=\"edge14\" class=\"edge\">\n",
       "<title>SwapTwoBits_G3:e-&gt;y_G14:w</title>\n",
       "<path fill=\"none\" stroke=\"black\" d=\"M165,-146C182.22,-146 183.97,-131.23 199.98,-130.07\"/>\n",
       "<ellipse fill=\"black\" stroke=\"black\" cx=\"201\" cy=\"-130.04\" rx=\"1\" ry=\"1\"/>\n",
       "<text text-anchor=\"middle\" x=\"183.5\" y=\"-141\" font-family=\"Times,serif\" font-size=\"10.00\">1</text>\n",
       "</g>\n",
       "<!-- x_G15 -->\n",
       "<g id=\"node16\" class=\"node\">\n",
       "<title>x_G15</title>\n",
       "<text text-anchor=\"middle\" x=\"229\" y=\"-404.3\" font-family=\"Times,serif\" font-size=\"14.00\">x[3]</text>\n",
       "</g>\n",
       "<!-- SwapTwoBits_G6&#45;&gt;x_G15 -->\n",
       "<g id=\"edge12\" class=\"edge\">\n",
       "<title>SwapTwoBits_G6:e-&gt;x_G15:w</title>\n",
       "<path fill=\"none\" stroke=\"black\" d=\"M165,-400C181.04,-400 184.83,-407.27 199.72,-407.95\"/>\n",
       "<ellipse fill=\"black\" stroke=\"black\" cx=\"201\" cy=\"-407.98\" rx=\"1\" ry=\"1\"/>\n",
       "<text text-anchor=\"middle\" x=\"183.5\" y=\"-407\" font-family=\"Times,serif\" font-size=\"10.00\">1</text>\n",
       "</g>\n",
       "<!-- y_G25 -->\n",
       "<g id=\"node20\" class=\"node\">\n",
       "<title>y_G25</title>\n",
       "<text text-anchor=\"middle\" x=\"229\" y=\"-350.3\" font-family=\"Times,serif\" font-size=\"14.00\">y[3]</text>\n",
       "</g>\n",
       "<!-- SwapTwoBits_G6&#45;&gt;y_G25 -->\n",
       "<g id=\"edge16\" class=\"edge\">\n",
       "<title>SwapTwoBits_G6:e-&gt;y_G25:w</title>\n",
       "<path fill=\"none\" stroke=\"black\" d=\"M165,-378C183.84,-378 182.54,-355.84 199.8,-354.11\"/>\n",
       "<ellipse fill=\"black\" stroke=\"black\" cx=\"201\" cy=\"-354.05\" rx=\"1\" ry=\"1\"/>\n",
       "<text text-anchor=\"middle\" x=\"183.5\" y=\"-369\" font-family=\"Times,serif\" font-size=\"10.00\">1</text>\n",
       "</g>\n",
       "</g>\n",
       "</svg>"
      ],
      "text/plain": [
       "<IPython.core.display.SVG object>"
      ]
     },
     "metadata": {},
     "output_type": "display_data"
    }
   ],
   "source": [
    "cbloq = SwapManyBits(n=4).decompose_bloq()\n",
    "show_bloq(cbloq)"
   ]
  },
  {
   "cell_type": "markdown",
   "id": "41a1cb9a",
   "metadata": {
    "id": "41a1cb9a"
   },
   "source": [
    "The problem is now we (once again) have a Python object constructed for each bit:"
   ]
  },
  {
   "cell_type": "code",
   "execution_count": 26,
   "id": "a301b582",
   "metadata": {
    "id": "a301b582"
   },
   "outputs": [
    {
     "data": {
      "image/svg+xml": [
       "<svg xmlns=\"http://www.w3.org/2000/svg\" xmlns:xlink=\"http://www.w3.org/1999/xlink\" width=\"273pt\" height=\"422pt\" viewBox=\"0.00 0.00 273.00 422.00\">\n",
       "<g id=\"graph0\" class=\"graph\" transform=\"scale(1 1) rotate(0) translate(4 418)\">\n",
       "<title>my_graph</title>\n",
       "<polygon fill=\"white\" stroke=\"transparent\" points=\"-4,4 -4,-418 269,-418 269,4 -4,4\"/>\n",
       "<!-- x_G6 -->\n",
       "<g id=\"node1\" class=\"node\">\n",
       "<title>x_G6</title>\n",
       "<text text-anchor=\"middle\" x=\"27\" y=\"-392.3\" font-family=\"Times,serif\" font-size=\"14.00\">x[0]</text>\n",
       "</g>\n",
       "<!-- SwapManyBits -->\n",
       "<g id=\"node9\" class=\"node\">\n",
       "<title>SwapManyBits</title>\n",
       "<polygon fill=\"none\" stroke=\"black\" points=\"91.5,-291 91.5,-308 174.5,-308 174.5,-291 91.5,-291\"/>\n",
       "<text text-anchor=\"start\" x=\"94.5\" y=\"-297\" font-family=\"Times,serif\" font-size=\"10.00\">SwapManyBits</text>\n",
       "<polygon fill=\"none\" stroke=\"black\" points=\"91.5,-270 91.5,-291 174.5,-291 174.5,-270 91.5,-270\"/>\n",
       "<text text-anchor=\"start\" x=\"119\" y=\"-276.8\" font-family=\"Times,serif\" font-size=\"14.00\">x[0]</text>\n",
       "<polygon fill=\"none\" stroke=\"black\" points=\"91.5,-249 91.5,-270 174.5,-270 174.5,-249 91.5,-249\"/>\n",
       "<text text-anchor=\"start\" x=\"119\" y=\"-255.8\" font-family=\"Times,serif\" font-size=\"14.00\">x[1]</text>\n",
       "<polygon fill=\"none\" stroke=\"black\" points=\"91.5,-228 91.5,-249 174.5,-249 174.5,-228 91.5,-228\"/>\n",
       "<text text-anchor=\"start\" x=\"119\" y=\"-234.8\" font-family=\"Times,serif\" font-size=\"14.00\">x[2]</text>\n",
       "<polygon fill=\"none\" stroke=\"black\" points=\"91.5,-207 91.5,-228 174.5,-228 174.5,-207 91.5,-207\"/>\n",
       "<text text-anchor=\"start\" x=\"119\" y=\"-213.8\" font-family=\"Times,serif\" font-size=\"14.00\">x[3]</text>\n",
       "<polygon fill=\"none\" stroke=\"black\" points=\"91.5,-186 91.5,-207 174.5,-207 174.5,-186 91.5,-186\"/>\n",
       "<text text-anchor=\"start\" x=\"119\" y=\"-192.8\" font-family=\"Times,serif\" font-size=\"14.00\">y[0]</text>\n",
       "<polygon fill=\"none\" stroke=\"black\" points=\"91.5,-165 91.5,-186 174.5,-186 174.5,-165 91.5,-165\"/>\n",
       "<text text-anchor=\"start\" x=\"119\" y=\"-171.8\" font-family=\"Times,serif\" font-size=\"14.00\">y[1]</text>\n",
       "<polygon fill=\"none\" stroke=\"black\" points=\"91.5,-144 91.5,-165 174.5,-165 174.5,-144 91.5,-144\"/>\n",
       "<text text-anchor=\"start\" x=\"119\" y=\"-150.8\" font-family=\"Times,serif\" font-size=\"14.00\">y[2]</text>\n",
       "<polygon fill=\"none\" stroke=\"black\" points=\"91.5,-123 91.5,-144 174.5,-144 174.5,-123 91.5,-123\"/>\n",
       "<text text-anchor=\"start\" x=\"119\" y=\"-129.8\" font-family=\"Times,serif\" font-size=\"14.00\">y[3]</text>\n",
       "</g>\n",
       "<!-- x_G6&#45;&gt;SwapManyBits -->\n",
       "<g id=\"edge1\" class=\"edge\">\n",
       "<title>x_G6:e-&gt;SwapManyBits:w</title>\n",
       "<path fill=\"none\" stroke=\"black\" d=\"M54,-396C80.11,-396 65.03,-287.2 88.89,-281.25\"/>\n",
       "<ellipse fill=\"black\" stroke=\"black\" cx=\"90.01\" cy=\"-281.12\" rx=\"1\" ry=\"1\"/>\n",
       "<text text-anchor=\"middle\" x=\"72.5\" y=\"-344\" font-family=\"Times,serif\" font-size=\"10.00\">1</text>\n",
       "</g>\n",
       "<!-- x_G2 -->\n",
       "<g id=\"node2\" class=\"node\">\n",
       "<title>x_G2</title>\n",
       "<text text-anchor=\"middle\" x=\"27\" y=\"-338.3\" font-family=\"Times,serif\" font-size=\"14.00\">x[1]</text>\n",
       "</g>\n",
       "<!-- x_G2&#45;&gt;SwapManyBits -->\n",
       "<g id=\"edge2\" class=\"edge\">\n",
       "<title>x_G2:e-&gt;SwapManyBits:w</title>\n",
       "<path fill=\"none\" stroke=\"black\" d=\"M54,-342C93.2,-342 52.66,-263.17 88.75,-260.09\"/>\n",
       "<ellipse fill=\"black\" stroke=\"black\" cx=\"90\" cy=\"-260.04\" rx=\"1\" ry=\"1\"/>\n",
       "<text text-anchor=\"middle\" x=\"72.5\" y=\"-327\" font-family=\"Times,serif\" font-size=\"10.00\">1</text>\n",
       "</g>\n",
       "<!-- x_G9 -->\n",
       "<g id=\"node3\" class=\"node\">\n",
       "<title>x_G9</title>\n",
       "<text text-anchor=\"middle\" x=\"27\" y=\"-284.3\" font-family=\"Times,serif\" font-size=\"14.00\">x[2]</text>\n",
       "</g>\n",
       "<!-- x_G9&#45;&gt;SwapManyBits -->\n",
       "<g id=\"edge3\" class=\"edge\">\n",
       "<title>x_G9:e-&gt;SwapManyBits:w</title>\n",
       "<path fill=\"none\" stroke=\"black\" d=\"M54,-288C80.54,-288 64.64,-241.64 88.86,-239.11\"/>\n",
       "<ellipse fill=\"black\" stroke=\"black\" cx=\"90\" cy=\"-239.05\" rx=\"1\" ry=\"1\"/>\n",
       "<text text-anchor=\"middle\" x=\"72.5\" y=\"-267\" font-family=\"Times,serif\" font-size=\"10.00\">1</text>\n",
       "</g>\n",
       "<!-- x_G16 -->\n",
       "<g id=\"node4\" class=\"node\">\n",
       "<title>x_G16</title>\n",
       "<text text-anchor=\"middle\" x=\"27\" y=\"-230.3\" font-family=\"Times,serif\" font-size=\"14.00\">x[3]</text>\n",
       "</g>\n",
       "<!-- x_G16&#45;&gt;SwapManyBits -->\n",
       "<g id=\"edge4\" class=\"edge\">\n",
       "<title>x_G16:e-&gt;SwapManyBits:w</title>\n",
       "<path fill=\"none\" stroke=\"black\" d=\"M54,-234C71.22,-234 72.97,-219.23 88.98,-218.07\"/>\n",
       "<ellipse fill=\"black\" stroke=\"black\" cx=\"90\" cy=\"-218.04\" rx=\"1\" ry=\"1\"/>\n",
       "<text text-anchor=\"middle\" x=\"72.5\" y=\"-229\" font-family=\"Times,serif\" font-size=\"10.00\">1</text>\n",
       "</g>\n",
       "<!-- y_G18 -->\n",
       "<g id=\"node5\" class=\"node\">\n",
       "<title>y_G18</title>\n",
       "<text text-anchor=\"middle\" x=\"27\" y=\"-176.3\" font-family=\"Times,serif\" font-size=\"14.00\">y[0]</text>\n",
       "</g>\n",
       "<!-- y_G18&#45;&gt;SwapManyBits -->\n",
       "<g id=\"edge5\" class=\"edge\">\n",
       "<title>y_G18:e-&gt;SwapManyBits:w</title>\n",
       "<path fill=\"none\" stroke=\"black\" d=\"M54,-180C71.22,-180 72.97,-194.77 88.98,-195.93\"/>\n",
       "<ellipse fill=\"black\" stroke=\"black\" cx=\"90\" cy=\"-195.96\" rx=\"1\" ry=\"1\"/>\n",
       "<text text-anchor=\"middle\" x=\"72.5\" y=\"-191\" font-family=\"Times,serif\" font-size=\"10.00\">1</text>\n",
       "</g>\n",
       "<!-- y_G13 -->\n",
       "<g id=\"node6\" class=\"node\">\n",
       "<title>y_G13</title>\n",
       "<text text-anchor=\"middle\" x=\"27\" y=\"-122.3\" font-family=\"Times,serif\" font-size=\"14.00\">y[1]</text>\n",
       "</g>\n",
       "<!-- y_G13&#45;&gt;SwapManyBits -->\n",
       "<g id=\"edge6\" class=\"edge\">\n",
       "<title>y_G13:e-&gt;SwapManyBits:w</title>\n",
       "<path fill=\"none\" stroke=\"black\" d=\"M54,-126C80.54,-126 64.64,-172.36 88.86,-174.89\"/>\n",
       "<ellipse fill=\"black\" stroke=\"black\" cx=\"90\" cy=\"-174.95\" rx=\"1\" ry=\"1\"/>\n",
       "<text text-anchor=\"middle\" x=\"72.5\" y=\"-154\" font-family=\"Times,serif\" font-size=\"10.00\">1</text>\n",
       "</g>\n",
       "<!-- y_G19 -->\n",
       "<g id=\"node7\" class=\"node\">\n",
       "<title>y_G19</title>\n",
       "<text text-anchor=\"middle\" x=\"27\" y=\"-68.3\" font-family=\"Times,serif\" font-size=\"14.00\">y[2]</text>\n",
       "</g>\n",
       "<!-- y_G19&#45;&gt;SwapManyBits -->\n",
       "<g id=\"edge7\" class=\"edge\">\n",
       "<title>y_G19:e-&gt;SwapManyBits:w</title>\n",
       "<path fill=\"none\" stroke=\"black\" d=\"M54,-72C93.2,-72 52.66,-150.83 88.75,-153.91\"/>\n",
       "<ellipse fill=\"black\" stroke=\"black\" cx=\"90\" cy=\"-153.96\" rx=\"1\" ry=\"1\"/>\n",
       "<text text-anchor=\"middle\" x=\"72.5\" y=\"-139\" font-family=\"Times,serif\" font-size=\"10.00\">1</text>\n",
       "</g>\n",
       "<!-- y_G0 -->\n",
       "<g id=\"node8\" class=\"node\">\n",
       "<title>y_G0</title>\n",
       "<text text-anchor=\"middle\" x=\"27\" y=\"-14.3\" font-family=\"Times,serif\" font-size=\"14.00\">y[3]</text>\n",
       "</g>\n",
       "<!-- y_G0&#45;&gt;SwapManyBits -->\n",
       "<g id=\"edge8\" class=\"edge\">\n",
       "<title>y_G0:e-&gt;SwapManyBits:w</title>\n",
       "<path fill=\"none\" stroke=\"black\" d=\"M54,-18C80.11,-18 65.03,-126.8 88.89,-132.75\"/>\n",
       "<ellipse fill=\"black\" stroke=\"black\" cx=\"90.01\" cy=\"-132.88\" rx=\"1\" ry=\"1\"/>\n",
       "<text text-anchor=\"middle\" x=\"72.5\" y=\"-82\" font-family=\"Times,serif\" font-size=\"10.00\">1</text>\n",
       "</g>\n",
       "<!-- x_G21 -->\n",
       "<g id=\"node10\" class=\"node\">\n",
       "<title>x_G21</title>\n",
       "<text text-anchor=\"middle\" x=\"238\" y=\"-392.3\" font-family=\"Times,serif\" font-size=\"14.00\">x[0]</text>\n",
       "</g>\n",
       "<!-- SwapManyBits&#45;&gt;x_G21 -->\n",
       "<g id=\"edge9\" class=\"edge\">\n",
       "<title>SwapManyBits:e-&gt;x_G21:w</title>\n",
       "<path fill=\"none\" stroke=\"black\" d=\"M174,-281C200.11,-281 185.03,-389.8 208.89,-395.75\"/>\n",
       "<ellipse fill=\"black\" stroke=\"black\" cx=\"210.01\" cy=\"-395.88\" rx=\"1\" ry=\"1\"/>\n",
       "<text text-anchor=\"middle\" x=\"192.5\" y=\"-344\" font-family=\"Times,serif\" font-size=\"10.00\">1</text>\n",
       "</g>\n",
       "<!-- x_G20 -->\n",
       "<g id=\"node11\" class=\"node\">\n",
       "<title>x_G20</title>\n",
       "<text text-anchor=\"middle\" x=\"238\" y=\"-338.3\" font-family=\"Times,serif\" font-size=\"14.00\">x[1]</text>\n",
       "</g>\n",
       "<!-- SwapManyBits&#45;&gt;x_G20 -->\n",
       "<g id=\"edge10\" class=\"edge\">\n",
       "<title>SwapManyBits:e-&gt;x_G20:w</title>\n",
       "<path fill=\"none\" stroke=\"black\" d=\"M174,-260C213.2,-260 172.66,-338.83 208.75,-341.91\"/>\n",
       "<ellipse fill=\"black\" stroke=\"black\" cx=\"210\" cy=\"-341.96\" rx=\"1\" ry=\"1\"/>\n",
       "<text text-anchor=\"middle\" x=\"192.5\" y=\"-327\" font-family=\"Times,serif\" font-size=\"10.00\">1</text>\n",
       "</g>\n",
       "<!-- x_G23 -->\n",
       "<g id=\"node12\" class=\"node\">\n",
       "<title>x_G23</title>\n",
       "<text text-anchor=\"middle\" x=\"238\" y=\"-284.3\" font-family=\"Times,serif\" font-size=\"14.00\">x[2]</text>\n",
       "</g>\n",
       "<!-- SwapManyBits&#45;&gt;x_G23 -->\n",
       "<g id=\"edge11\" class=\"edge\">\n",
       "<title>SwapManyBits:e-&gt;x_G23:w</title>\n",
       "<path fill=\"none\" stroke=\"black\" d=\"M174,-239C200.54,-239 184.64,-285.36 208.86,-287.89\"/>\n",
       "<ellipse fill=\"black\" stroke=\"black\" cx=\"210\" cy=\"-287.95\" rx=\"1\" ry=\"1\"/>\n",
       "<text text-anchor=\"middle\" x=\"192.5\" y=\"-267\" font-family=\"Times,serif\" font-size=\"10.00\">1</text>\n",
       "</g>\n",
       "<!-- x_G4 -->\n",
       "<g id=\"node13\" class=\"node\">\n",
       "<title>x_G4</title>\n",
       "<text text-anchor=\"middle\" x=\"238\" y=\"-230.3\" font-family=\"Times,serif\" font-size=\"14.00\">x[3]</text>\n",
       "</g>\n",
       "<!-- SwapManyBits&#45;&gt;x_G4 -->\n",
       "<g id=\"edge12\" class=\"edge\">\n",
       "<title>SwapManyBits:e-&gt;x_G4:w</title>\n",
       "<path fill=\"none\" stroke=\"black\" d=\"M174,-218C191.22,-218 192.97,-232.77 208.98,-233.93\"/>\n",
       "<ellipse fill=\"black\" stroke=\"black\" cx=\"210\" cy=\"-233.96\" rx=\"1\" ry=\"1\"/>\n",
       "<text text-anchor=\"middle\" x=\"192.5\" y=\"-229\" font-family=\"Times,serif\" font-size=\"10.00\">1</text>\n",
       "</g>\n",
       "<!-- y_G8 -->\n",
       "<g id=\"node14\" class=\"node\">\n",
       "<title>y_G8</title>\n",
       "<text text-anchor=\"middle\" x=\"238\" y=\"-176.3\" font-family=\"Times,serif\" font-size=\"14.00\">y[0]</text>\n",
       "</g>\n",
       "<!-- SwapManyBits&#45;&gt;y_G8 -->\n",
       "<g id=\"edge13\" class=\"edge\">\n",
       "<title>SwapManyBits:e-&gt;y_G8:w</title>\n",
       "<path fill=\"none\" stroke=\"black\" d=\"M174,-196C191.22,-196 192.97,-181.23 208.98,-180.07\"/>\n",
       "<ellipse fill=\"black\" stroke=\"black\" cx=\"210\" cy=\"-180.04\" rx=\"1\" ry=\"1\"/>\n",
       "<text text-anchor=\"middle\" x=\"192.5\" y=\"-191\" font-family=\"Times,serif\" font-size=\"10.00\">1</text>\n",
       "</g>\n",
       "<!-- y_G3 -->\n",
       "<g id=\"node15\" class=\"node\">\n",
       "<title>y_G3</title>\n",
       "<text text-anchor=\"middle\" x=\"238\" y=\"-122.3\" font-family=\"Times,serif\" font-size=\"14.00\">y[1]</text>\n",
       "</g>\n",
       "<!-- SwapManyBits&#45;&gt;y_G3 -->\n",
       "<g id=\"edge14\" class=\"edge\">\n",
       "<title>SwapManyBits:e-&gt;y_G3:w</title>\n",
       "<path fill=\"none\" stroke=\"black\" d=\"M174,-175C200.54,-175 184.64,-128.64 208.86,-126.11\"/>\n",
       "<ellipse fill=\"black\" stroke=\"black\" cx=\"210\" cy=\"-126.05\" rx=\"1\" ry=\"1\"/>\n",
       "<text text-anchor=\"middle\" x=\"192.5\" y=\"-154\" font-family=\"Times,serif\" font-size=\"10.00\">1</text>\n",
       "</g>\n",
       "<!-- y_G10 -->\n",
       "<g id=\"node16\" class=\"node\">\n",
       "<title>y_G10</title>\n",
       "<text text-anchor=\"middle\" x=\"238\" y=\"-68.3\" font-family=\"Times,serif\" font-size=\"14.00\">y[2]</text>\n",
       "</g>\n",
       "<!-- SwapManyBits&#45;&gt;y_G10 -->\n",
       "<g id=\"edge15\" class=\"edge\">\n",
       "<title>SwapManyBits:e-&gt;y_G10:w</title>\n",
       "<path fill=\"none\" stroke=\"black\" d=\"M174,-154C213.2,-154 172.66,-75.17 208.75,-72.09\"/>\n",
       "<ellipse fill=\"black\" stroke=\"black\" cx=\"210\" cy=\"-72.04\" rx=\"1\" ry=\"1\"/>\n",
       "<text text-anchor=\"middle\" x=\"192.5\" y=\"-139\" font-family=\"Times,serif\" font-size=\"10.00\">1</text>\n",
       "</g>\n",
       "<!-- y_G17 -->\n",
       "<g id=\"node17\" class=\"node\">\n",
       "<title>y_G17</title>\n",
       "<text text-anchor=\"middle\" x=\"238\" y=\"-14.3\" font-family=\"Times,serif\" font-size=\"14.00\">y[3]</text>\n",
       "</g>\n",
       "<!-- SwapManyBits&#45;&gt;y_G17 -->\n",
       "<g id=\"edge16\" class=\"edge\">\n",
       "<title>SwapManyBits:e-&gt;y_G17:w</title>\n",
       "<path fill=\"none\" stroke=\"black\" d=\"M174,-133C200.11,-133 185.03,-24.2 208.89,-18.25\"/>\n",
       "<ellipse fill=\"black\" stroke=\"black\" cx=\"210.01\" cy=\"-18.12\" rx=\"1\" ry=\"1\"/>\n",
       "<text text-anchor=\"middle\" x=\"192.5\" y=\"-82\" font-family=\"Times,serif\" font-size=\"10.00\">1</text>\n",
       "</g>\n",
       "</g>\n",
       "</svg>"
      ],
      "text/plain": [
       "<IPython.core.display.SVG object>"
      ]
     },
     "metadata": {},
     "output_type": "display_data"
    }
   ],
   "source": [
    "show_bloq(SwapManyBits(n=4))"
   ]
  },
  {
   "cell_type": "markdown",
   "id": "57f16270",
   "metadata": {
    "id": "57f16270"
   },
   "source": [
    "<div class=\"alert alert-block alert-info\">Forget about trying to show `n=10_000`.</div>\n",
    "\n",
    "Can we have the best of both worlds? Yes: the general technique is to represent the Bloq\n",
    "definition in as high-level terms as practical and use `bb.split(...)` and `bb.join(...)`\n",
    "to break apart registers during decomposition. This way a user can use the Bloq as a black-box\n",
    "without incurring the performance overhead of representing each bit if they do not care about\n",
    "the decomposition. If they *are* interested in the decomposition, then the cost will only be\n",
    "paid when actually doing the decomposition."
   ]
  },
  {
   "cell_type": "code",
   "execution_count": 27,
   "id": "99f9fd52",
   "metadata": {
    "id": "99f9fd52"
   },
   "outputs": [],
   "source": [
    "@attrs.frozen\n",
    "class Swap(Bloq):\n",
    "    n: int\n",
    "\n",
    "    @property\n",
    "    def signature(self):\n",
    "        return Signature.build(x=self.n, y=self.n)\n",
    "\n",
    "    def build_composite_bloq(\n",
    "            self, bb: BloqBuilder, *, x: SoquetT, y: SoquetT\n",
    "    ) -> Dict[str, SoquetT]:\n",
    "        xs = bb.split(x)\n",
    "        ys = bb.split(y)\n",
    "\n",
    "        for i in range(self.n):\n",
    "            xs[i], ys[i] = bb.add(SwapTwoBits(), x=xs[i], y=ys[i])\n",
    "        return {\n",
    "            'x': bb.join(xs),\n",
    "            'y': bb.join(ys),\n",
    "        }"
   ]
  },
  {
   "cell_type": "code",
   "execution_count": 28,
   "id": "c5932695",
   "metadata": {
    "id": "c5932695"
   },
   "outputs": [
    {
     "data": {
      "image/svg+xml": [
       "<svg xmlns=\"http://www.w3.org/2000/svg\" xmlns:xlink=\"http://www.w3.org/1999/xlink\" width=\"362pt\" height=\"375pt\" viewBox=\"0.00 0.00 362.00 375.00\">\n",
       "<g id=\"graph0\" class=\"graph\" transform=\"scale(1 1) rotate(0) translate(4 371)\">\n",
       "<title>my_graph</title>\n",
       "<polygon fill=\"white\" stroke=\"transparent\" points=\"-4,4 -4,-371 358,-371 358,4 -4,4\"/>\n",
       "<!-- x_G33 -->\n",
       "<g id=\"node1\" class=\"node\">\n",
       "<title>x_G33</title>\n",
       "<text text-anchor=\"middle\" x=\"27\" y=\"-214.8\" font-family=\"Times,serif\" font-size=\"14.00\">x</text>\n",
       "</g>\n",
       "<!-- Split -->\n",
       "<g id=\"node4\" class=\"node\">\n",
       "<title>Split</title>\n",
       "<polygon fill=\"none\" stroke=\"black\" points=\"91,-233.5 91,-239.5 103,-239.5 103,-233.5 91,-233.5\"/>\n",
       "<polygon fill=\"none\" stroke=\"black\" points=\"91,-203.5 91,-233.5 97,-233.5 97,-203.5 91,-203.5\"/>\n",
       "<polygon fill=\"none\" stroke=\"black\" points=\"97,-227.5 97,-233.5 103,-233.5 103,-227.5 97,-227.5\"/>\n",
       "<polygon fill=\"none\" stroke=\"black\" points=\"97,-221.5 97,-227.5 103,-227.5 103,-221.5 97,-221.5\"/>\n",
       "<polygon fill=\"none\" stroke=\"black\" points=\"97,-215.5 97,-221.5 103,-221.5 103,-215.5 97,-215.5\"/>\n",
       "<polygon fill=\"none\" stroke=\"black\" points=\"97,-209.5 97,-215.5 103,-215.5 103,-209.5 97,-209.5\"/>\n",
       "<polygon fill=\"none\" stroke=\"black\" points=\"97,-203.5 97,-209.5 103,-209.5 103,-203.5 97,-203.5\"/>\n",
       "</g>\n",
       "<!-- x_G33&#45;&gt;Split -->\n",
       "<g id=\"edge1\" class=\"edge\">\n",
       "<title>x_G33:e-&gt;Split:w</title>\n",
       "<path fill=\"none\" stroke=\"black\" d=\"M54,-218.5C69.67,-218.5 74.14,-218.5 88.77,-218.5\"/>\n",
       "<ellipse fill=\"black\" stroke=\"black\" cx=\"90\" cy=\"-218.5\" rx=\"1\" ry=\"1\"/>\n",
       "<text text-anchor=\"middle\" x=\"72.5\" y=\"-221.5\" font-family=\"Times,serif\" font-size=\"10.00\">5</text>\n",
       "</g>\n",
       "<!-- y_G37 -->\n",
       "<g id=\"node2\" class=\"node\">\n",
       "<title>y_G37</title>\n",
       "<text text-anchor=\"middle\" x=\"27\" y=\"-118.8\" font-family=\"Times,serif\" font-size=\"14.00\">y</text>\n",
       "</g>\n",
       "<!-- Split_G7 -->\n",
       "<g id=\"node8\" class=\"node\">\n",
       "<title>Split_G7</title>\n",
       "<polygon fill=\"none\" stroke=\"black\" points=\"91,-137.5 91,-143.5 103,-143.5 103,-137.5 91,-137.5\"/>\n",
       "<polygon fill=\"none\" stroke=\"black\" points=\"91,-107.5 91,-137.5 97,-137.5 97,-107.5 91,-107.5\"/>\n",
       "<polygon fill=\"none\" stroke=\"black\" points=\"97,-131.5 97,-137.5 103,-137.5 103,-131.5 97,-131.5\"/>\n",
       "<polygon fill=\"none\" stroke=\"black\" points=\"97,-125.5 97,-131.5 103,-131.5 103,-125.5 97,-125.5\"/>\n",
       "<polygon fill=\"none\" stroke=\"black\" points=\"97,-119.5 97,-125.5 103,-125.5 103,-119.5 97,-119.5\"/>\n",
       "<polygon fill=\"none\" stroke=\"black\" points=\"97,-113.5 97,-119.5 103,-119.5 103,-113.5 97,-113.5\"/>\n",
       "<polygon fill=\"none\" stroke=\"black\" points=\"97,-107.5 97,-113.5 103,-113.5 103,-107.5 97,-107.5\"/>\n",
       "</g>\n",
       "<!-- y_G37&#45;&gt;Split_G7 -->\n",
       "<g id=\"edge2\" class=\"edge\">\n",
       "<title>y_G37:e-&gt;Split_G7:w</title>\n",
       "<path fill=\"none\" stroke=\"black\" d=\"M54,-122.5C69.67,-122.5 74.14,-122.5 88.77,-122.5\"/>\n",
       "<ellipse fill=\"black\" stroke=\"black\" cx=\"90\" cy=\"-122.5\" rx=\"1\" ry=\"1\"/>\n",
       "<text text-anchor=\"middle\" x=\"72.5\" y=\"-125.5\" font-family=\"Times,serif\" font-size=\"10.00\">5</text>\n",
       "</g>\n",
       "<!-- Join -->\n",
       "<g id=\"node3\" class=\"node\">\n",
       "<title>Join</title>\n",
       "<polygon fill=\"none\" stroke=\"black\" points=\"251,-228.5 251,-234.5 263,-234.5 263,-228.5 251,-228.5\"/>\n",
       "<polygon fill=\"none\" stroke=\"black\" points=\"251,-222.5 251,-228.5 257,-228.5 257,-222.5 251,-222.5\"/>\n",
       "<polygon fill=\"none\" stroke=\"black\" points=\"257,-198.5 257,-228.5 263,-228.5 263,-198.5 257,-198.5\"/>\n",
       "<polygon fill=\"none\" stroke=\"black\" points=\"251,-216.5 251,-222.5 257,-222.5 257,-216.5 251,-216.5\"/>\n",
       "<polygon fill=\"none\" stroke=\"black\" points=\"251,-210.5 251,-216.5 257,-216.5 257,-210.5 251,-210.5\"/>\n",
       "<polygon fill=\"none\" stroke=\"black\" points=\"251,-204.5 251,-210.5 257,-210.5 257,-204.5 251,-204.5\"/>\n",
       "<polygon fill=\"none\" stroke=\"black\" points=\"251,-198.5 251,-204.5 257,-204.5 257,-198.5 251,-198.5\"/>\n",
       "</g>\n",
       "<!-- x_G26 -->\n",
       "<g id=\"node12\" class=\"node\">\n",
       "<title>x_G26</title>\n",
       "<text text-anchor=\"middle\" x=\"327\" y=\"-209.8\" font-family=\"Times,serif\" font-size=\"14.00\">x</text>\n",
       "</g>\n",
       "<!-- Join&#45;&gt;x_G26 -->\n",
       "<g id=\"edge23\" class=\"edge\">\n",
       "<title>Join:e-&gt;x_G26:w</title>\n",
       "<path fill=\"none\" stroke=\"black\" d=\"M263,-213.5C278.67,-213.5 283.14,-213.5 297.77,-213.5\"/>\n",
       "<ellipse fill=\"black\" stroke=\"black\" cx=\"299\" cy=\"-213.5\" rx=\"1\" ry=\"1\"/>\n",
       "<text text-anchor=\"middle\" x=\"281.5\" y=\"-216.5\" font-family=\"Times,serif\" font-size=\"10.00\">5</text>\n",
       "</g>\n",
       "<!-- SwapTwoBits -->\n",
       "<g id=\"node5\" class=\"node\">\n",
       "<title>SwapTwoBits</title>\n",
       "<polygon fill=\"none\" stroke=\"black\" points=\"140,-41.5 140,-58.5 214,-58.5 214,-41.5 140,-41.5\"/>\n",
       "<text text-anchor=\"start\" x=\"143\" y=\"-47.5\" font-family=\"Times,serif\" font-size=\"10.00\">SwapTwoBits</text>\n",
       "<polygon fill=\"none\" stroke=\"black\" points=\"140,-20.5 140,-41.5 214,-41.5 214,-20.5 140,-20.5\"/>\n",
       "<text text-anchor=\"start\" x=\"172.5\" y=\"-27.3\" font-family=\"Times,serif\" font-size=\"14.00\">x</text>\n",
       "<polygon fill=\"none\" stroke=\"black\" points=\"140,0.5 140,-20.5 214,-20.5 214,0.5 140,0.5\"/>\n",
       "<text text-anchor=\"start\" x=\"172.5\" y=\"-6.3\" font-family=\"Times,serif\" font-size=\"14.00\">y</text>\n",
       "</g>\n",
       "<!-- Split&#45;&gt;SwapTwoBits -->\n",
       "<g id=\"edge11\" class=\"edge\">\n",
       "<title>Split:e-&gt;SwapTwoBits:w</title>\n",
       "<path fill=\"none\" stroke=\"black\" d=\"M103,-206.5C130.13,-206.5 115.69,-174.88 122,-148.5 127.95,-123.61 114.47,-36.45 137.93,-31.7\"/>\n",
       "<ellipse fill=\"black\" stroke=\"black\" cx=\"139\" cy=\"-31.6\" rx=\"1\" ry=\"1\"/>\n",
       "<text text-anchor=\"middle\" x=\"121.5\" y=\"-155.5\" font-family=\"Times,serif\" font-size=\"10.00\">1</text>\n",
       "</g>\n",
       "<!-- SwapTwoBits_G1 -->\n",
       "<g id=\"node6\" class=\"node\">\n",
       "<title>SwapTwoBits_G1</title>\n",
       "<polygon fill=\"none\" stroke=\"black\" points=\"140,-118.5 140,-135.5 214,-135.5 214,-118.5 140,-118.5\"/>\n",
       "<text text-anchor=\"start\" x=\"143\" y=\"-124.5\" font-family=\"Times,serif\" font-size=\"10.00\">SwapTwoBits</text>\n",
       "<polygon fill=\"none\" stroke=\"black\" points=\"140,-97.5 140,-118.5 214,-118.5 214,-97.5 140,-97.5\"/>\n",
       "<text text-anchor=\"start\" x=\"172.5\" y=\"-104.3\" font-family=\"Times,serif\" font-size=\"14.00\">x</text>\n",
       "<polygon fill=\"none\" stroke=\"black\" points=\"140,-76.5 140,-97.5 214,-97.5 214,-76.5 140,-76.5\"/>\n",
       "<text text-anchor=\"start\" x=\"172.5\" y=\"-83.3\" font-family=\"Times,serif\" font-size=\"14.00\">y</text>\n",
       "</g>\n",
       "<!-- Split&#45;&gt;SwapTwoBits_G1 -->\n",
       "<g id=\"edge9\" class=\"edge\">\n",
       "<title>Split:e-&gt;SwapTwoBits_G1:w</title>\n",
       "<path fill=\"none\" stroke=\"black\" d=\"M103,-212.5C122.68,-212.5 115.09,-190.93 122,-172.5 132.09,-145.59 111.63,-110.48 137.69,-108.58\"/>\n",
       "<ellipse fill=\"black\" stroke=\"black\" cx=\"139\" cy=\"-108.53\" rx=\"1\" ry=\"1\"/>\n",
       "<text text-anchor=\"middle\" x=\"121.5\" y=\"-177.5\" font-family=\"Times,serif\" font-size=\"10.00\">1</text>\n",
       "</g>\n",
       "<!-- SwapTwoBits_G4 -->\n",
       "<g id=\"node7\" class=\"node\">\n",
       "<title>SwapTwoBits_G4</title>\n",
       "<polygon fill=\"none\" stroke=\"black\" points=\"140,-349.5 140,-366.5 214,-366.5 214,-349.5 140,-349.5\"/>\n",
       "<text text-anchor=\"start\" x=\"143\" y=\"-355.5\" font-family=\"Times,serif\" font-size=\"10.00\">SwapTwoBits</text>\n",
       "<polygon fill=\"none\" stroke=\"black\" points=\"140,-328.5 140,-349.5 214,-349.5 214,-328.5 140,-328.5\"/>\n",
       "<text text-anchor=\"start\" x=\"172.5\" y=\"-335.3\" font-family=\"Times,serif\" font-size=\"14.00\">x</text>\n",
       "<polygon fill=\"none\" stroke=\"black\" points=\"140,-307.5 140,-328.5 214,-328.5 214,-307.5 140,-307.5\"/>\n",
       "<text text-anchor=\"start\" x=\"172.5\" y=\"-314.3\" font-family=\"Times,serif\" font-size=\"14.00\">y</text>\n",
       "</g>\n",
       "<!-- Split&#45;&gt;SwapTwoBits_G4 -->\n",
       "<g id=\"edge3\" class=\"edge\">\n",
       "<title>Split:e-&gt;SwapTwoBits_G4:w</title>\n",
       "<path fill=\"none\" stroke=\"black\" d=\"M103,-230.5C136.42,-230.5 109.11,-272.27 121,-303.5 127.18,-319.75 122.32,-338.01 137.99,-339.41\"/>\n",
       "<ellipse fill=\"black\" stroke=\"black\" cx=\"139\" cy=\"-339.46\" rx=\"1\" ry=\"1\"/>\n",
       "<text text-anchor=\"middle\" x=\"121.5\" y=\"-308.5\" font-family=\"Times,serif\" font-size=\"10.00\">1</text>\n",
       "</g>\n",
       "<!-- SwapTwoBits_G9 -->\n",
       "<g id=\"node9\" class=\"node\">\n",
       "<title>SwapTwoBits_G9</title>\n",
       "<polygon fill=\"none\" stroke=\"black\" points=\"140,-195.5 140,-212.5 214,-212.5 214,-195.5 140,-195.5\"/>\n",
       "<text text-anchor=\"start\" x=\"143\" y=\"-201.5\" font-family=\"Times,serif\" font-size=\"10.00\">SwapTwoBits</text>\n",
       "<polygon fill=\"none\" stroke=\"black\" points=\"140,-174.5 140,-195.5 214,-195.5 214,-174.5 140,-174.5\"/>\n",
       "<text text-anchor=\"start\" x=\"172.5\" y=\"-181.3\" font-family=\"Times,serif\" font-size=\"14.00\">x</text>\n",
       "<polygon fill=\"none\" stroke=\"black\" points=\"140,-153.5 140,-174.5 214,-174.5 214,-153.5 140,-153.5\"/>\n",
       "<text text-anchor=\"start\" x=\"172.5\" y=\"-160.3\" font-family=\"Times,serif\" font-size=\"14.00\">y</text>\n",
       "</g>\n",
       "<!-- Split&#45;&gt;SwapTwoBits_G9 -->\n",
       "<g id=\"edge7\" class=\"edge\">\n",
       "<title>Split:e-&gt;SwapTwoBits_G9:w</title>\n",
       "<path fill=\"none\" stroke=\"black\" d=\"M103,-218.5C124.17,-218.5 118.47,-188.03 137.55,-185.65\"/>\n",
       "<ellipse fill=\"black\" stroke=\"black\" cx=\"139\" cy=\"-185.56\" rx=\"1\" ry=\"1\"/>\n",
       "<text text-anchor=\"middle\" x=\"121.5\" y=\"-205.5\" font-family=\"Times,serif\" font-size=\"10.00\">1</text>\n",
       "</g>\n",
       "<!-- SwapTwoBits_G14 -->\n",
       "<g id=\"node11\" class=\"node\">\n",
       "<title>SwapTwoBits_G14</title>\n",
       "<polygon fill=\"none\" stroke=\"black\" points=\"140,-272.5 140,-289.5 214,-289.5 214,-272.5 140,-272.5\"/>\n",
       "<text text-anchor=\"start\" x=\"143\" y=\"-278.5\" font-family=\"Times,serif\" font-size=\"10.00\">SwapTwoBits</text>\n",
       "<polygon fill=\"none\" stroke=\"black\" points=\"140,-251.5 140,-272.5 214,-272.5 214,-251.5 140,-251.5\"/>\n",
       "<text text-anchor=\"start\" x=\"172.5\" y=\"-258.3\" font-family=\"Times,serif\" font-size=\"14.00\">x</text>\n",
       "<polygon fill=\"none\" stroke=\"black\" points=\"140,-230.5 140,-251.5 214,-251.5 214,-230.5 140,-230.5\"/>\n",
       "<text text-anchor=\"start\" x=\"172.5\" y=\"-237.3\" font-family=\"Times,serif\" font-size=\"14.00\">y</text>\n",
       "</g>\n",
       "<!-- Split&#45;&gt;SwapTwoBits_G14 -->\n",
       "<g id=\"edge5\" class=\"edge\">\n",
       "<title>Split:e-&gt;SwapTwoBits_G14:w</title>\n",
       "<path fill=\"none\" stroke=\"black\" d=\"M103,-224.5C125.84,-224.5 117.03,-260.16 137.89,-262.39\"/>\n",
       "<ellipse fill=\"black\" stroke=\"black\" cx=\"139\" cy=\"-262.45\" rx=\"1\" ry=\"1\"/>\n",
       "<text text-anchor=\"middle\" x=\"121.5\" y=\"-247.5\" font-family=\"Times,serif\" font-size=\"10.00\">1</text>\n",
       "</g>\n",
       "<!-- SwapTwoBits&#45;&gt;Join -->\n",
       "<g id=\"edge17\" class=\"edge\">\n",
       "<title>SwapTwoBits:e-&gt;Join:w</title>\n",
       "<path fill=\"none\" stroke=\"black\" d=\"M214,-31.5C232.58,-31.5 231.77,-188.48 248.83,-200.74\"/>\n",
       "<ellipse fill=\"black\" stroke=\"black\" cx=\"250.06\" cy=\"-201.17\" rx=\"1\" ry=\"1\"/>\n",
       "<text text-anchor=\"middle\" x=\"232.5\" y=\"-119.5\" font-family=\"Times,serif\" font-size=\"10.00\">1</text>\n",
       "</g>\n",
       "<!-- Join_G12 -->\n",
       "<g id=\"node10\" class=\"node\">\n",
       "<title>Join_G12</title>\n",
       "<polygon fill=\"none\" stroke=\"black\" points=\"251,-156.5 251,-162.5 263,-162.5 263,-156.5 251,-156.5\"/>\n",
       "<polygon fill=\"none\" stroke=\"black\" points=\"251,-150.5 251,-156.5 257,-156.5 257,-150.5 251,-150.5\"/>\n",
       "<polygon fill=\"none\" stroke=\"black\" points=\"257,-126.5 257,-156.5 263,-156.5 263,-126.5 257,-126.5\"/>\n",
       "<polygon fill=\"none\" stroke=\"black\" points=\"251,-144.5 251,-150.5 257,-150.5 257,-144.5 251,-144.5\"/>\n",
       "<polygon fill=\"none\" stroke=\"black\" points=\"251,-138.5 251,-144.5 257,-144.5 257,-138.5 251,-138.5\"/>\n",
       "<polygon fill=\"none\" stroke=\"black\" points=\"251,-132.5 251,-138.5 257,-138.5 257,-132.5 251,-132.5\"/>\n",
       "<polygon fill=\"none\" stroke=\"black\" points=\"251,-126.5 251,-132.5 257,-132.5 257,-126.5 251,-126.5\"/>\n",
       "</g>\n",
       "<!-- SwapTwoBits&#45;&gt;Join_G12 -->\n",
       "<g id=\"edge22\" class=\"edge\">\n",
       "<title>SwapTwoBits:e-&gt;Join_G12:w</title>\n",
       "<path fill=\"none\" stroke=\"black\" d=\"M214,-9.5C241.14,-9.5 224.09,-123.03 248.81,-129.24\"/>\n",
       "<ellipse fill=\"black\" stroke=\"black\" cx=\"250.01\" cy=\"-129.38\" rx=\"1\" ry=\"1\"/>\n",
       "<text text-anchor=\"middle\" x=\"232.5\" y=\"-75.5\" font-family=\"Times,serif\" font-size=\"10.00\">1</text>\n",
       "</g>\n",
       "<!-- SwapTwoBits_G1&#45;&gt;Join -->\n",
       "<g id=\"edge16\" class=\"edge\">\n",
       "<title>SwapTwoBits_G1:e-&gt;Join:w</title>\n",
       "<path fill=\"none\" stroke=\"black\" d=\"M214,-108.5C236.75,-108.5 228.1,-201.41 248.89,-207.22\"/>\n",
       "<ellipse fill=\"black\" stroke=\"black\" cx=\"250.01\" cy=\"-207.37\" rx=\"1\" ry=\"1\"/>\n",
       "<text text-anchor=\"middle\" x=\"232.5\" y=\"-163.5\" font-family=\"Times,serif\" font-size=\"10.00\">1</text>\n",
       "</g>\n",
       "<!-- SwapTwoBits_G1&#45;&gt;Join_G12 -->\n",
       "<g id=\"edge21\" class=\"edge\">\n",
       "<title>SwapTwoBits_G1:e-&gt;Join_G12:w</title>\n",
       "<path fill=\"none\" stroke=\"black\" d=\"M214,-86.5C223.54,-86.5 226.43,-89.58 233,-96.5 245.63,-109.8 232.98,-133.55 248.91,-135.39\"/>\n",
       "<ellipse fill=\"black\" stroke=\"black\" cx=\"250\" cy=\"-135.45\" rx=\"1\" ry=\"1\"/>\n",
       "<text text-anchor=\"middle\" x=\"232.5\" y=\"-99.5\" font-family=\"Times,serif\" font-size=\"10.00\">1</text>\n",
       "</g>\n",
       "<!-- SwapTwoBits_G4&#45;&gt;Join -->\n",
       "<g id=\"edge13\" class=\"edge\">\n",
       "<title>SwapTwoBits_G4:e-&gt;Join:w</title>\n",
       "<path fill=\"none\" stroke=\"black\" d=\"M214,-339.5C239.91,-339.5 225.22,-231.65 248.91,-225.75\"/>\n",
       "<ellipse fill=\"black\" stroke=\"black\" cx=\"250.01\" cy=\"-225.62\" rx=\"1\" ry=\"1\"/>\n",
       "<text text-anchor=\"middle\" x=\"232.5\" y=\"-288.5\" font-family=\"Times,serif\" font-size=\"10.00\">1</text>\n",
       "</g>\n",
       "<!-- SwapTwoBits_G4&#45;&gt;Join_G12 -->\n",
       "<g id=\"edge18\" class=\"edge\">\n",
       "<title>SwapTwoBits_G4:e-&gt;Join_G12:w</title>\n",
       "<path fill=\"none\" stroke=\"black\" d=\"M214,-317.5C231.95,-317.5 232.32,-166.06 248.9,-154.23\"/>\n",
       "<ellipse fill=\"black\" stroke=\"black\" cx=\"250.06\" cy=\"-153.83\" rx=\"1\" ry=\"1\"/>\n",
       "<text text-anchor=\"middle\" x=\"232.5\" y=\"-238.5\" font-family=\"Times,serif\" font-size=\"10.00\">1</text>\n",
       "</g>\n",
       "<!-- Split_G7&#45;&gt;SwapTwoBits -->\n",
       "<g id=\"edge12\" class=\"edge\">\n",
       "<title>Split_G7:e-&gt;SwapTwoBits:w</title>\n",
       "<path fill=\"none\" stroke=\"black\" d=\"M103,-110.5C126.16,-110.5 116.74,-15.71 137.86,-9.79\"/>\n",
       "<ellipse fill=\"black\" stroke=\"black\" cx=\"139.01\" cy=\"-9.63\" rx=\"1\" ry=\"1\"/>\n",
       "<text text-anchor=\"middle\" x=\"121.5\" y=\"-65.5\" font-family=\"Times,serif\" font-size=\"10.00\">1</text>\n",
       "</g>\n",
       "<!-- Split_G7&#45;&gt;SwapTwoBits_G1 -->\n",
       "<g id=\"edge10\" class=\"edge\">\n",
       "<title>Split_G7:e-&gt;SwapTwoBits_G1:w</title>\n",
       "<path fill=\"none\" stroke=\"black\" d=\"M103,-116.5C114,-116.5 112.43,-106.41 121,-99.5 128.34,-93.58 129.6,-87.53 137.77,-86.62\"/>\n",
       "<ellipse fill=\"black\" stroke=\"black\" cx=\"139\" cy=\"-86.55\" rx=\"1\" ry=\"1\"/>\n",
       "<text text-anchor=\"middle\" x=\"121.5\" y=\"-102.5\" font-family=\"Times,serif\" font-size=\"10.00\">1</text>\n",
       "</g>\n",
       "<!-- Split_G7&#45;&gt;SwapTwoBits_G4 -->\n",
       "<g id=\"edge4\" class=\"edge\">\n",
       "<title>Split_G7:e-&gt;SwapTwoBits_G4:w</title>\n",
       "<path fill=\"none\" stroke=\"black\" d=\"M103,-134.5C128.87,-134.5 115.51,-224.22 121,-249.5 127.5,-279.45 109.5,-315.75 137.88,-317.44\"/>\n",
       "<ellipse fill=\"black\" stroke=\"black\" cx=\"139\" cy=\"-317.47\" rx=\"1\" ry=\"1\"/>\n",
       "<text text-anchor=\"middle\" x=\"121.5\" y=\"-306.5\" font-family=\"Times,serif\" font-size=\"10.00\">1</text>\n",
       "</g>\n",
       "<!-- Split_G7&#45;&gt;SwapTwoBits_G9 -->\n",
       "<g id=\"edge8\" class=\"edge\">\n",
       "<title>Split_G7:e-&gt;SwapTwoBits_G9:w</title>\n",
       "<path fill=\"none\" stroke=\"black\" d=\"M103,-122.5C112.34,-122.5 115.17,-125.13 122,-131.5 133.38,-142.11 124.59,-161.56 137.88,-163.37\"/>\n",
       "<ellipse fill=\"black\" stroke=\"black\" cx=\"139\" cy=\"-163.44\" rx=\"1\" ry=\"1\"/>\n",
       "<text text-anchor=\"middle\" x=\"121.5\" y=\"-134.5\" font-family=\"Times,serif\" font-size=\"10.00\">1</text>\n",
       "</g>\n",
       "<!-- Split_G7&#45;&gt;SwapTwoBits_G14 -->\n",
       "<g id=\"edge6\" class=\"edge\">\n",
       "<title>Split_G7:e-&gt;SwapTwoBits_G14:w</title>\n",
       "<path fill=\"none\" stroke=\"black\" d=\"M103,-128.5C117.67,-128.5 116.14,-142.05 122,-155.5 129.41,-172.51 121.37,-235.32 137.86,-240.2\"/>\n",
       "<ellipse fill=\"black\" stroke=\"black\" cx=\"139.01\" cy=\"-240.36\" rx=\"1\" ry=\"1\"/>\n",
       "<text text-anchor=\"middle\" x=\"121.5\" y=\"-158.5\" font-family=\"Times,serif\" font-size=\"10.00\">1</text>\n",
       "</g>\n",
       "<!-- SwapTwoBits_G9&#45;&gt;Join -->\n",
       "<g id=\"edge15\" class=\"edge\">\n",
       "<title>SwapTwoBits_G9:e-&gt;Join:w</title>\n",
       "<path fill=\"none\" stroke=\"black\" d=\"M214,-185.5C233.82,-185.5 230.67,-211.36 248.69,-213.38\"/>\n",
       "<ellipse fill=\"black\" stroke=\"black\" cx=\"250\" cy=\"-213.45\" rx=\"1\" ry=\"1\"/>\n",
       "<text text-anchor=\"middle\" x=\"232.5\" y=\"-202.5\" font-family=\"Times,serif\" font-size=\"10.00\">1</text>\n",
       "</g>\n",
       "<!-- SwapTwoBits_G9&#45;&gt;Join_G12 -->\n",
       "<g id=\"edge20\" class=\"edge\">\n",
       "<title>SwapTwoBits_G9:e-&gt;Join_G12:w</title>\n",
       "<path fill=\"none\" stroke=\"black\" d=\"M214,-163.5C223.87,-163.5 223.51,-155.52 232,-150.5 239.41,-146.12 241.36,-142.17 248.94,-141.58\"/>\n",
       "<ellipse fill=\"black\" stroke=\"black\" cx=\"250\" cy=\"-141.54\" rx=\"1\" ry=\"1\"/>\n",
       "<text text-anchor=\"middle\" x=\"232.5\" y=\"-153.5\" font-family=\"Times,serif\" font-size=\"10.00\">1</text>\n",
       "</g>\n",
       "<!-- y_G23 -->\n",
       "<g id=\"node13\" class=\"node\">\n",
       "<title>y_G23</title>\n",
       "<text text-anchor=\"middle\" x=\"327\" y=\"-137.8\" font-family=\"Times,serif\" font-size=\"14.00\">y</text>\n",
       "</g>\n",
       "<!-- Join_G12&#45;&gt;y_G23 -->\n",
       "<g id=\"edge24\" class=\"edge\">\n",
       "<title>Join_G12:e-&gt;y_G23:w</title>\n",
       "<path fill=\"none\" stroke=\"black\" d=\"M263,-141.5C278.67,-141.5 283.14,-141.5 297.77,-141.5\"/>\n",
       "<ellipse fill=\"black\" stroke=\"black\" cx=\"299\" cy=\"-141.5\" rx=\"1\" ry=\"1\"/>\n",
       "<text text-anchor=\"middle\" x=\"281.5\" y=\"-144.5\" font-family=\"Times,serif\" font-size=\"10.00\">5</text>\n",
       "</g>\n",
       "<!-- SwapTwoBits_G14&#45;&gt;Join -->\n",
       "<g id=\"edge14\" class=\"edge\">\n",
       "<title>SwapTwoBits_G14:e-&gt;Join:w</title>\n",
       "<path fill=\"none\" stroke=\"black\" d=\"M214,-262.5C225.92,-262.5 237.1,-224.07 248.94,-219.87\"/>\n",
       "<ellipse fill=\"black\" stroke=\"black\" cx=\"250.02\" cy=\"-219.68\" rx=\"1\" ry=\"1\"/>\n",
       "<text text-anchor=\"middle\" x=\"232.5\" y=\"-243.5\" font-family=\"Times,serif\" font-size=\"10.00\">1</text>\n",
       "</g>\n",
       "<!-- SwapTwoBits_G14&#45;&gt;Join_G12 -->\n",
       "<g id=\"edge19\" class=\"edge\">\n",
       "<title>SwapTwoBits_G14:e-&gt;Join_G12:w</title>\n",
       "<path fill=\"none\" stroke=\"black\" d=\"M214,-240.5C235.55,-240.5 229.2,-153.22 249,-147.77\"/>\n",
       "<ellipse fill=\"black\" stroke=\"black\" cx=\"250.01\" cy=\"-147.63\" rx=\"1\" ry=\"1\"/>\n",
       "<text text-anchor=\"middle\" x=\"232.5\" y=\"-199.5\" font-family=\"Times,serif\" font-size=\"10.00\">1</text>\n",
       "</g>\n",
       "</g>\n",
       "</svg>"
      ],
      "text/plain": [
       "<IPython.core.display.SVG object>"
      ]
     },
     "metadata": {},
     "output_type": "display_data"
    }
   ],
   "source": [
    "cbloq = Swap(n=5).decompose_bloq()\n",
    "show_bloq(cbloq)"
   ]
  },
  {
   "cell_type": "markdown",
   "id": "c20817f9",
   "metadata": {
    "id": "c20817f9"
   },
   "source": [
    "The interleaved wires can get a little confusing. An alternative method of visualization via the familiar \"musical score\" diagram is also available"
   ]
  },
  {
   "cell_type": "code",
   "execution_count": 29,
   "id": "5e35b5bb",
   "metadata": {
    "id": "5e35b5bb"
   },
   "outputs": [
    {
     "data": {
      "image/png": "[encoded data removed]",
      "text/plain": [
       "<Figure size 900x800 with 1 Axes>"
      ]
     },
     "metadata": {},
     "output_type": "display_data"
    }
   ],
   "source": [
    "from qualtran.drawing import get_musical_score_data, draw_musical_score\n",
    "msd = get_musical_score_data(cbloq)\n",
    "fig, ax = draw_musical_score(msd)\n",
    "fig.set_figwidth(9)"
   ]
  },
  {
   "cell_type": "markdown",
   "id": "a56b18da",
   "metadata": {
    "id": "a56b18da"
   },
   "source": [
    "## Allocations and de-allocations\n",
    "\n",
    "We can encode operations that allocate and/or de-allocate quantum data as well. Each `Register` has an attribute called `side`. By default, it is set to `THRU` meaning that the quantum data moves through the register and that register is available for use as both an input and an output."
   ]
  },
  {
   "cell_type": "code",
   "execution_count": 30,
   "id": "2b195829",
   "metadata": {
    "id": "2b195829"
   },
   "outputs": [
    {
     "data": {
      "text/plain": [
       "<Side.THRU: 3>"
      ]
     },
     "execution_count": 30,
     "metadata": {},
     "output_type": "execute_result"
    }
   ],
   "source": [
    "reg = Register('ctrl', QBit())\n",
    "reg.side"
   ]
  },
  {
   "cell_type": "markdown",
   "id": "4788d0c9",
   "metadata": {
    "id": "4788d0c9"
   },
   "source": [
    "### `LEFT` and `RIGHT`\n",
    "\n",
    "We can declare registers that are input-only (\"LEFT\") or output-only (\"RIGHT\"). Pure-state quantum evolution is unitary; so using registers like these implies you're encoding a non-unitary operation. For example: bloqs which allocate a new qubit or discard an existing qubit would have asymmetric registers."
   ]
  },
  {
   "cell_type": "code",
   "execution_count": 31,
   "id": "02d510b9",
   "metadata": {
    "id": "02d510b9"
   },
   "outputs": [
    {
     "data": {
      "image/svg+xml": [
       "<svg xmlns=\"http://www.w3.org/2000/svg\" xmlns:xlink=\"http://www.w3.org/1999/xlink\" width=\"446pt\" height=\"76pt\" viewBox=\"0.00 0.00 446.00 75.50\">\n",
       "<g id=\"graph0\" class=\"graph\" transform=\"scale(1 1) rotate(0) translate(4 71.5)\">\n",
       "<title>my_graph</title>\n",
       "<polygon fill=\"white\" stroke=\"transparent\" points=\"-4,4 -4,-71.5 442,-71.5 442,4 -4,4\"/>\n",
       "<!-- input_only_G1 -->\n",
       "<g id=\"node1\" class=\"node\">\n",
       "<title>input_only_G1</title>\n",
       "<text text-anchor=\"middle\" x=\"45.5\" y=\"-36.3\" font-family=\"Times,serif\" font-size=\"14.00\">input_only</text>\n",
       "</g>\n",
       "<!-- ReAlloc -->\n",
       "<g id=\"node2\" class=\"node\">\n",
       "<title>ReAlloc</title>\n",
       "<polygon fill=\"none\" stroke=\"black\" points=\"128,-50 128,-67 300,-67 300,-50 128,-50\"/>\n",
       "<text text-anchor=\"start\" x=\"194.5\" y=\"-56\" font-family=\"Times,serif\" font-size=\"10.00\">ReAlloc</text>\n",
       "<polygon fill=\"none\" stroke=\"black\" points=\"128,-29 128,-50 209,-50 209,-29 128,-29\"/>\n",
       "<text text-anchor=\"start\" x=\"131\" y=\"-35.8\" font-family=\"Times,serif\" font-size=\"14.00\">input_only</text>\n",
       "<polygon fill=\"none\" stroke=\"black\" points=\"209,-29 209,-50 300,-50 300,-29 209,-29\"/>\n",
       "<polygon fill=\"none\" stroke=\"black\" points=\"128,-8 128,-29 209,-29 209,-8 128,-8\"/>\n",
       "<polygon fill=\"none\" stroke=\"black\" points=\"209,-8 209,-29 300,-29 300,-8 209,-8\"/>\n",
       "<text text-anchor=\"start\" x=\"212\" y=\"-14.8\" font-family=\"Times,serif\" font-size=\"14.00\">output_only</text>\n",
       "</g>\n",
       "<!-- input_only_G1&#45;&gt;ReAlloc -->\n",
       "<g id=\"edge1\" class=\"edge\">\n",
       "<title>input_only_G1:e-&gt;ReAlloc:w</title>\n",
       "<path fill=\"none\" stroke=\"black\" d=\"M91,-40C106.67,-40 111.14,-40 125.77,-40\"/>\n",
       "<ellipse fill=\"black\" stroke=\"black\" cx=\"127\" cy=\"-40\" rx=\"1\" ry=\"1\"/>\n",
       "<text text-anchor=\"middle\" x=\"109.5\" y=\"-43\" font-family=\"Times,serif\" font-size=\"10.00\">1</text>\n",
       "</g>\n",
       "<!-- output_only_G0 -->\n",
       "<g id=\"node3\" class=\"node\">\n",
       "<title>output_only_G0</title>\n",
       "<text text-anchor=\"middle\" x=\"387.5\" y=\"-14.3\" font-family=\"Times,serif\" font-size=\"14.00\">output_only</text>\n",
       "</g>\n",
       "<!-- ReAlloc&#45;&gt;output_only_G0 -->\n",
       "<g id=\"edge2\" class=\"edge\">\n",
       "<title>ReAlloc:e-&gt;output_only_G0:w</title>\n",
       "<path fill=\"none\" stroke=\"black\" d=\"M300,-18C315.67,-18 320.14,-18 334.77,-18\"/>\n",
       "<ellipse fill=\"black\" stroke=\"black\" cx=\"336\" cy=\"-18\" rx=\"1\" ry=\"1\"/>\n",
       "<text text-anchor=\"middle\" x=\"318.5\" y=\"-21\" font-family=\"Times,serif\" font-size=\"10.00\">1</text>\n",
       "</g>\n",
       "</g>\n",
       "</svg>"
      ],
      "text/plain": [
       "<IPython.core.display.SVG object>"
      ]
     },
     "metadata": {},
     "output_type": "display_data"
    }
   ],
   "source": [
    "from qualtran import Side\n",
    "\n",
    "@attrs.frozen\n",
    "class ReAlloc(Bloq):\n",
    "    @property\n",
    "    def signature(self):\n",
    "        return Signature([\n",
    "            Register('input_only', QBit(), side=Side.LEFT),\n",
    "            Register('output_only', QBit(), side=Side.RIGHT),\n",
    "        ])\n",
    "\n",
    "show_bloq(ReAlloc())"
   ]
  },
  {
   "cell_type": "markdown",
   "id": "1537693c",
   "metadata": {
    "id": "1537693c"
   },
   "source": [
    "Of course, the signature *only* provides the `side` of the register. It is up to the bloq author to give it functionality by providing a decomposition or annotating it with simulation information. We'll use the `State` and `Effect` one-qubit bloqs provided by the library to explore their behavior under simulation."
   ]
  },
  {
   "cell_type": "code",
   "execution_count": 32,
   "id": "ad7b8708",
   "metadata": {
    "id": "ad7b8708"
   },
   "outputs": [
    {
     "data": {
      "image/svg+xml": [
       "<svg xmlns=\"http://www.w3.org/2000/svg\" xmlns:xlink=\"http://www.w3.org/1999/xlink\" width=\"155pt\" height=\"54pt\" viewBox=\"0.00 0.00 155.00 54.00\">\n",
       "<g id=\"graph0\" class=\"graph\" transform=\"scale(1 1) rotate(0) translate(4 50)\">\n",
       "<title>my_graph</title>\n",
       "<polygon fill=\"white\" stroke=\"transparent\" points=\"-4,4 -4,-50 151,-50 151,4 -4,4\"/>\n",
       "<!-- ZeroState -->\n",
       "<g id=\"node1\" class=\"node\">\n",
       "<title>ZeroState</title>\n",
       "<polygon fill=\"none\" stroke=\"black\" points=\"0,-29 0,-46 56,-46 56,-29 0,-29\"/>\n",
       "<text text-anchor=\"start\" x=\"3\" y=\"-35\" font-family=\"Times,serif\" font-size=\"10.00\">ZeroState</text>\n",
       "<polygon fill=\"none\" stroke=\"black\" points=\"0,-8 0,-29 23,-29 23,-8 0,-8\"/>\n",
       "<polygon fill=\"none\" stroke=\"black\" points=\"23,-8 23,-29 56,-29 56,-8 23,-8\"/>\n",
       "<text text-anchor=\"start\" x=\"34.5\" y=\"-14.8\" font-family=\"Times,serif\" font-size=\"14.00\">q</text>\n",
       "</g>\n",
       "<!-- q_G0 -->\n",
       "<g id=\"node2\" class=\"node\">\n",
       "<title>q_G0</title>\n",
       "<text text-anchor=\"middle\" x=\"120\" y=\"-14.3\" font-family=\"Times,serif\" font-size=\"14.00\">q</text>\n",
       "</g>\n",
       "<!-- ZeroState&#45;&gt;q_G0 -->\n",
       "<g id=\"edge1\" class=\"edge\">\n",
       "<title>ZeroState:e-&gt;q_G0:w</title>\n",
       "<path fill=\"none\" stroke=\"black\" d=\"M56,-18C71.67,-18 76.14,-18 90.77,-18\"/>\n",
       "<ellipse fill=\"black\" stroke=\"black\" cx=\"92\" cy=\"-18\" rx=\"1\" ry=\"1\"/>\n",
       "<text text-anchor=\"middle\" x=\"74.5\" y=\"-21\" font-family=\"Times,serif\" font-size=\"10.00\">1</text>\n",
       "</g>\n",
       "</g>\n",
       "</svg>"
      ],
      "text/plain": [
       "<IPython.core.display.SVG object>"
      ]
     },
     "metadata": {},
     "output_type": "display_data"
    },
    {
     "name": "stderr",
     "output_type": "stream",
     "text": [
      "/home/quan/PycharmProjects/Qualtran2/venv/lib/python3.10/site-packages/cotengra/hyperoptimizers/hyper.py:33: UserWarning: Couldn't import `kahypar` - skipping from default hyper optimizer and using basic `labels` method instead.\n",
      "  warnings.warn(\n"
     ]
    },
    {
     "data": {
      "text/plain": [
       "array([1.+0.j, 0.+0.j])"
      ]
     },
     "execution_count": 32,
     "metadata": {},
     "output_type": "execute_result"
    }
   ],
   "source": [
    "from qualtran.bloqs.basic_gates import ZeroState\n",
    "\n",
    "# Show a simple allocating bloq and its tensor representation\n",
    "show_bloq(ZeroState())\n",
    "ZeroState().tensor_contract()"
   ]
  },
  {
   "cell_type": "code",
   "execution_count": 33,
   "id": "b5a764f7",
   "metadata": {
    "id": "b5a764f7"
   },
   "outputs": [
    {
     "data": {
      "image/svg+xml": [
       "<svg xmlns=\"http://www.w3.org/2000/svg\" xmlns:xlink=\"http://www.w3.org/1999/xlink\" width=\"159pt\" height=\"46pt\" viewBox=\"0.00 0.00 159.00 46.00\">\n",
       "<g id=\"graph0\" class=\"graph\" transform=\"scale(1 1) rotate(0) translate(4 42)\">\n",
       "<title>my_graph</title>\n",
       "<polygon fill=\"white\" stroke=\"transparent\" points=\"-4,4 -4,-42 155,-42 155,4 -4,4\"/>\n",
       "<!-- ZeroEffect -->\n",
       "<g id=\"node1\" class=\"node\">\n",
       "<title>ZeroEffect</title>\n",
       "<polygon fill=\"none\" stroke=\"black\" points=\"92.5,-21 92.5,-38 151.5,-38 151.5,-21 92.5,-21\"/>\n",
       "<text text-anchor=\"start\" x=\"95.5\" y=\"-27\" font-family=\"Times,serif\" font-size=\"10.00\">ZeroEffect</text>\n",
       "<polygon fill=\"none\" stroke=\"black\" points=\"92.5,0 92.5,-21 126.5,-21 126.5,0 92.5,0\"/>\n",
       "<text text-anchor=\"start\" x=\"104.5\" y=\"-6.8\" font-family=\"Times,serif\" font-size=\"14.00\">q</text>\n",
       "<polygon fill=\"none\" stroke=\"black\" points=\"126.5,0 126.5,-21 151.5,-21 151.5,0 126.5,0\"/>\n",
       "</g>\n",
       "<!-- PlusState -->\n",
       "<g id=\"node2\" class=\"node\">\n",
       "<title>PlusState</title>\n",
       "<polygon fill=\"none\" stroke=\"black\" points=\"0.5,-21 0.5,-38 55.5,-38 55.5,-21 0.5,-21\"/>\n",
       "<text text-anchor=\"start\" x=\"3.5\" y=\"-27\" font-family=\"Times,serif\" font-size=\"10.00\">PlusState</text>\n",
       "<polygon fill=\"none\" stroke=\"black\" points=\"0.5,0 0.5,-21 22.5,-21 22.5,0 0.5,0\"/>\n",
       "<polygon fill=\"none\" stroke=\"black\" points=\"22.5,0 22.5,-21 55.5,-21 55.5,0 22.5,0\"/>\n",
       "<text text-anchor=\"start\" x=\"34\" y=\"-6.8\" font-family=\"Times,serif\" font-size=\"14.00\">q</text>\n",
       "</g>\n",
       "<!-- PlusState&#45;&gt;ZeroEffect -->\n",
       "<g id=\"edge1\" class=\"edge\">\n",
       "<title>PlusState:e-&gt;ZeroEffect:w</title>\n",
       "<path fill=\"none\" stroke=\"black\" d=\"M55,-10C70.67,-10 75.14,-10 89.77,-10\"/>\n",
       "<ellipse fill=\"black\" stroke=\"black\" cx=\"91\" cy=\"-10\" rx=\"1\" ry=\"1\"/>\n",
       "<text text-anchor=\"middle\" x=\"73.5\" y=\"-13\" font-family=\"Times,serif\" font-size=\"10.00\">1</text>\n",
       "</g>\n",
       "</g>\n",
       "</svg>"
      ],
      "text/plain": [
       "<IPython.core.display.SVG object>"
      ]
     },
     "metadata": {},
     "output_type": "display_data"
    },
    {
     "data": {
      "text/plain": [
       "0.4999999999999999"
      ]
     },
     "execution_count": 33,
     "metadata": {},
     "output_type": "execute_result"
    }
   ],
   "source": [
    "from qualtran.bloqs.basic_gates import PlusState, ZeroEffect\n",
    "\n",
    "bb = BloqBuilder()\n",
    "\n",
    "# Wire up <+|0>\n",
    "q = bb.add(PlusState())\n",
    "bb.add(ZeroEffect(), q=q)\n",
    "\n",
    "# Show it and find its probability\n",
    "cbloq = bb.finalize()\n",
    "show_bloq(cbloq)\n",
    "cbloq.tensor_contract() ** 2"
   ]
  },
  {
   "cell_type": "markdown",
   "id": "83c0a66d",
   "metadata": {
    "id": "83c0a66d"
   },
   "source": [
    "## Algorithms\n",
    "\n",
    "We've been looking at small, familiar bloqs to get acquainted with the functionality. Bloqs can represent quantum operations at any level of complexity, but are particularly useful for reasoning about high-level algorithms. For example, Qualtran includes a reference implementation of modular exponentiation (the limiting operation for Shor's factoring)"
   ]
  },
  {
   "cell_type": "code",
   "execution_count": 34,
   "id": "f5fd2783",
   "metadata": {
    "id": "f5fd2783"
   },
   "outputs": [
    {
     "data": {
      "image/svg+xml": [
       "<svg xmlns=\"http://www.w3.org/2000/svg\" xmlns:xlink=\"http://www.w3.org/1999/xlink\" width=\"321pt\" height=\"98pt\" viewBox=\"0.00 0.00 321.00 98.00\">\n",
       "<g id=\"graph0\" class=\"graph\" transform=\"scale(1 1) rotate(0) translate(4 94)\">\n",
       "<title>my_graph</title>\n",
       "<polygon fill=\"white\" stroke=\"transparent\" points=\"-4,4 -4,-94 317,-94 317,4 -4,4\"/>\n",
       "<!-- exponent_G4 -->\n",
       "<g id=\"node1\" class=\"node\">\n",
       "<title>exponent_G4</title>\n",
       "<text text-anchor=\"middle\" x=\"41.5\" y=\"-52.3\" font-family=\"Times,serif\" font-size=\"14.00\">exponent</text>\n",
       "</g>\n",
       "<!-- ModExp -->\n",
       "<g id=\"node2\" class=\"node\">\n",
       "<title>ModExp</title>\n",
       "<polygon fill=\"none\" stroke=\"black\" points=\"120.5,-66 120.5,-83 193.5,-83 193.5,-66 120.5,-66\"/>\n",
       "<text text-anchor=\"start\" x=\"135\" y=\"-72\" font-family=\"Times,serif\" font-size=\"10.00\">ModExp</text>\n",
       "<polygon fill=\"none\" stroke=\"black\" points=\"120.5,-45 120.5,-66 193.5,-66 193.5,-45 120.5,-45\"/>\n",
       "<text text-anchor=\"start\" x=\"123.5\" y=\"-51.8\" font-family=\"Times,serif\" font-size=\"14.00\">exponent</text>\n",
       "<polygon fill=\"none\" stroke=\"black\" points=\"120.5,-24 120.5,-45 152.5,-45 152.5,-24 120.5,-24\"/>\n",
       "<polygon fill=\"none\" stroke=\"black\" points=\"152.5,-24 152.5,-45 193.5,-45 193.5,-24 152.5,-24\"/>\n",
       "<text text-anchor=\"start\" x=\"168.5\" y=\"-30.8\" font-family=\"Times,serif\" font-size=\"14.00\">x</text>\n",
       "</g>\n",
       "<!-- exponent_G4&#45;&gt;ModExp -->\n",
       "<g id=\"edge1\" class=\"edge\">\n",
       "<title>exponent_G4:e-&gt;ModExp:w</title>\n",
       "<path fill=\"none\" stroke=\"black\" d=\"M83,-56C98.67,-56 103.14,-56 117.77,-56\"/>\n",
       "<ellipse fill=\"black\" stroke=\"black\" cx=\"119\" cy=\"-56\" rx=\"1\" ry=\"1\"/>\n",
       "<text text-anchor=\"middle\" x=\"101.5\" y=\"-59\" font-family=\"Times,serif\" font-size=\"10.00\">3</text>\n",
       "</g>\n",
       "<!-- exponent_G0 -->\n",
       "<g id=\"node3\" class=\"node\">\n",
       "<title>exponent_G0</title>\n",
       "<text text-anchor=\"middle\" x=\"271.5\" y=\"-68.3\" font-family=\"Times,serif\" font-size=\"14.00\">exponent</text>\n",
       "</g>\n",
       "<!-- ModExp&#45;&gt;exponent_G0 -->\n",
       "<g id=\"edge2\" class=\"edge\">\n",
       "<title>ModExp:e-&gt;exponent_G0:w</title>\n",
       "<path fill=\"none\" stroke=\"black\" d=\"M193,-56C210.22,-56 211.97,-70.77 227.98,-71.93\"/>\n",
       "<ellipse fill=\"black\" stroke=\"black\" cx=\"229\" cy=\"-71.96\" rx=\"1\" ry=\"1\"/>\n",
       "<text text-anchor=\"middle\" x=\"211.5\" y=\"-67\" font-family=\"Times,serif\" font-size=\"10.00\">3</text>\n",
       "</g>\n",
       "<!-- x_G2 -->\n",
       "<g id=\"node4\" class=\"node\">\n",
       "<title>x_G2</title>\n",
       "<text text-anchor=\"middle\" x=\"271.5\" y=\"-14.3\" font-family=\"Times,serif\" font-size=\"14.00\">x</text>\n",
       "</g>\n",
       "<!-- ModExp&#45;&gt;x_G2 -->\n",
       "<g id=\"edge3\" class=\"edge\">\n",
       "<title>ModExp:e-&gt;x_G2:w</title>\n",
       "<path fill=\"none\" stroke=\"black\" d=\"M193,-34C215.81,-34 219.72,-18.98 241.35,-18.05\"/>\n",
       "<ellipse fill=\"black\" stroke=\"black\" cx=\"242.5\" cy=\"-18.02\" rx=\"1\" ry=\"1\"/>\n",
       "<text text-anchor=\"middle\" x=\"211.5\" y=\"-33\" font-family=\"Times,serif\" font-size=\"10.00\">1024</text>\n",
       "</g>\n",
       "</g>\n",
       "</svg>"
      ],
      "text/plain": [
       "<IPython.core.display.SVG object>"
      ]
     },
     "metadata": {},
     "output_type": "display_data"
    }
   ],
   "source": [
    "from qualtran.bloqs.factoring import ModExp\n",
    "\n",
    "mod_exp = ModExp(base=8, mod=13*17, exp_bitsize=3, x_bitsize=1024)\n",
    "show_bloq(mod_exp)"
   ]
  },
  {
   "cell_type": "markdown",
   "id": "e6ff4cfd",
   "metadata": {
    "id": "e6ff4cfd"
   },
   "source": [
    "High-level bloqs should be defined in terms of only-slightly-less high-level bloqs to keep each step of the decomposition understandable. The `ModExp` bloq's decomposition is:"
   ]
  },
  {
   "cell_type": "code",
   "execution_count": 35,
   "id": "7f5bf452",
   "metadata": {
    "id": "7f5bf452"
   },
   "outputs": [],
   "source": [
    "def build_composite_bloq(self, bb: 'BloqBuilder', exponent: 'SoquetT') -> Dict[str, 'SoquetT']:\n",
    "    x = bb.add(IntState(val=1, bitsize=self.x_bitsize))\n",
    "    exponent = bb.split(exponent)\n",
    "\n",
    "    # https://en.wikipedia.org/wiki/Modular_exponentiation#Right-to-left_binary_method\n",
    "    base = self.base\n",
    "    for j in range(self.exp_bitsize - 1, 0 - 1, -1):\n",
    "        exponent[j], x = bb.add(self._CtrlModMul(k=base), ctrl=exponent[j], x=x)\n",
    "        base = base * base % self.mod\n",
    "\n",
    "    return {'exponent': bb.join(exponent), 'x': x}"
   ]
  },
  {
   "cell_type": "markdown",
   "id": "5a17bad6",
   "metadata": {
    "id": "5a17bad6"
   },
   "source": [
    "In addition to decomposing and visualizing, we can use other protocols to query properties of the bloq or test its correctness."
   ]
  },
  {
   "cell_type": "code",
   "execution_count": 36,
   "id": "c2268b3c",
   "metadata": {
    "id": "c2268b3c"
   },
   "outputs": [
    {
     "data": {
      "image/svg+xml": [
       "<svg xmlns=\"http://www.w3.org/2000/svg\" xmlns:xlink=\"http://www.w3.org/1999/xlink\" width=\"662pt\" height=\"180pt\" viewBox=\"0.00 0.00 662.00 179.50\">\n",
       "<g id=\"graph0\" class=\"graph\" transform=\"scale(1 1) rotate(0) translate(4 175.5)\">\n",
       "<title>my_graph</title>\n",
       "<polygon fill=\"white\" stroke=\"transparent\" points=\"-4,4 -4,-175.5 658,-175.5 658,4 -4,4\"/>\n",
       "<!-- exponent -->\n",
       "<g id=\"node1\" class=\"node\">\n",
       "<title>exponent</title>\n",
       "<text text-anchor=\"middle\" x=\"41.5\" y=\"-92.3\" font-family=\"Times,serif\" font-size=\"14.00\">exponent</text>\n",
       "</g>\n",
       "<!-- Split -->\n",
       "<g id=\"node4\" class=\"node\">\n",
       "<title>Split</title>\n",
       "<polygon fill=\"none\" stroke=\"black\" points=\"137.5,-105 137.5,-111 149.5,-111 149.5,-105 137.5,-105\"/>\n",
       "<polygon fill=\"none\" stroke=\"black\" points=\"137.5,-87 137.5,-105 143.5,-105 143.5,-87 137.5,-87\"/>\n",
       "<polygon fill=\"none\" stroke=\"black\" points=\"143.5,-99 143.5,-105 149.5,-105 149.5,-99 143.5,-99\"/>\n",
       "<polygon fill=\"none\" stroke=\"black\" points=\"143.5,-93 143.5,-99 149.5,-99 149.5,-93 143.5,-93\"/>\n",
       "<polygon fill=\"none\" stroke=\"black\" points=\"143.5,-87 143.5,-93 149.5,-93 149.5,-87 143.5,-87\"/>\n",
       "</g>\n",
       "<!-- exponent&#45;&gt;Split -->\n",
       "<g id=\"edge1\" class=\"edge\">\n",
       "<title>exponent:e-&gt;Split:w</title>\n",
       "<path fill=\"none\" stroke=\"black\" d=\"M83,-96C106.03,-96 112.33,-96 134.32,-96\"/>\n",
       "<ellipse fill=\"black\" stroke=\"black\" cx=\"135.5\" cy=\"-96\" rx=\"1\" ry=\"1\"/>\n",
       "<text text-anchor=\"middle\" x=\"101.5\" y=\"-99\" font-family=\"Times,serif\" font-size=\"10.00\">3</text>\n",
       "</g>\n",
       "<!-- Join -->\n",
       "<g id=\"node2\" class=\"node\">\n",
       "<title>Join</title>\n",
       "<polygon fill=\"none\" stroke=\"black\" points=\"522,-69 522,-75 534,-75 534,-69 522,-69\"/>\n",
       "<polygon fill=\"none\" stroke=\"black\" points=\"522,-63 522,-69 528,-69 528,-63 522,-63\"/>\n",
       "<polygon fill=\"none\" stroke=\"black\" points=\"528,-51 528,-69 534,-69 534,-51 528,-51\"/>\n",
       "<polygon fill=\"none\" stroke=\"black\" points=\"522,-57 522,-63 528,-63 528,-57 522,-57\"/>\n",
       "<polygon fill=\"none\" stroke=\"black\" points=\"522,-51 522,-57 528,-57 528,-51 522,-51\"/>\n",
       "</g>\n",
       "<!-- exponent_G22 -->\n",
       "<g id=\"node8\" class=\"node\">\n",
       "<title>exponent_G22</title>\n",
       "<text text-anchor=\"middle\" x=\"612.5\" y=\"-55.3\" font-family=\"Times,serif\" font-size=\"14.00\">exponent</text>\n",
       "</g>\n",
       "<!-- Join&#45;&gt;exponent_G22 -->\n",
       "<g id=\"edge11\" class=\"edge\">\n",
       "<title>Join:e-&gt;exponent_G22:w</title>\n",
       "<path fill=\"none\" stroke=\"black\" d=\"M534,-60C549.68,-60 554.14,-59.09 568.77,-59.01\"/>\n",
       "<ellipse fill=\"black\" stroke=\"black\" cx=\"570\" cy=\"-59\" rx=\"1\" ry=\"1\"/>\n",
       "<text text-anchor=\"middle\" x=\"552.5\" y=\"-62\" font-family=\"Times,serif\" font-size=\"10.00\">3</text>\n",
       "</g>\n",
       "<!-- IntState -->\n",
       "<g id=\"node3\" class=\"node\">\n",
       "<title>IntState</title>\n",
       "<polygon fill=\"none\" stroke=\"black\" points=\"120.5,-21 120.5,-38 167.5,-38 167.5,-21 120.5,-21\"/>\n",
       "<text text-anchor=\"start\" x=\"123.5\" y=\"-27\" font-family=\"Times,serif\" font-size=\"10.00\">IntState</text>\n",
       "<polygon fill=\"none\" stroke=\"black\" points=\"120.5,0 120.5,-21 132.5,-21 132.5,0 120.5,0\"/>\n",
       "<polygon fill=\"none\" stroke=\"black\" points=\"132.5,0 132.5,-21 167.5,-21 167.5,0 132.5,0\"/>\n",
       "<text text-anchor=\"start\" x=\"139\" y=\"-6.8\" font-family=\"Times,serif\" font-size=\"14.00\">val</text>\n",
       "</g>\n",
       "<!-- CtrlModMul -->\n",
       "<g id=\"node5\" class=\"node\">\n",
       "<title>CtrlModMul</title>\n",
       "<polygon fill=\"none\" stroke=\"black\" points=\"204.5,-42 204.5,-59 273.5,-59 273.5,-42 204.5,-42\"/>\n",
       "<text text-anchor=\"start\" x=\"207.5\" y=\"-48\" font-family=\"Times,serif\" font-size=\"10.00\">CtrlModMul</text>\n",
       "<polygon fill=\"none\" stroke=\"black\" points=\"204.5,-21 204.5,-42 273.5,-42 273.5,-21 204.5,-21\"/>\n",
       "<text text-anchor=\"start\" x=\"226.5\" y=\"-27.8\" font-family=\"Times,serif\" font-size=\"14.00\">ctrl</text>\n",
       "<polygon fill=\"none\" stroke=\"black\" points=\"204.5,0 204.5,-21 273.5,-21 273.5,0 204.5,0\"/>\n",
       "<text text-anchor=\"start\" x=\"234.5\" y=\"-6.8\" font-family=\"Times,serif\" font-size=\"14.00\">x</text>\n",
       "</g>\n",
       "<!-- IntState&#45;&gt;CtrlModMul -->\n",
       "<g id=\"edge3\" class=\"edge\">\n",
       "<title>IntState:e-&gt;CtrlModMul:w</title>\n",
       "<path fill=\"none\" stroke=\"black\" d=\"M167,-10C182.67,-10 187.14,-10 201.77,-10\"/>\n",
       "<ellipse fill=\"black\" stroke=\"black\" cx=\"203\" cy=\"-10\" rx=\"1\" ry=\"1\"/>\n",
       "<text text-anchor=\"middle\" x=\"185.5\" y=\"-13\" font-family=\"Times,serif\" font-size=\"10.00\">1024</text>\n",
       "</g>\n",
       "<!-- Split&#45;&gt;CtrlModMul -->\n",
       "<g id=\"edge2\" class=\"edge\">\n",
       "<title>Split:e-&gt;CtrlModMul:w</title>\n",
       "<path fill=\"none\" stroke=\"black\" d=\"M150.5,-90C184.75,-90 169.68,-34.69 201.62,-32.09\"/>\n",
       "<ellipse fill=\"black\" stroke=\"black\" cx=\"203\" cy=\"-32.04\" rx=\"1\" ry=\"1\"/>\n",
       "<text text-anchor=\"middle\" x=\"185.5\" y=\"-45\" font-family=\"Times,serif\" font-size=\"10.00\">1</text>\n",
       "</g>\n",
       "<!-- CtrlModMul_G1 -->\n",
       "<g id=\"node6\" class=\"node\">\n",
       "<title>CtrlModMul_G1</title>\n",
       "<polygon fill=\"none\" stroke=\"black\" points=\"416.5,-154 416.5,-171 485.5,-171 485.5,-154 416.5,-154\"/>\n",
       "<text text-anchor=\"start\" x=\"419.5\" y=\"-160\" font-family=\"Times,serif\" font-size=\"10.00\">CtrlModMul</text>\n",
       "<polygon fill=\"none\" stroke=\"black\" points=\"416.5,-133 416.5,-154 485.5,-154 485.5,-133 416.5,-133\"/>\n",
       "<text text-anchor=\"start\" x=\"438.5\" y=\"-139.8\" font-family=\"Times,serif\" font-size=\"14.00\">ctrl</text>\n",
       "<polygon fill=\"none\" stroke=\"black\" points=\"416.5,-112 416.5,-133 485.5,-133 485.5,-112 416.5,-112\"/>\n",
       "<text text-anchor=\"start\" x=\"446.5\" y=\"-118.8\" font-family=\"Times,serif\" font-size=\"14.00\">x</text>\n",
       "</g>\n",
       "<!-- Split&#45;&gt;CtrlModMul_G1 -->\n",
       "<g id=\"edge6\" class=\"edge\">\n",
       "<title>Split:e-&gt;CtrlModMul_G1:w</title>\n",
       "<path fill=\"none\" stroke=\"black\" d=\"M150.5,-102C166.15,-102 169.59,-106.27 185,-109 286.55,-126.98 311.82,-143.77 413.88,-144\"/>\n",
       "<ellipse fill=\"black\" stroke=\"black\" cx=\"415\" cy=\"-144\" rx=\"1\" ry=\"1\"/>\n",
       "<text text-anchor=\"middle\" x=\"291.5\" y=\"-134\" font-family=\"Times,serif\" font-size=\"10.00\">1</text>\n",
       "</g>\n",
       "<!-- CtrlModMul_G4 -->\n",
       "<g id=\"node7\" class=\"node\">\n",
       "<title>CtrlModMul_G4</title>\n",
       "<polygon fill=\"none\" stroke=\"black\" points=\"310.5,-100 310.5,-117 379.5,-117 379.5,-100 310.5,-100\"/>\n",
       "<text text-anchor=\"start\" x=\"313.5\" y=\"-106\" font-family=\"Times,serif\" font-size=\"10.00\">CtrlModMul</text>\n",
       "<polygon fill=\"none\" stroke=\"black\" points=\"310.5,-79 310.5,-100 379.5,-100 379.5,-79 310.5,-79\"/>\n",
       "<text text-anchor=\"start\" x=\"332.5\" y=\"-85.8\" font-family=\"Times,serif\" font-size=\"14.00\">ctrl</text>\n",
       "<polygon fill=\"none\" stroke=\"black\" points=\"310.5,-58 310.5,-79 379.5,-79 379.5,-58 310.5,-58\"/>\n",
       "<text text-anchor=\"start\" x=\"340.5\" y=\"-64.8\" font-family=\"Times,serif\" font-size=\"14.00\">x</text>\n",
       "</g>\n",
       "<!-- Split&#45;&gt;CtrlModMul_G4 -->\n",
       "<g id=\"edge4\" class=\"edge\">\n",
       "<title>Split:e-&gt;CtrlModMul_G4:w</title>\n",
       "<path fill=\"none\" stroke=\"black\" d=\"M150.5,-96C220.75,-96 238.71,-90.12 307.94,-90\"/>\n",
       "<ellipse fill=\"black\" stroke=\"black\" cx=\"309\" cy=\"-90\" rx=\"1\" ry=\"1\"/>\n",
       "<text text-anchor=\"middle\" x=\"238.5\" y=\"-97\" font-family=\"Times,serif\" font-size=\"10.00\">1</text>\n",
       "</g>\n",
       "<!-- CtrlModMul&#45;&gt;Join -->\n",
       "<g id=\"edge10\" class=\"edge\">\n",
       "<title>CtrlModMul:e-&gt;Join:w</title>\n",
       "<path fill=\"none\" stroke=\"black\" d=\"M273,-32C383.34,-32 410.53,-53.7 519.73,-54\"/>\n",
       "<ellipse fill=\"black\" stroke=\"black\" cx=\"521\" cy=\"-54\" rx=\"1\" ry=\"1\"/>\n",
       "<text text-anchor=\"middle\" x=\"397.5\" y=\"-47\" font-family=\"Times,serif\" font-size=\"10.00\">1</text>\n",
       "</g>\n",
       "<!-- CtrlModMul&#45;&gt;CtrlModMul_G4 -->\n",
       "<g id=\"edge5\" class=\"edge\">\n",
       "<title>CtrlModMul:e-&gt;CtrlModMul_G4:w</title>\n",
       "<path fill=\"none\" stroke=\"black\" d=\"M273,-10C302.86,-10 280.53,-65.31 307.94,-67.91\"/>\n",
       "<ellipse fill=\"black\" stroke=\"black\" cx=\"309\" cy=\"-67.95\" rx=\"1\" ry=\"1\"/>\n",
       "<text text-anchor=\"middle\" x=\"291.5\" y=\"-46\" font-family=\"Times,serif\" font-size=\"10.00\">1024</text>\n",
       "</g>\n",
       "<!-- CtrlModMul_G1&#45;&gt;Join -->\n",
       "<g id=\"edge8\" class=\"edge\">\n",
       "<title>CtrlModMul_G1:e-&gt;Join:w</title>\n",
       "<path fill=\"none\" stroke=\"black\" d=\"M485,-144C503.44,-144 502.89,-71.97 519.84,-66.35\"/>\n",
       "<ellipse fill=\"black\" stroke=\"black\" cx=\"521.01\" cy=\"-66.16\" rx=\"1\" ry=\"1\"/>\n",
       "<text text-anchor=\"middle\" x=\"503.5\" y=\"-108\" font-family=\"Times,serif\" font-size=\"10.00\">1</text>\n",
       "</g>\n",
       "<!-- x_G9 -->\n",
       "<g id=\"node9\" class=\"node\">\n",
       "<title>x_G9</title>\n",
       "<text text-anchor=\"middle\" x=\"612.5\" y=\"-109.3\" font-family=\"Times,serif\" font-size=\"14.00\">x</text>\n",
       "</g>\n",
       "<!-- CtrlModMul_G1&#45;&gt;x_G9 -->\n",
       "<g id=\"edge12\" class=\"edge\">\n",
       "<title>CtrlModMul_G1:e-&gt;x_G9:w</title>\n",
       "<path fill=\"none\" stroke=\"black\" d=\"M485,-122C528.71,-122 539.75,-113.28 582.44,-113.01\"/>\n",
       "<ellipse fill=\"black\" stroke=\"black\" cx=\"583.5\" cy=\"-113\" rx=\"1\" ry=\"1\"/>\n",
       "<text text-anchor=\"middle\" x=\"528\" y=\"-122\" font-family=\"Times,serif\" font-size=\"10.00\">1024</text>\n",
       "</g>\n",
       "<!-- CtrlModMul_G4&#45;&gt;Join -->\n",
       "<g id=\"edge9\" class=\"edge\">\n",
       "<title>CtrlModMul_G4:e-&gt;Join:w</title>\n",
       "<path fill=\"none\" stroke=\"black\" d=\"M379,-90C443.18,-90 456.75,-60.7 519.74,-60.01\"/>\n",
       "<ellipse fill=\"black\" stroke=\"black\" cx=\"521\" cy=\"-60.01\" rx=\"1\" ry=\"1\"/>\n",
       "<text text-anchor=\"middle\" x=\"450.5\" y=\"-88\" font-family=\"Times,serif\" font-size=\"10.00\">1</text>\n",
       "</g>\n",
       "<!-- CtrlModMul_G4&#45;&gt;CtrlModMul_G1 -->\n",
       "<g id=\"edge7\" class=\"edge\">\n",
       "<title>CtrlModMul_G4:e-&gt;CtrlModMul_G1:w</title>\n",
       "<path fill=\"none\" stroke=\"black\" d=\"M379,-68C407.3,-68 388.03,-119.09 413.72,-121.88\"/>\n",
       "<ellipse fill=\"black\" stroke=\"black\" cx=\"415\" cy=\"-121.95\" rx=\"1\" ry=\"1\"/>\n",
       "<text text-anchor=\"middle\" x=\"397.5\" y=\"-101\" font-family=\"Times,serif\" font-size=\"10.00\">1024</text>\n",
       "</g>\n",
       "</g>\n",
       "</svg>"
      ],
      "text/plain": [
       "<IPython.core.display.SVG object>"
      ]
     },
     "metadata": {},
     "output_type": "display_data"
    }
   ],
   "source": [
    "show_bloq(mod_exp.decompose_bloq())"
   ]
  },
  {
   "cell_type": "markdown",
   "id": "bXLZlrlLaqvc",
   "metadata": {
    "id": "bXLZlrlLaqvc"
   },
   "source": []
  }
 ],
 "metadata": {
  "colab": {
   "provenance": []
  },
  "kernelspec": {
   "display_name": "Python 3 (ipykernel)",
   "language": "python",
   "name": "python3"
  },
  "language_info": {
   "codemirror_mode": {
    "name": "ipython",
    "version": 3
   },
   "file_extension": ".py",
   "mimetype": "text/x-python",
   "name": "python",
   "nbconvert_exporter": "python",
   "pygments_lexer": "ipython3",
   "version": "3.10.12"
  }
 },
 "nbformat": 4,
 "nbformat_minor": 5
}
