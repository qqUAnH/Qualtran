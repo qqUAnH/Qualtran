{
  "cells": [
    {
      "cell_type": "markdown",
      "id": "9640a40f",
      "metadata": {
        "id": "9640a40f"
      },
      "source": [
        "# Bloqs Tutorial\n",
        "\n",
        "Qualtran lets you represent high-level quantum programs and subroutines as a hierarchical\n",
        "collection of Python objects. The main interface is the `Bloq` abstract base class."
      ]
    },
    {
      "cell_type": "code",
      "execution_count": null,
      "id": "37c9b7ce",
      "metadata": {
        "id": "37c9b7ce"
      },
      "outputs": [],
      "source": [
        "import abc\n",
        "from typing import *\n",
        "\n",
        "\n",
        "class Bloq(metaclass=abc.ABCMeta):\n",
        "    ..."
      ]
    },
    {
      "cell_type": "markdown",
      "id": "d4169ffa",
      "metadata": {
        "id": "d4169ffa"
      },
      "source": [
        "We use a graph-like container to wire up collections of bloqs to define new bloqs.\n",
        "\n",
        "By the end of this tutorial, you should understand how to declare bloqs, wire them up, use named registers, use high-bitsize registers, use 'bookkeeping' operations to split and join wires, represent allocations as operations in the graph, and use linear logic to prevent violations of the no cloning theorem."
      ]
    },
    {
      "cell_type": "markdown",
      "id": "7a3d76e5",
      "metadata": {
        "id": "7a3d76e5"
      },
      "source": [
        "## Basics\n",
        "\n",
        "There are two important flavors of implementations of the `Bloq` interface. The first flavor\n",
        "consists of bloqs implemented by you, the user-developer to express quantum operations of\n",
        "interest. For example:\n"
      ]
    },
    {
      "cell_type": "code",
      "execution_count": null,
      "id": "4aaf9451",
      "metadata": {
        "id": "4aaf9451"
      },
      "outputs": [],
      "source": [
        "class ShorsAlgorithm(Bloq):\n",
        "    ..."
      ]
    },
    {
      "cell_type": "markdown",
      "id": "9b504f60",
      "metadata": {
        "id": "9b504f60"
      },
      "source": [
        "The other important `Bloq` subclass is `CompositeBloq`, which is a container type for a\n",
        "collection of sub-bloqs. We'll investigate this class more later. First, let's define a\n",
        "bloq for a simple quantum operation: the controlled-not (CNOT)."
      ]
    },
    {
      "cell_type": "code",
      "execution_count": null,
      "id": "114b1560",
      "metadata": {
        "id": "114b1560"
      },
      "outputs": [],
      "source": [
        "class CNOT(Bloq):\n",
        "    ..."
      ]
    },
    {
      "cell_type": "markdown",
      "id": "c632807b",
      "metadata": {
        "id": "c632807b"
      },
      "source": [
        "There is only one mandatory method we must implement to have a well-formed `Bloq`.\n",
        "\n",
        "The mandatory method is the `Bloq.signature` property. This declares what the inputs and\n",
        "outputs are for our bloq, and is a list of registers. A register has a name and quantum-type\n",
        "information. By default, a register declares both an input and an output allowing quantum\n",
        "data to pass through it, like the \"control\" register below. We call these `THRU` registers.\n"
      ]
    },
    {
      "cell_type": "code",
      "execution_count": null,
      "id": "22d8749d",
      "metadata": {
        "id": "22d8749d",
        "colab": {
          "base_uri": "https://localhost:8080/",
          "height": 351
        },
        "outputId": "b4764180-e624-4579-9e94-f7dc277f374b"
      },
      "outputs": [
        {
          "output_type": "error",
          "ename": "ModuleNotFoundError",
          "evalue": "No module named 'qualtran'",
          "traceback": [
            "\u001b[0;31m---------------------------------------------------------------------------\u001b[0m",
            "\u001b[0;31mModuleNotFoundError\u001b[0m                       Traceback (most recent call last)",
            "\u001b[0;32m<ipython-input-4-f9cad1b71efc>\u001b[0m in \u001b[0;36m<cell line: 1>\u001b[0;34m()\u001b[0m\n\u001b[0;32m----> 1\u001b[0;31m \u001b[0;32mfrom\u001b[0m \u001b[0mqualtran\u001b[0m \u001b[0;32mimport\u001b[0m \u001b[0mRegister\u001b[0m\u001b[0;34m,\u001b[0m \u001b[0mQBit\u001b[0m\u001b[0;34m\u001b[0m\u001b[0;34m\u001b[0m\u001b[0m\n\u001b[0m\u001b[1;32m      2\u001b[0m \u001b[0;34m\u001b[0m\u001b[0m\n\u001b[1;32m      3\u001b[0m \u001b[0mRegister\u001b[0m\u001b[0;34m(\u001b[0m\u001b[0;34m'control'\u001b[0m\u001b[0;34m,\u001b[0m \u001b[0mQBit\u001b[0m\u001b[0;34m(\u001b[0m\u001b[0;34m)\u001b[0m\u001b[0;34m)\u001b[0m\u001b[0;34m\u001b[0m\u001b[0;34m\u001b[0m\u001b[0m\n",
            "\u001b[0;31mModuleNotFoundError\u001b[0m: No module named 'qualtran'",
            "",
            "\u001b[0;31m---------------------------------------------------------------------------\u001b[0;32m\nNOTE: If your import is failing due to a missing package, you can\nmanually install dependencies using either !pip or !apt.\n\nTo view examples of installing some common dependencies, click the\n\"Open Examples\" button below.\n\u001b[0;31m---------------------------------------------------------------------------\u001b[0m\n"
          ],
          "errorDetails": {
            "actions": [
              {
                "action": "open_url",
                "actionText": "Open Examples",
                "url": "/notebooks/snippets/importing_libraries.ipynb"
              }
            ]
          }
        }
      ],
      "source": [
        "from qualtran import Register, QBit\n",
        "\n",
        "Register('control', QBit())"
      ]
    },
    {
      "cell_type": "markdown",
      "id": "11e163ca",
      "metadata": {
        "id": "11e163ca"
      },
      "source": [
        "\n",
        "\n",
        "The above code declares a register named \"control\" with the quantum data type `Qbit()`, representing a single qubit. We also return this along with a register for the \"target\" input/output of the CNOT bloq wrapped in the `Signature` container.\n",
        "\n",
        "<div class=\"alert alert-block alert-info\">The `attrs.frozen` annotation removes some of the boilerplate to write an immutable Python class with a pre-defined set of attributes.</div>"
      ]
    },
    {
      "cell_type": "code",
      "execution_count": null,
      "id": "34a159c4",
      "metadata": {
        "id": "34a159c4"
      },
      "outputs": [],
      "source": [
        "import attrs\n",
        "from qualtran import Bloq, Signature\n",
        "\n",
        "@attrs.frozen\n",
        "class CNOT(Bloq):\n",
        "    @property\n",
        "    def signature(self):\n",
        "        return Signature([\n",
        "            Register('control', QBit()),\n",
        "            Register('target', QBit()),\n",
        "        ])"
      ]
    },
    {
      "cell_type": "markdown",
      "id": "8533a7f5",
      "metadata": {
        "id": "8533a7f5"
      },
      "source": [
        "We now have a well-formed bloq. We can instantiate it and visualize it."
      ]
    },
    {
      "cell_type": "code",
      "execution_count": null,
      "id": "5cec9aff",
      "metadata": {
        "id": "5cec9aff"
      },
      "outputs": [],
      "source": [
        "from qualtran.drawing import show_bloq\n",
        "\n",
        "cnot = CNOT()\n",
        "show_bloq(cnot)"
      ]
    },
    {
      "cell_type": "markdown",
      "id": "da9baea0",
      "metadata": {
        "id": "da9baea0"
      },
      "source": [
        "This is the absolute minimum amount of information needed to define a Bloq: a name (i.e.\n",
        "the class name) and a `signature` property.\n",
        "The `Bloq.signature` property can be thought of as analogous\n",
        "to the function signature in ordinary programming. You can think of a bloq\n",
        "with just this property implemented like a function\n",
        "declarations in a C header (`*.h`) file.\n",
        "\n",
        "\n",
        "\n",
        "```\n",
        "void CNOT(Qbit* control, Qbit* target);\n",
        "```\n",
        "\n",
        "\n"
      ]
    },
    {
      "cell_type": "markdown",
      "source": [
        "\n",
        " <div class=\"alert alert-block alert-warning\">If you're familiar with Cirq, you can consider\n",
        "a `cirq.Gate` to be analogous to a `Bloq` with one register named \"qubits\" of size `n`. In\n",
        "fact, `CirqGateAsBloq` lets you wrap any Cirq gate in\n",
        "this way.</div>"
      ],
      "metadata": {
        "id": "ypBCB5OuGw7w"
      },
      "id": "ypBCB5OuGw7w"
    },
    {
      "cell_type": "markdown",
      "source": [
        "There are many other methods we can optionally implement to encode more information about the bloq. The code below is an abbreviated implementation of the CNOT gate in the Qualtran source code. We will examine each method in detail in another tutorial. The main idea is that new methods can be added to the bloq as we progress.\n",
        "\n",
        "\n",
        "```\n",
        "class CNOT(Bloq):\n",
        "    \"\"\"Two-qubit controlled-NOT.\n",
        "\n",
        "    Registers:\n",
        "        ctrl: One-bit control register.\n",
        "        target: One-bit target register.\n",
        "    \"\"\"\n",
        "\n",
        "    @cached_property\n",
        "    def signature(self) -> 'Signature':\n",
        "        return Signature.build(ctrl=1, target=1)\n",
        "\n",
        "    def decompose_bloq(self) -> 'CompositeBloq':\n",
        "        raise DecomposeTypeError(f\"{self} is atomic\")\n",
        "\n",
        "    def adjoint(self) -> 'Bloq':\n",
        "        return self\n",
        "\n",
        "    def add_my_tensors( ...\n",
        "        )\n",
        "\n",
        "    def on_classical_vals(self, ctrl: int, target: int) -> Dict[str, 'ClassicalValT']:\n",
        "        return {'ctrl': ctrl, 'target': (ctrl + target) % 2}\n",
        "\n",
        "    def get_ctrl_system(\n",
        "        return super().get_ctrl_system(ctrl_spec=ctrl_spec)\n",
        "\n",
        "    def as_cirq_op(\n",
        "        return cirq.CNOT(ctrl, target), {'ctrl': np.array([ctrl]), 'target': np.array([target])}\n",
        "\n",
        "    def wire_symbol(self, reg: Optional[Register], idx: Tuple[int, ...] = tuple()) -> 'WireSymbol':\n",
        "        raise ValueError(f'Unknown wire symbol register name: {reg.name}')\n",
        "\n",
        "    def _t_complexity_(self) -> 'TComplexity':\n",
        "        return TComplexity(clifford=1)\n",
        "\n",
        "```\n",
        "\n"
      ],
      "metadata": {
        "id": "CfkXHAFzGMUU"
      },
      "id": "CfkXHAFzGMUU"
    },
    {
      "cell_type": "markdown",
      "id": "9b36a23d",
      "metadata": {
        "id": "9b36a23d"
      },
      "source": [
        "## Decomposing Bloqs\n",
        "\n",
        "As you can probably guess, such a simple block-box model of an operation has limited utility.\n",
        "We now turn our attention to a second bloq: SWAP -- which we will define in terms of its\n",
        "decomposition into three CNOTs."
      ]
    },
    {
      "cell_type": "code",
      "execution_count": null,
      "id": "c2bf35bf",
      "metadata": {
        "id": "c2bf35bf"
      },
      "outputs": [],
      "source": [
        "class SwapTwoBits(Bloq):\n",
        "    ..."
      ]
    },
    {
      "cell_type": "markdown",
      "id": "1bdf983c",
      "metadata": {
        "id": "1bdf983c"
      },
      "source": [
        "As before, we must define the function signature by naming and sizing the registers on\n",
        "which it operates. We'll implement a bloq that swaps two (qu)bits. We'll name the arguments\n",
        "`x` and `y`, but you have some creative freedom with these choices. <div class=\"alert alert-block alert-info\">We've been filling in the `name` and `bitsize`\n",
        "attributes for our registers. The other two attributes are for more advanced usage and\n",
        "will be covered later. In simple cases, we could use the convenience method\n",
        "`Signature.build(x=1, y=1)` for the same object below.</div>"
      ]
    },
    {
      "cell_type": "code",
      "execution_count": null,
      "id": "9e548b5f",
      "metadata": {
        "id": "9e548b5f"
      },
      "outputs": [],
      "source": [
        "class SwapTwoBits(Bloq):\n",
        "    @property\n",
        "    def signature(self):\n",
        "        return Signature([\n",
        "            Register('x', QBit()),\n",
        "            Register('y', QBit()),\n",
        "        ])"
      ]
    },
    {
      "cell_type": "markdown",
      "id": "54bf8781",
      "metadata": {
        "id": "54bf8781"
      },
      "source": [
        "Now, for the moment you've been waiting for. We can define the implementation of SWAP in terms\n",
        "of sub-operations. `Bloq.decompose_bloq()` will decompose a bloq into its component parts.\n",
        "The return type of this operation is `CompositeBloq` -- our bloq container type which itself\n",
        "follows the `Bloq` interface.\n",
        "\n",
        "Instead of overriding `decompose_bloq()` directly, we override `build_composite_bloq`, which\n",
        "makes it easier for you, the user-developer, to write decompositions."
      ]
    },
    {
      "cell_type": "code",
      "execution_count": null,
      "id": "305ad1ed",
      "metadata": {
        "id": "305ad1ed"
      },
      "outputs": [],
      "source": [
        "from qualtran import BloqBuilder\n",
        "\n",
        "class SwapTwoBits(Bloq):\n",
        "    ...\n",
        "\n",
        "    def build_composite_bloq(self, bb: BloqBuilder, *, x, y):\n",
        "        ..."
      ]
    },
    {
      "cell_type": "markdown",
      "id": "dfdfc199",
      "metadata": {
        "id": "dfdfc199"
      },
      "source": [
        "The bloqs infrastructure will pass in keyword arguments for each of the input registers,\n",
        "here `x` and `y`. I stress that these names must match the names of the registers declared\n",
        "in the `.signatures` property. The infrastructure also passes in a `BloqBuilder`\n",
        "which is what you will use to add suboperations to the composite bloq storing your\n",
        "decomposition.\n",
        "\n",
        "We use `bb.add(...)` to add sub-operations. For our swap operation, we will need to call\n",
        "`add` three times for each of the CNOTs. The signature is: `bb.add(bloq, **bloq_args)` where\n",
        "the first argument is an instantiation of the bloq we want to add, and then keyword arguments\n",
        "providing the input quantum variables. This call will return quantum variables representing\n",
        "the outputs of the operation that are suitable for using as inputs to subsequent operations.\n",
        "\n",
        "The method returns a dictionary mapping (output) register names to the final quantum variables."
      ]
    },
    {
      "cell_type": "code",
      "execution_count": null,
      "id": "1b2af153",
      "metadata": {
        "id": "1b2af153"
      },
      "outputs": [],
      "source": [
        "class SwapTwoBits(Bloq):\n",
        "    @property\n",
        "    def signature(self):\n",
        "        return Signature([\n",
        "            Register('x', QBit()),\n",
        "            Register('y', QBit()),\n",
        "        ])\n",
        "\n",
        "    def build_composite_bloq(self, bb: BloqBuilder, *, x, y):\n",
        "        x, y = bb.add(CNOT(), control=x, target=y)\n",
        "        y, x = bb.add(CNOT(), control=y, target=x)\n",
        "        x, y = bb.add(CNOT(), control=x, target=y)\n",
        "        return {'x': x, 'y': y}"
      ]
    },
    {
      "cell_type": "markdown",
      "id": "9ade0bc3",
      "metadata": {
        "id": "9ade0bc3"
      },
      "source": [
        "Note that each CNOT operation takes two arguments named \"control\" and \"target\" and returns\n",
        "two quantum variables which are ordered according to the ordering of the registers\n",
        "in `CNOT.signature` (so in this case: control, target).\n",
        "\n",
        "Let's see what this looks like."
      ]
    },
    {
      "cell_type": "code",
      "execution_count": null,
      "id": "676dddd5",
      "metadata": {
        "id": "676dddd5"
      },
      "outputs": [],
      "source": [
        "swap = SwapTwoBits()\n",
        "show_bloq(swap)"
      ]
    },
    {
      "cell_type": "markdown",
      "id": "87172163",
      "metadata": {
        "id": "87172163"
      },
      "source": [
        "Wait! This is still just a two-bit black box! I thought we defined the bloq by its decomposition.\n",
        "The Bloq object always represents the atomic operation and `CompositeBloq` always represents\n",
        "a collection of sub-operations. We have to explicitly request the decomposition if that's\n",
        "what we want to visualize."
      ]
    },
    {
      "cell_type": "code",
      "execution_count": null,
      "id": "f08bb50b",
      "metadata": {
        "id": "f08bb50b"
      },
      "outputs": [],
      "source": [
        "show_bloq(swap.decompose_bloq())"
      ]
    },
    {
      "cell_type": "markdown",
      "id": "5cf1a3d8",
      "metadata": {
        "id": "5cf1a3d8"
      },
      "source": [
        "### Using `BloqBuilder` directly\n",
        "\n",
        "You can build a standalone `CompositeBloq` (i.e. not as part of the decomposition of\n",
        "another bloq) as well. This can come in handy for testing or prototyping. Simply\n",
        "instantiate a `BloqBuilder`. You need to manually\n",
        "manage your registers with `bb.add_register(...)` and you must finish your building session\n",
        "by calling `bb.finalize(...)` to freeze your composite-bloq-under-construction into an\n",
        "immutable `CompositeBloq`."
      ]
    },
    {
      "cell_type": "code",
      "execution_count": null,
      "id": "d23ab186",
      "metadata": {
        "id": "d23ab186"
      },
      "outputs": [],
      "source": [
        "bb = BloqBuilder()\n",
        "x = bb.add_register('x', 1)\n",
        "y = bb.add_register('y', 1)\n",
        "x, y = bb.add(CNOT(), control=x, target=y)\n",
        "y, x = bb.add(CNOT(), control=y, target=x)\n",
        "x, y = bb.add(CNOT(), control=x, target=y)\n",
        "cbloq = bb.finalize(x=x, y=y)\n",
        "show_bloq(cbloq)"
      ]
    },
    {
      "cell_type": "markdown",
      "id": "a63a9531",
      "metadata": {
        "id": "a63a9531"
      },
      "source": [
        "## Quantum variables and `Soquet`s.\n",
        "\n",
        "What are the types of `x` and `y`? They represent quantum variables used to \"wire up\" sub\n",
        "operations by providing them as inputs and receiving them as outputs during calls to `bb.add`. <div class=\"alert alert-block alert-warning\">If you're familiar with Cirq, you might think\n",
        "that they are equivalent to `cirq.Qubit`s. Whereas a cirq.Circuit has a fixed pool of qubits\n",
        "on which many operations act, these quantum variables follow different rules &mdash; read on!</div>\n",
        "\n",
        "The rules of quantum mechanics makes these quantum variables behave very differently than\n",
        "normal variables. The most salient rules are the no-cloning theorem and its dual, the\n",
        "[no-deleting theorem](https://en.wikipedia.org/wiki/No-deleting_theorem). In the parlance\n",
        "of programming language research, our variables follow \"linear logic\". A linear variable\n",
        "must be used once and only once.\n",
        "\n",
        "The following snippets show improper use of our quantum variables. Luckily, the bloq builder will\n",
        "raise an error if the rules of quantum mechanics are not followed!"
      ]
    },
    {
      "cell_type": "code",
      "execution_count": null,
      "id": "85da3eb7",
      "metadata": {
        "id": "85da3eb7"
      },
      "outputs": [],
      "source": [
        "from qualtran import BloqError\n",
        "\n",
        "bb = BloqBuilder()\n",
        "x = bb.add_register('x', 1)\n",
        "y = bb.add_register('y', 1)\n",
        "\n",
        "try:\n",
        "    _ = bb.add(CNOT(), control=x, target=x)\n",
        "except BloqError as e:\n",
        "    print(\"Can't use a variable as both control and target!\")\n",
        "    print(e)"
      ]
    },
    {
      "cell_type": "code",
      "execution_count": null,
      "id": "cfe23c3e",
      "metadata": {
        "id": "cfe23c3e"
      },
      "outputs": [],
      "source": [
        "bb = BloqBuilder()\n",
        "x = bb.add_register('x', 1)\n",
        "y = bb.add_register('y', 1)\n",
        "x2, y2 = bb.add(CNOT(), control=x, target=y)\n",
        "\n",
        "try:\n",
        "    x3, y3 = bb.add(CNOT(), control=x, target=y)\n",
        "except BloqError as e:\n",
        "    print(\"`x` and `y` were consumed by the first call to `add`.\")\n",
        "    print(\"Returned quantum variables are *new, immutable* variables that you use\")\n",
        "    print(\"in subsequent operations\")\n",
        "    print(e)"
      ]
    },
    {
      "cell_type": "code",
      "execution_count": null,
      "id": "3b07af73",
      "metadata": {
        "id": "3b07af73"
      },
      "outputs": [],
      "source": [
        "bb = BloqBuilder()\n",
        "x = bb.add_register('x', 1)\n",
        "y = bb.add_register('y', 1)\n",
        "\n",
        "# The following line turns on the additional checks needed to\n",
        "# raise an exception in this case:\n",
        "bb.add_register_allowed = False\n",
        "\n",
        "x2, y2 = bb.add(CNOT(), control=x, target=y)\n",
        "x3, y3 = bb.add(CNOT(), control=x2, target=y2)\n",
        "\n",
        "try:\n",
        "    bb.finalize(x=x3)\n",
        "except BloqError as e:\n",
        "    print(\"Any unused variables must be 'passed on' to `finalize` to be outputs.\")\n",
        "    print(e)"
      ]
    },
    {
      "cell_type": "markdown",
      "id": "432b4c75",
      "metadata": {
        "id": "432b4c75"
      },
      "source": [
        "The actual Python type of these objects is `Soquet`, which you will see in type annotations,\n",
        "but you should never instantiate a `Soquet` directly, nor should you use or set its attributes.\n",
        "Soquets should be constructed and managed by `BloqBuilder` and other infrastructure. <div class=\"alert alert-block alert-warning\">Another opaque, infrastructural class that\n",
        "    you may see but should not be manipulating directly is `BloqInstance`. This simple wrapper\n",
        "lets us distinguish between two *instances* of e.g. a CNOT bloq. Usually we want value\n",
        "equality semantics between bloqs.</div>"
      ]
    },
    {
      "cell_type": "markdown",
      "id": "4f44f287",
      "metadata": {
        "id": "4f44f287"
      },
      "source": [
        "## Larger registers\n",
        "\n",
        "Our two bloqs have still been operating at the level of individual bits. We now consider\n",
        "a general swap between two `n`-sized registers. To define register with size greater than one, quantum data type `QAny()` is used. <div class=\"alert alert-block alert-info\">The `n: int` line means our class has one attribute named `n` of type `int`. The attrs annotation will automatically generate an `__init__` function.</div>"
      ]
    },
    {
      "cell_type": "code",
      "execution_count": null,
      "id": "145c65b6",
      "metadata": {
        "id": "145c65b6"
      },
      "outputs": [],
      "source": [
        "from qualtran import QAny\n",
        "\n",
        "@attrs.frozen\n",
        "class Swap(Bloq):\n",
        "    n: int\n",
        "\n",
        "    @property\n",
        "    def signature(self):\n",
        "        return Signature([\n",
        "            Register('x', QAny(bitsize=self.n)),\n",
        "            Register('y', QAny(bitsize=self.n)),\n",
        "        ])"
      ]
    },
    {
      "cell_type": "markdown",
      "id": "1513500c",
      "metadata": {
        "id": "1513500c"
      },
      "source": [
        "Note that our bloq now has an attrs attribute `n` that lets us configure the exact parameters\n",
        "of the bloq without defining a new class. This is analogous to a template parameter in C++,\n",
        "for example. Bloqs should be immutable and hashable."
      ]
    },
    {
      "cell_type": "code",
      "execution_count": null,
      "id": "4bcc3e93",
      "metadata": {
        "id": "4bcc3e93"
      },
      "outputs": [],
      "source": [
        "assert Swap(5) == Swap(5)\n",
        "assert Swap(5) != Swap(6)"
      ]
    },
    {
      "cell_type": "code",
      "execution_count": null,
      "id": "2ebf0d70",
      "metadata": {
        "id": "2ebf0d70"
      },
      "outputs": [],
      "source": [
        "from qualtran import SoquetT\n",
        "\n",
        "@attrs.frozen\n",
        "class Swap(Bloq):\n",
        "    n: int\n",
        "\n",
        "    @property\n",
        "    def signature(self):\n",
        "        return Signature.build(x=self.n, y=self.n)\n",
        "\n",
        "    def build_composite_bloq(\n",
        "            self, bb: BloqBuilder, *, x: SoquetT, y: SoquetT\n",
        "    ) -> Dict[str, SoquetT]:\n",
        "        # THIS WON'T ACTUALLY WORK! Read on.\n",
        "        for i in range(self.n):\n",
        "            x[i], y[i] = bb.add(SwapTwoBits(), x=x[i], y=y[i])\n",
        "        return {'x': x, 'y': y}"
      ]
    },
    {
      "cell_type": "markdown",
      "id": "3db1bfa8",
      "metadata": {
        "id": "3db1bfa8"
      },
      "source": [
        "For our first attempt, we will straightforwardly decompose our swap between two n-bit registers\n",
        "into n swaps over each bit in the two registers. There's a note that this won't actually work.\n",
        "Let's see what happens."
      ]
    },
    {
      "cell_type": "code",
      "execution_count": null,
      "id": "b08436af",
      "metadata": {
        "id": "b08436af"
      },
      "outputs": [],
      "source": [
        "show_bloq(Swap(n=5))"
      ]
    },
    {
      "cell_type": "markdown",
      "id": "fdc991f3",
      "metadata": {
        "id": "fdc991f3"
      },
      "source": [
        "That looks fine... In fact: you can see a useful property of bloqs. Instead of representing\n",
        "each qubit as its own quantum variable, the size of our register is just a property annotated\n",
        "on the graph. We can make it arbitrarily large with no performance penalty"
      ]
    },
    {
      "cell_type": "code",
      "execution_count": null,
      "id": "fba876e0",
      "metadata": {
        "id": "fba876e0"
      },
      "outputs": [],
      "source": [
        "show_bloq(Swap(n=10_000))"
      ]
    },
    {
      "cell_type": "markdown",
      "id": "ec5150d2",
      "metadata": {
        "id": "ec5150d2"
      },
      "source": [
        "The problem occurs when we decompose our bloq."
      ]
    },
    {
      "cell_type": "code",
      "execution_count": null,
      "id": "48648ac4",
      "metadata": {
        "id": "48648ac4"
      },
      "outputs": [],
      "source": [
        "import traceback\n",
        "\n",
        "try:\n",
        "    cbloq = Swap(n=5).decompose_bloq()\n",
        "except TypeError as e:\n",
        "    print(traceback.format_exc())"
      ]
    },
    {
      "cell_type": "markdown",
      "id": "d029bf65",
      "metadata": {
        "id": "d029bf65"
      },
      "source": [
        "Can you figure out what's happening? The very advantage alluded to above has come back\n",
        "to bite us! If we have one object representing an n-bit register, we can't index into it\n",
        "to do bit-twiddling in our decomposition. We'll take a second look at `Register` to see\n",
        "if we can modify our signature declaration to make this work.\n",
        "\n",
        "`Register` can represent an n-dimensional array of quantum bits. For example, I can\n",
        "declare a 3x3 matrix of 32-bit quantum variables:"
      ]
    },
    {
      "cell_type": "code",
      "execution_count": null,
      "id": "c98fa648",
      "metadata": {
        "id": "c98fa648"
      },
      "outputs": [],
      "source": [
        "arr_reg = Register('arr', QAny(32), shape=(3, 3))\n",
        "print('total bits:', arr_reg.total_bits())"
      ]
    },
    {
      "cell_type": "markdown",
      "id": "91d649ca",
      "metadata": {
        "id": "91d649ca"
      },
      "source": [
        "<div class=\"alert alert-block alert-info\">`shape` is like `np.ndarray.shape`.</div>\n",
        "\n",
        "In computing, we can think of all data as an ndarray of bits or qubits, but -- analogous to\n",
        "classical data types -- it's preferable to treat a certain number of bits (or qubits) as\n",
        "our atomic datatype. For example, in C, an array of `int32 x[10];` does not let you index\n",
        "into individual bits like `x[3][31]`. Unlike in C, you are not limited by machine word size\n",
        "for atomic type sizes, which is why above we could define a register of `bitsize=5`.\n",
        "\n",
        "In the `SwapTwoBits` example everything was `bitsize=1` and we could write our decomposition\n",
        "without slicing into the registers. Let's write a version of `Swap` that uses an array\n",
        "of `bitsize=1` values."
      ]
    },
    {
      "cell_type": "code",
      "execution_count": null,
      "id": "7095d363",
      "metadata": {
        "id": "7095d363"
      },
      "outputs": [],
      "source": [
        "@attrs.frozen\n",
        "class SwapManyBits(Bloq):\n",
        "    n: int\n",
        "\n",
        "    @property\n",
        "    def signature(self):\n",
        "        # Not ideal; read on.\n",
        "        return Signature([\n",
        "            Register('x', QBit(), shape=(self.n,)),\n",
        "            Register('y', QBit(), shape=(self.n,)),\n",
        "        ])\n",
        "\n",
        "    def build_composite_bloq(\n",
        "            self, bb: BloqBuilder, *, x: SoquetT, y: SoquetT\n",
        "    ) -> Dict[str, SoquetT]:\n",
        "        for i in range(self.n):\n",
        "            x[i], y[i] = bb.add(SwapTwoBits(), x=x[i], y=y[i])\n",
        "        return {'x': x, 'y': y}"
      ]
    },
    {
      "cell_type": "markdown",
      "id": "6a5649f3",
      "metadata": {
        "id": "6a5649f3"
      },
      "source": [
        "Now since we've moved our `n` dimension of our inputs into the `shape` part of\n",
        "the register declaration, slicing should work:"
      ]
    },
    {
      "cell_type": "code",
      "execution_count": null,
      "id": "6db17a87",
      "metadata": {
        "id": "6db17a87"
      },
      "outputs": [],
      "source": [
        "cbloq = SwapManyBits(n=4).decompose_bloq()\n",
        "show_bloq(cbloq)"
      ]
    },
    {
      "cell_type": "markdown",
      "id": "41a1cb9a",
      "metadata": {
        "id": "41a1cb9a"
      },
      "source": [
        "The problem is now we (once again) have a Python object constructed for each bit:"
      ]
    },
    {
      "cell_type": "code",
      "execution_count": null,
      "id": "a301b582",
      "metadata": {
        "id": "a301b582"
      },
      "outputs": [],
      "source": [
        "show_bloq(SwapManyBits(n=4))"
      ]
    },
    {
      "cell_type": "markdown",
      "id": "57f16270",
      "metadata": {
        "id": "57f16270"
      },
      "source": [
        "<div class=\"alert alert-block alert-info\">Forget about trying to show `n=10_000`.</div>\n",
        "\n",
        "Can we have the best of both worlds? Yes: the general technique is to represent the Bloq\n",
        "definition in as high-level terms as practical and use `bb.split(...)` and `bb.join(...)`\n",
        "to break apart registers during decomposition. This way a user can use the Bloq as a black-box\n",
        "without incurring the performance overhead of representing each bit if they do not care about\n",
        "the decomposition. If they *are* interested in the decomposition, then the cost will only be\n",
        "paid when actually doing the decomposition."
      ]
    },
    {
      "cell_type": "code",
      "execution_count": null,
      "id": "99f9fd52",
      "metadata": {
        "id": "99f9fd52"
      },
      "outputs": [],
      "source": [
        "@attrs.frozen\n",
        "class Swap(Bloq):\n",
        "    n: int\n",
        "\n",
        "    @property\n",
        "    def signature(self):\n",
        "        return Signature.build(x=self.n, y=self.n)\n",
        "\n",
        "    def build_composite_bloq(\n",
        "            self, bb: BloqBuilder, *, x: SoquetT, y: SoquetT\n",
        "    ) -> Dict[str, SoquetT]:\n",
        "        xs = bb.split(x)\n",
        "        ys = bb.split(y)\n",
        "\n",
        "        for i in range(self.n):\n",
        "            xs[i], ys[i] = bb.add(SwapTwoBits(), x=xs[i], y=ys[i])\n",
        "        return {\n",
        "            'x': bb.join(xs),\n",
        "            'y': bb.join(ys),\n",
        "        }"
      ]
    },
    {
      "cell_type": "code",
      "execution_count": null,
      "id": "c5932695",
      "metadata": {
        "id": "c5932695"
      },
      "outputs": [],
      "source": [
        "cbloq = Swap(n=5).decompose_bloq()\n",
        "show_bloq(cbloq)"
      ]
    },
    {
      "cell_type": "markdown",
      "id": "c20817f9",
      "metadata": {
        "id": "c20817f9"
      },
      "source": [
        "The interleaved wires can get a little confusing. An alternative method of visualization via the familiar \"musical score\" diagram is also available"
      ]
    },
    {
      "cell_type": "code",
      "execution_count": null,
      "id": "5e35b5bb",
      "metadata": {
        "id": "5e35b5bb"
      },
      "outputs": [],
      "source": [
        "from qualtran.drawing import get_musical_score_data, draw_musical_score\n",
        "msd = get_musical_score_data(cbloq)\n",
        "fig, ax = draw_musical_score(msd)\n",
        "fig.set_figwidth(9)"
      ]
    },
    {
      "cell_type": "markdown",
      "id": "a56b18da",
      "metadata": {
        "id": "a56b18da"
      },
      "source": [
        "## Allocations and de-allocations\n",
        "\n",
        "We can encode operations that allocate and/or de-allocate quantum data as well. Each `Register` has an attribute called `side`. By default, it is set to `THRU` meaning that the quantum data moves through the register and that register is available for use as both an input and an output."
      ]
    },
    {
      "cell_type": "code",
      "execution_count": null,
      "id": "2b195829",
      "metadata": {
        "id": "2b195829"
      },
      "outputs": [],
      "source": [
        "reg = Register('ctrl', QBit())\n",
        "reg.side"
      ]
    },
    {
      "cell_type": "markdown",
      "id": "4788d0c9",
      "metadata": {
        "id": "4788d0c9"
      },
      "source": [
        "### `LEFT` and `RIGHT`\n",
        "\n",
        "We can declare registers that are input-only (\"LEFT\") or output-only (\"RIGHT\"). Pure-state quantum evolution is unitary; so using registers like these implies you're encoding a non-unitary operation. For example: bloqs which allocate a new qubit or discard an existing qubit would have asymmetric registers."
      ]
    },
    {
      "cell_type": "code",
      "execution_count": null,
      "id": "02d510b9",
      "metadata": {
        "id": "02d510b9"
      },
      "outputs": [],
      "source": [
        "from qualtran import Side\n",
        "\n",
        "@attrs.frozen\n",
        "class ReAlloc(Bloq):\n",
        "    @property\n",
        "    def signature(self):\n",
        "        return Signature([\n",
        "            Register('input_only', QBit(), side=Side.LEFT),\n",
        "            Register('output_only', QBit(), side=Side.RIGHT),\n",
        "        ])\n",
        "\n",
        "show_bloq(ReAlloc())"
      ]
    },
    {
      "cell_type": "markdown",
      "id": "1537693c",
      "metadata": {
        "id": "1537693c"
      },
      "source": [
        "Of course, the signature *only* provides the `side` of the register. It is up to the bloq author to give it functionality by providing a decomposition or annotating it with simulation information. We'll use the `State` and `Effect` one-qubit bloqs provided by the library to explore their behavior under simulation."
      ]
    },
    {
      "cell_type": "code",
      "execution_count": null,
      "id": "ad7b8708",
      "metadata": {
        "id": "ad7b8708"
      },
      "outputs": [],
      "source": [
        "from qualtran.bloqs.basic_gates import ZeroState\n",
        "\n",
        "# Show a simple allocating bloq and its tensor representation\n",
        "show_bloq(ZeroState())\n",
        "ZeroState().tensor_contract()"
      ]
    },
    {
      "cell_type": "code",
      "execution_count": null,
      "id": "b5a764f7",
      "metadata": {
        "id": "b5a764f7"
      },
      "outputs": [],
      "source": [
        "from qualtran.bloqs.basic_gates import PlusState, ZeroEffect\n",
        "\n",
        "bb = BloqBuilder()\n",
        "\n",
        "# Wire up <+|0>\n",
        "q = bb.add(PlusState())\n",
        "bb.add(ZeroEffect(), q=q)\n",
        "\n",
        "# Show it and find its probability\n",
        "cbloq = bb.finalize()\n",
        "show_bloq(cbloq)\n",
        "cbloq.tensor_contract() ** 2"
      ]
    },
    {
      "cell_type": "markdown",
      "id": "83c0a66d",
      "metadata": {
        "id": "83c0a66d"
      },
      "source": [
        "## Algorithms\n",
        "\n",
        "We've been looking at small, familiar bloqs to get acquainted with the functionality. Bloqs can represent quantum operations at any level of complexity, but are particularly useful for reasoning about high-level algorithms. For example, Qualtran includes a reference implementation of modular exponentiation (the limiting operation for Shor's factoring)"
      ]
    },
    {
      "cell_type": "code",
      "execution_count": null,
      "id": "f5fd2783",
      "metadata": {
        "id": "f5fd2783"
      },
      "outputs": [],
      "source": [
        "from qualtran.bloqs.factoring import ModExp\n",
        "\n",
        "mod_exp = ModExp(base=8, mod=13*17, exp_bitsize=3, x_bitsize=1024)\n",
        "show_bloq(mod_exp)"
      ]
    },
    {
      "cell_type": "markdown",
      "id": "e6ff4cfd",
      "metadata": {
        "id": "e6ff4cfd"
      },
      "source": [
        "High-level bloqs should be defined in terms of only-slightly-less high-level bloqs to keep each step of the decomposition understandable. The `ModExp` bloq's decomposition is:"
      ]
    },
    {
      "cell_type": "code",
      "execution_count": null,
      "id": "7f5bf452",
      "metadata": {
        "id": "7f5bf452"
      },
      "outputs": [],
      "source": [
        "def build_composite_bloq(self, bb: 'BloqBuilder', exponent: 'SoquetT') -> Dict[str, 'SoquetT']:\n",
        "    x = bb.add(IntState(val=1, bitsize=self.x_bitsize))\n",
        "    exponent = bb.split(exponent)\n",
        "\n",
        "    # https://en.wikipedia.org/wiki/Modular_exponentiation#Right-to-left_binary_method\n",
        "    base = self.base\n",
        "    for j in range(self.exp_bitsize - 1, 0 - 1, -1):\n",
        "        exponent[j], x = bb.add(self._CtrlModMul(k=base), ctrl=exponent[j], x=x)\n",
        "        base = base * base % self.mod\n",
        "\n",
        "    return {'exponent': bb.join(exponent), 'x': x}"
      ]
    },
    {
      "cell_type": "markdown",
      "id": "5a17bad6",
      "metadata": {
        "id": "5a17bad6"
      },
      "source": [
        "In addition to decomposing and visualizing, we can use other protocols to query properties of the bloq or test its correctness."
      ]
    },
    {
      "cell_type": "code",
      "execution_count": null,
      "id": "c2268b3c",
      "metadata": {
        "id": "c2268b3c"
      },
      "outputs": [],
      "source": [
        "show_bloq(mod_exp.decompose_bloq())"
      ]
    },
    {
      "cell_type": "markdown",
      "source": [],
      "metadata": {
        "id": "bXLZlrlLaqvc"
      },
      "id": "bXLZlrlLaqvc"
    }
  ],
  "metadata": {
    "kernelspec": {
      "display_name": "Python 3 (ipykernel)",
      "language": "python",
      "name": "python3"
    },
    "language_info": {
      "codemirror_mode": {
        "name": "ipython",
        "version": 3
      },
      "file_extension": ".py",
      "mimetype": "text/x-python",
      "name": "python",
      "nbconvert_exporter": "python",
      "pygments_lexer": "ipython3",
      "version": "3.10.9"
    },
    "colab": {
      "provenance": []
    }
  },
  "nbformat": 4,
  "nbformat_minor": 5
}