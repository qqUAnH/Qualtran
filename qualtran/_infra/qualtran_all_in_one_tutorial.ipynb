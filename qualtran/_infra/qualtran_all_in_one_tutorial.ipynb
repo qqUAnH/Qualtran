{
 "cells": [
  {
   "cell_type": "markdown",
   "metadata": {
    "colab_type": "toc",
    "id": "LSETxP4Sn2lF"
   },
   "source": [
    ">[Cirq: Qubits, Operations, Moments and Circuits](#scrollTo=3340594dd8c1)\n",
    "\n",
    ">>[Create a Circuit](#scrollTo=9768d38c9151)\n",
    "\n",
    ">>[Exercise: Create a Circuit](#scrollTo=j0qHxsoyIrcj)\n",
    "\n",
    ">>[Unpacking the circuit](#scrollTo=-06jQwEdI4DJ)\n",
    "\n",
    ">>[More ways to create Circuits](#scrollTo=0bb8611c3865)\n",
    "\n",
    ">>[Exercise: Create a circuit to left rotate 5 qubits.](#scrollTo=Z76Kcs27EcY5)\n",
    "\n",
    ">[Qualtran: Resource Estimation and Very Large Scale Circuits](#scrollTo=nVuMhSm2lxiU)\n",
    "\n",
    ">>[Basic Bloq](#scrollTo=lXixoICa8hXw)\n",
    "\n",
    ">>[Exercise: Create a Bell's state](#scrollTo=xK1DTIdqqR-r)\n",
    "\n",
    ">>>[Attempt the solution here](#scrollTo=n2EmgZEyql2g)\n",
    "\n",
    ">>>[Expand to view the solution](#scrollTo=2id-xdR7qsEO)\n",
    "\n",
    ">>[Quantum Variable](#scrollTo=A5BHn66w4xHS)\n",
    "\n",
    ">>[Large size register](#scrollTo=cHSSWnaGk6tG)\n",
    "\n",
    ">>[Protocols: Using Bloqs](#scrollTo=-3-vA57dAMUh)\n",
    "\n",
    ">>>[Decomposition protocol:](#scrollTo=4U_AKyviKa8u)\n",
    "\n",
    ">>>[Tensor protocol:](#scrollTo=gn54WZiunxyt)\n",
    "\n",
    ">>>>[Exercise: Match the methods:](#scrollTo=lo29lrTINAdy)\n",
    "\n",
    ">>>[Call Graph protocol](#scrollTo=T7NxVs1Pdy_-)\n",
    "\n",
    ">>[Multi Pauli](#scrollTo=Zu2sBh08lFXv)\n",
    "\n",
    ">>>[Exercise: Investigate MultiControlPauli](#scrollTo=9At671u7nQYm)\n",
    "\n",
    ">>>>[Attempt solution here:](#scrollTo=Iv2TLLV8MAj1)\n",
    "\n",
    ">>>>[Expand to view the solution](#scrollTo=mJ9bOiGhMLhL)\n",
    "\n",
    ">[Qualtran-Cirq Interoperability](#scrollTo=e3a-V9aGAShh)\n",
    "\n",
    ">>[Cirq Circuit to Bloq:](#scrollTo=LJsPI2g75Gne)\n",
    "\n",
    ">>[Bloq to Cirq Circuit](#scrollTo=Zz0W3zPtJ6IS)\n",
    "\n",
    ">>>[Bloq.as_cirq_op](#scrollTo=V6d27-X9KHbW)\n",
    "\n",
    ">>>[CompositeBloq.to_cirq_circuit](#scrollTo=CprhjT1-5Qy3)\n",
    "\n",
    ">>>[BloqAsCirqGate](#scrollTo=QRDDUaSfRqd_)\n",
    "\n"
   ]
  },
  {
   "cell_type": "markdown",
   "metadata": {},
   "source": [
    "# Introduction:\n",
    "In recent years, we have witnessed advancements in quantum technology. While better hardware is important to realize quantum advantage, quantum software also plays a crucial role. With the help of SDKs such as Cirq and Qiskit, quantum programs can be created and expressed in terms of quantum circuits. In some sense, Cirq and Qiskit are similar to quantum assembly languages, where quantum programs are created by adding elementary gates one by one. However, large-scale quantum programs requiring thousands of qubits and millions of operations (e.g., Shor's algorithm for factoring) demain more efficient management tools. To address this, we need something akin to the C programming language for quantum computing.\n",
    "\n",
    "In this tutorial, we introduce Qualtran (Quantum Algorithms Translator): a set of abstractions for representing quantum programs and a library of quantum algorithms expressed in that language. The tutorial is composed of various parts in qualtran doc and come with some optional excersie. This notebook seek to give as all-in-one introduction to `Qualtran` infrastructure and answer to the following question:\n",
    "1. How to define basic quantum program with `Qualtran` using `Bloq` ?\n",
    "2. What is a protocol in `Qualtran` ?\n",
    "3. How to translate `cirq.Circuit` to `Qualtran.Bloq`"
   ]
  },
  {
   "cell_type": "markdown",
   "metadata": {
    "id": "lXixoICa8hXw"
   },
   "source": [
    "# Basic Bloq"
   ]
  },
  {
   "cell_type": "markdown",
   "metadata": {
    "id": "RRoXJi2wSaXp"
   },
   "source": [
    "Similar to other quantum framework, `qualtran` come with a set of basic gates. All basic gates in qualtran inherit from `Bloq`: an abstract base class for all operation.  "
   ]
  },
  {
   "cell_type": "code",
   "execution_count": 1,
   "metadata": {
    "ExecuteTime": {
     "end_time": "2024-06-11T03:36:42.360289Z",
     "start_time": "2024-06-11T03:36:39.445105Z"
    },
    "colab": {
     "base_uri": "https://localhost:8080/"
    },
    "id": "0tW42ZThSdbO",
    "outputId": "da287e50-56c6-4b57-8a76-f17c9a67e05d"
   },
   "outputs": [],
   "source": [
    "from qualtran.bloqs.basic_gates import TGate, CNOT\n",
    "c_not = CNOT()\n",
    "t_gate = TGate()"
   ]
  },
  {
   "cell_type": "code",
   "execution_count": 2,
   "metadata": {
    "ExecuteTime": {
     "end_time": "2024-06-11T03:36:42.492353Z",
     "start_time": "2024-06-11T03:36:42.363211Z"
    },
    "colab": {
     "base_uri": "https://localhost:8080/",
     "height": 201,
     "referenced_widgets": [
      "54c59e8e7e4245369b7ad3818450d333",
      "769ae37762004278a9a3b896cac9b43e",
      "27149ca4b39e4b1cb4b95e8af772c550",
      "bae1f0ccd57448f3a2ff660bbd2865f9",
      "cb288f3f506744e3824e75506dcd8177",
      "048286cbd942442b84c0be0cb3418cb2"
     ]
    },
    "id": "UB0vBsay1yK9",
    "outputId": "ef7ff751-1745-4186-f4f2-5a47a0c12e9a"
   },
   "outputs": [
    {
     "data": {
      "application/vnd.jupyter.widget-view+json": {
       "model_id": "6ed56c12e6f64da58d42a5ca1e61db47",
       "version_major": 2,
       "version_minor": 0
      },
      "text/plain": [
       "HBox(children=(Output(outputs=({'output_type': 'display_data', 'data': {'text/plain': '<IPython.core.display.M…"
      ]
     },
     "metadata": {},
     "output_type": "display_data"
    }
   ],
   "source": [
    "from qualtran.drawing import show_bloqs\n",
    "\n",
    "show_bloqs([t_gate, c_not], ['`t_gate`', 'c_not'])"
   ]
  },
  {
   "cell_type": "markdown",
   "metadata": {
    "id": "xWiwKj_m4FXr"
   },
   "source": [
    "\n",
    "By creating a new class inheriting `Bloq`, we can represent quantum program in various complexity in a a hierarchical collection of Python objects. The only mandatory methods to create a new Bloq is `Bloq.signature`. In the example below, we create a two qubits controlled gate with minimal information: class name and signature property.\n"
   ]
  },
  {
   "cell_type": "code",
   "execution_count": 3,
   "metadata": {
    "id": "oQ_yWu90zBq4"
   },
   "outputs": [],
   "source": [
    "from typing import *\n",
    "\n",
    "import numpy as np\n",
    "import sympy\n",
    "import attrs\n",
    "\n",
    "from qualtran import Bloq, CompositeBloq, BloqBuilder, Signature, Register, QBit,QAny\n",
    "from qualtran.drawing import show_bloq, show_call_graph, show_counts_sigma"
   ]
  },
  {
   "cell_type": "code",
   "execution_count": 4,
   "metadata": {
    "ExecuteTime": {
     "start_time": "2024-06-11T03:36:42.505223Z"
    },
    "id": "AAJwqAyuSxrp",
    "jupyter": {
     "is_executing": true
    }
   },
   "outputs": [],
   "source": [
    "@attrs.frozen # this decorator is used to create classes with immutable instances\n",
    "class CNOT(Bloq):\n",
    "    @property\n",
    "    def signature(self):\n",
    "        return Signature([\n",
    "            Register('ctrl', QBit()),\n",
    "            Register('target', QBit())\n",
    "        ])"
   ]
  },
  {
   "cell_type": "code",
   "execution_count": 5,
   "metadata": {
    "colab": {
     "base_uri": "https://localhost:8080/",
     "height": 171
    },
    "id": "5yYFs4TeS-J1",
    "jupyter": {
     "is_executing": true
    },
    "outputId": "dc6256cc-173e-4af6-f37b-d8b8f7fedad1"
   },
   "outputs": [
    {
     "data": {
      "image/svg+xml": [
       "<svg xmlns=\"http://www.w3.org/2000/svg\" xmlns:xlink=\"http://www.w3.org/1999/xlink\" width=\"255pt\" height=\"98pt\" viewBox=\"0.00 0.00 255.00 98.00\">\n",
       "<g id=\"graph0\" class=\"graph\" transform=\"scale(1 1) rotate(0) translate(4 94)\">\n",
       "<title>my_graph</title>\n",
       "<polygon fill=\"white\" stroke=\"transparent\" points=\"-4,4 -4,-94 251,-94 251,4 -4,4\"/>\n",
       "<!-- ctrl_G1 -->\n",
       "<g id=\"node1\" class=\"node\">\n",
       "<title>ctrl_G1</title>\n",
       "<text text-anchor=\"middle\" x=\"30.5\" y=\"-68.3\" font-family=\"Times,serif\" font-size=\"14.00\">ctrl</text>\n",
       "</g>\n",
       "<!-- CNOT -->\n",
       "<g id=\"node3\" class=\"node\">\n",
       "<title>CNOT</title>\n",
       "<polygon fill=\"none\" stroke=\"black\" points=\"98.5,-66 98.5,-83 149.5,-83 149.5,-66 98.5,-66\"/>\n",
       "<text text-anchor=\"start\" x=\"108\" y=\"-72\" font-family=\"Times,serif\" font-size=\"10.00\">CNOT</text>\n",
       "<polygon fill=\"none\" stroke=\"black\" points=\"98.5,-45 98.5,-66 149.5,-66 149.5,-45 98.5,-45\"/>\n",
       "<text text-anchor=\"start\" x=\"111.5\" y=\"-51.8\" font-family=\"Times,serif\" font-size=\"14.00\">ctrl</text>\n",
       "<polygon fill=\"none\" stroke=\"black\" points=\"98.5,-24 98.5,-45 149.5,-45 149.5,-24 98.5,-24\"/>\n",
       "<text text-anchor=\"start\" x=\"101.5\" y=\"-30.8\" font-family=\"Times,serif\" font-size=\"14.00\">target</text>\n",
       "</g>\n",
       "<!-- ctrl_G1&#45;&gt;CNOT -->\n",
       "<g id=\"edge1\" class=\"edge\">\n",
       "<title>ctrl_G1:e-&gt;CNOT:w</title>\n",
       "<path fill=\"none\" stroke=\"black\" d=\"M58.5,-72C76.7,-72 78.91,-57.23 95.86,-56.07\"/>\n",
       "<ellipse fill=\"black\" stroke=\"black\" cx=\"97\" cy=\"-56.03\" rx=\"1\" ry=\"1\"/>\n",
       "<text text-anchor=\"middle\" x=\"79.5\" y=\"-66\" font-family=\"Times,serif\" font-size=\"10.00\">1</text>\n",
       "</g>\n",
       "<!-- target_G0 -->\n",
       "<g id=\"node2\" class=\"node\">\n",
       "<title>target_G0</title>\n",
       "<text text-anchor=\"middle\" x=\"30.5\" y=\"-14.3\" font-family=\"Times,serif\" font-size=\"14.00\">target</text>\n",
       "</g>\n",
       "<!-- target_G0&#45;&gt;CNOT -->\n",
       "<g id=\"edge2\" class=\"edge\">\n",
       "<title>target_G0:e-&gt;CNOT:w</title>\n",
       "<path fill=\"none\" stroke=\"black\" d=\"M61,-18C78.22,-18 79.97,-32.77 95.98,-33.93\"/>\n",
       "<ellipse fill=\"black\" stroke=\"black\" cx=\"97\" cy=\"-33.96\" rx=\"1\" ry=\"1\"/>\n",
       "<text text-anchor=\"middle\" x=\"79.5\" y=\"-29\" font-family=\"Times,serif\" font-size=\"10.00\">1</text>\n",
       "</g>\n",
       "<!-- ctrl_G3 -->\n",
       "<g id=\"node4\" class=\"node\">\n",
       "<title>ctrl_G3</title>\n",
       "<text text-anchor=\"middle\" x=\"216.5\" y=\"-68.3\" font-family=\"Times,serif\" font-size=\"14.00\">ctrl</text>\n",
       "</g>\n",
       "<!-- CNOT&#45;&gt;ctrl_G3 -->\n",
       "<g id=\"edge3\" class=\"edge\">\n",
       "<title>CNOT:e-&gt;ctrl_G3:w</title>\n",
       "<path fill=\"none\" stroke=\"black\" d=\"M149,-56C167.2,-56 169.41,-70.77 186.36,-71.93\"/>\n",
       "<ellipse fill=\"black\" stroke=\"black\" cx=\"187.5\" cy=\"-71.97\" rx=\"1\" ry=\"1\"/>\n",
       "<text text-anchor=\"middle\" x=\"167.5\" y=\"-66\" font-family=\"Times,serif\" font-size=\"10.00\">1</text>\n",
       "</g>\n",
       "<!-- target_G2 -->\n",
       "<g id=\"node5\" class=\"node\">\n",
       "<title>target_G2</title>\n",
       "<text text-anchor=\"middle\" x=\"216.5\" y=\"-14.3\" font-family=\"Times,serif\" font-size=\"14.00\">target</text>\n",
       "</g>\n",
       "<!-- CNOT&#45;&gt;target_G2 -->\n",
       "<g id=\"edge4\" class=\"edge\">\n",
       "<title>CNOT:e-&gt;target_G2:w</title>\n",
       "<path fill=\"none\" stroke=\"black\" d=\"M149,-34C166.22,-34 167.97,-19.23 183.98,-18.07\"/>\n",
       "<ellipse fill=\"black\" stroke=\"black\" cx=\"185\" cy=\"-18.04\" rx=\"1\" ry=\"1\"/>\n",
       "<text text-anchor=\"middle\" x=\"167.5\" y=\"-29\" font-family=\"Times,serif\" font-size=\"10.00\">1</text>\n",
       "</g>\n",
       "</g>\n",
       "</svg>"
      ],
      "text/plain": [
       "<IPython.core.display.SVG object>"
      ]
     },
     "metadata": {},
     "output_type": "display_data"
    }
   ],
   "source": [
    "cg = CNOT()\n",
    "show_bloq(cg)"
   ]
  },
  {
   "cell_type": "markdown",
   "metadata": {},
   "source": [
    "This is the absolute minimum amount of information needed to define a Bloq: a name (i.e.\n",
    "the class name) and a `signature` property.\n",
    "The `Bloq.signature` property can be thought of as analogous\n",
    "to the function signature in ordinary programming. You can think of a bloq\n",
    "with just this property implemented like a function\n",
    "declarations in a C header (`*.h`) file.\n",
    "\n",
    "```\n",
    "void CNOT(Qbit* control, Qbit* target);\n",
    "```\n"
   ]
  },
  {
   "cell_type": "markdown",
   "metadata": {},
   "source": [
    "There are many other methods we can optionally implement to encode more information about the bloq. We will examine each method in detail in another tutorial. The main idea is that new methods can be added to the bloq as we progress."
   ]
  },
  {
   "cell_type": "markdown",
   "metadata": {},
   "source": [
    "## Decomposing Bloqs:\n",
    "Quantum operators can be decomposed into sub operators. In `Qualtran`, such operator can be define using `CompositeBloq`, a subclass of `Bloq`. In the example below, we define SWAP in terms of three CNOTs."
   ]
  },
  {
   "cell_type": "code",
   "execution_count": 24,
   "metadata": {
    "id": "Nb_5oBIwX89y",
    "jupyter": {
     "is_executing": true
    }
   },
   "outputs": [],
   "source": [
    "class SwapTwoBits(Bloq):\n",
    "    @property\n",
    "\n",
    "    def signature(self):\n",
    "        # Signature.build(x=1, y=1) is an alternative syntax for this block\n",
    "        return Signature([\n",
    "            Register('x', QBit()),\n",
    "            Register('y', QBit()),\n",
    "        ])\n",
    "\n",
    "    def build_composite_bloq(self, bb: BloqBuilder, *, x, y):\n",
    "        x, y = bb.add(CNOT(), ctrl=x, target=y) # the bb.add(...) add sub operator\n",
    "        y, x = bb.add(CNOT(), ctrl=y, target=x)\n",
    "        x, y = bb.add(CNOT(), ctrl=x, target=y)\n",
    "        return {'x': x, 'y': y}\n"
   ]
  },
  {
   "cell_type": "code",
   "execution_count": 25,
   "metadata": {
    "colab": {
     "base_uri": "https://localhost:8080/",
     "height": 171
    },
    "id": "1ha6z2cAX_nV",
    "jupyter": {
     "is_executing": true
    },
    "outputId": "3bc44d7c-6e3b-45a1-c74e-ad63560dd80a"
   },
   "outputs": [
    {
     "data": {
      "image/svg+xml": [
       "<svg xmlns=\"http://www.w3.org/2000/svg\" xmlns:xlink=\"http://www.w3.org/1999/xlink\" width=\"264pt\" height=\"98pt\" viewBox=\"0.00 0.00 264.00 98.00\">\n",
       "<g id=\"graph0\" class=\"graph\" transform=\"scale(1 1) rotate(0) translate(4 94)\">\n",
       "<title>my_graph</title>\n",
       "<polygon fill=\"white\" stroke=\"transparent\" points=\"-4,4 -4,-94 260,-94 260,4 -4,4\"/>\n",
       "<!-- x_G2 -->\n",
       "<g id=\"node1\" class=\"node\">\n",
       "<title>x_G2</title>\n",
       "<text text-anchor=\"middle\" x=\"27\" y=\"-68.3\" font-family=\"Times,serif\" font-size=\"14.00\">x</text>\n",
       "</g>\n",
       "<!-- SwapTwoBits -->\n",
       "<g id=\"node3\" class=\"node\">\n",
       "<title>SwapTwoBits</title>\n",
       "<polygon fill=\"none\" stroke=\"black\" points=\"91,-66 91,-83 165,-83 165,-66 91,-66\"/>\n",
       "<text text-anchor=\"start\" x=\"94\" y=\"-72\" font-family=\"Times,serif\" font-size=\"10.00\">SwapTwoBits</text>\n",
       "<polygon fill=\"none\" stroke=\"black\" points=\"91,-45 91,-66 165,-66 165,-45 91,-45\"/>\n",
       "<text text-anchor=\"start\" x=\"123.5\" y=\"-51.8\" font-family=\"Times,serif\" font-size=\"14.00\">x</text>\n",
       "<polygon fill=\"none\" stroke=\"black\" points=\"91,-24 91,-45 165,-45 165,-24 91,-24\"/>\n",
       "<text text-anchor=\"start\" x=\"123.5\" y=\"-30.8\" font-family=\"Times,serif\" font-size=\"14.00\">y</text>\n",
       "</g>\n",
       "<!-- x_G2&#45;&gt;SwapTwoBits -->\n",
       "<g id=\"edge1\" class=\"edge\">\n",
       "<title>x_G2:e-&gt;SwapTwoBits:w</title>\n",
       "<path fill=\"none\" stroke=\"black\" d=\"M54,-72C71.22,-72 72.97,-57.23 88.98,-56.07\"/>\n",
       "<ellipse fill=\"black\" stroke=\"black\" cx=\"90\" cy=\"-56.04\" rx=\"1\" ry=\"1\"/>\n",
       "<text text-anchor=\"middle\" x=\"72.5\" y=\"-67\" font-family=\"Times,serif\" font-size=\"10.00\">1</text>\n",
       "</g>\n",
       "<!-- y_G5 -->\n",
       "<g id=\"node2\" class=\"node\">\n",
       "<title>y_G5</title>\n",
       "<text text-anchor=\"middle\" x=\"27\" y=\"-14.3\" font-family=\"Times,serif\" font-size=\"14.00\">y</text>\n",
       "</g>\n",
       "<!-- y_G5&#45;&gt;SwapTwoBits -->\n",
       "<g id=\"edge2\" class=\"edge\">\n",
       "<title>y_G5:e-&gt;SwapTwoBits:w</title>\n",
       "<path fill=\"none\" stroke=\"black\" d=\"M54,-18C71.22,-18 72.97,-32.77 88.98,-33.93\"/>\n",
       "<ellipse fill=\"black\" stroke=\"black\" cx=\"90\" cy=\"-33.96\" rx=\"1\" ry=\"1\"/>\n",
       "<text text-anchor=\"middle\" x=\"72.5\" y=\"-29\" font-family=\"Times,serif\" font-size=\"10.00\">1</text>\n",
       "</g>\n",
       "<!-- x_G1 -->\n",
       "<g id=\"node4\" class=\"node\">\n",
       "<title>x_G1</title>\n",
       "<text text-anchor=\"middle\" x=\"229\" y=\"-68.3\" font-family=\"Times,serif\" font-size=\"14.00\">x</text>\n",
       "</g>\n",
       "<!-- SwapTwoBits&#45;&gt;x_G1 -->\n",
       "<g id=\"edge3\" class=\"edge\">\n",
       "<title>SwapTwoBits:e-&gt;x_G1:w</title>\n",
       "<path fill=\"none\" stroke=\"black\" d=\"M165,-56C182.22,-56 183.97,-70.77 199.98,-71.93\"/>\n",
       "<ellipse fill=\"black\" stroke=\"black\" cx=\"201\" cy=\"-71.96\" rx=\"1\" ry=\"1\"/>\n",
       "<text text-anchor=\"middle\" x=\"183.5\" y=\"-67\" font-family=\"Times,serif\" font-size=\"10.00\">1</text>\n",
       "</g>\n",
       "<!-- y_G4 -->\n",
       "<g id=\"node5\" class=\"node\">\n",
       "<title>y_G4</title>\n",
       "<text text-anchor=\"middle\" x=\"229\" y=\"-14.3\" font-family=\"Times,serif\" font-size=\"14.00\">y</text>\n",
       "</g>\n",
       "<!-- SwapTwoBits&#45;&gt;y_G4 -->\n",
       "<g id=\"edge4\" class=\"edge\">\n",
       "<title>SwapTwoBits:e-&gt;y_G4:w</title>\n",
       "<path fill=\"none\" stroke=\"black\" d=\"M165,-34C182.22,-34 183.97,-19.23 199.98,-18.07\"/>\n",
       "<ellipse fill=\"black\" stroke=\"black\" cx=\"201\" cy=\"-18.04\" rx=\"1\" ry=\"1\"/>\n",
       "<text text-anchor=\"middle\" x=\"183.5\" y=\"-29\" font-family=\"Times,serif\" font-size=\"10.00\">1</text>\n",
       "</g>\n",
       "</g>\n",
       "</svg>"
      ],
      "text/plain": [
       "<IPython.core.display.SVG object>"
      ]
     },
     "metadata": {},
     "output_type": "display_data"
    }
   ],
   "source": [
    "swapBloq = SwapTwoBits()\n",
    "show_bloq(swapBloq)"
   ]
  },
  {
   "cell_type": "markdown",
   "metadata": {
    "id": "KQm5CjMGus0i"
   },
   "source": [
    "In the example above the SWAP gate is defined by concatenating three CNOTs. If `show_bloq()` is used directly on `SwapTwoBits()`, the information implementation of the three CNOT gates won't be visible. To show a composite bloq we call the `decompose_bloq()` method."
   ]
  },
  {
   "cell_type": "code",
   "execution_count": 26,
   "metadata": {
    "colab": {
     "base_uri": "https://localhost:8080/",
     "height": 171
    },
    "id": "UkDK48G2YltW",
    "jupyter": {
     "is_executing": true
    },
    "outputId": "67c47686-e036-4b0f-cf0e-f6d1dcebcb53"
   },
   "outputs": [
    {
     "data": {
      "image/svg+xml": [
       "<svg xmlns=\"http://www.w3.org/2000/svg\" xmlns:xlink=\"http://www.w3.org/1999/xlink\" width=\"417pt\" height=\"98pt\" viewBox=\"0.00 0.00 417.00 98.00\">\n",
       "<g id=\"graph0\" class=\"graph\" transform=\"scale(1 1) rotate(0) translate(4 94)\">\n",
       "<title>my_graph</title>\n",
       "<polygon fill=\"white\" stroke=\"transparent\" points=\"-4,4 -4,-94 413,-94 413,4 -4,4\"/>\n",
       "<!-- x_G11 -->\n",
       "<g id=\"node1\" class=\"node\">\n",
       "<title>x_G11</title>\n",
       "<text text-anchor=\"middle\" x=\"27\" y=\"-68.3\" font-family=\"Times,serif\" font-size=\"14.00\">x</text>\n",
       "</g>\n",
       "<!-- CNOT -->\n",
       "<g id=\"node3\" class=\"node\">\n",
       "<title>CNOT</title>\n",
       "<polygon fill=\"none\" stroke=\"black\" points=\"91.5,-66 91.5,-83 142.5,-83 142.5,-66 91.5,-66\"/>\n",
       "<text text-anchor=\"start\" x=\"101\" y=\"-72\" font-family=\"Times,serif\" font-size=\"10.00\">CNOT</text>\n",
       "<polygon fill=\"none\" stroke=\"black\" points=\"91.5,-45 91.5,-66 142.5,-66 142.5,-45 91.5,-45\"/>\n",
       "<text text-anchor=\"start\" x=\"104.5\" y=\"-51.8\" font-family=\"Times,serif\" font-size=\"14.00\">ctrl</text>\n",
       "<polygon fill=\"none\" stroke=\"black\" points=\"91.5,-24 91.5,-45 142.5,-45 142.5,-24 91.5,-24\"/>\n",
       "<text text-anchor=\"start\" x=\"94.5\" y=\"-30.8\" font-family=\"Times,serif\" font-size=\"14.00\">target</text>\n",
       "</g>\n",
       "<!-- x_G11&#45;&gt;CNOT -->\n",
       "<g id=\"edge1\" class=\"edge\">\n",
       "<title>x_G11:e-&gt;CNOT:w</title>\n",
       "<path fill=\"none\" stroke=\"black\" d=\"M54,-72C71.22,-72 72.97,-57.23 88.98,-56.07\"/>\n",
       "<ellipse fill=\"black\" stroke=\"black\" cx=\"90\" cy=\"-56.04\" rx=\"1\" ry=\"1\"/>\n",
       "<text text-anchor=\"middle\" x=\"72.5\" y=\"-67\" font-family=\"Times,serif\" font-size=\"10.00\">1</text>\n",
       "</g>\n",
       "<!-- y_G8 -->\n",
       "<g id=\"node2\" class=\"node\">\n",
       "<title>y_G8</title>\n",
       "<text text-anchor=\"middle\" x=\"27\" y=\"-14.3\" font-family=\"Times,serif\" font-size=\"14.00\">y</text>\n",
       "</g>\n",
       "<!-- y_G8&#45;&gt;CNOT -->\n",
       "<g id=\"edge2\" class=\"edge\">\n",
       "<title>y_G8:e-&gt;CNOT:w</title>\n",
       "<path fill=\"none\" stroke=\"black\" d=\"M54,-18C71.22,-18 72.97,-32.77 88.98,-33.93\"/>\n",
       "<ellipse fill=\"black\" stroke=\"black\" cx=\"90\" cy=\"-33.96\" rx=\"1\" ry=\"1\"/>\n",
       "<text text-anchor=\"middle\" x=\"72.5\" y=\"-29\" font-family=\"Times,serif\" font-size=\"10.00\">1</text>\n",
       "</g>\n",
       "<!-- CNOT_G0 -->\n",
       "<g id=\"node4\" class=\"node\">\n",
       "<title>CNOT_G0</title>\n",
       "<polygon fill=\"none\" stroke=\"black\" points=\"179.5,-66 179.5,-83 230.5,-83 230.5,-66 179.5,-66\"/>\n",
       "<text text-anchor=\"start\" x=\"189\" y=\"-72\" font-family=\"Times,serif\" font-size=\"10.00\">CNOT</text>\n",
       "<polygon fill=\"none\" stroke=\"black\" points=\"179.5,-45 179.5,-66 230.5,-66 230.5,-45 179.5,-45\"/>\n",
       "<text text-anchor=\"start\" x=\"192.5\" y=\"-51.8\" font-family=\"Times,serif\" font-size=\"14.00\">ctrl</text>\n",
       "<polygon fill=\"none\" stroke=\"black\" points=\"179.5,-24 179.5,-45 230.5,-45 230.5,-24 179.5,-24\"/>\n",
       "<text text-anchor=\"start\" x=\"182.5\" y=\"-30.8\" font-family=\"Times,serif\" font-size=\"14.00\">target</text>\n",
       "</g>\n",
       "<!-- CNOT&#45;&gt;CNOT_G0 -->\n",
       "<g id=\"edge3\" class=\"edge\">\n",
       "<title>CNOT:e-&gt;CNOT_G0:w</title>\n",
       "<path fill=\"none\" stroke=\"black\" d=\"M142,-34C151.16,-34 153.09,-37.37 161,-42 169.06,-46.72 168.94,-54.64 176.82,-55.84\"/>\n",
       "<ellipse fill=\"black\" stroke=\"black\" cx=\"178\" cy=\"-55.93\" rx=\"1\" ry=\"1\"/>\n",
       "<text text-anchor=\"middle\" x=\"160.5\" y=\"-45\" font-family=\"Times,serif\" font-size=\"10.00\">1</text>\n",
       "</g>\n",
       "<!-- CNOT&#45;&gt;CNOT_G0 -->\n",
       "<g id=\"edge4\" class=\"edge\">\n",
       "<title>CNOT:e-&gt;CNOT_G0:w</title>\n",
       "<path fill=\"none\" stroke=\"black\" d=\"M142,-56C160.38,-56 159.94,-35.69 176.85,-34.1\"/>\n",
       "<ellipse fill=\"black\" stroke=\"black\" cx=\"178\" cy=\"-34.05\" rx=\"1\" ry=\"1\"/>\n",
       "<text text-anchor=\"middle\" x=\"160.5\" y=\"-48\" font-family=\"Times,serif\" font-size=\"10.00\">1</text>\n",
       "</g>\n",
       "<!-- CNOT_G3 -->\n",
       "<g id=\"node5\" class=\"node\">\n",
       "<title>CNOT_G3</title>\n",
       "<polygon fill=\"none\" stroke=\"black\" points=\"267.5,-66 267.5,-83 318.5,-83 318.5,-66 267.5,-66\"/>\n",
       "<text text-anchor=\"start\" x=\"277\" y=\"-72\" font-family=\"Times,serif\" font-size=\"10.00\">CNOT</text>\n",
       "<polygon fill=\"none\" stroke=\"black\" points=\"267.5,-45 267.5,-66 318.5,-66 318.5,-45 267.5,-45\"/>\n",
       "<text text-anchor=\"start\" x=\"280.5\" y=\"-51.8\" font-family=\"Times,serif\" font-size=\"14.00\">ctrl</text>\n",
       "<polygon fill=\"none\" stroke=\"black\" points=\"267.5,-24 267.5,-45 318.5,-45 318.5,-24 267.5,-24\"/>\n",
       "<text text-anchor=\"start\" x=\"270.5\" y=\"-30.8\" font-family=\"Times,serif\" font-size=\"14.00\">target</text>\n",
       "</g>\n",
       "<!-- CNOT_G0&#45;&gt;CNOT_G3 -->\n",
       "<g id=\"edge5\" class=\"edge\">\n",
       "<title>CNOT_G0:e-&gt;CNOT_G3:w</title>\n",
       "<path fill=\"none\" stroke=\"black\" d=\"M230,-34C239.16,-34 241.09,-37.37 249,-42 257.06,-46.72 256.94,-54.64 264.82,-55.84\"/>\n",
       "<ellipse fill=\"black\" stroke=\"black\" cx=\"266\" cy=\"-55.93\" rx=\"1\" ry=\"1\"/>\n",
       "<text text-anchor=\"middle\" x=\"248.5\" y=\"-45\" font-family=\"Times,serif\" font-size=\"10.00\">1</text>\n",
       "</g>\n",
       "<!-- CNOT_G0&#45;&gt;CNOT_G3 -->\n",
       "<g id=\"edge6\" class=\"edge\">\n",
       "<title>CNOT_G0:e-&gt;CNOT_G3:w</title>\n",
       "<path fill=\"none\" stroke=\"black\" d=\"M230,-56C248.38,-56 247.94,-35.69 264.85,-34.1\"/>\n",
       "<ellipse fill=\"black\" stroke=\"black\" cx=\"266\" cy=\"-34.05\" rx=\"1\" ry=\"1\"/>\n",
       "<text text-anchor=\"middle\" x=\"248.5\" y=\"-48\" font-family=\"Times,serif\" font-size=\"10.00\">1</text>\n",
       "</g>\n",
       "<!-- x -->\n",
       "<g id=\"node6\" class=\"node\">\n",
       "<title>x</title>\n",
       "<text text-anchor=\"middle\" x=\"382\" y=\"-68.3\" font-family=\"Times,serif\" font-size=\"14.00\">x</text>\n",
       "</g>\n",
       "<!-- CNOT_G3&#45;&gt;x -->\n",
       "<g id=\"edge7\" class=\"edge\">\n",
       "<title>CNOT_G3:e-&gt;x:w</title>\n",
       "<path fill=\"none\" stroke=\"black\" d=\"M318,-56C335.22,-56 336.97,-70.77 352.98,-71.93\"/>\n",
       "<ellipse fill=\"black\" stroke=\"black\" cx=\"354\" cy=\"-71.96\" rx=\"1\" ry=\"1\"/>\n",
       "<text text-anchor=\"middle\" x=\"336.5\" y=\"-67\" font-family=\"Times,serif\" font-size=\"10.00\">1</text>\n",
       "</g>\n",
       "<!-- y -->\n",
       "<g id=\"node7\" class=\"node\">\n",
       "<title>y</title>\n",
       "<text text-anchor=\"middle\" x=\"382\" y=\"-14.3\" font-family=\"Times,serif\" font-size=\"14.00\">y</text>\n",
       "</g>\n",
       "<!-- CNOT_G3&#45;&gt;y -->\n",
       "<g id=\"edge8\" class=\"edge\">\n",
       "<title>CNOT_G3:e-&gt;y:w</title>\n",
       "<path fill=\"none\" stroke=\"black\" d=\"M318,-34C335.22,-34 336.97,-19.23 352.98,-18.07\"/>\n",
       "<ellipse fill=\"black\" stroke=\"black\" cx=\"354\" cy=\"-18.04\" rx=\"1\" ry=\"1\"/>\n",
       "<text text-anchor=\"middle\" x=\"336.5\" y=\"-29\" font-family=\"Times,serif\" font-size=\"10.00\">1</text>\n",
       "</g>\n",
       "</g>\n",
       "</svg>"
      ],
      "text/plain": [
       "<IPython.core.display.SVG object>"
      ]
     },
     "metadata": {},
     "output_type": "display_data"
    }
   ],
   "source": [
    "show_bloq(swapBloq.decompose_bloq())"
   ]
  },
  {
   "cell_type": "markdown",
   "metadata": {
    "id": "hxr2CAiFYzSl"
   },
   "source": [
    "\n",
    "Similarly, a SWAP can also be created using BloqBuilder directly. This approach can be useful for testing or prototyping."
   ]
  },
  {
   "cell_type": "code",
   "execution_count": 27,
   "metadata": {
    "colab": {
     "base_uri": "https://localhost:8080/",
     "height": 171
    },
    "id": "SdwuLo52Y6sj",
    "jupyter": {
     "is_executing": true
    },
    "outputId": "d4d88ec6-c518-4252-ba46-8b1d74d7ebed"
   },
   "outputs": [
    {
     "data": {
      "image/svg+xml": [
       "<svg xmlns=\"http://www.w3.org/2000/svg\" xmlns:xlink=\"http://www.w3.org/1999/xlink\" width=\"417pt\" height=\"98pt\" viewBox=\"0.00 0.00 417.00 98.00\">\n",
       "<g id=\"graph0\" class=\"graph\" transform=\"scale(1 1) rotate(0) translate(4 94)\">\n",
       "<title>my_graph</title>\n",
       "<polygon fill=\"white\" stroke=\"transparent\" points=\"-4,4 -4,-94 413,-94 413,4 -4,4\"/>\n",
       "<!-- x_G11 -->\n",
       "<g id=\"node1\" class=\"node\">\n",
       "<title>x_G11</title>\n",
       "<text text-anchor=\"middle\" x=\"27\" y=\"-14.3\" font-family=\"Times,serif\" font-size=\"14.00\">x</text>\n",
       "</g>\n",
       "<!-- CNOT -->\n",
       "<g id=\"node3\" class=\"node\">\n",
       "<title>CNOT</title>\n",
       "<polygon fill=\"none\" stroke=\"black\" points=\"91.5,-66 91.5,-83 142.5,-83 142.5,-66 91.5,-66\"/>\n",
       "<text text-anchor=\"start\" x=\"101\" y=\"-72\" font-family=\"Times,serif\" font-size=\"10.00\">CNOT</text>\n",
       "<polygon fill=\"none\" stroke=\"black\" points=\"91.5,-45 91.5,-66 142.5,-66 142.5,-45 91.5,-45\"/>\n",
       "<text text-anchor=\"start\" x=\"104.5\" y=\"-51.8\" font-family=\"Times,serif\" font-size=\"14.00\">ctrl</text>\n",
       "<polygon fill=\"none\" stroke=\"black\" points=\"91.5,-24 91.5,-45 142.5,-45 142.5,-24 91.5,-24\"/>\n",
       "<text text-anchor=\"start\" x=\"94.5\" y=\"-30.8\" font-family=\"Times,serif\" font-size=\"14.00\">target</text>\n",
       "</g>\n",
       "<!-- x_G11&#45;&gt;CNOT -->\n",
       "<g id=\"edge2\" class=\"edge\">\n",
       "<title>x_G11:e-&gt;CNOT:w</title>\n",
       "<path fill=\"none\" stroke=\"black\" d=\"M54,-18C71.22,-18 72.97,-32.77 88.98,-33.93\"/>\n",
       "<ellipse fill=\"black\" stroke=\"black\" cx=\"90\" cy=\"-33.96\" rx=\"1\" ry=\"1\"/>\n",
       "<text text-anchor=\"middle\" x=\"72.5\" y=\"-29\" font-family=\"Times,serif\" font-size=\"10.00\">1</text>\n",
       "</g>\n",
       "<!-- y_G8 -->\n",
       "<g id=\"node2\" class=\"node\">\n",
       "<title>y_G8</title>\n",
       "<text text-anchor=\"middle\" x=\"27\" y=\"-68.3\" font-family=\"Times,serif\" font-size=\"14.00\">y</text>\n",
       "</g>\n",
       "<!-- y_G8&#45;&gt;CNOT -->\n",
       "<g id=\"edge1\" class=\"edge\">\n",
       "<title>y_G8:e-&gt;CNOT:w</title>\n",
       "<path fill=\"none\" stroke=\"black\" d=\"M54,-72C71.22,-72 72.97,-57.23 88.98,-56.07\"/>\n",
       "<ellipse fill=\"black\" stroke=\"black\" cx=\"90\" cy=\"-56.04\" rx=\"1\" ry=\"1\"/>\n",
       "<text text-anchor=\"middle\" x=\"72.5\" y=\"-68\" font-family=\"Times,serif\" font-size=\"10.00\">1</text>\n",
       "</g>\n",
       "<!-- CNOT_G0 -->\n",
       "<g id=\"node4\" class=\"node\">\n",
       "<title>CNOT_G0</title>\n",
       "<polygon fill=\"none\" stroke=\"black\" points=\"179.5,-66 179.5,-83 230.5,-83 230.5,-66 179.5,-66\"/>\n",
       "<text text-anchor=\"start\" x=\"189\" y=\"-72\" font-family=\"Times,serif\" font-size=\"10.00\">CNOT</text>\n",
       "<polygon fill=\"none\" stroke=\"black\" points=\"179.5,-45 179.5,-66 230.5,-66 230.5,-45 179.5,-45\"/>\n",
       "<text text-anchor=\"start\" x=\"192.5\" y=\"-51.8\" font-family=\"Times,serif\" font-size=\"14.00\">ctrl</text>\n",
       "<polygon fill=\"none\" stroke=\"black\" points=\"179.5,-24 179.5,-45 230.5,-45 230.5,-24 179.5,-24\"/>\n",
       "<text text-anchor=\"start\" x=\"182.5\" y=\"-30.8\" font-family=\"Times,serif\" font-size=\"14.00\">target</text>\n",
       "</g>\n",
       "<!-- CNOT&#45;&gt;CNOT_G0 -->\n",
       "<g id=\"edge3\" class=\"edge\">\n",
       "<title>CNOT:e-&gt;CNOT_G0:w</title>\n",
       "<path fill=\"none\" stroke=\"black\" d=\"M142,-34C151.16,-34 153.09,-37.37 161,-42 169.06,-46.72 168.94,-54.64 176.82,-55.84\"/>\n",
       "<ellipse fill=\"black\" stroke=\"black\" cx=\"178\" cy=\"-55.93\" rx=\"1\" ry=\"1\"/>\n",
       "<text text-anchor=\"middle\" x=\"160.5\" y=\"-45\" font-family=\"Times,serif\" font-size=\"10.00\">1</text>\n",
       "</g>\n",
       "<!-- CNOT&#45;&gt;CNOT_G0 -->\n",
       "<g id=\"edge4\" class=\"edge\">\n",
       "<title>CNOT:e-&gt;CNOT_G0:w</title>\n",
       "<path fill=\"none\" stroke=\"black\" d=\"M142,-56C160.38,-56 159.94,-35.69 176.85,-34.1\"/>\n",
       "<ellipse fill=\"black\" stroke=\"black\" cx=\"178\" cy=\"-34.05\" rx=\"1\" ry=\"1\"/>\n",
       "<text text-anchor=\"middle\" x=\"160.5\" y=\"-48\" font-family=\"Times,serif\" font-size=\"10.00\">1</text>\n",
       "</g>\n",
       "<!-- CNOT_G3 -->\n",
       "<g id=\"node5\" class=\"node\">\n",
       "<title>CNOT_G3</title>\n",
       "<polygon fill=\"none\" stroke=\"black\" points=\"267.5,-66 267.5,-83 318.5,-83 318.5,-66 267.5,-66\"/>\n",
       "<text text-anchor=\"start\" x=\"277\" y=\"-72\" font-family=\"Times,serif\" font-size=\"10.00\">CNOT</text>\n",
       "<polygon fill=\"none\" stroke=\"black\" points=\"267.5,-45 267.5,-66 318.5,-66 318.5,-45 267.5,-45\"/>\n",
       "<text text-anchor=\"start\" x=\"280.5\" y=\"-51.8\" font-family=\"Times,serif\" font-size=\"14.00\">ctrl</text>\n",
       "<polygon fill=\"none\" stroke=\"black\" points=\"267.5,-24 267.5,-45 318.5,-45 318.5,-24 267.5,-24\"/>\n",
       "<text text-anchor=\"start\" x=\"270.5\" y=\"-30.8\" font-family=\"Times,serif\" font-size=\"14.00\">target</text>\n",
       "</g>\n",
       "<!-- CNOT_G0&#45;&gt;CNOT_G3 -->\n",
       "<g id=\"edge5\" class=\"edge\">\n",
       "<title>CNOT_G0:e-&gt;CNOT_G3:w</title>\n",
       "<path fill=\"none\" stroke=\"black\" d=\"M230,-34C239.16,-34 241.09,-37.37 249,-42 257.06,-46.72 256.94,-54.64 264.82,-55.84\"/>\n",
       "<ellipse fill=\"black\" stroke=\"black\" cx=\"266\" cy=\"-55.93\" rx=\"1\" ry=\"1\"/>\n",
       "<text text-anchor=\"middle\" x=\"248.5\" y=\"-45\" font-family=\"Times,serif\" font-size=\"10.00\">1</text>\n",
       "</g>\n",
       "<!-- CNOT_G0&#45;&gt;CNOT_G3 -->\n",
       "<g id=\"edge6\" class=\"edge\">\n",
       "<title>CNOT_G0:e-&gt;CNOT_G3:w</title>\n",
       "<path fill=\"none\" stroke=\"black\" d=\"M230,-56C248.38,-56 247.94,-35.69 264.85,-34.1\"/>\n",
       "<ellipse fill=\"black\" stroke=\"black\" cx=\"266\" cy=\"-34.05\" rx=\"1\" ry=\"1\"/>\n",
       "<text text-anchor=\"middle\" x=\"248.5\" y=\"-48\" font-family=\"Times,serif\" font-size=\"10.00\">1</text>\n",
       "</g>\n",
       "<!-- x -->\n",
       "<g id=\"node6\" class=\"node\">\n",
       "<title>x</title>\n",
       "<text text-anchor=\"middle\" x=\"382\" y=\"-14.3\" font-family=\"Times,serif\" font-size=\"14.00\">x</text>\n",
       "</g>\n",
       "<!-- CNOT_G3&#45;&gt;x -->\n",
       "<g id=\"edge7\" class=\"edge\">\n",
       "<title>CNOT_G3:e-&gt;x:w</title>\n",
       "<path fill=\"none\" stroke=\"black\" d=\"M318,-34C335.22,-34 336.97,-19.23 352.98,-18.07\"/>\n",
       "<ellipse fill=\"black\" stroke=\"black\" cx=\"354\" cy=\"-18.04\" rx=\"1\" ry=\"1\"/>\n",
       "<text text-anchor=\"middle\" x=\"336.5\" y=\"-29\" font-family=\"Times,serif\" font-size=\"10.00\">1</text>\n",
       "</g>\n",
       "<!-- y -->\n",
       "<g id=\"node7\" class=\"node\">\n",
       "<title>y</title>\n",
       "<text text-anchor=\"middle\" x=\"382\" y=\"-68.3\" font-family=\"Times,serif\" font-size=\"14.00\">y</text>\n",
       "</g>\n",
       "<!-- CNOT_G3&#45;&gt;y -->\n",
       "<g id=\"edge8\" class=\"edge\">\n",
       "<title>CNOT_G3:e-&gt;y:w</title>\n",
       "<path fill=\"none\" stroke=\"black\" d=\"M318,-56C335.22,-56 336.97,-70.77 352.98,-71.93\"/>\n",
       "<ellipse fill=\"black\" stroke=\"black\" cx=\"354\" cy=\"-71.96\" rx=\"1\" ry=\"1\"/>\n",
       "<text text-anchor=\"middle\" x=\"336.5\" y=\"-68\" font-family=\"Times,serif\" font-size=\"10.00\">1</text>\n",
       "</g>\n",
       "</g>\n",
       "</svg>"
      ],
      "text/plain": [
       "<IPython.core.display.SVG object>"
      ]
     },
     "metadata": {},
     "output_type": "display_data"
    }
   ],
   "source": [
    "bb = BloqBuilder()\n",
    "x = bb.add_register('x', 1)\n",
    "y = bb.add_register('y', 1)\n",
    "y, x = bb.add(CNOT(), ctrl=y, target=x)\n",
    "x, y = bb.add(CNOT(), ctrl=x, target=y)\n",
    "y, x = bb.add(CNOT(), ctrl=y, target=x)\n",
    "cbloq = bb.finalize(x=x, y=y)\n",
    "show_bloq(cbloq)"
   ]
  },
  {
   "cell_type": "markdown",
   "metadata": {
    "id": "xK1DTIdqqR-r"
   },
   "source": [
    "## Exercise: Create a Bell state"
   ]
  },
  {
   "cell_type": "markdown",
   "metadata": {
    "id": "n2EmgZEyql2g"
   },
   "source": [
    "### Write your solution here"
   ]
  },
  {
   "cell_type": "code",
   "execution_count": 28,
   "metadata": {
    "id": "wUJK37pqqpzU",
    "jupyter": {
     "is_executing": true
    }
   },
   "outputs": [],
   "source": [
    "from qualtran.bloqs.basic_gates import CNOT, PlusState, ZeroState\n",
    "## declare BloqBuilder\n",
    "\n",
    "## add plus state\n",
    "\n",
    "## add zero state\n",
    "\n",
    "## entangle plus and zero state\n",
    "\n",
    "## finalize and show bloq"
   ]
  },
  {
   "cell_type": "markdown",
   "metadata": {
    "id": "2id-xdR7qsEO"
   },
   "source": [
    "### Expand to view the solution"
   ]
  },
  {
   "cell_type": "code",
   "execution_count": 29,
   "metadata": {
    "colab": {
     "base_uri": "https://localhost:8080/",
     "height": 186
    },
    "id": "enDXCCtCBQIG",
    "jupyter": {
     "is_executing": true
    },
    "outputId": "1ffd78b7-a72b-4330-b11c-3d68ecd0d06f"
   },
   "outputs": [
    {
     "data": {
      "image/svg+xml": [
       "<svg xmlns=\"http://www.w3.org/2000/svg\" xmlns:xlink=\"http://www.w3.org/1999/xlink\" width=\"243pt\" height=\"109pt\" viewBox=\"0.00 0.00 243.00 109.00\">\n",
       "<g id=\"graph0\" class=\"graph\" transform=\"scale(1 1) rotate(0) translate(4 105)\">\n",
       "<title>my_graph</title>\n",
       "<polygon fill=\"white\" stroke=\"transparent\" points=\"-4,4 -4,-105 239,-105 239,4 -4,4\"/>\n",
       "<!-- ZeroState -->\n",
       "<g id=\"node1\" class=\"node\">\n",
       "<title>ZeroState</title>\n",
       "<polygon fill=\"none\" stroke=\"black\" points=\"0,-28 0,-45 56,-45 56,-28 0,-28\"/>\n",
       "<text text-anchor=\"start\" x=\"3\" y=\"-34\" font-family=\"Times,serif\" font-size=\"10.00\">ZeroState</text>\n",
       "<polygon fill=\"none\" stroke=\"black\" points=\"0,-7 0,-28 23,-28 23,-7 0,-7\"/>\n",
       "<polygon fill=\"none\" stroke=\"black\" points=\"23,-7 23,-28 56,-28 56,-7 23,-7\"/>\n",
       "<text text-anchor=\"start\" x=\"34.5\" y=\"-13.8\" font-family=\"Times,serif\" font-size=\"14.00\">q</text>\n",
       "</g>\n",
       "<!-- CNOT -->\n",
       "<g id=\"node2\" class=\"node\">\n",
       "<title>CNOT</title>\n",
       "<polygon fill=\"none\" stroke=\"black\" points=\"93.5,-66 93.5,-83 144.5,-83 144.5,-66 93.5,-66\"/>\n",
       "<text text-anchor=\"start\" x=\"103\" y=\"-72\" font-family=\"Times,serif\" font-size=\"10.00\">CNOT</text>\n",
       "<polygon fill=\"none\" stroke=\"black\" points=\"93.5,-45 93.5,-66 144.5,-66 144.5,-45 93.5,-45\"/>\n",
       "<text text-anchor=\"start\" x=\"106.5\" y=\"-51.8\" font-family=\"Times,serif\" font-size=\"14.00\">ctrl</text>\n",
       "<polygon fill=\"none\" stroke=\"black\" points=\"93.5,-24 93.5,-45 144.5,-45 144.5,-24 93.5,-24\"/>\n",
       "<text text-anchor=\"start\" x=\"96.5\" y=\"-30.8\" font-family=\"Times,serif\" font-size=\"14.00\">target</text>\n",
       "</g>\n",
       "<!-- ZeroState&#45;&gt;CNOT -->\n",
       "<g id=\"edge2\" class=\"edge\">\n",
       "<title>ZeroState:e-&gt;CNOT:w</title>\n",
       "<path fill=\"none\" stroke=\"black\" d=\"M56,-17C73.39,-17 74.81,-32.7 90.96,-33.92\"/>\n",
       "<ellipse fill=\"black\" stroke=\"black\" cx=\"92\" cy=\"-33.96\" rx=\"1\" ry=\"1\"/>\n",
       "<text text-anchor=\"middle\" x=\"74.5\" y=\"-29\" font-family=\"Times,serif\" font-size=\"10.00\">1</text>\n",
       "</g>\n",
       "<!-- q0 -->\n",
       "<g id=\"node4\" class=\"node\">\n",
       "<title>q0</title>\n",
       "<text text-anchor=\"middle\" x=\"208\" y=\"-68.3\" font-family=\"Times,serif\" font-size=\"14.00\">q0</text>\n",
       "</g>\n",
       "<!-- CNOT&#45;&gt;q0 -->\n",
       "<g id=\"edge3\" class=\"edge\">\n",
       "<title>CNOT:e-&gt;q0:w</title>\n",
       "<path fill=\"none\" stroke=\"black\" d=\"M144,-56C161.22,-56 162.97,-70.77 178.98,-71.93\"/>\n",
       "<ellipse fill=\"black\" stroke=\"black\" cx=\"180\" cy=\"-71.96\" rx=\"1\" ry=\"1\"/>\n",
       "<text text-anchor=\"middle\" x=\"162.5\" y=\"-67\" font-family=\"Times,serif\" font-size=\"10.00\">1</text>\n",
       "</g>\n",
       "<!-- q1 -->\n",
       "<g id=\"node5\" class=\"node\">\n",
       "<title>q1</title>\n",
       "<text text-anchor=\"middle\" x=\"208\" y=\"-14.3\" font-family=\"Times,serif\" font-size=\"14.00\">q1</text>\n",
       "</g>\n",
       "<!-- CNOT&#45;&gt;q1 -->\n",
       "<g id=\"edge4\" class=\"edge\">\n",
       "<title>CNOT:e-&gt;q1:w</title>\n",
       "<path fill=\"none\" stroke=\"black\" d=\"M144,-34C161.22,-34 162.97,-19.23 178.98,-18.07\"/>\n",
       "<ellipse fill=\"black\" stroke=\"black\" cx=\"180\" cy=\"-18.04\" rx=\"1\" ry=\"1\"/>\n",
       "<text text-anchor=\"middle\" x=\"162.5\" y=\"-29\" font-family=\"Times,serif\" font-size=\"10.00\">1</text>\n",
       "</g>\n",
       "<!-- PlusState -->\n",
       "<g id=\"node3\" class=\"node\">\n",
       "<title>PlusState</title>\n",
       "<polygon fill=\"none\" stroke=\"black\" points=\"1,-84 1,-101 56,-101 56,-84 1,-84\"/>\n",
       "<text text-anchor=\"start\" x=\"4\" y=\"-90\" font-family=\"Times,serif\" font-size=\"10.00\">PlusState</text>\n",
       "<polygon fill=\"none\" stroke=\"black\" points=\"1,-63 1,-84 23,-84 23,-63 1,-63\"/>\n",
       "<polygon fill=\"none\" stroke=\"black\" points=\"23,-63 23,-84 56,-84 56,-63 23,-63\"/>\n",
       "<text text-anchor=\"start\" x=\"34.5\" y=\"-69.8\" font-family=\"Times,serif\" font-size=\"14.00\">q</text>\n",
       "</g>\n",
       "<!-- PlusState&#45;&gt;CNOT -->\n",
       "<g id=\"edge1\" class=\"edge\">\n",
       "<title>PlusState:e-&gt;CNOT:w</title>\n",
       "<path fill=\"none\" stroke=\"black\" d=\"M56,-73C73.39,-73 74.81,-57.3 90.96,-56.08\"/>\n",
       "<ellipse fill=\"black\" stroke=\"black\" cx=\"92\" cy=\"-56.04\" rx=\"1\" ry=\"1\"/>\n",
       "<text text-anchor=\"middle\" x=\"74.5\" y=\"-68\" font-family=\"Times,serif\" font-size=\"10.00\">1</text>\n",
       "</g>\n",
       "</g>\n",
       "</svg>"
      ],
      "text/plain": [
       "<IPython.core.display.SVG object>"
      ]
     },
     "metadata": {},
     "output_type": "display_data"
    }
   ],
   "source": [
    "from qualtran.bloqs.basic_gates import CNOT, PlusState, ZeroState\n",
    "\n",
    "bb = BloqBuilder()\n",
    "q0 = bb.add(PlusState())\n",
    "q1 = bb.add(ZeroState())\n",
    "\n",
    "q0, q1 = bb.add(CNOT(), ctrl=q0, target=q1)\n",
    "\n",
    "cbloq = bb.finalize(q0=q0, q1=q1)\n",
    "show_bloq(cbloq)"
   ]
  },
  {
   "cell_type": "markdown",
   "metadata": {
    "id": "A5BHn66w4xHS"
   },
   "source": [
    "## Quantum variables and Soquets.\n",
    "In the example of SWAP bloq above `x, y` are quantum variables. In Qualtran quantum varibles have type `Soquet` and must follow the rules of quantum mechanics. All of these rule are enforced by `BloqBuilder`."
   ]
  },
  {
   "cell_type": "code",
   "execution_count": 34,
   "metadata": {
    "colab": {
     "base_uri": "https://localhost:8080/"
    },
    "id": "MXpcBG8tkL3Y",
    "jupyter": {
     "is_executing": true
    },
    "outputId": "f042df3a-4775-4883-cd1f-7a542751a45d"
   },
   "outputs": [
    {
     "name": "stdout",
     "output_type": "stream",
     "text": [
      "Can't use a variable as both control and target!\n",
      "LeftDangle.x is not an available Soquet for `CNOT.target`.\n"
     ]
    }
   ],
   "source": [
    "from qualtran import BloqError\n",
    "\n",
    "bb = BloqBuilder()\n",
    "x = bb.add_register('x', 1)\n",
    "y = bb.add_register('y', 1)\n",
    "\n",
    "try:\n",
    "    _ = bb.add(CNOT(), ctrl=x, target=x)\n",
    "except BloqError as e:\n",
    "    print(\"Can't use a variable as both control and target!\")\n",
    "    print(e)"
   ]
  },
  {
   "cell_type": "code",
   "execution_count": 35,
   "metadata": {
    "colab": {
     "base_uri": "https://localhost:8080/"
    },
    "id": "_it5BEJZkL-s",
    "jupyter": {
     "is_executing": true
    },
    "outputId": "80ffc6b3-9b2f-4339-d9d8-62104f7b5304"
   },
   "outputs": [
    {
     "name": "stdout",
     "output_type": "stream",
     "text": [
      "`x` and `y` were consumed by the first call to `add`.\n",
      "Returned quantum variables are *new, immutable* variables that you use\n",
      "in subsequent operations\n",
      "LeftDangle.x is not an available Soquet for `CNOT.ctrl`.\n"
     ]
    }
   ],
   "source": [
    "bb = BloqBuilder()\n",
    "x = bb.add_register('x', 1)\n",
    "y = bb.add_register('y', 1)\n",
    "\n",
    "x2, y2 = bb.add(CNOT(), ctrl=x, target=y)\n",
    "\n",
    "try:\n",
    "    x3, y3 = bb.add(CNOT(), ctrl=x, target=y)\n",
    "except BloqError as e:\n",
    "    print(\"`x` and `y` were consumed by the first call to `add`.\")\n",
    "    print(\"Returned quantum variables are *new, immutable* variables that you use\")\n",
    "    print(\"in subsequent operations\")\n",
    "    print(e)\n"
   ]
  },
  {
   "cell_type": "code",
   "execution_count": 36,
   "metadata": {
    "colab": {
     "base_uri": "https://localhost:8080/"
    },
    "id": "IMs3wt6tkMGr",
    "jupyter": {
     "is_executing": true
    },
    "outputId": "7d22bde2-f23b-46d9-e479-e4af642abea0"
   },
   "outputs": [
    {
     "name": "stdout",
     "output_type": "stream",
     "text": [
      "Any unused variables must be 'passed on' to `finalize` to be outputs.\n",
      "Finalizing requires a Soquet named `y`.\n"
     ]
    }
   ],
   "source": [
    "bb = BloqBuilder()\n",
    "x = bb.add_register('x', 1)\n",
    "y = bb.add_register('y', 1)\n",
    "\n",
    "# The following line turns on the additional checks needed to\n",
    "# raise an exception in this case:\n",
    "bb.add_register_allowed = False\n",
    "\n",
    "x2, y2 = bb.add(CNOT(), ctrl=x, target=y)\n",
    "x3, y3 = bb.add(CNOT(), ctrl=x2, target=y2)\n",
    "\n",
    "try:\n",
    "    bb.finalize(x=x3)\n",
    "except BloqError as e:\n",
    "    print(\"Any unused variables must be 'passed on' to `finalize` to be outputs.\")\n",
    "    print(e)\n"
   ]
  },
  {
   "cell_type": "markdown",
   "metadata": {
    "id": "cHSSWnaGk6tG"
   },
   "source": [
    "## Large registers"
   ]
  },
  {
   "cell_type": "code",
   "execution_count": 38,
   "metadata": {},
   "outputs": [
    {
     "name": "stdout",
     "output_type": "stream",
     "text": [
      "total bits: 288\n"
     ]
    }
   ],
   "source": [
    "arr_reg = Register('arr', QAny(32), shape=(3, 3))\n",
    "print('total bits:', arr_reg.total_bits())"
   ]
  },
  {
   "cell_type": "markdown",
   "metadata": {},
   "source": [
    "<div class=\"alert alert-block alert-info\">`shape` is like `np.ndarray.shape`.</div>\n",
    "\n",
    "In computing, we can think of all data as an ndarray of bits or qubits, but -- analogous to\n",
    "classical data types -- it's preferable to treat a certain number of bits (or qubits) as\n",
    "our atomic datatype. For example, in C, an array of `int32 x[10];` does not let you index\n",
    "into individual bits like `x[3][31]`. Unlike in C, you are not limited by machine word size\n",
    "for atomic type sizes, which is why above we could define a register of `bitsize=5`.\n",
    "\n",
    "In the `SwapTwoBits` example everything was `bitsize=1` and we could write our decomposition\n",
    "without slicing into the registers. Let's write a version of `Swap` that uses an array\n",
    "of `bitsize=1` values."
   ]
  },
  {
   "cell_type": "markdown",
   "metadata": {
    "id": "4e-GwR-olUlg"
   },
   "source": [
    "Let's move on to a more complicated example where we create a `Bloq` that performs bitwise CNOT betwen two n-bits quantum registers.\n",
    "\n",
    "This kind of operator will be useful to Quantum Error Correction, where we wish to apply logical CNOTs on two logical qubits. As mentioned before, it is not possible to index individual bits. To overcome this problem, you can change the shape of the Register or use `BloqBuilder.split()` and `BloqBuilder.join()` to manipulate the register."
   ]
  },
  {
   "cell_type": "code",
   "execution_count": 42,
   "metadata": {
    "id": "JTUJcranWeeF",
    "jupyter": {
     "is_executing": true
    }
   },
   "outputs": [],
   "source": [
    "\"\"\"\n",
    "  Approach 1: use split() and join()\n",
    "\"\"\"\n",
    "\n",
    "@attrs.frozen\n",
    "class BitwiseCnot2(Bloq):\n",
    "    n: int\n",
    "    @property\n",
    "    def signature(self):\n",
    "        return Signature.build(x=self.n, y=self.n)\n",
    "\n",
    "    def build_composite_bloq(\n",
    "            self, bb: BloqBuilder, *, x: SoquetT, y: SoquetT\n",
    "    ) -> Dict[str, SoquetT]:\n",
    "        xs = bb.split(x)\n",
    "        ys = bb.split(y)\n",
    "\n",
    "        for i in range(self.n):\n",
    "            xs[i], ys[i] = bb.add(CNOT(), ctrl=xs[i], target=ys[i])\n",
    "        return {\n",
    "            'x': bb.join(xs),\n",
    "            'y': bb.join(ys),\n",
    "        }"
   ]
  },
  {
   "cell_type": "code",
   "execution_count": 16,
   "metadata": {
    "colab": {
     "base_uri": "https://localhost:8080/",
     "height": 630
    },
    "id": "sIGxHY2aZue_",
    "jupyter": {
     "is_executing": true
    },
    "outputId": "bffc3410-b518-4587-b302-93cd9ae86439"
   },
   "outputs": [
    {
     "data": {
      "image/svg+xml": [
       "<svg xmlns=\"http://www.w3.org/2000/svg\" xmlns:xlink=\"http://www.w3.org/1999/xlink\" width=\"293pt\" height=\"442pt\" viewBox=\"0.00 0.00 293.00 442.00\">\n",
       "<g id=\"graph0\" class=\"graph\" transform=\"scale(1 1) rotate(0) translate(4 438)\">\n",
       "<title>my_graph</title>\n",
       "<polygon fill=\"white\" stroke=\"transparent\" points=\"-4,4 -4,-438 289,-438 289,4 -4,4\"/>\n",
       "<!-- ctrl_G30 -->\n",
       "<g id=\"node1\" class=\"node\">\n",
       "<title>ctrl_G30</title>\n",
       "<text text-anchor=\"middle\" x=\"40\" y=\"-68.3\" font-family=\"Times,serif\" font-size=\"14.00\">ctrl[0]</text>\n",
       "</g>\n",
       "<!-- CNOT_G0 -->\n",
       "<g id=\"node10\" class=\"node\">\n",
       "<title>CNOT_G0</title>\n",
       "<polygon fill=\"none\" stroke=\"black\" points=\"117.5,-66 117.5,-83 168.5,-83 168.5,-66 117.5,-66\"/>\n",
       "<text text-anchor=\"start\" x=\"127\" y=\"-72\" font-family=\"Times,serif\" font-size=\"10.00\">CNOT</text>\n",
       "<polygon fill=\"none\" stroke=\"black\" points=\"117.5,-45 117.5,-66 168.5,-66 168.5,-45 117.5,-45\"/>\n",
       "<text text-anchor=\"start\" x=\"130.5\" y=\"-51.8\" font-family=\"Times,serif\" font-size=\"14.00\">ctrl</text>\n",
       "<polygon fill=\"none\" stroke=\"black\" points=\"117.5,-24 117.5,-45 168.5,-45 168.5,-24 117.5,-24\"/>\n",
       "<text text-anchor=\"start\" x=\"120.5\" y=\"-30.8\" font-family=\"Times,serif\" font-size=\"14.00\">target</text>\n",
       "</g>\n",
       "<!-- ctrl_G30&#45;&gt;CNOT_G0 -->\n",
       "<g id=\"edge1\" class=\"edge\">\n",
       "<title>ctrl_G30:e-&gt;CNOT_G0:w</title>\n",
       "<path fill=\"none\" stroke=\"black\" d=\"M72,-72C92.4,-72 95.55,-57.23 114.6,-56.07\"/>\n",
       "<ellipse fill=\"black\" stroke=\"black\" cx=\"116\" cy=\"-56.03\" rx=\"1\" ry=\"1\"/>\n",
       "<text text-anchor=\"middle\" x=\"98.5\" y=\"-65\" font-family=\"Times,serif\" font-size=\"10.00\">1</text>\n",
       "</g>\n",
       "<!-- ctrl_G26 -->\n",
       "<g id=\"node2\" class=\"node\">\n",
       "<title>ctrl_G26</title>\n",
       "<text text-anchor=\"middle\" x=\"40\" y=\"-188.3\" font-family=\"Times,serif\" font-size=\"14.00\">ctrl[1]</text>\n",
       "</g>\n",
       "<!-- CNOT_G3 -->\n",
       "<g id=\"node11\" class=\"node\">\n",
       "<title>CNOT_G3</title>\n",
       "<polygon fill=\"none\" stroke=\"black\" points=\"117.5,-178 117.5,-195 168.5,-195 168.5,-178 117.5,-178\"/>\n",
       "<text text-anchor=\"start\" x=\"127\" y=\"-184\" font-family=\"Times,serif\" font-size=\"10.00\">CNOT</text>\n",
       "<polygon fill=\"none\" stroke=\"black\" points=\"117.5,-157 117.5,-178 168.5,-178 168.5,-157 117.5,-157\"/>\n",
       "<text text-anchor=\"start\" x=\"130.5\" y=\"-163.8\" font-family=\"Times,serif\" font-size=\"14.00\">ctrl</text>\n",
       "<polygon fill=\"none\" stroke=\"black\" points=\"117.5,-136 117.5,-157 168.5,-157 168.5,-136 117.5,-136\"/>\n",
       "<text text-anchor=\"start\" x=\"120.5\" y=\"-142.8\" font-family=\"Times,serif\" font-size=\"14.00\">target</text>\n",
       "</g>\n",
       "<!-- ctrl_G26&#45;&gt;CNOT_G3 -->\n",
       "<g id=\"edge3\" class=\"edge\">\n",
       "<title>ctrl_G26:e-&gt;CNOT_G3:w</title>\n",
       "<path fill=\"none\" stroke=\"black\" d=\"M72,-192C93.96,-192 94.33,-169.48 114.94,-168.07\"/>\n",
       "<ellipse fill=\"black\" stroke=\"black\" cx=\"116\" cy=\"-168.03\" rx=\"1\" ry=\"1\"/>\n",
       "<text text-anchor=\"middle\" x=\"98.5\" y=\"-179\" font-family=\"Times,serif\" font-size=\"10.00\">1</text>\n",
       "</g>\n",
       "<!-- ctrl_G32 -->\n",
       "<g id=\"node3\" class=\"node\">\n",
       "<title>ctrl_G32</title>\n",
       "<text text-anchor=\"middle\" x=\"40\" y=\"-296.3\" font-family=\"Times,serif\" font-size=\"14.00\">ctrl[2]</text>\n",
       "</g>\n",
       "<!-- CNOT_G6 -->\n",
       "<g id=\"node12\" class=\"node\">\n",
       "<title>CNOT_G6</title>\n",
       "<polygon fill=\"none\" stroke=\"black\" points=\"117.5,-310 117.5,-327 168.5,-327 168.5,-310 117.5,-310\"/>\n",
       "<text text-anchor=\"start\" x=\"127\" y=\"-316\" font-family=\"Times,serif\" font-size=\"10.00\">CNOT</text>\n",
       "<polygon fill=\"none\" stroke=\"black\" points=\"117.5,-289 117.5,-310 168.5,-310 168.5,-289 117.5,-289\"/>\n",
       "<text text-anchor=\"start\" x=\"130.5\" y=\"-295.8\" font-family=\"Times,serif\" font-size=\"14.00\">ctrl</text>\n",
       "<polygon fill=\"none\" stroke=\"black\" points=\"117.5,-268 117.5,-289 168.5,-289 168.5,-268 117.5,-268\"/>\n",
       "<text text-anchor=\"start\" x=\"120.5\" y=\"-274.8\" font-family=\"Times,serif\" font-size=\"14.00\">target</text>\n",
       "</g>\n",
       "<!-- ctrl_G32&#45;&gt;CNOT_G6 -->\n",
       "<g id=\"edge5\" class=\"edge\">\n",
       "<title>ctrl_G32:e-&gt;CNOT_G6:w</title>\n",
       "<path fill=\"none\" stroke=\"black\" d=\"M72,-300C91.22,-300 96.59,-300 114.72,-300\"/>\n",
       "<ellipse fill=\"black\" stroke=\"black\" cx=\"116\" cy=\"-300\" rx=\"1\" ry=\"1\"/>\n",
       "<text text-anchor=\"middle\" x=\"98.5\" y=\"-303\" font-family=\"Times,serif\" font-size=\"10.00\">1</text>\n",
       "</g>\n",
       "<!-- ctrl_G17 -->\n",
       "<g id=\"node4\" class=\"node\">\n",
       "<title>ctrl_G17</title>\n",
       "<text text-anchor=\"middle\" x=\"40\" y=\"-412.3\" font-family=\"Times,serif\" font-size=\"14.00\">ctrl[3]</text>\n",
       "</g>\n",
       "<!-- CNOT -->\n",
       "<g id=\"node9\" class=\"node\">\n",
       "<title>CNOT</title>\n",
       "<polygon fill=\"none\" stroke=\"black\" points=\"117.5,-410 117.5,-427 168.5,-427 168.5,-410 117.5,-410\"/>\n",
       "<text text-anchor=\"start\" x=\"127\" y=\"-416\" font-family=\"Times,serif\" font-size=\"10.00\">CNOT</text>\n",
       "<polygon fill=\"none\" stroke=\"black\" points=\"117.5,-389 117.5,-410 168.5,-410 168.5,-389 117.5,-389\"/>\n",
       "<text text-anchor=\"start\" x=\"130.5\" y=\"-395.8\" font-family=\"Times,serif\" font-size=\"14.00\">ctrl</text>\n",
       "<polygon fill=\"none\" stroke=\"black\" points=\"117.5,-368 117.5,-389 168.5,-389 168.5,-368 117.5,-368\"/>\n",
       "<text text-anchor=\"start\" x=\"120.5\" y=\"-374.8\" font-family=\"Times,serif\" font-size=\"14.00\">target</text>\n",
       "</g>\n",
       "<!-- ctrl_G17&#45;&gt;CNOT -->\n",
       "<g id=\"edge7\" class=\"edge\">\n",
       "<title>ctrl_G17:e-&gt;CNOT:w</title>\n",
       "<path fill=\"none\" stroke=\"black\" d=\"M72,-416C92.4,-416 95.55,-401.23 114.6,-400.07\"/>\n",
       "<ellipse fill=\"black\" stroke=\"black\" cx=\"116\" cy=\"-400.03\" rx=\"1\" ry=\"1\"/>\n",
       "<text text-anchor=\"middle\" x=\"98.5\" y=\"-408\" font-family=\"Times,serif\" font-size=\"10.00\">1</text>\n",
       "</g>\n",
       "<!-- target_G11 -->\n",
       "<g id=\"node5\" class=\"node\">\n",
       "<title>target_G11</title>\n",
       "<text text-anchor=\"middle\" x=\"40\" y=\"-14.3\" font-family=\"Times,serif\" font-size=\"14.00\">target[0]</text>\n",
       "</g>\n",
       "<!-- target_G11&#45;&gt;CNOT_G0 -->\n",
       "<g id=\"edge2\" class=\"edge\">\n",
       "<title>target_G11:e-&gt;CNOT_G0:w</title>\n",
       "<path fill=\"none\" stroke=\"black\" d=\"M80,-18C97.22,-18 98.97,-32.77 114.98,-33.93\"/>\n",
       "<ellipse fill=\"black\" stroke=\"black\" cx=\"116\" cy=\"-33.96\" rx=\"1\" ry=\"1\"/>\n",
       "<text text-anchor=\"middle\" x=\"98.5\" y=\"-29\" font-family=\"Times,serif\" font-size=\"10.00\">1</text>\n",
       "</g>\n",
       "<!-- target_G9 -->\n",
       "<g id=\"node6\" class=\"node\">\n",
       "<title>target_G9</title>\n",
       "<text text-anchor=\"middle\" x=\"40\" y=\"-134.3\" font-family=\"Times,serif\" font-size=\"14.00\">target[1]</text>\n",
       "</g>\n",
       "<!-- target_G9&#45;&gt;CNOT_G3 -->\n",
       "<g id=\"edge4\" class=\"edge\">\n",
       "<title>target_G9:e-&gt;CNOT_G3:w</title>\n",
       "<path fill=\"none\" stroke=\"black\" d=\"M80,-138C96.04,-138 99.83,-145.27 114.72,-145.95\"/>\n",
       "<ellipse fill=\"black\" stroke=\"black\" cx=\"116\" cy=\"-145.98\" rx=\"1\" ry=\"1\"/>\n",
       "<text text-anchor=\"middle\" x=\"98.5\" y=\"-145\" font-family=\"Times,serif\" font-size=\"10.00\">1</text>\n",
       "</g>\n",
       "<!-- target_G12 -->\n",
       "<g id=\"node7\" class=\"node\">\n",
       "<title>target_G12</title>\n",
       "<text text-anchor=\"middle\" x=\"40\" y=\"-242.3\" font-family=\"Times,serif\" font-size=\"14.00\">target[2]</text>\n",
       "</g>\n",
       "<!-- target_G12&#45;&gt;CNOT_G6 -->\n",
       "<g id=\"edge6\" class=\"edge\">\n",
       "<title>target_G12:e-&gt;CNOT_G6:w</title>\n",
       "<path fill=\"none\" stroke=\"black\" d=\"M80,-246C100.89,-246 95.72,-275.55 114.58,-277.86\"/>\n",
       "<ellipse fill=\"black\" stroke=\"black\" cx=\"116\" cy=\"-277.94\" rx=\"1\" ry=\"1\"/>\n",
       "<text text-anchor=\"middle\" x=\"98.5\" y=\"-265\" font-family=\"Times,serif\" font-size=\"10.00\">1</text>\n",
       "</g>\n",
       "<!-- target_G21 -->\n",
       "<g id=\"node8\" class=\"node\">\n",
       "<title>target_G21</title>\n",
       "<text text-anchor=\"middle\" x=\"40\" y=\"-358.3\" font-family=\"Times,serif\" font-size=\"14.00\">target[3]</text>\n",
       "</g>\n",
       "<!-- target_G21&#45;&gt;CNOT -->\n",
       "<g id=\"edge8\" class=\"edge\">\n",
       "<title>target_G21:e-&gt;CNOT:w</title>\n",
       "<path fill=\"none\" stroke=\"black\" d=\"M80,-362C97.22,-362 98.97,-376.77 114.98,-377.93\"/>\n",
       "<ellipse fill=\"black\" stroke=\"black\" cx=\"116\" cy=\"-377.96\" rx=\"1\" ry=\"1\"/>\n",
       "<text text-anchor=\"middle\" x=\"98.5\" y=\"-373\" font-family=\"Times,serif\" font-size=\"10.00\">1</text>\n",
       "</g>\n",
       "<!-- ctrl_G25 -->\n",
       "<g id=\"node16\" class=\"node\">\n",
       "<title>ctrl_G25</title>\n",
       "<text text-anchor=\"middle\" x=\"245\" y=\"-404.3\" font-family=\"Times,serif\" font-size=\"14.00\">ctrl[3]</text>\n",
       "</g>\n",
       "<!-- CNOT&#45;&gt;ctrl_G25 -->\n",
       "<g id=\"edge12\" class=\"edge\">\n",
       "<title>CNOT:e-&gt;ctrl_G25:w</title>\n",
       "<path fill=\"none\" stroke=\"black\" d=\"M168,-400C187.52,-400 192.32,-407.39 210.69,-407.96\"/>\n",
       "<ellipse fill=\"black\" stroke=\"black\" cx=\"212\" cy=\"-407.98\" rx=\"1\" ry=\"1\"/>\n",
       "<text text-anchor=\"middle\" x=\"186.5\" y=\"-405\" font-family=\"Times,serif\" font-size=\"10.00\">1</text>\n",
       "</g>\n",
       "<!-- target_G16 -->\n",
       "<g id=\"node20\" class=\"node\">\n",
       "<title>target_G16</title>\n",
       "<text text-anchor=\"middle\" x=\"245\" y=\"-350.3\" font-family=\"Times,serif\" font-size=\"14.00\">target[3]</text>\n",
       "</g>\n",
       "<!-- CNOT&#45;&gt;target_G16 -->\n",
       "<g id=\"edge16\" class=\"edge\">\n",
       "<title>CNOT:e-&gt;target_G16:w</title>\n",
       "<path fill=\"none\" stroke=\"black\" d=\"M168,-378C186.84,-378 185.54,-355.84 202.8,-354.11\"/>\n",
       "<ellipse fill=\"black\" stroke=\"black\" cx=\"204\" cy=\"-354.05\" rx=\"1\" ry=\"1\"/>\n",
       "<text text-anchor=\"middle\" x=\"186.5\" y=\"-369\" font-family=\"Times,serif\" font-size=\"10.00\">1</text>\n",
       "</g>\n",
       "<!-- ctrl_G18 -->\n",
       "<g id=\"node13\" class=\"node\">\n",
       "<title>ctrl_G18</title>\n",
       "<text text-anchor=\"middle\" x=\"245\" y=\"-72.3\" font-family=\"Times,serif\" font-size=\"14.00\">ctrl[0]</text>\n",
       "</g>\n",
       "<!-- CNOT_G0&#45;&gt;ctrl_G18 -->\n",
       "<g id=\"edge9\" class=\"edge\">\n",
       "<title>CNOT_G0:e-&gt;ctrl_G18:w</title>\n",
       "<path fill=\"none\" stroke=\"black\" d=\"M168,-56C189.03,-56 190.99,-74.47 210.53,-75.91\"/>\n",
       "<ellipse fill=\"black\" stroke=\"black\" cx=\"212\" cy=\"-75.96\" rx=\"1\" ry=\"1\"/>\n",
       "<text text-anchor=\"middle\" x=\"186.5\" y=\"-67\" font-family=\"Times,serif\" font-size=\"10.00\">1</text>\n",
       "</g>\n",
       "<!-- target_G29 -->\n",
       "<g id=\"node17\" class=\"node\">\n",
       "<title>target_G29</title>\n",
       "<text text-anchor=\"middle\" x=\"245\" y=\"-18.3\" font-family=\"Times,serif\" font-size=\"14.00\">target[0]</text>\n",
       "</g>\n",
       "<!-- CNOT_G0&#45;&gt;target_G29 -->\n",
       "<g id=\"edge13\" class=\"edge\">\n",
       "<title>CNOT_G0:e-&gt;target_G29:w</title>\n",
       "<path fill=\"none\" stroke=\"black\" d=\"M168,-34C184.48,-34 187.45,-23.1 202.66,-22.08\"/>\n",
       "<ellipse fill=\"black\" stroke=\"black\" cx=\"204\" cy=\"-22.03\" rx=\"1\" ry=\"1\"/>\n",
       "<text text-anchor=\"middle\" x=\"186.5\" y=\"-31\" font-family=\"Times,serif\" font-size=\"10.00\">1</text>\n",
       "</g>\n",
       "<!-- ctrl_G14 -->\n",
       "<g id=\"node14\" class=\"node\">\n",
       "<title>ctrl_G14</title>\n",
       "<text text-anchor=\"middle\" x=\"245\" y=\"-180.3\" font-family=\"Times,serif\" font-size=\"14.00\">ctrl[1]</text>\n",
       "</g>\n",
       "<!-- CNOT_G3&#45;&gt;ctrl_G14 -->\n",
       "<g id=\"edge10\" class=\"edge\">\n",
       "<title>CNOT_G3:e-&gt;ctrl_G14:w</title>\n",
       "<path fill=\"none\" stroke=\"black\" d=\"M168,-168C188.4,-168 191.55,-182.77 210.6,-183.93\"/>\n",
       "<ellipse fill=\"black\" stroke=\"black\" cx=\"212\" cy=\"-183.97\" rx=\"1\" ry=\"1\"/>\n",
       "<text text-anchor=\"middle\" x=\"186.5\" y=\"-177\" font-family=\"Times,serif\" font-size=\"10.00\">1</text>\n",
       "</g>\n",
       "<!-- target_G24 -->\n",
       "<g id=\"node18\" class=\"node\">\n",
       "<title>target_G24</title>\n",
       "<text text-anchor=\"middle\" x=\"245\" y=\"-126.3\" font-family=\"Times,serif\" font-size=\"14.00\">target[1]</text>\n",
       "</g>\n",
       "<!-- CNOT_G3&#45;&gt;target_G24 -->\n",
       "<g id=\"edge14\" class=\"edge\">\n",
       "<title>CNOT_G3:e-&gt;target_G24:w</title>\n",
       "<path fill=\"none\" stroke=\"black\" d=\"M168,-146C185.22,-146 186.97,-131.23 202.98,-130.07\"/>\n",
       "<ellipse fill=\"black\" stroke=\"black\" cx=\"204\" cy=\"-130.04\" rx=\"1\" ry=\"1\"/>\n",
       "<text text-anchor=\"middle\" x=\"186.5\" y=\"-141\" font-family=\"Times,serif\" font-size=\"10.00\">1</text>\n",
       "</g>\n",
       "<!-- ctrl_G19 -->\n",
       "<g id=\"node15\" class=\"node\">\n",
       "<title>ctrl_G19</title>\n",
       "<text text-anchor=\"middle\" x=\"245\" y=\"-296.3\" font-family=\"Times,serif\" font-size=\"14.00\">ctrl[2]</text>\n",
       "</g>\n",
       "<!-- CNOT_G6&#45;&gt;ctrl_G19 -->\n",
       "<g id=\"edge11\" class=\"edge\">\n",
       "<title>CNOT_G6:e-&gt;ctrl_G19:w</title>\n",
       "<path fill=\"none\" stroke=\"black\" d=\"M168,-300C187.22,-300 192.59,-300 210.72,-300\"/>\n",
       "<ellipse fill=\"black\" stroke=\"black\" cx=\"212\" cy=\"-300\" rx=\"1\" ry=\"1\"/>\n",
       "<text text-anchor=\"middle\" x=\"186.5\" y=\"-303\" font-family=\"Times,serif\" font-size=\"10.00\">1</text>\n",
       "</g>\n",
       "<!-- target_G31 -->\n",
       "<g id=\"node19\" class=\"node\">\n",
       "<title>target_G31</title>\n",
       "<text text-anchor=\"middle\" x=\"245\" y=\"-242.3\" font-family=\"Times,serif\" font-size=\"14.00\">target[2]</text>\n",
       "</g>\n",
       "<!-- CNOT_G6&#45;&gt;target_G31 -->\n",
       "<g id=\"edge15\" class=\"edge\">\n",
       "<title>CNOT_G6:e-&gt;target_G31:w</title>\n",
       "<path fill=\"none\" stroke=\"black\" d=\"M168,-278C188.89,-278 183.72,-248.45 202.58,-246.14\"/>\n",
       "<ellipse fill=\"black\" stroke=\"black\" cx=\"204\" cy=\"-246.06\" rx=\"1\" ry=\"1\"/>\n",
       "<text text-anchor=\"middle\" x=\"186.5\" y=\"-265\" font-family=\"Times,serif\" font-size=\"10.00\">1</text>\n",
       "</g>\n",
       "</g>\n",
       "</svg>"
      ],
      "text/plain": [
       "<IPython.core.display.SVG object>"
      ]
     },
     "metadata": {},
     "output_type": "display_data"
    }
   ],
   "source": [
    "cbloq = BitwiseCnot1(n=4).decompose_bloq()\n",
    "show_bloq(cbloq)"
   ]
  },
  {
   "cell_type": "markdown",
   "metadata": {},
   "source": [
    "Another approach is to define use shape for register."
   ]
  },
  {
   "cell_type": "code",
   "execution_count": 41,
   "metadata": {
    "id": "1L6ulgJZVha6",
    "jupyter": {
     "is_executing": true
    }
   },
   "outputs": [],
   "source": [
    "\"\"\"\n",
    "  Approach 2: Change the shape of the register\n",
    "\"\"\"\n",
    "\n",
    "# SoquetT is defined to be either Soquet or ndarray of Soquet\n",
    "# that is a quantum varible or n-darray of quantum varible.\n",
    "from qualtran import SoquetT\n",
    "@attrs.frozen\n",
    "class BitwiseCnot1(Bloq):\n",
    "    n: int\n",
    "    @property\n",
    "    def signature(self):\n",
    "        return Signature([\n",
    "            #`shape` is like `np.ndarray.shape`\n",
    "            Register('ctrl', QBit(), shape=(self.n,)),\n",
    "            Register('target', QBit(), shape=(self.n,)),\n",
    "        ])\n",
    "\n",
    "    def build_composite_bloq(\n",
    "            self, bb: BloqBuilder, *, ctrl: SoquetT, target: SoquetT\n",
    "    ) -> Dict[str, SoquetT]:\n",
    "        for i in range(self.n):\n",
    "            ctrl[i], target[i] = bb.add(CNOT(), ctrl=ctrl[i], target=target[i])\n",
    "        return {'ctrl': ctrl, 'target': target}\n"
   ]
  },
  {
   "cell_type": "code",
   "execution_count": 18,
   "metadata": {
    "colab": {
     "base_uri": "https://localhost:8080/",
     "height": 438
    },
    "id": "T3ZT6HKqWtN-",
    "jupyter": {
     "is_executing": true
    },
    "outputId": "c20a36cc-abfd-4158-f141-33a71c3698a6"
   },
   "outputs": [
    {
     "data": {
      "image/svg+xml": [
       "<svg xmlns=\"http://www.w3.org/2000/svg\" xmlns:xlink=\"http://www.w3.org/1999/xlink\" width=\"339pt\" height=\"298pt\" viewBox=\"0.00 0.00 339.00 298.00\">\n",
       "<g id=\"graph0\" class=\"graph\" transform=\"scale(1 1) rotate(0) translate(4 294)\">\n",
       "<title>my_graph</title>\n",
       "<polygon fill=\"white\" stroke=\"transparent\" points=\"-4,4 -4,-294 335,-294 335,4 -4,4\"/>\n",
       "<!-- x -->\n",
       "<g id=\"node1\" class=\"node\">\n",
       "<title>x</title>\n",
       "<text text-anchor=\"middle\" x=\"27\" y=\"-167.8\" font-family=\"Times,serif\" font-size=\"14.00\">x</text>\n",
       "</g>\n",
       "<!-- Split_G10 -->\n",
       "<g id=\"node9\" class=\"node\">\n",
       "<title>Split_G10</title>\n",
       "<polygon fill=\"none\" stroke=\"black\" points=\"91,-183.5 91,-189.5 103,-189.5 103,-183.5 91,-183.5\"/>\n",
       "<polygon fill=\"none\" stroke=\"black\" points=\"91,-159.5 91,-183.5 97,-183.5 97,-159.5 91,-159.5\"/>\n",
       "<polygon fill=\"none\" stroke=\"black\" points=\"97,-177.5 97,-183.5 103,-183.5 103,-177.5 97,-177.5\"/>\n",
       "<polygon fill=\"none\" stroke=\"black\" points=\"97,-171.5 97,-177.5 103,-177.5 103,-171.5 97,-171.5\"/>\n",
       "<polygon fill=\"none\" stroke=\"black\" points=\"97,-165.5 97,-171.5 103,-171.5 103,-165.5 97,-165.5\"/>\n",
       "<polygon fill=\"none\" stroke=\"black\" points=\"97,-159.5 97,-165.5 103,-165.5 103,-159.5 97,-159.5\"/>\n",
       "</g>\n",
       "<!-- x&#45;&gt;Split_G10 -->\n",
       "<g id=\"edge1\" class=\"edge\">\n",
       "<title>x:e-&gt;Split_G10:w</title>\n",
       "<path fill=\"none\" stroke=\"black\" d=\"M54,-171.5C69.67,-171.5 74.14,-171.5 88.77,-171.5\"/>\n",
       "<ellipse fill=\"black\" stroke=\"black\" cx=\"90\" cy=\"-171.5\" rx=\"1\" ry=\"1\"/>\n",
       "<text text-anchor=\"middle\" x=\"72.5\" y=\"-174.5\" font-family=\"Times,serif\" font-size=\"10.00\">4</text>\n",
       "</g>\n",
       "<!-- y -->\n",
       "<g id=\"node2\" class=\"node\">\n",
       "<title>y</title>\n",
       "<text text-anchor=\"middle\" x=\"27\" y=\"-94.8\" font-family=\"Times,serif\" font-size=\"14.00\">y</text>\n",
       "</g>\n",
       "<!-- Split -->\n",
       "<g id=\"node5\" class=\"node\">\n",
       "<title>Split</title>\n",
       "<polygon fill=\"none\" stroke=\"black\" points=\"91,-110.5 91,-116.5 103,-116.5 103,-110.5 91,-110.5\"/>\n",
       "<polygon fill=\"none\" stroke=\"black\" points=\"91,-86.5 91,-110.5 97,-110.5 97,-86.5 91,-86.5\"/>\n",
       "<polygon fill=\"none\" stroke=\"black\" points=\"97,-104.5 97,-110.5 103,-110.5 103,-104.5 97,-104.5\"/>\n",
       "<polygon fill=\"none\" stroke=\"black\" points=\"97,-98.5 97,-104.5 103,-104.5 103,-98.5 97,-98.5\"/>\n",
       "<polygon fill=\"none\" stroke=\"black\" points=\"97,-92.5 97,-98.5 103,-98.5 103,-92.5 97,-92.5\"/>\n",
       "<polygon fill=\"none\" stroke=\"black\" points=\"97,-86.5 97,-92.5 103,-92.5 103,-86.5 97,-86.5\"/>\n",
       "</g>\n",
       "<!-- y&#45;&gt;Split -->\n",
       "<g id=\"edge2\" class=\"edge\">\n",
       "<title>y:e-&gt;Split:w</title>\n",
       "<path fill=\"none\" stroke=\"black\" d=\"M54,-98.5C69.67,-98.5 74.14,-98.5 88.77,-98.5\"/>\n",
       "<ellipse fill=\"black\" stroke=\"black\" cx=\"90\" cy=\"-98.5\" rx=\"1\" ry=\"1\"/>\n",
       "<text text-anchor=\"middle\" x=\"72.5\" y=\"-101.5\" font-family=\"Times,serif\" font-size=\"10.00\">4</text>\n",
       "</g>\n",
       "<!-- CNOT -->\n",
       "<g id=\"node3\" class=\"node\">\n",
       "<title>CNOT</title>\n",
       "<polygon fill=\"none\" stroke=\"black\" points=\"140.5,-118.5 140.5,-135.5 191.5,-135.5 191.5,-118.5 140.5,-118.5\"/>\n",
       "<text text-anchor=\"start\" x=\"150\" y=\"-124.5\" font-family=\"Times,serif\" font-size=\"10.00\">CNOT</text>\n",
       "<polygon fill=\"none\" stroke=\"black\" points=\"140.5,-97.5 140.5,-118.5 191.5,-118.5 191.5,-97.5 140.5,-97.5\"/>\n",
       "<text text-anchor=\"start\" x=\"153.5\" y=\"-104.3\" font-family=\"Times,serif\" font-size=\"14.00\">ctrl</text>\n",
       "<polygon fill=\"none\" stroke=\"black\" points=\"140.5,-76.5 140.5,-97.5 191.5,-97.5 191.5,-76.5 140.5,-76.5\"/>\n",
       "<text text-anchor=\"start\" x=\"143.5\" y=\"-83.3\" font-family=\"Times,serif\" font-size=\"14.00\">target</text>\n",
       "</g>\n",
       "<!-- Join -->\n",
       "<g id=\"node7\" class=\"node\">\n",
       "<title>Join</title>\n",
       "<polygon fill=\"none\" stroke=\"black\" points=\"228,-105.5 228,-111.5 240,-111.5 240,-105.5 228,-105.5\"/>\n",
       "<polygon fill=\"none\" stroke=\"black\" points=\"228,-99.5 228,-105.5 234,-105.5 234,-99.5 228,-99.5\"/>\n",
       "<polygon fill=\"none\" stroke=\"black\" points=\"234,-81.5 234,-105.5 240,-105.5 240,-81.5 234,-81.5\"/>\n",
       "<polygon fill=\"none\" stroke=\"black\" points=\"228,-93.5 228,-99.5 234,-99.5 234,-93.5 228,-93.5\"/>\n",
       "<polygon fill=\"none\" stroke=\"black\" points=\"228,-87.5 228,-93.5 234,-93.5 234,-87.5 228,-87.5\"/>\n",
       "<polygon fill=\"none\" stroke=\"black\" points=\"228,-81.5 228,-87.5 234,-87.5 234,-81.5 228,-81.5\"/>\n",
       "</g>\n",
       "<!-- CNOT&#45;&gt;Join -->\n",
       "<g id=\"edge17\" class=\"edge\">\n",
       "<title>CNOT:e-&gt;Join:w</title>\n",
       "<path fill=\"none\" stroke=\"black\" d=\"M191,-86.5C199.49,-86.5 201.62,-83.14 210,-84.5 217.54,-85.72 219.27,-89.66 225.81,-90.38\"/>\n",
       "<ellipse fill=\"black\" stroke=\"black\" cx=\"227\" cy=\"-90.45\" rx=\"1\" ry=\"1\"/>\n",
       "<text text-anchor=\"middle\" x=\"209.5\" y=\"-87.5\" font-family=\"Times,serif\" font-size=\"10.00\">1</text>\n",
       "</g>\n",
       "<!-- Join_G12 -->\n",
       "<g id=\"node10\" class=\"node\">\n",
       "<title>Join_G12</title>\n",
       "<polygon fill=\"none\" stroke=\"black\" points=\"228,-174.5 228,-180.5 240,-180.5 240,-174.5 228,-174.5\"/>\n",
       "<polygon fill=\"none\" stroke=\"black\" points=\"228,-168.5 228,-174.5 234,-174.5 234,-168.5 228,-168.5\"/>\n",
       "<polygon fill=\"none\" stroke=\"black\" points=\"234,-150.5 234,-174.5 240,-174.5 240,-150.5 234,-150.5\"/>\n",
       "<polygon fill=\"none\" stroke=\"black\" points=\"228,-162.5 228,-168.5 234,-168.5 234,-162.5 228,-162.5\"/>\n",
       "<polygon fill=\"none\" stroke=\"black\" points=\"228,-156.5 228,-162.5 234,-162.5 234,-156.5 228,-156.5\"/>\n",
       "<polygon fill=\"none\" stroke=\"black\" points=\"228,-150.5 228,-156.5 234,-156.5 234,-150.5 228,-150.5\"/>\n",
       "</g>\n",
       "<!-- CNOT&#45;&gt;Join_G12 -->\n",
       "<g id=\"edge13\" class=\"edge\">\n",
       "<title>CNOT:e-&gt;Join_G12:w</title>\n",
       "<path fill=\"none\" stroke=\"black\" d=\"M191,-108.5C218.24,-108.5 201,-156.75 225.81,-159.39\"/>\n",
       "<ellipse fill=\"black\" stroke=\"black\" cx=\"227\" cy=\"-159.45\" rx=\"1\" ry=\"1\"/>\n",
       "<text text-anchor=\"middle\" x=\"209.5\" y=\"-138.5\" font-family=\"Times,serif\" font-size=\"10.00\">1</text>\n",
       "</g>\n",
       "<!-- CNOT_G0 -->\n",
       "<g id=\"node4\" class=\"node\">\n",
       "<title>CNOT_G0</title>\n",
       "<polygon fill=\"none\" stroke=\"black\" points=\"140.5,-195.5 140.5,-212.5 191.5,-212.5 191.5,-195.5 140.5,-195.5\"/>\n",
       "<text text-anchor=\"start\" x=\"150\" y=\"-201.5\" font-family=\"Times,serif\" font-size=\"10.00\">CNOT</text>\n",
       "<polygon fill=\"none\" stroke=\"black\" points=\"140.5,-174.5 140.5,-195.5 191.5,-195.5 191.5,-174.5 140.5,-174.5\"/>\n",
       "<text text-anchor=\"start\" x=\"153.5\" y=\"-181.3\" font-family=\"Times,serif\" font-size=\"14.00\">ctrl</text>\n",
       "<polygon fill=\"none\" stroke=\"black\" points=\"140.5,-153.5 140.5,-174.5 191.5,-174.5 191.5,-153.5 140.5,-153.5\"/>\n",
       "<text text-anchor=\"start\" x=\"143.5\" y=\"-160.3\" font-family=\"Times,serif\" font-size=\"14.00\">target</text>\n",
       "</g>\n",
       "<!-- CNOT_G0&#45;&gt;Join -->\n",
       "<g id=\"edge16\" class=\"edge\">\n",
       "<title>CNOT_G0:e-&gt;Join:w</title>\n",
       "<path fill=\"none\" stroke=\"black\" d=\"M191,-163.5C207.21,-163.5 210.68,-102.63 225.7,-96.93\"/>\n",
       "<ellipse fill=\"black\" stroke=\"black\" cx=\"227.02\" cy=\"-96.68\" rx=\"1\" ry=\"1\"/>\n",
       "<text text-anchor=\"middle\" x=\"209.5\" y=\"-132.5\" font-family=\"Times,serif\" font-size=\"10.00\">1</text>\n",
       "</g>\n",
       "<!-- CNOT_G0&#45;&gt;Join_G12 -->\n",
       "<g id=\"edge12\" class=\"edge\">\n",
       "<title>CNOT_G0:e-&gt;Join_G12:w</title>\n",
       "<path fill=\"none\" stroke=\"black\" d=\"M191,-185.5C208.96,-185.5 209.31,-167.03 225.89,-165.59\"/>\n",
       "<ellipse fill=\"black\" stroke=\"black\" cx=\"227\" cy=\"-165.54\" rx=\"1\" ry=\"1\"/>\n",
       "<text text-anchor=\"middle\" x=\"209.5\" y=\"-178.5\" font-family=\"Times,serif\" font-size=\"10.00\">1</text>\n",
       "</g>\n",
       "<!-- Split&#45;&gt;CNOT -->\n",
       "<g id=\"edge8\" class=\"edge\">\n",
       "<title>Split:e-&gt;CNOT:w</title>\n",
       "<path fill=\"none\" stroke=\"black\" d=\"M103,-95.5C119.13,-95.5 122.75,-87.32 137.71,-86.56\"/>\n",
       "<ellipse fill=\"black\" stroke=\"black\" cx=\"139\" cy=\"-86.53\" rx=\"1\" ry=\"1\"/>\n",
       "<text text-anchor=\"middle\" x=\"121.5\" y=\"-93.5\" font-family=\"Times,serif\" font-size=\"10.00\">1</text>\n",
       "</g>\n",
       "<!-- Split&#45;&gt;CNOT_G0 -->\n",
       "<g id=\"edge6\" class=\"edge\">\n",
       "<title>Split:e-&gt;CNOT_G0:w</title>\n",
       "<path fill=\"none\" stroke=\"black\" d=\"M103,-101.5C114.63,-101.5 115.43,-109.9 122,-119.5 133.47,-136.25 120.01,-161.44 137.69,-163.38\"/>\n",
       "<ellipse fill=\"black\" stroke=\"black\" cx=\"139\" cy=\"-163.45\" rx=\"1\" ry=\"1\"/>\n",
       "<text text-anchor=\"middle\" x=\"121.5\" y=\"-122.5\" font-family=\"Times,serif\" font-size=\"10.00\">1</text>\n",
       "</g>\n",
       "<!-- CNOT_G3 -->\n",
       "<g id=\"node6\" class=\"node\">\n",
       "<title>CNOT_G3</title>\n",
       "<polygon fill=\"none\" stroke=\"black\" points=\"140.5,-41.5 140.5,-58.5 191.5,-58.5 191.5,-41.5 140.5,-41.5\"/>\n",
       "<text text-anchor=\"start\" x=\"150\" y=\"-47.5\" font-family=\"Times,serif\" font-size=\"10.00\">CNOT</text>\n",
       "<polygon fill=\"none\" stroke=\"black\" points=\"140.5,-20.5 140.5,-41.5 191.5,-41.5 191.5,-20.5 140.5,-20.5\"/>\n",
       "<text text-anchor=\"start\" x=\"153.5\" y=\"-27.3\" font-family=\"Times,serif\" font-size=\"14.00\">ctrl</text>\n",
       "<polygon fill=\"none\" stroke=\"black\" points=\"140.5,0.5 140.5,-20.5 191.5,-20.5 191.5,0.5 140.5,0.5\"/>\n",
       "<text text-anchor=\"start\" x=\"143.5\" y=\"-6.3\" font-family=\"Times,serif\" font-size=\"14.00\">target</text>\n",
       "</g>\n",
       "<!-- Split&#45;&gt;CNOT_G3 -->\n",
       "<g id=\"edge10\" class=\"edge\">\n",
       "<title>Split:e-&gt;CNOT_G3:w</title>\n",
       "<path fill=\"none\" stroke=\"black\" d=\"M103,-89.5C141.41,-89.5 102.41,-12.59 137.8,-9.59\"/>\n",
       "<ellipse fill=\"black\" stroke=\"black\" cx=\"139\" cy=\"-9.54\" rx=\"1\" ry=\"1\"/>\n",
       "<text text-anchor=\"middle\" x=\"121.5\" y=\"-73.5\" font-family=\"Times,serif\" font-size=\"10.00\">1</text>\n",
       "</g>\n",
       "<!-- CNOT_G7 -->\n",
       "<g id=\"node8\" class=\"node\">\n",
       "<title>CNOT_G7</title>\n",
       "<polygon fill=\"none\" stroke=\"black\" points=\"140.5,-272.5 140.5,-289.5 191.5,-289.5 191.5,-272.5 140.5,-272.5\"/>\n",
       "<text text-anchor=\"start\" x=\"150\" y=\"-278.5\" font-family=\"Times,serif\" font-size=\"10.00\">CNOT</text>\n",
       "<polygon fill=\"none\" stroke=\"black\" points=\"140.5,-251.5 140.5,-272.5 191.5,-272.5 191.5,-251.5 140.5,-251.5\"/>\n",
       "<text text-anchor=\"start\" x=\"153.5\" y=\"-258.3\" font-family=\"Times,serif\" font-size=\"14.00\">ctrl</text>\n",
       "<polygon fill=\"none\" stroke=\"black\" points=\"140.5,-230.5 140.5,-251.5 191.5,-251.5 191.5,-230.5 140.5,-230.5\"/>\n",
       "<text text-anchor=\"start\" x=\"143.5\" y=\"-237.3\" font-family=\"Times,serif\" font-size=\"14.00\">target</text>\n",
       "</g>\n",
       "<!-- Split&#45;&gt;CNOT_G7 -->\n",
       "<g id=\"edge4\" class=\"edge\">\n",
       "<title>Split:e-&gt;CNOT_G7:w</title>\n",
       "<path fill=\"none\" stroke=\"black\" d=\"M103,-107.5C120.57,-107.5 116.17,-167.6 121,-184.5 128.02,-209.08 114.49,-238.82 137.93,-240.43\"/>\n",
       "<ellipse fill=\"black\" stroke=\"black\" cx=\"139\" cy=\"-240.47\" rx=\"1\" ry=\"1\"/>\n",
       "<text text-anchor=\"middle\" x=\"121.5\" y=\"-190.5\" font-family=\"Times,serif\" font-size=\"10.00\">1</text>\n",
       "</g>\n",
       "<!-- CNOT_G3&#45;&gt;Join -->\n",
       "<g id=\"edge18\" class=\"edge\">\n",
       "<title>CNOT_G3:e-&gt;Join:w</title>\n",
       "<path fill=\"none\" stroke=\"black\" d=\"M191,-9.5C227.44,-9.5 192.26,-81.6 225.91,-84.42\"/>\n",
       "<ellipse fill=\"black\" stroke=\"black\" cx=\"227\" cy=\"-84.46\" rx=\"1\" ry=\"1\"/>\n",
       "<text text-anchor=\"middle\" x=\"209.5\" y=\"-65.5\" font-family=\"Times,serif\" font-size=\"10.00\">1</text>\n",
       "</g>\n",
       "<!-- CNOT_G3&#45;&gt;Join_G12 -->\n",
       "<g id=\"edge14\" class=\"edge\">\n",
       "<title>CNOT_G3:e-&gt;Join_G12:w</title>\n",
       "<path fill=\"none\" stroke=\"black\" d=\"M191,-31.5C218.56,-31.5 200.71,-146.92 225.78,-153.23\"/>\n",
       "<ellipse fill=\"black\" stroke=\"black\" cx=\"227.01\" cy=\"-153.38\" rx=\"1\" ry=\"1\"/>\n",
       "<text text-anchor=\"middle\" x=\"209.5\" y=\"-98.5\" font-family=\"Times,serif\" font-size=\"10.00\">1</text>\n",
       "</g>\n",
       "<!-- y_G31 -->\n",
       "<g id=\"node12\" class=\"node\">\n",
       "<title>y_G31</title>\n",
       "<text text-anchor=\"middle\" x=\"304\" y=\"-89.8\" font-family=\"Times,serif\" font-size=\"14.00\">y</text>\n",
       "</g>\n",
       "<!-- Join&#45;&gt;y_G31 -->\n",
       "<g id=\"edge20\" class=\"edge\">\n",
       "<title>Join:e-&gt;y_G31:w</title>\n",
       "<path fill=\"none\" stroke=\"black\" d=\"M240,-93.5C255.67,-93.5 260.14,-93.5 274.77,-93.5\"/>\n",
       "<ellipse fill=\"black\" stroke=\"black\" cx=\"276\" cy=\"-93.5\" rx=\"1\" ry=\"1\"/>\n",
       "<text text-anchor=\"middle\" x=\"258.5\" y=\"-96.5\" font-family=\"Times,serif\" font-size=\"10.00\">4</text>\n",
       "</g>\n",
       "<!-- CNOT_G7&#45;&gt;Join -->\n",
       "<g id=\"edge15\" class=\"edge\">\n",
       "<title>CNOT_G7:e-&gt;Join:w</title>\n",
       "<path fill=\"none\" stroke=\"black\" d=\"M191,-240.5C206.13,-240.5 211.61,-115.13 225.84,-103.38\"/>\n",
       "<ellipse fill=\"black\" stroke=\"black\" cx=\"227.07\" cy=\"-102.88\" rx=\"1\" ry=\"1\"/>\n",
       "<text text-anchor=\"middle\" x=\"209.5\" y=\"-174.5\" font-family=\"Times,serif\" font-size=\"10.00\">1</text>\n",
       "</g>\n",
       "<!-- CNOT_G7&#45;&gt;Join_G12 -->\n",
       "<g id=\"edge11\" class=\"edge\">\n",
       "<title>CNOT_G7:e-&gt;Join_G12:w</title>\n",
       "<path fill=\"none\" stroke=\"black\" d=\"M191,-262.5C233.81,-262.5 186.27,-175.02 225.55,-171.6\"/>\n",
       "<ellipse fill=\"black\" stroke=\"black\" cx=\"227\" cy=\"-171.54\" rx=\"1\" ry=\"1\"/>\n",
       "<text text-anchor=\"middle\" x=\"209.5\" y=\"-249.5\" font-family=\"Times,serif\" font-size=\"10.00\">1</text>\n",
       "</g>\n",
       "<!-- Split_G10&#45;&gt;CNOT -->\n",
       "<g id=\"edge7\" class=\"edge\">\n",
       "<title>Split_G10:e-&gt;CNOT:w</title>\n",
       "<path fill=\"none\" stroke=\"black\" d=\"M103,-168.5C110.22,-168.5 128.92,-117.51 137.93,-109.54\"/>\n",
       "<ellipse fill=\"black\" stroke=\"black\" cx=\"139.11\" cy=\"-108.95\" rx=\"1\" ry=\"1\"/>\n",
       "<text text-anchor=\"middle\" x=\"121.5\" y=\"-141.5\" font-family=\"Times,serif\" font-size=\"10.00\">1</text>\n",
       "</g>\n",
       "<!-- Split_G10&#45;&gt;CNOT_G0 -->\n",
       "<g id=\"edge5\" class=\"edge\">\n",
       "<title>Split_G10:e-&gt;CNOT_G0:w</title>\n",
       "<path fill=\"none\" stroke=\"black\" d=\"M103,-174.5C119.35,-174.5 122.56,-184.49 137.68,-185.43\"/>\n",
       "<ellipse fill=\"black\" stroke=\"black\" cx=\"139\" cy=\"-185.47\" rx=\"1\" ry=\"1\"/>\n",
       "<text text-anchor=\"middle\" x=\"121.5\" y=\"-182.5\" font-family=\"Times,serif\" font-size=\"10.00\">1</text>\n",
       "</g>\n",
       "<!-- Split_G10&#45;&gt;CNOT_G3 -->\n",
       "<g id=\"edge9\" class=\"edge\">\n",
       "<title>Split_G10:e-&gt;CNOT_G3:w</title>\n",
       "<path fill=\"none\" stroke=\"black\" d=\"M103,-162.5C126.77,-162.5 115.18,-135.27 122,-112.5 127.08,-95.53 121.99,-36.38 137.95,-31.78\"/>\n",
       "<ellipse fill=\"black\" stroke=\"black\" cx=\"139.01\" cy=\"-31.64\" rx=\"1\" ry=\"1\"/>\n",
       "<text text-anchor=\"middle\" x=\"121.5\" y=\"-117.5\" font-family=\"Times,serif\" font-size=\"10.00\">1</text>\n",
       "</g>\n",
       "<!-- Split_G10&#45;&gt;CNOT_G7 -->\n",
       "<g id=\"edge3\" class=\"edge\">\n",
       "<title>Split_G10:e-&gt;CNOT_G7:w</title>\n",
       "<path fill=\"none\" stroke=\"black\" d=\"M103,-180.5C125.78,-180.5 111.42,-207.83 121,-228.5 127.94,-243.47 123.19,-260.79 137.71,-262.38\"/>\n",
       "<ellipse fill=\"black\" stroke=\"black\" cx=\"139\" cy=\"-262.45\" rx=\"1\" ry=\"1\"/>\n",
       "<text text-anchor=\"middle\" x=\"121.5\" y=\"-232.5\" font-family=\"Times,serif\" font-size=\"10.00\">1</text>\n",
       "</g>\n",
       "<!-- x_G20 -->\n",
       "<g id=\"node11\" class=\"node\">\n",
       "<title>x_G20</title>\n",
       "<text text-anchor=\"middle\" x=\"304\" y=\"-158.8\" font-family=\"Times,serif\" font-size=\"14.00\">x</text>\n",
       "</g>\n",
       "<!-- Join_G12&#45;&gt;x_G20 -->\n",
       "<g id=\"edge19\" class=\"edge\">\n",
       "<title>Join_G12:e-&gt;x_G20:w</title>\n",
       "<path fill=\"none\" stroke=\"black\" d=\"M240,-162.5C255.67,-162.5 260.14,-162.5 274.77,-162.5\"/>\n",
       "<ellipse fill=\"black\" stroke=\"black\" cx=\"276\" cy=\"-162.5\" rx=\"1\" ry=\"1\"/>\n",
       "<text text-anchor=\"middle\" x=\"258.5\" y=\"-165.5\" font-family=\"Times,serif\" font-size=\"10.00\">4</text>\n",
       "</g>\n",
       "</g>\n",
       "</svg>"
      ],
      "text/plain": [
       "<IPython.core.display.SVG object>"
      ]
     },
     "metadata": {},
     "output_type": "display_data"
    }
   ],
   "source": [
    "cbloq = BitwiseCnot2(n=4).decompose_bloq()\n",
    "show_bloq(cbloq)"
   ]
  },
  {
   "cell_type": "markdown",
   "metadata": {
    "id": "-3-vA57dAMUh"
   },
   "source": [
    "## Protocols: Using Bloqs"
   ]
  },
  {
   "cell_type": "markdown",
   "metadata": {
    "id": "UcegZfIsch3l"
   },
   "source": [
    "Put simply, `Protocol` is what we can do with `Bloq`. For a more precise definition of protocol:\n",
    "\n",
    "> A protocol is a set of methods, functions, or procedures to structure a relevant piece of functionality.\n",
    "\n",
    "A protocol is composed of:\n",
    "* **The interface**: a method on `Bloq` that takes no arguments and returns a property of interest.\n",
    "* **The implementation**: a method on `Bloq` that takes system-supplied arguments which `Bloq` authors can override to provide information for the protocol. This is the implementation.\n",
    "* **A Python module**: functions for plumbing the implementation into the interface and other additional functionality.\n",
    "* **Helper functions**: for implementing one protocol in terms of another called fallbacks. Some protocols have a default fallback that requires no special action from the `Bloq` author.\n"
   ]
  },
  {
   "cell_type": "markdown",
   "metadata": {
    "id": "x3lGeWidJOle"
   },
   "source": [
    "\n",
    "We can't do much with the `ControlledGate` from our earlier example because no protocol is associated with that `Bloq`. On the other hand, we can do much more with composite `Bloqs` because they support `Decomposition` protocol."
   ]
  },
  {
   "cell_type": "markdown",
   "metadata": {
    "id": "4U_AKyviKa8u"
   },
   "source": [
    "### Decomposition protocol:\n",
    "\n",
    "* **Interface**: `decompose_bloq()`\n",
    "This method provides a decomposition of a `Bloq` into its components.\n",
    "\n",
    "* **Implementation**: `build_composite_bloq()`\n",
    "This method is used to implement the decomposition protocol. Authors of bloqs can override this method to define how the bloq should be decomposed into its components.\n",
    "\n",
    "* **Additional functionality**: `qualtran.BloqBuilder`\n",
    "The qualtran.BloqBuilder class offers additional functionality for working with bloqs, enhancing the decomposition process.\n",
    "\n",
    "* **Fallback**: `qualtran.DecomposeNotImplementedError`\n",
    "If there is no specified fallback method for decomposing a bloq, this error will be raised to indicate that the decomposition is not implemented.\n",
    "\n",
    "\n",
    "\n",
    "\n",
    "\n",
    "\n",
    "\n"
   ]
  },
  {
   "cell_type": "markdown",
   "metadata": {
    "id": "gn54WZiunxyt"
   },
   "source": [
    "\n",
    "### Tensor protocol\n",
    "\n",
    "The tensor protocol lets you query the tensor (vector, matrix, etc.) representation of a `Bloq`.\n",
    "  * `add_my_tensors()`: This method is responsible for adding a tensor corresponding to the unitary, state, or effect of the bloq to the provided tensor network `tn`.\n",
    "  * `tensor_contract()`:  Provides a tensor representation (vector or matrix) of a bloq or composite bloq.\n",
    "  * `qualtran.simulation.tensor`:a module that contain a host of methods related to the tensor network.\n",
    "  * `cbloq_as_contracted_tensor()`:the default fallback uses the decomposition protocol and this method\n",
    "\n",
    "\n",
    "  \n",
    "\n",
    "\n",
    "\n",
    "\n",
    "\n"
   ]
  },
  {
   "cell_type": "markdown",
   "metadata": {
    "id": "T7NxVs1Pdy_-"
   },
   "source": [
    "### Call Graph Protocol\n",
    "\n",
    "* **Interface**: `call_graph()`\n",
    "This method provides a directed-acyclic graph representing the hierarchical decomposition of bloqs.\n",
    "\n",
    "* **Implementation**: `build_call_graph()`\n",
    "The `build_call_graph()` method is used to implement the call graph protocol. Bloq authors can override this method to customize the generation of the call graph.\n",
    "\n",
    "* **Additional functionality**: `qualtran.resource_counting`\n",
    "The `qualtran.resource_counting` module offers additional functionality for working with call graphs, including resource counting and analysis.\n",
    "\n",
    "* **Fallback**: Default fallback uses the Decomposition protocol and `build_cbloq_call_graph().`\n",
    "\n",
    "If no specific method for generating the call graph is implemented for a `Bloq`, the default fallback utilizes the `Decomposition` protocol and `build_cbloq_call_graph()`"
   ]
  },
  {
   "cell_type": "markdown",
   "metadata": {
    "id": "Jd_lXV3TfrUL"
   },
   "source": [
    "The number of protocols isn't limited to what have discussed in this tutorial. You can implement new protocol yourself. For the rest of this tutorial, we will focus on the `Call Graph` protocol and interoperabilty with Cirq."
   ]
  },
  {
   "cell_type": "markdown",
   "metadata": {
    "id": "e3a-V9aGAShh"
   },
   "source": [
    "# Qualtran-Cirq Interoperability"
   ]
  },
  {
   "cell_type": "markdown",
   "metadata": {
    "id": "VFwpaRR9wnpZ"
   },
   "source": [
    "You might notice that syntactically, Qualtran and Cirq are very similar. They are, in fact, siblings, both created by Google. One feature of Qualtran is Cirq interoperability, and you can convert Cirq circuits to Bloqs and viceversa."
   ]
  },
  {
   "cell_type": "markdown",
   "metadata": {
    "id": "LJsPI2g75Gne"
   },
   "source": [
    "## Cirq Circuit to Bloq\n",
    "Converting Cirq gates or circuits to Bloqs is fairly straightforward process. Basic gates in cirq are mapped to a corresponding `Bloq` while circuits are mapped into `CompositeBloq`  "
   ]
  },
  {
   "cell_type": "code",
   "execution_count": 19,
   "metadata": {
    "colab": {
     "base_uri": "https://localhost:8080/"
    },
    "id": "HFxgdr3ZxYDO",
    "jupyter": {
     "is_executing": true
    },
    "outputId": "c2b8a56d-86b4-4a75-d7c0-c13ee16ea927"
   },
   "outputs": [
    {
     "name": "stdout",
     "output_type": "stream",
     "text": [
      "qft\n",
      "  Register(name='q', dtype=QBit(), _shape=(5,), side=<Side.THRU: 3>)\n"
     ]
    }
   ],
   "source": [
    "# Converting cirq gate\n",
    "from qualtran.cirq_interop import CirqGateAsBloq\n",
    "import cirq\n",
    "\n",
    "cgab = CirqGateAsBloq(cirq.QuantumFourierTransformGate(num_qubits=5))\n",
    "print(cgab)\n",
    "for reg in cgab.signature:\n",
    "    print(' ', reg)"
   ]
  },
  {
   "cell_type": "code",
   "execution_count": 20,
   "metadata": {
    "colab": {
     "base_uri": "https://localhost:8080/",
     "height": 387
    },
    "id": "Nx25OmFa3Rp6",
    "jupyter": {
     "is_executing": true
    },
    "outputId": "190f9c1a-8cfb-468a-8a42-638f305048af"
   },
   "outputs": [
    {
     "data": {
      "image/svg+xml": [
       "<svg xmlns=\"http://www.w3.org/2000/svg\" xmlns:xlink=\"http://www.w3.org/1999/xlink\" width=\"225pt\" height=\"260pt\" viewBox=\"0.00 0.00 225.00 260.00\">\n",
       "<g id=\"graph0\" class=\"graph\" transform=\"scale(1 1) rotate(0) translate(4 256)\">\n",
       "<title>my_graph</title>\n",
       "<polygon fill=\"white\" stroke=\"transparent\" points=\"-4,4 -4,-256 221,-256 221,4 -4,4\"/>\n",
       "<!-- q_G9 -->\n",
       "<g id=\"node1\" class=\"node\">\n",
       "<title>q_G9</title>\n",
       "<text text-anchor=\"middle\" x=\"27\" y=\"-230.3\" font-family=\"Times,serif\" font-size=\"14.00\">q[0]</text>\n",
       "</g>\n",
       "<!-- CirqGateAsBloq -->\n",
       "<g id=\"node6\" class=\"node\">\n",
       "<title>CirqGateAsBloq</title>\n",
       "<polygon fill=\"none\" stroke=\"black\" points=\"91.5,-179 91.5,-196 126.5,-196 126.5,-179 91.5,-179\"/>\n",
       "<text text-anchor=\"start\" x=\"101.5\" y=\"-185\" font-family=\"Times,serif\" font-size=\"10.00\">qft</text>\n",
       "<polygon fill=\"none\" stroke=\"black\" points=\"91.5,-158 91.5,-179 126.5,-179 126.5,-158 91.5,-158\"/>\n",
       "<text text-anchor=\"start\" x=\"94.5\" y=\"-164.8\" font-family=\"Times,serif\" font-size=\"14.00\">q[0]</text>\n",
       "<polygon fill=\"none\" stroke=\"black\" points=\"91.5,-137 91.5,-158 126.5,-158 126.5,-137 91.5,-137\"/>\n",
       "<text text-anchor=\"start\" x=\"94.5\" y=\"-143.8\" font-family=\"Times,serif\" font-size=\"14.00\">q[1]</text>\n",
       "<polygon fill=\"none\" stroke=\"black\" points=\"91.5,-116 91.5,-137 126.5,-137 126.5,-116 91.5,-116\"/>\n",
       "<text text-anchor=\"start\" x=\"94.5\" y=\"-122.8\" font-family=\"Times,serif\" font-size=\"14.00\">q[2]</text>\n",
       "<polygon fill=\"none\" stroke=\"black\" points=\"91.5,-95 91.5,-116 126.5,-116 126.5,-95 91.5,-95\"/>\n",
       "<text text-anchor=\"start\" x=\"94.5\" y=\"-101.8\" font-family=\"Times,serif\" font-size=\"14.00\">q[3]</text>\n",
       "<polygon fill=\"none\" stroke=\"black\" points=\"91.5,-74 91.5,-95 126.5,-95 126.5,-74 91.5,-74\"/>\n",
       "<text text-anchor=\"start\" x=\"94.5\" y=\"-80.8\" font-family=\"Times,serif\" font-size=\"14.00\">q[4]</text>\n",
       "</g>\n",
       "<!-- q_G9&#45;&gt;CirqGateAsBloq -->\n",
       "<g id=\"edge1\" class=\"edge\">\n",
       "<title>q_G9:e-&gt;CirqGateAsBloq:w</title>\n",
       "<path fill=\"none\" stroke=\"black\" d=\"M54,-234C86.46,-234 59.11,-172.01 88.76,-169.11\"/>\n",
       "<ellipse fill=\"black\" stroke=\"black\" cx=\"90\" cy=\"-169.05\" rx=\"1\" ry=\"1\"/>\n",
       "<text text-anchor=\"middle\" x=\"72.5\" y=\"-210\" font-family=\"Times,serif\" font-size=\"10.00\">1</text>\n",
       "</g>\n",
       "<!-- q_G5 -->\n",
       "<g id=\"node2\" class=\"node\">\n",
       "<title>q_G5</title>\n",
       "<text text-anchor=\"middle\" x=\"27\" y=\"-176.3\" font-family=\"Times,serif\" font-size=\"14.00\">q[1]</text>\n",
       "</g>\n",
       "<!-- q_G5&#45;&gt;CirqGateAsBloq -->\n",
       "<g id=\"edge2\" class=\"edge\">\n",
       "<title>q_G5:e-&gt;CirqGateAsBloq:w</title>\n",
       "<path fill=\"none\" stroke=\"black\" d=\"M54,-180C74.89,-180 69.72,-150.45 88.58,-148.14\"/>\n",
       "<ellipse fill=\"black\" stroke=\"black\" cx=\"90\" cy=\"-148.06\" rx=\"1\" ry=\"1\"/>\n",
       "<text text-anchor=\"middle\" x=\"72.5\" y=\"-167\" font-family=\"Times,serif\" font-size=\"10.00\">1</text>\n",
       "</g>\n",
       "<!-- q_G12 -->\n",
       "<g id=\"node3\" class=\"node\">\n",
       "<title>q_G12</title>\n",
       "<text text-anchor=\"middle\" x=\"27\" y=\"-122.3\" font-family=\"Times,serif\" font-size=\"14.00\">q[2]</text>\n",
       "</g>\n",
       "<!-- q_G12&#45;&gt;CirqGateAsBloq -->\n",
       "<g id=\"edge3\" class=\"edge\">\n",
       "<title>q_G12:e-&gt;CirqGateAsBloq:w</title>\n",
       "<path fill=\"none\" stroke=\"black\" d=\"M54,-126C69.67,-126 74.14,-126 88.77,-126\"/>\n",
       "<ellipse fill=\"black\" stroke=\"black\" cx=\"90\" cy=\"-126\" rx=\"1\" ry=\"1\"/>\n",
       "<text text-anchor=\"middle\" x=\"72.5\" y=\"-129\" font-family=\"Times,serif\" font-size=\"10.00\">1</text>\n",
       "</g>\n",
       "<!-- q_G2 -->\n",
       "<g id=\"node4\" class=\"node\">\n",
       "<title>q_G2</title>\n",
       "<text text-anchor=\"middle\" x=\"27\" y=\"-68.3\" font-family=\"Times,serif\" font-size=\"14.00\">q[3]</text>\n",
       "</g>\n",
       "<!-- q_G2&#45;&gt;CirqGateAsBloq -->\n",
       "<g id=\"edge4\" class=\"edge\">\n",
       "<title>q_G2:e-&gt;CirqGateAsBloq:w</title>\n",
       "<path fill=\"none\" stroke=\"black\" d=\"M54,-72C75.17,-72 69.47,-102.47 88.55,-104.85\"/>\n",
       "<ellipse fill=\"black\" stroke=\"black\" cx=\"90\" cy=\"-104.94\" rx=\"1\" ry=\"1\"/>\n",
       "<text text-anchor=\"middle\" x=\"72.5\" y=\"-92\" font-family=\"Times,serif\" font-size=\"10.00\">1</text>\n",
       "</g>\n",
       "<!-- q_G11 -->\n",
       "<g id=\"node5\" class=\"node\">\n",
       "<title>q_G11</title>\n",
       "<text text-anchor=\"middle\" x=\"27\" y=\"-14.3\" font-family=\"Times,serif\" font-size=\"14.00\">q[4]</text>\n",
       "</g>\n",
       "<!-- q_G11&#45;&gt;CirqGateAsBloq -->\n",
       "<g id=\"edge5\" class=\"edge\">\n",
       "<title>q_G11:e-&gt;CirqGateAsBloq:w</title>\n",
       "<path fill=\"none\" stroke=\"black\" d=\"M54,-18C86.84,-18 58.75,-80.94 88.74,-83.89\"/>\n",
       "<ellipse fill=\"black\" stroke=\"black\" cx=\"90\" cy=\"-83.95\" rx=\"1\" ry=\"1\"/>\n",
       "<text text-anchor=\"middle\" x=\"72.5\" y=\"-62\" font-family=\"Times,serif\" font-size=\"10.00\">1</text>\n",
       "</g>\n",
       "<!-- q_G3 -->\n",
       "<g id=\"node7\" class=\"node\">\n",
       "<title>q_G3</title>\n",
       "<text text-anchor=\"middle\" x=\"190\" y=\"-230.3\" font-family=\"Times,serif\" font-size=\"14.00\">q[0]</text>\n",
       "</g>\n",
       "<!-- CirqGateAsBloq&#45;&gt;q_G3 -->\n",
       "<g id=\"edge6\" class=\"edge\">\n",
       "<title>CirqGateAsBloq:e-&gt;q_G3:w</title>\n",
       "<path fill=\"none\" stroke=\"black\" d=\"M126,-169C158.46,-169 131.11,-230.99 160.76,-233.89\"/>\n",
       "<ellipse fill=\"black\" stroke=\"black\" cx=\"162\" cy=\"-233.95\" rx=\"1\" ry=\"1\"/>\n",
       "<text text-anchor=\"middle\" x=\"144.5\" y=\"-210\" font-family=\"Times,serif\" font-size=\"10.00\">1</text>\n",
       "</g>\n",
       "<!-- q_G0 -->\n",
       "<g id=\"node8\" class=\"node\">\n",
       "<title>q_G0</title>\n",
       "<text text-anchor=\"middle\" x=\"190\" y=\"-176.3\" font-family=\"Times,serif\" font-size=\"14.00\">q[1]</text>\n",
       "</g>\n",
       "<!-- CirqGateAsBloq&#45;&gt;q_G0 -->\n",
       "<g id=\"edge7\" class=\"edge\">\n",
       "<title>CirqGateAsBloq:e-&gt;q_G0:w</title>\n",
       "<path fill=\"none\" stroke=\"black\" d=\"M126,-148C146.89,-148 141.72,-177.55 160.58,-179.86\"/>\n",
       "<ellipse fill=\"black\" stroke=\"black\" cx=\"162\" cy=\"-179.94\" rx=\"1\" ry=\"1\"/>\n",
       "<text text-anchor=\"middle\" x=\"144.5\" y=\"-167\" font-family=\"Times,serif\" font-size=\"10.00\">1</text>\n",
       "</g>\n",
       "<!-- q_G10 -->\n",
       "<g id=\"node9\" class=\"node\">\n",
       "<title>q_G10</title>\n",
       "<text text-anchor=\"middle\" x=\"190\" y=\"-122.3\" font-family=\"Times,serif\" font-size=\"14.00\">q[2]</text>\n",
       "</g>\n",
       "<!-- CirqGateAsBloq&#45;&gt;q_G10 -->\n",
       "<g id=\"edge8\" class=\"edge\">\n",
       "<title>CirqGateAsBloq:e-&gt;q_G10:w</title>\n",
       "<path fill=\"none\" stroke=\"black\" d=\"M126,-126C141.67,-126 146.14,-126 160.77,-126\"/>\n",
       "<ellipse fill=\"black\" stroke=\"black\" cx=\"162\" cy=\"-126\" rx=\"1\" ry=\"1\"/>\n",
       "<text text-anchor=\"middle\" x=\"144.5\" y=\"-129\" font-family=\"Times,serif\" font-size=\"10.00\">1</text>\n",
       "</g>\n",
       "<!-- q_G1 -->\n",
       "<g id=\"node10\" class=\"node\">\n",
       "<title>q_G1</title>\n",
       "<text text-anchor=\"middle\" x=\"190\" y=\"-68.3\" font-family=\"Times,serif\" font-size=\"14.00\">q[3]</text>\n",
       "</g>\n",
       "<!-- CirqGateAsBloq&#45;&gt;q_G1 -->\n",
       "<g id=\"edge9\" class=\"edge\">\n",
       "<title>CirqGateAsBloq:e-&gt;q_G1:w</title>\n",
       "<path fill=\"none\" stroke=\"black\" d=\"M126,-105C147.17,-105 141.47,-74.53 160.55,-72.15\"/>\n",
       "<ellipse fill=\"black\" stroke=\"black\" cx=\"162\" cy=\"-72.06\" rx=\"1\" ry=\"1\"/>\n",
       "<text text-anchor=\"middle\" x=\"144.5\" y=\"-92\" font-family=\"Times,serif\" font-size=\"10.00\">1</text>\n",
       "</g>\n",
       "<!-- q_G7 -->\n",
       "<g id=\"node11\" class=\"node\">\n",
       "<title>q_G7</title>\n",
       "<text text-anchor=\"middle\" x=\"190\" y=\"-14.3\" font-family=\"Times,serif\" font-size=\"14.00\">q[4]</text>\n",
       "</g>\n",
       "<!-- CirqGateAsBloq&#45;&gt;q_G7 -->\n",
       "<g id=\"edge10\" class=\"edge\">\n",
       "<title>CirqGateAsBloq:e-&gt;q_G7:w</title>\n",
       "<path fill=\"none\" stroke=\"black\" d=\"M126,-84C158.84,-84 130.75,-21.06 160.74,-18.11\"/>\n",
       "<ellipse fill=\"black\" stroke=\"black\" cx=\"162\" cy=\"-18.05\" rx=\"1\" ry=\"1\"/>\n",
       "<text text-anchor=\"middle\" x=\"144.5\" y=\"-62\" font-family=\"Times,serif\" font-size=\"10.00\">1</text>\n",
       "</g>\n",
       "</g>\n",
       "</svg>"
      ],
      "text/plain": [
       "<IPython.core.display.SVG object>"
      ]
     },
     "metadata": {},
     "output_type": "display_data"
    }
   ],
   "source": [
    "show_bloq(cgab)"
   ]
  },
  {
   "cell_type": "code",
   "execution_count": 21,
   "metadata": {
    "colab": {
     "base_uri": "https://localhost:8080/",
     "height": 599
    },
    "id": "iYnwWLRMxYiM",
    "jupyter": {
     "is_executing": true
    },
    "outputId": "a64e588b-9b4d-4b0d-b9fc-1eae3fa44663"
   },
   "outputs": [
    {
     "data": {
      "image/svg+xml": [
       "<svg xmlns=\"http://www.w3.org/2000/svg\" width=\"489.6087890625\" height=\"240.0\"><line x1=\"30.0\" x2=\"459.6087890625\" y1=\"45.0\" y2=\"45.0\" stroke=\"#1967d2\" stroke-width=\"1\" /><line x1=\"30.0\" x2=\"459.6087890625\" y1=\"95.0\" y2=\"95.0\" stroke=\"#1967d2\" stroke-width=\"1\" /><line x1=\"30.0\" x2=\"459.6087890625\" y1=\"145.0\" y2=\"145.0\" stroke=\"#1967d2\" stroke-width=\"1\" /><line x1=\"30.0\" x2=\"459.6087890625\" y1=\"195.0\" y2=\"195.0\" stroke=\"#1967d2\" stroke-width=\"1\" /><line x1=\"289.6087890625\" x2=\"379.6087890625\" y1=\"5.0\" y2=\"5.0\" stroke=\"black\" stroke-width=\"1\" /><line x1=\"289.6087890625\" x2=\"379.6087890625\" y1=\"235.0\" y2=\"235.0\" stroke=\"black\" stroke-width=\"1\" /><line x1=\"120.0\" x2=\"219.6087890625\" y1=\"5.0\" y2=\"5.0\" stroke=\"black\" stroke-width=\"1\" /><line x1=\"120.0\" x2=\"219.6087890625\" y1=\"235.0\" y2=\"235.0\" stroke=\"black\" stroke-width=\"1\" /><line x1=\"90.0\" x2=\"90.0\" y1=\"145.0\" y2=\"195.0\" stroke=\"black\" stroke-width=\"3\" /><line x1=\"144.80439453125\" x2=\"144.80439453125\" y1=\"45.0\" y2=\"145.0\" stroke=\"black\" stroke-width=\"3\" /><line x1=\"189.6087890625\" x2=\"189.6087890625\" y1=\"95.0\" y2=\"195.0\" stroke=\"black\" stroke-width=\"3\" /><line x1=\"349.6087890625\" x2=\"349.6087890625\" y1=\"45.0\" y2=\"195.0\" stroke=\"black\" stroke-width=\"3\" /><line x1=\"419.6087890625\" x2=\"419.6087890625\" y1=\"95.0\" y2=\"145.0\" stroke=\"black\" stroke-width=\"3\" /><line x1=\"289.6087890625\" x2=\"289.6087890625\" y1=\"5.0\" y2=\"15.0\" stroke=\"black\" stroke-width=\"3\" /><line x1=\"379.6087890625\" x2=\"379.6087890625\" y1=\"5.0\" y2=\"15.0\" stroke=\"black\" stroke-width=\"3\" /><line x1=\"289.6087890625\" x2=\"289.6087890625\" y1=\"225.0\" y2=\"235.0\" stroke=\"black\" stroke-width=\"3\" /><line x1=\"379.6087890625\" x2=\"379.6087890625\" y1=\"225.0\" y2=\"235.0\" stroke=\"black\" stroke-width=\"3\" /><line x1=\"120.0\" x2=\"120.0\" y1=\"5.0\" y2=\"15.0\" stroke=\"black\" stroke-width=\"3\" /><line x1=\"219.6087890625\" x2=\"219.6087890625\" y1=\"5.0\" y2=\"15.0\" stroke=\"black\" stroke-width=\"3\" /><line x1=\"120.0\" x2=\"120.0\" y1=\"225.0\" y2=\"235.0\" stroke=\"black\" stroke-width=\"3\" /><line x1=\"219.6087890625\" x2=\"219.6087890625\" y1=\"225.0\" y2=\"235.0\" stroke=\"black\" stroke-width=\"3\" /><rect x=\"10.0\" y=\"25.0\" width=\"40\" height=\"40\" stroke=\"black\" fill=\"white\" stroke-width=\"0\" /><text x=\"30.0\" y=\"45.0\" dominant-baseline=\"middle\" text-anchor=\"middle\" font-size=\"14px\" font-family=\"sans\\-serif:style=normal:variant=normal:weight=normal:stretch=normal:size=10.0\">0: </text><rect x=\"10.0\" y=\"75.0\" width=\"40\" height=\"40\" stroke=\"black\" fill=\"white\" stroke-width=\"0\" /><text x=\"30.0\" y=\"95.0\" dominant-baseline=\"middle\" text-anchor=\"middle\" font-size=\"14px\" font-family=\"sans\\-serif:style=normal:variant=normal:weight=normal:stretch=normal:size=10.0\">1: </text><rect x=\"10.0\" y=\"125.0\" width=\"40\" height=\"40\" stroke=\"black\" fill=\"white\" stroke-width=\"0\" /><text x=\"30.0\" y=\"145.0\" dominant-baseline=\"middle\" text-anchor=\"middle\" font-size=\"14px\" font-family=\"sans\\-serif:style=normal:variant=normal:weight=normal:stretch=normal:size=10.0\">2: </text><rect x=\"10.0\" y=\"175.0\" width=\"40\" height=\"40\" stroke=\"black\" fill=\"white\" stroke-width=\"0\" /><text x=\"30.0\" y=\"195.0\" dominant-baseline=\"middle\" text-anchor=\"middle\" font-size=\"14px\" font-family=\"sans\\-serif:style=normal:variant=normal:weight=normal:stretch=normal:size=10.0\">3: </text><text x=\"90.0\" y=\"198.0\" dominant-baseline=\"middle\" text-anchor=\"middle\" font-size=\"40px\" font-family=\"sans\\-serif:style=normal:variant=normal:weight=normal:stretch=normal:size=10.0\">×</text><text x=\"90.0\" y=\"148.0\" dominant-baseline=\"middle\" text-anchor=\"middle\" font-size=\"40px\" font-family=\"sans\\-serif:style=normal:variant=normal:weight=normal:stretch=normal:size=10.0\">×</text><rect x=\"70.0\" y=\"75.0\" width=\"40\" height=\"40\" stroke=\"black\" fill=\"white\" stroke-width=\"1\" /><text x=\"90.0\" y=\"95.0\" dominant-baseline=\"middle\" text-anchor=\"middle\" font-size=\"18px\" font-family=\"sans\\-serif:style=normal:variant=normal:weight=normal:stretch=normal:size=10.0\">X</text><rect x=\"120.00000000000001\" y=\"25.0\" width=\"49.6087890625\" height=\"40\" stroke=\"black\" fill=\"white\" stroke-width=\"1\" /><text x=\"144.80439453125\" y=\"45.0\" dominant-baseline=\"middle\" text-anchor=\"middle\" font-size=\"14px\" font-family=\"sans\\-serif:style=normal:variant=normal:weight=normal:stretch=normal:size=10.0\">iSwap</text><rect x=\"120.00000000000001\" y=\"125.0\" width=\"49.6087890625\" height=\"40\" stroke=\"black\" fill=\"white\" stroke-width=\"1\" /><text x=\"144.80439453125\" y=\"145.0\" dominant-baseline=\"middle\" text-anchor=\"middle\" font-size=\"14px\" font-family=\"sans\\-serif:style=normal:variant=normal:weight=normal:stretch=normal:size=10.0\">iSwap</text><circle cx=\"189.6087890625\" cy=\"195.0\" r=\"10.0\" /><circle cx=\"189.6087890625\" cy=\"95.0\" r=\"10.0\" /><rect x=\"239.60878906250002\" y=\"25.0\" width=\"40\" height=\"40\" stroke=\"black\" fill=\"white\" stroke-width=\"1\" /><text x=\"259.6087890625\" y=\"45.0\" dominant-baseline=\"middle\" text-anchor=\"middle\" font-size=\"18px\" font-family=\"sans\\-serif:style=normal:variant=normal:weight=normal:stretch=normal:size=10.0\">T</text><rect x=\"239.60878906250002\" y=\"175.0\" width=\"40\" height=\"40\" stroke=\"black\" fill=\"white\" stroke-width=\"1\" /><text x=\"259.6087890625\" y=\"195.0\" dominant-baseline=\"middle\" text-anchor=\"middle\" font-size=\"18px\" font-family=\"sans\\-serif:style=normal:variant=normal:weight=normal:stretch=normal:size=10.0\">T</text><rect x=\"239.60878906250002\" y=\"125.0\" width=\"40\" height=\"40\" stroke=\"black\" fill=\"white\" stroke-width=\"1\" /><text x=\"259.6087890625\" y=\"145.0\" dominant-baseline=\"middle\" text-anchor=\"middle\" font-size=\"18px\" font-family=\"sans\\-serif:style=normal:variant=normal:weight=normal:stretch=normal:size=10.0\">S</text><rect x=\"289.6087890625\" y=\"75.0\" width=\"40\" height=\"40\" stroke=\"black\" fill=\"white\" stroke-width=\"1\" /><text x=\"309.6087890625\" y=\"95.0\" dominant-baseline=\"middle\" text-anchor=\"middle\" font-size=\"18px\" font-family=\"sans\\-serif:style=normal:variant=normal:weight=normal:stretch=normal:size=10.0\">X</text><rect x=\"289.6087890625\" y=\"125.0\" width=\"40\" height=\"40\" stroke=\"black\" fill=\"white\" stroke-width=\"1\" /><text x=\"309.6087890625\" y=\"145.0\" dominant-baseline=\"middle\" text-anchor=\"middle\" font-size=\"18px\" font-family=\"sans\\-serif:style=normal:variant=normal:weight=normal:stretch=normal:size=10.0\">S</text><circle cx=\"349.6087890625\" cy=\"195.0\" r=\"10.0\" /><circle cx=\"349.6087890625\" cy=\"45.0\" r=\"10.0\" /><rect x=\"399.6087890625\" y=\"25.0\" width=\"40\" height=\"40\" stroke=\"black\" fill=\"white\" stroke-width=\"1\" /><text x=\"419.6087890625\" y=\"45.0\" dominant-baseline=\"middle\" text-anchor=\"middle\" font-size=\"18px\" font-family=\"sans\\-serif:style=normal:variant=normal:weight=normal:stretch=normal:size=10.0\">T</text><circle cx=\"419.6087890625\" cy=\"145.0\" r=\"10.0\" /><rect x=\"399.6087890625\" y=\"75.0\" width=\"40\" height=\"40\" stroke=\"black\" fill=\"white\" stroke-width=\"1\" /><text x=\"419.6087890625\" y=\"95.0\" dominant-baseline=\"middle\" text-anchor=\"middle\" font-size=\"18px\" font-family=\"sans\\-serif:style=normal:variant=normal:weight=normal:stretch=normal:size=10.0\">X</text></svg>"
      ],
      "text/plain": [
       "<cirq.contrib.svg.svg.SVGCircuit at 0x7696ee557f70>"
      ]
     },
     "metadata": {},
     "output_type": "display_data"
    },
    {
     "data": {
      "image/svg+xml": [
       "<svg xmlns=\"http://www.w3.org/2000/svg\" xmlns:xlink=\"http://www.w3.org/1999/xlink\" width=\"663pt\" height=\"236pt\" viewBox=\"0.00 0.00 663.00 236.00\">\n",
       "<g id=\"graph0\" class=\"graph\" transform=\"scale(1 1) rotate(0) translate(4 232)\">\n",
       "<title>my_graph</title>\n",
       "<polygon fill=\"white\" stroke=\"transparent\" points=\"-4,4 -4,-232 659,-232 659,4 -4,4\"/>\n",
       "<!-- qubits_G25 -->\n",
       "<g id=\"node1\" class=\"node\">\n",
       "<title>qubits_G25</title>\n",
       "<text text-anchor=\"middle\" x=\"40.5\" y=\"-176.3\" font-family=\"Times,serif\" font-size=\"14.00\">qubits[0]</text>\n",
       "</g>\n",
       "<!-- CirqGateAsBloq -->\n",
       "<g id=\"node9\" class=\"node\">\n",
       "<title>CirqGateAsBloq</title>\n",
       "<polygon fill=\"none\" stroke=\"black\" points=\"224.5,-176 224.5,-193 265.5,-193 265.5,-176 224.5,-176\"/>\n",
       "<text text-anchor=\"start\" x=\"227.5\" y=\"-182\" font-family=\"Times,serif\" font-size=\"10.00\">ISWAP</text>\n",
       "<polygon fill=\"none\" stroke=\"black\" points=\"224.5,-155 224.5,-176 265.5,-176 265.5,-155 224.5,-155\"/>\n",
       "<text text-anchor=\"start\" x=\"230.5\" y=\"-161.8\" font-family=\"Times,serif\" font-size=\"14.00\">q[0]</text>\n",
       "<polygon fill=\"none\" stroke=\"black\" points=\"224.5,-134 224.5,-155 265.5,-155 265.5,-134 224.5,-134\"/>\n",
       "<text text-anchor=\"start\" x=\"230.5\" y=\"-140.8\" font-family=\"Times,serif\" font-size=\"14.00\">q[1]</text>\n",
       "</g>\n",
       "<!-- qubits_G25&#45;&gt;CirqGateAsBloq -->\n",
       "<g id=\"edge4\" class=\"edge\">\n",
       "<title>qubits_G25:e-&gt;CirqGateAsBloq:w</title>\n",
       "<path fill=\"none\" stroke=\"black\" d=\"M81,-180C144.11,-180 159.78,-166.33 221.77,-166.01\"/>\n",
       "<ellipse fill=\"black\" stroke=\"black\" cx=\"223\" cy=\"-166\" rx=\"1\" ry=\"1\"/>\n",
       "<text text-anchor=\"middle\" x=\"152.5\" y=\"-181\" font-family=\"Times,serif\" font-size=\"10.00\">1</text>\n",
       "</g>\n",
       "<!-- qubits_G23 -->\n",
       "<g id=\"node2\" class=\"node\">\n",
       "<title>qubits_G23</title>\n",
       "<text text-anchor=\"middle\" x=\"40.5\" y=\"-14.3\" font-family=\"Times,serif\" font-size=\"14.00\">qubits[1]</text>\n",
       "</g>\n",
       "<!-- XGate -->\n",
       "<g id=\"node12\" class=\"node\">\n",
       "<title>XGate</title>\n",
       "<polygon fill=\"none\" stroke=\"black\" points=\"134.5,-36 134.5,-53 171.5,-53 171.5,-36 134.5,-36\"/>\n",
       "<text text-anchor=\"start\" x=\"137.5\" y=\"-42\" font-family=\"Times,serif\" font-size=\"10.00\">XGate</text>\n",
       "<polygon fill=\"none\" stroke=\"black\" points=\"134.5,-15 134.5,-36 171.5,-36 171.5,-15 134.5,-15\"/>\n",
       "<text text-anchor=\"start\" x=\"148\" y=\"-21.8\" font-family=\"Times,serif\" font-size=\"14.00\">q</text>\n",
       "</g>\n",
       "<!-- qubits_G23&#45;&gt;XGate -->\n",
       "<g id=\"edge3\" class=\"edge\">\n",
       "<title>qubits_G23:e-&gt;XGate:w</title>\n",
       "<path fill=\"none\" stroke=\"black\" d=\"M81,-18C103.8,-18 109.6,-24.57 131.35,-24.98\"/>\n",
       "<ellipse fill=\"black\" stroke=\"black\" cx=\"132.5\" cy=\"-24.99\" rx=\"1\" ry=\"1\"/>\n",
       "<text text-anchor=\"middle\" x=\"99.5\" y=\"-23\" font-family=\"Times,serif\" font-size=\"10.00\">1</text>\n",
       "</g>\n",
       "<!-- qubits_G30 -->\n",
       "<g id=\"node3\" class=\"node\">\n",
       "<title>qubits_G30</title>\n",
       "<text text-anchor=\"middle\" x=\"40.5\" y=\"-68.3\" font-family=\"Times,serif\" font-size=\"14.00\">qubits[2]</text>\n",
       "</g>\n",
       "<!-- TwoBitSwap -->\n",
       "<g id=\"node10\" class=\"node\">\n",
       "<title>TwoBitSwap</title>\n",
       "<polygon fill=\"none\" stroke=\"black\" points=\"118.5,-123 118.5,-140 187.5,-140 187.5,-123 118.5,-123\"/>\n",
       "<text text-anchor=\"start\" x=\"121.5\" y=\"-129\" font-family=\"Times,serif\" font-size=\"10.00\">TwoBitSwap</text>\n",
       "<polygon fill=\"none\" stroke=\"black\" points=\"118.5,-102 118.5,-123 187.5,-123 187.5,-102 118.5,-102\"/>\n",
       "<text text-anchor=\"start\" x=\"148.5\" y=\"-108.8\" font-family=\"Times,serif\" font-size=\"14.00\">x</text>\n",
       "<polygon fill=\"none\" stroke=\"black\" points=\"118.5,-81 118.5,-102 187.5,-102 187.5,-81 118.5,-81\"/>\n",
       "<text text-anchor=\"start\" x=\"148.5\" y=\"-87.8\" font-family=\"Times,serif\" font-size=\"14.00\">y</text>\n",
       "</g>\n",
       "<!-- qubits_G30&#45;&gt;TwoBitSwap -->\n",
       "<g id=\"edge2\" class=\"edge\">\n",
       "<title>qubits_G30:e-&gt;TwoBitSwap:w</title>\n",
       "<path fill=\"none\" stroke=\"black\" d=\"M81,-72C98.76,-72 99.48,-89.54 115.92,-90.92\"/>\n",
       "<ellipse fill=\"black\" stroke=\"black\" cx=\"117\" cy=\"-90.96\" rx=\"1\" ry=\"1\"/>\n",
       "<text text-anchor=\"middle\" x=\"99.5\" y=\"-84\" font-family=\"Times,serif\" font-size=\"10.00\">1</text>\n",
       "</g>\n",
       "<!-- qubits_G15 -->\n",
       "<g id=\"node4\" class=\"node\">\n",
       "<title>qubits_G15</title>\n",
       "<text text-anchor=\"middle\" x=\"40.5\" y=\"-122.3\" font-family=\"Times,serif\" font-size=\"14.00\">qubits[3]</text>\n",
       "</g>\n",
       "<!-- qubits_G15&#45;&gt;TwoBitSwap -->\n",
       "<g id=\"edge1\" class=\"edge\">\n",
       "<title>qubits_G15:e-&gt;TwoBitSwap:w</title>\n",
       "<path fill=\"none\" stroke=\"black\" d=\"M81,-126C97.61,-126 100.34,-114.19 115.65,-113.08\"/>\n",
       "<ellipse fill=\"black\" stroke=\"black\" cx=\"117\" cy=\"-113.04\" rx=\"1\" ry=\"1\"/>\n",
       "<text text-anchor=\"middle\" x=\"99.5\" y=\"-122\" font-family=\"Times,serif\" font-size=\"10.00\">1</text>\n",
       "</g>\n",
       "<!-- TGate -->\n",
       "<g id=\"node5\" class=\"node\">\n",
       "<title>TGate</title>\n",
       "<polygon fill=\"none\" stroke=\"black\" points=\"312.5,-198 312.5,-215 328.5,-215 328.5,-198 312.5,-198\"/>\n",
       "<text text-anchor=\"start\" x=\"317\" y=\"-204\" font-family=\"Times,serif\" font-size=\"10.00\">T</text>\n",
       "<polygon fill=\"none\" stroke=\"black\" points=\"312.5,-177 312.5,-198 328.5,-198 328.5,-177 312.5,-177\"/>\n",
       "<text text-anchor=\"start\" x=\"315.5\" y=\"-183.8\" font-family=\"Times,serif\" font-size=\"14.00\">q</text>\n",
       "</g>\n",
       "<!-- CZPowGate_G12 -->\n",
       "<g id=\"node16\" class=\"node\">\n",
       "<title>CZPowGate_G12</title>\n",
       "<polygon fill=\"none\" stroke=\"black\" points=\"413.5,-194 413.5,-211 448.5,-211 448.5,-194 413.5,-194\"/>\n",
       "<text text-anchor=\"start\" x=\"423.5\" y=\"-200\" font-family=\"Times,serif\" font-size=\"10.00\">CZ</text>\n",
       "<polygon fill=\"none\" stroke=\"black\" points=\"413.5,-173 413.5,-194 448.5,-194 448.5,-173 413.5,-173\"/>\n",
       "<text text-anchor=\"start\" x=\"416.5\" y=\"-179.8\" font-family=\"Times,serif\" font-size=\"14.00\">q[0]</text>\n",
       "<polygon fill=\"none\" stroke=\"black\" points=\"413.5,-152 413.5,-173 448.5,-173 448.5,-152 413.5,-152\"/>\n",
       "<text text-anchor=\"start\" x=\"416.5\" y=\"-158.8\" font-family=\"Times,serif\" font-size=\"14.00\">q[1]</text>\n",
       "</g>\n",
       "<!-- TGate&#45;&gt;CZPowGate_G12 -->\n",
       "<g id=\"edge14\" class=\"edge\">\n",
       "<title>TGate:e-&gt;CZPowGate_G12:w</title>\n",
       "<path fill=\"none\" stroke=\"black\" d=\"M329.5,-187C343.87,-187 343.49,-174.91 357,-170 379.78,-161.72 387.17,-161.98 410.49,-162\"/>\n",
       "<ellipse fill=\"black\" stroke=\"black\" cx=\"411.5\" cy=\"-162\" rx=\"1\" ry=\"1\"/>\n",
       "<text text-anchor=\"middle\" x=\"375.5\" y=\"-173\" font-family=\"Times,serif\" font-size=\"10.00\">1</text>\n",
       "</g>\n",
       "<!-- SGate -->\n",
       "<g id=\"node6\" class=\"node\">\n",
       "<title>SGate</title>\n",
       "<polygon fill=\"none\" stroke=\"black\" points=\"412.5,-115 412.5,-132 449.5,-132 449.5,-115 412.5,-115\"/>\n",
       "<text text-anchor=\"start\" x=\"415.5\" y=\"-121\" font-family=\"Times,serif\" font-size=\"10.00\">SGate</text>\n",
       "<polygon fill=\"none\" stroke=\"black\" points=\"412.5,-94 412.5,-115 449.5,-115 449.5,-94 412.5,-94\"/>\n",
       "<text text-anchor=\"start\" x=\"426\" y=\"-100.8\" font-family=\"Times,serif\" font-size=\"14.00\">q</text>\n",
       "</g>\n",
       "<!-- CNOT -->\n",
       "<g id=\"node8\" class=\"node\">\n",
       "<title>CNOT</title>\n",
       "<polygon fill=\"none\" stroke=\"black\" points=\"486.5,-97 486.5,-114 537.5,-114 537.5,-97 486.5,-97\"/>\n",
       "<text text-anchor=\"start\" x=\"496\" y=\"-103\" font-family=\"Times,serif\" font-size=\"10.00\">CNOT</text>\n",
       "<polygon fill=\"none\" stroke=\"black\" points=\"486.5,-76 486.5,-97 537.5,-97 537.5,-76 486.5,-76\"/>\n",
       "<text text-anchor=\"start\" x=\"499.5\" y=\"-82.8\" font-family=\"Times,serif\" font-size=\"14.00\">ctrl</text>\n",
       "<polygon fill=\"none\" stroke=\"black\" points=\"486.5,-55 486.5,-76 537.5,-76 537.5,-55 486.5,-55\"/>\n",
       "<text text-anchor=\"start\" x=\"489.5\" y=\"-61.8\" font-family=\"Times,serif\" font-size=\"14.00\">target</text>\n",
       "</g>\n",
       "<!-- SGate&#45;&gt;CNOT -->\n",
       "<g id=\"edge16\" class=\"edge\">\n",
       "<title>SGate:e-&gt;CNOT:w</title>\n",
       "<path fill=\"none\" stroke=\"black\" d=\"M449,-104C466.39,-104 467.81,-88.3 483.96,-87.08\"/>\n",
       "<ellipse fill=\"black\" stroke=\"black\" cx=\"485\" cy=\"-87.04\" rx=\"1\" ry=\"1\"/>\n",
       "<text text-anchor=\"middle\" x=\"467.5\" y=\"-98\" font-family=\"Times,serif\" font-size=\"10.00\">1</text>\n",
       "</g>\n",
       "<!-- TGate_G1 -->\n",
       "<g id=\"node7\" class=\"node\">\n",
       "<title>TGate_G1</title>\n",
       "<polygon fill=\"none\" stroke=\"black\" points=\"503.5,-157 503.5,-174 519.5,-174 519.5,-157 503.5,-157\"/>\n",
       "<text text-anchor=\"start\" x=\"508\" y=\"-163\" font-family=\"Times,serif\" font-size=\"10.00\">T</text>\n",
       "<polygon fill=\"none\" stroke=\"black\" points=\"503.5,-136 503.5,-157 519.5,-157 519.5,-136 503.5,-136\"/>\n",
       "<text text-anchor=\"start\" x=\"506.5\" y=\"-142.8\" font-family=\"Times,serif\" font-size=\"14.00\">q</text>\n",
       "</g>\n",
       "<!-- qubits -->\n",
       "<g id=\"node17\" class=\"node\">\n",
       "<title>qubits</title>\n",
       "<text text-anchor=\"middle\" x=\"614.5\" y=\"-142.3\" font-family=\"Times,serif\" font-size=\"14.00\">qubits[0]</text>\n",
       "</g>\n",
       "<!-- TGate_G1&#45;&gt;qubits -->\n",
       "<g id=\"edge18\" class=\"edge\">\n",
       "<title>TGate_G1:e-&gt;qubits:w</title>\n",
       "<path fill=\"none\" stroke=\"black\" d=\"M520.5,-146C543.53,-146 549.83,-146 571.82,-146\"/>\n",
       "<ellipse fill=\"black\" stroke=\"black\" cx=\"573\" cy=\"-146\" rx=\"1\" ry=\"1\"/>\n",
       "<text text-anchor=\"middle\" x=\"555.5\" y=\"-149\" font-family=\"Times,serif\" font-size=\"10.00\">1</text>\n",
       "</g>\n",
       "<!-- qubits_G37 -->\n",
       "<g id=\"node18\" class=\"node\">\n",
       "<title>qubits_G37</title>\n",
       "<text text-anchor=\"middle\" x=\"614.5\" y=\"-33.3\" font-family=\"Times,serif\" font-size=\"14.00\">qubits[1]</text>\n",
       "</g>\n",
       "<!-- CNOT&#45;&gt;qubits_G37 -->\n",
       "<g id=\"edge19\" class=\"edge\">\n",
       "<title>CNOT:e-&gt;qubits_G37:w</title>\n",
       "<path fill=\"none\" stroke=\"black\" d=\"M537,-65C556.82,-65 553.67,-39.14 571.69,-37.12\"/>\n",
       "<ellipse fill=\"black\" stroke=\"black\" cx=\"573\" cy=\"-37.05\" rx=\"1\" ry=\"1\"/>\n",
       "<text text-anchor=\"middle\" x=\"555.5\" y=\"-55\" font-family=\"Times,serif\" font-size=\"10.00\">1</text>\n",
       "</g>\n",
       "<!-- qubits_G16 -->\n",
       "<g id=\"node19\" class=\"node\">\n",
       "<title>qubits_G16</title>\n",
       "<text text-anchor=\"middle\" x=\"614.5\" y=\"-87.3\" font-family=\"Times,serif\" font-size=\"14.00\">qubits[2]</text>\n",
       "</g>\n",
       "<!-- CNOT&#45;&gt;qubits_G16 -->\n",
       "<g id=\"edge20\" class=\"edge\">\n",
       "<title>CNOT:e-&gt;qubits_G16:w</title>\n",
       "<path fill=\"none\" stroke=\"black\" d=\"M537,-87C552.76,-87 557.06,-90.63 571.75,-90.97\"/>\n",
       "<ellipse fill=\"black\" stroke=\"black\" cx=\"573\" cy=\"-90.99\" rx=\"1\" ry=\"1\"/>\n",
       "<text text-anchor=\"middle\" x=\"555.5\" y=\"-92\" font-family=\"Times,serif\" font-size=\"10.00\">1</text>\n",
       "</g>\n",
       "<!-- CirqGateAsBloq&#45;&gt;TGate -->\n",
       "<g id=\"edge8\" class=\"edge\">\n",
       "<title>CirqGateAsBloq:e-&gt;TGate:w</title>\n",
       "<path fill=\"none\" stroke=\"black\" d=\"M265,-166C286.97,-166 288.73,-185.71 309.44,-186.94\"/>\n",
       "<ellipse fill=\"black\" stroke=\"black\" cx=\"310.5\" cy=\"-186.97\" rx=\"1\" ry=\"1\"/>\n",
       "<text text-anchor=\"middle\" x=\"283.5\" y=\"-175\" font-family=\"Times,serif\" font-size=\"10.00\">1</text>\n",
       "</g>\n",
       "<!-- SGate_G10 -->\n",
       "<g id=\"node15\" class=\"node\">\n",
       "<title>SGate_G10</title>\n",
       "<polygon fill=\"none\" stroke=\"black\" points=\"302.5,-142 302.5,-159 339.5,-159 339.5,-142 302.5,-142\"/>\n",
       "<text text-anchor=\"start\" x=\"305.5\" y=\"-148\" font-family=\"Times,serif\" font-size=\"10.00\">SGate</text>\n",
       "<polygon fill=\"none\" stroke=\"black\" points=\"302.5,-121 302.5,-142 339.5,-142 339.5,-121 302.5,-121\"/>\n",
       "<text text-anchor=\"start\" x=\"316\" y=\"-127.8\" font-family=\"Times,serif\" font-size=\"14.00\">q</text>\n",
       "</g>\n",
       "<!-- CirqGateAsBloq&#45;&gt;SGate_G10 -->\n",
       "<g id=\"edge10\" class=\"edge\">\n",
       "<title>CirqGateAsBloq:e-&gt;SGate_G10:w</title>\n",
       "<path fill=\"none\" stroke=\"black\" d=\"M265,-144C281.61,-144 284.34,-132.19 299.65,-131.08\"/>\n",
       "<ellipse fill=\"black\" stroke=\"black\" cx=\"301\" cy=\"-131.04\" rx=\"1\" ry=\"1\"/>\n",
       "<text text-anchor=\"middle\" x=\"283.5\" y=\"-140\" font-family=\"Times,serif\" font-size=\"10.00\">1</text>\n",
       "</g>\n",
       "<!-- TwoBitSwap&#45;&gt;CirqGateAsBloq -->\n",
       "<g id=\"edge5\" class=\"edge\">\n",
       "<title>TwoBitSwap:e-&gt;CirqGateAsBloq:w</title>\n",
       "<path fill=\"none\" stroke=\"black\" d=\"M187,-91C214.94,-91 196.35,-141.14 221.75,-143.88\"/>\n",
       "<ellipse fill=\"black\" stroke=\"black\" cx=\"223\" cy=\"-143.95\" rx=\"1\" ry=\"1\"/>\n",
       "<text text-anchor=\"middle\" x=\"205.5\" y=\"-122\" font-family=\"Times,serif\" font-size=\"10.00\">1</text>\n",
       "</g>\n",
       "<!-- CZPowGate -->\n",
       "<g id=\"node11\" class=\"node\">\n",
       "<title>CZPowGate</title>\n",
       "<polygon fill=\"none\" stroke=\"black\" points=\"227.5,-76 227.5,-93 262.5,-93 262.5,-76 227.5,-76\"/>\n",
       "<text text-anchor=\"start\" x=\"237.5\" y=\"-82\" font-family=\"Times,serif\" font-size=\"10.00\">CZ</text>\n",
       "<polygon fill=\"none\" stroke=\"black\" points=\"227.5,-55 227.5,-76 262.5,-76 262.5,-55 227.5,-55\"/>\n",
       "<text text-anchor=\"start\" x=\"230.5\" y=\"-61.8\" font-family=\"Times,serif\" font-size=\"14.00\">q[0]</text>\n",
       "<polygon fill=\"none\" stroke=\"black\" points=\"227.5,-34 227.5,-55 262.5,-55 262.5,-34 227.5,-34\"/>\n",
       "<text text-anchor=\"start\" x=\"230.5\" y=\"-40.8\" font-family=\"Times,serif\" font-size=\"14.00\">q[1]</text>\n",
       "</g>\n",
       "<!-- TwoBitSwap&#45;&gt;CZPowGate -->\n",
       "<g id=\"edge6\" class=\"edge\">\n",
       "<title>TwoBitSwap:e-&gt;CZPowGate:w</title>\n",
       "<path fill=\"none\" stroke=\"black\" d=\"M187,-113C204.49,-113 192.84,-90.58 205,-78 212.01,-70.75 215.07,-66.67 224.08,-66.08\"/>\n",
       "<ellipse fill=\"black\" stroke=\"black\" cx=\"225.5\" cy=\"-66.03\" rx=\"1\" ry=\"1\"/>\n",
       "<text text-anchor=\"middle\" x=\"205.5\" y=\"-81\" font-family=\"Times,serif\" font-size=\"10.00\">1</text>\n",
       "</g>\n",
       "<!-- XGate_G6 -->\n",
       "<g id=\"node13\" class=\"node\">\n",
       "<title>XGate_G6</title>\n",
       "<polygon fill=\"none\" stroke=\"black\" points=\"357.5,-63 357.5,-80 394.5,-80 394.5,-63 357.5,-63\"/>\n",
       "<text text-anchor=\"start\" x=\"360.5\" y=\"-69\" font-family=\"Times,serif\" font-size=\"10.00\">XGate</text>\n",
       "<polygon fill=\"none\" stroke=\"black\" points=\"357.5,-42 357.5,-63 394.5,-63 394.5,-42 357.5,-42\"/>\n",
       "<text text-anchor=\"start\" x=\"371\" y=\"-48.8\" font-family=\"Times,serif\" font-size=\"14.00\">q</text>\n",
       "</g>\n",
       "<!-- CZPowGate&#45;&gt;XGate_G6 -->\n",
       "<g id=\"edge11\" class=\"edge\">\n",
       "<title>CZPowGate:e-&gt;XGate_G6:w</title>\n",
       "<path fill=\"none\" stroke=\"black\" d=\"M263.5,-44C304.39,-44 314.89,-51.69 354.59,-51.99\"/>\n",
       "<ellipse fill=\"black\" stroke=\"black\" cx=\"356\" cy=\"-52\" rx=\"1\" ry=\"1\"/>\n",
       "<text text-anchor=\"middle\" x=\"283.5\" y=\"-48\" font-family=\"Times,serif\" font-size=\"10.00\">1</text>\n",
       "</g>\n",
       "<!-- TGate_G8 -->\n",
       "<g id=\"node14\" class=\"node\">\n",
       "<title>TGate_G8</title>\n",
       "<polygon fill=\"none\" stroke=\"black\" points=\"312.5,-86 312.5,-103 328.5,-103 328.5,-86 312.5,-86\"/>\n",
       "<text text-anchor=\"start\" x=\"317\" y=\"-92\" font-family=\"Times,serif\" font-size=\"10.00\">T</text>\n",
       "<polygon fill=\"none\" stroke=\"black\" points=\"312.5,-65 312.5,-86 328.5,-86 328.5,-65 312.5,-65\"/>\n",
       "<text text-anchor=\"start\" x=\"315.5\" y=\"-71.8\" font-family=\"Times,serif\" font-size=\"14.00\">q</text>\n",
       "</g>\n",
       "<!-- CZPowGate&#45;&gt;TGate_G8 -->\n",
       "<g id=\"edge9\" class=\"edge\">\n",
       "<title>CZPowGate:e-&gt;TGate_G8:w</title>\n",
       "<path fill=\"none\" stroke=\"black\" d=\"M263.5,-66C284.36,-66 289.41,-74.31 309.03,-74.96\"/>\n",
       "<ellipse fill=\"black\" stroke=\"black\" cx=\"310.5\" cy=\"-74.98\" rx=\"1\" ry=\"1\"/>\n",
       "<text text-anchor=\"middle\" x=\"283.5\" y=\"-72\" font-family=\"Times,serif\" font-size=\"10.00\">1</text>\n",
       "</g>\n",
       "<!-- XGate&#45;&gt;CZPowGate -->\n",
       "<g id=\"edge7\" class=\"edge\">\n",
       "<title>XGate:e-&gt;CZPowGate:w</title>\n",
       "<path fill=\"none\" stroke=\"black\" d=\"M172.5,-25C197.25,-25 200.87,-42.98 224.46,-43.96\"/>\n",
       "<ellipse fill=\"black\" stroke=\"black\" cx=\"225.5\" cy=\"-43.98\" rx=\"1\" ry=\"1\"/>\n",
       "<text text-anchor=\"middle\" x=\"205.5\" y=\"-42\" font-family=\"Times,serif\" font-size=\"10.00\">1</text>\n",
       "</g>\n",
       "<!-- XGate_G6&#45;&gt;CNOT -->\n",
       "<g id=\"edge17\" class=\"edge\">\n",
       "<title>XGate_G6:e-&gt;CNOT:w</title>\n",
       "<path fill=\"none\" stroke=\"black\" d=\"M394,-52C434.49,-52 444.33,-64.5 483.62,-64.99\"/>\n",
       "<ellipse fill=\"black\" stroke=\"black\" cx=\"485\" cy=\"-64.99\" rx=\"1\" ry=\"1\"/>\n",
       "<text text-anchor=\"middle\" x=\"430.5\" y=\"-64\" font-family=\"Times,serif\" font-size=\"10.00\">1</text>\n",
       "</g>\n",
       "<!-- TGate_G8&#45;&gt;CZPowGate_G12 -->\n",
       "<g id=\"edge13\" class=\"edge\">\n",
       "<title>TGate_G8:e-&gt;CZPowGate_G12:w</title>\n",
       "<path fill=\"none\" stroke=\"black\" d=\"M329.5,-75C370.48,-75 328.89,-133.19 357,-163 374.6,-181.66 385.52,-183.89 410.37,-184\"/>\n",
       "<ellipse fill=\"black\" stroke=\"black\" cx=\"411.5\" cy=\"-184\" rx=\"1\" ry=\"1\"/>\n",
       "<text text-anchor=\"middle\" x=\"375.5\" y=\"-186\" font-family=\"Times,serif\" font-size=\"10.00\">1</text>\n",
       "</g>\n",
       "<!-- SGate_G10&#45;&gt;SGate -->\n",
       "<g id=\"edge12\" class=\"edge\">\n",
       "<title>SGate_G10:e-&gt;SGate:w</title>\n",
       "<path fill=\"none\" stroke=\"black\" d=\"M339,-131C372.78,-131 377.21,-105.25 409.62,-104.04\"/>\n",
       "<ellipse fill=\"black\" stroke=\"black\" cx=\"411\" cy=\"-104.02\" rx=\"1\" ry=\"1\"/>\n",
       "<text text-anchor=\"middle\" x=\"375.5\" y=\"-130\" font-family=\"Times,serif\" font-size=\"10.00\">1</text>\n",
       "</g>\n",
       "<!-- CZPowGate_G12&#45;&gt;TGate_G1 -->\n",
       "<g id=\"edge15\" class=\"edge\">\n",
       "<title>CZPowGate_G12:e-&gt;TGate_G1:w</title>\n",
       "<path fill=\"none\" stroke=\"black\" d=\"M449,-162C473.04,-162 477.42,-146.98 500.23,-146.05\"/>\n",
       "<ellipse fill=\"black\" stroke=\"black\" cx=\"501.5\" cy=\"-146.02\" rx=\"1\" ry=\"1\"/>\n",
       "<text text-anchor=\"middle\" x=\"467.5\" y=\"-161\" font-family=\"Times,serif\" font-size=\"10.00\">1</text>\n",
       "</g>\n",
       "<!-- qubits_G20 -->\n",
       "<g id=\"node20\" class=\"node\">\n",
       "<title>qubits_G20</title>\n",
       "<text text-anchor=\"middle\" x=\"614.5\" y=\"-206.3\" font-family=\"Times,serif\" font-size=\"14.00\">qubits[3]</text>\n",
       "</g>\n",
       "<!-- CZPowGate_G12&#45;&gt;qubits_G20 -->\n",
       "<g id=\"edge21\" class=\"edge\">\n",
       "<title>CZPowGate_G12:e-&gt;qubits_G20:w</title>\n",
       "<path fill=\"none\" stroke=\"black\" d=\"M449,-184C504.97,-184 516.93,-209.29 571.7,-209.99\"/>\n",
       "<ellipse fill=\"black\" stroke=\"black\" cx=\"573\" cy=\"-209.99\" rx=\"1\" ry=\"1\"/>\n",
       "<text text-anchor=\"middle\" x=\"511.5\" y=\"-208\" font-family=\"Times,serif\" font-size=\"10.00\">1</text>\n",
       "</g>\n",
       "</g>\n",
       "</svg>"
      ],
      "text/plain": [
       "<IPython.core.display.SVG object>"
      ]
     },
     "metadata": {},
     "output_type": "display_data"
    }
   ],
   "source": [
    "#Converting Cirq Circuit to CompositeBloq\n",
    "from cirq.contrib.svg import SVGCircuit\n",
    "\n",
    "# Make a random Cirq circuit\n",
    "qubits = cirq.LineQubit.range(4)\n",
    "circuit = cirq.testing.random_circuit(qubits, n_moments=5, op_density=1.0, random_state=52)\n",
    "\n",
    "# Convert to CompositeBloq\n",
    "cbloq = CompositeBloq.from_cirq_circuit(circuit)\n",
    "display(SVGCircuit(circuit))\n",
    "show_bloq(cbloq)"
   ]
  },
  {
   "cell_type": "markdown",
   "metadata": {
    "id": "Zz0W3zPtJ6IS"
   },
   "source": [
    "## Bloq to Cirq Circuit"
   ]
  },
  {
   "cell_type": "markdown",
   "metadata": {
    "id": "V6d27-X9KHbW"
   },
   "source": [
    "### `Bloq.as_cirq_op`\n",
    "This is an overridable method to declare what Cirq operation corresponds to a bloq. The `SwapTwoBits` in early example to `cirq.Swap` as follow:"
   ]
  },
  {
   "cell_type": "code",
   "execution_count": 47,
   "metadata": {
    "id": "5GS4cX0DxZI1",
    "jupyter": {
     "is_executing": true
    }
   },
   "outputs": [],
   "source": [
    "from qualtran.cirq_interop import CirqQuregT\n",
    "@attrs.frozen\n",
    "class SwapTwoBits(Bloq):\n",
    "    @property\n",
    "    def signature(self):\n",
    "        return Signature.build(x=1, y=1)\n",
    "\n",
    "    def as_cirq_op(\n",
    "            self, qubit_manager, x: CirqQuregT, y: CirqQuregT\n",
    "    ) -> Tuple[cirq.Operation, Dict[str, CirqQuregT]]:\n",
    "        x, = x  # each is an array of length one\n",
    "        y, = y\n",
    "        op = cirq.SWAP(x, y)\n",
    "        out_quregs = {'x': [x], 'y': [y]}\n",
    "        return op, out_quregs"
   ]
  },
  {
   "cell_type": "code",
   "execution_count": 48,
   "metadata": {
    "colab": {
     "base_uri": "https://localhost:8080/",
     "height": 141
    },
    "id": "nNQjbhdt4k0H",
    "jupyter": {
     "is_executing": true
    },
    "outputId": "86457afb-e3f7-4ea5-a613-9e2b11eb06aa"
   },
   "outputs": [
    {
     "data": {
      "image/svg+xml": [
       "<svg xmlns=\"http://www.w3.org/2000/svg\" width=\"160.0\" height=\"100.0\"><line x1=\"30.0\" x2=\"130.0\" y1=\"25.0\" y2=\"25.0\" stroke=\"#1967d2\" stroke-width=\"1\" /><line x1=\"30.0\" x2=\"130.0\" y1=\"75.0\" y2=\"75.0\" stroke=\"#1967d2\" stroke-width=\"1\" /><line x1=\"90.0\" x2=\"90.0\" y1=\"25.0\" y2=\"75.0\" stroke=\"black\" stroke-width=\"3\" /><rect x=\"10.0\" y=\"5.0\" width=\"40\" height=\"40\" stroke=\"black\" fill=\"white\" stroke-width=\"0\" /><text x=\"30.0\" y=\"25.0\" dominant-baseline=\"middle\" text-anchor=\"middle\" font-size=\"14px\" font-family=\"sans\\-serif:style=normal:variant=normal:weight=normal:stretch=normal:size=10.0\">q1: </text><rect x=\"10.0\" y=\"55.0\" width=\"40\" height=\"40\" stroke=\"black\" fill=\"white\" stroke-width=\"0\" /><text x=\"30.0\" y=\"75.0\" dominant-baseline=\"middle\" text-anchor=\"middle\" font-size=\"14px\" font-family=\"sans\\-serif:style=normal:variant=normal:weight=normal:stretch=normal:size=10.0\">q2: </text><text x=\"90.0\" y=\"28.0\" dominant-baseline=\"middle\" text-anchor=\"middle\" font-size=\"40px\" font-family=\"sans\\-serif:style=normal:variant=normal:weight=normal:stretch=normal:size=10.0\">×</text><text x=\"90.0\" y=\"78.0\" dominant-baseline=\"middle\" text-anchor=\"middle\" font-size=\"40px\" font-family=\"sans\\-serif:style=normal:variant=normal:weight=normal:stretch=normal:size=10.0\">×</text></svg>"
      ],
      "text/plain": [
       "<cirq.contrib.svg.svg.SVGCircuit at 0x7696ee4e4bb0>"
      ]
     },
     "execution_count": 48,
     "metadata": {},
     "output_type": "execute_result"
    }
   ],
   "source": [
    "circuit, out_quregs = SwapTwoBits().as_composite_bloq()\\\n",
    "    .to_cirq_circuit_and_quregs(x=[cirq.NamedQubit('q1')], y=[cirq.NamedQubit('q2')])\n",
    "SVGCircuit(circuit)"
   ]
  },
  {
   "cell_type": "markdown",
   "metadata": {
    "id": "CprhjT1-5Qy3"
   },
   "source": [
    "### `CompositeBloq.to_cirq_circuit`\n",
    "\n",
    "A composite bloq can be turned into a circuit composed of the result of as_cirq_op for each of the subbloqs via CompositeBloq.to_cirq_circuit.\n",
    "A bloq's Signature can be passed to a helper method get_named_qubits to instantiate Cirq qubits in the correct form for input to CompositeBloq.to_cirq_circuit_and_quregs. Users can also directly call CompositeBloq.to_cirq_circuit() which allocates the named qubits for you."
   ]
  },
  {
   "cell_type": "code",
   "execution_count": 49,
   "metadata": {
    "colab": {
     "base_uri": "https://localhost:8080/"
    },
    "id": "isIK8sFm5UMC",
    "jupyter": {
     "is_executing": true
    },
    "outputId": "f740492d-59c6-42cd-c5d7-d4608a8a7339"
   },
   "outputs": [
    {
     "data": {
      "text/plain": [
       "{'x': array([cirq.NamedQubit('x')], dtype=object),\n",
       " 'y': array([cirq.NamedQubit('y')], dtype=object)}"
      ]
     },
     "execution_count": 49,
     "metadata": {},
     "output_type": "execute_result"
    }
   ],
   "source": [
    "from qualtran._infra.gate_with_registers import get_named_qubits\n",
    "\n",
    "get_named_qubits(SwapTwoBits().signature.lefts())\n"
   ]
  },
  {
   "cell_type": "code",
   "execution_count": 51,
   "metadata": {
    "colab": {
     "base_uri": "https://localhost:8080/",
     "height": 275
    },
    "id": "2yqSChzlxZoX",
    "jupyter": {
     "is_executing": true
    },
    "outputId": "2b9181c3-f979-4820-e661-21342e938341"
   },
   "outputs": [
    {
     "data": {
      "image/svg+xml": [
       "<svg xmlns=\"http://www.w3.org/2000/svg\" xmlns:xlink=\"http://www.w3.org/1999/xlink\" width=\"375pt\" height=\"98pt\" viewBox=\"0.00 0.00 375.00 98.00\">\n",
       "<g id=\"graph0\" class=\"graph\" transform=\"scale(1 1) rotate(0) translate(4 94)\">\n",
       "<title>my_graph</title>\n",
       "<polygon fill=\"white\" stroke=\"transparent\" points=\"-4,4 -4,-94 371,-94 371,4 -4,4\"/>\n",
       "<!-- x_G8 -->\n",
       "<g id=\"node1\" class=\"node\">\n",
       "<title>x_G8</title>\n",
       "<text text-anchor=\"middle\" x=\"27\" y=\"-68.3\" font-family=\"Times,serif\" font-size=\"14.00\">x</text>\n",
       "</g>\n",
       "<!-- SwapTwoBits -->\n",
       "<g id=\"node3\" class=\"node\">\n",
       "<title>SwapTwoBits</title>\n",
       "<polygon fill=\"none\" stroke=\"black\" points=\"91,-66 91,-83 165,-83 165,-66 91,-66\"/>\n",
       "<text text-anchor=\"start\" x=\"94\" y=\"-72\" font-family=\"Times,serif\" font-size=\"10.00\">SwapTwoBits</text>\n",
       "<polygon fill=\"none\" stroke=\"black\" points=\"91,-45 91,-66 165,-66 165,-45 91,-45\"/>\n",
       "<text text-anchor=\"start\" x=\"123.5\" y=\"-51.8\" font-family=\"Times,serif\" font-size=\"14.00\">x</text>\n",
       "<polygon fill=\"none\" stroke=\"black\" points=\"91,-24 91,-45 165,-45 165,-24 91,-24\"/>\n",
       "<text text-anchor=\"start\" x=\"123.5\" y=\"-30.8\" font-family=\"Times,serif\" font-size=\"14.00\">y</text>\n",
       "</g>\n",
       "<!-- x_G8&#45;&gt;SwapTwoBits -->\n",
       "<g id=\"edge1\" class=\"edge\">\n",
       "<title>x_G8:e-&gt;SwapTwoBits:w</title>\n",
       "<path fill=\"none\" stroke=\"black\" d=\"M54,-72C71.22,-72 72.97,-57.23 88.98,-56.07\"/>\n",
       "<ellipse fill=\"black\" stroke=\"black\" cx=\"90\" cy=\"-56.04\" rx=\"1\" ry=\"1\"/>\n",
       "<text text-anchor=\"middle\" x=\"72.5\" y=\"-67\" font-family=\"Times,serif\" font-size=\"10.00\">1</text>\n",
       "</g>\n",
       "<!-- y_G5 -->\n",
       "<g id=\"node2\" class=\"node\">\n",
       "<title>y_G5</title>\n",
       "<text text-anchor=\"middle\" x=\"27\" y=\"-14.3\" font-family=\"Times,serif\" font-size=\"14.00\">y</text>\n",
       "</g>\n",
       "<!-- y_G5&#45;&gt;SwapTwoBits -->\n",
       "<g id=\"edge2\" class=\"edge\">\n",
       "<title>y_G5:e-&gt;SwapTwoBits:w</title>\n",
       "<path fill=\"none\" stroke=\"black\" d=\"M54,-18C71.22,-18 72.97,-32.77 88.98,-33.93\"/>\n",
       "<ellipse fill=\"black\" stroke=\"black\" cx=\"90\" cy=\"-33.96\" rx=\"1\" ry=\"1\"/>\n",
       "<text text-anchor=\"middle\" x=\"72.5\" y=\"-29\" font-family=\"Times,serif\" font-size=\"10.00\">1</text>\n",
       "</g>\n",
       "<!-- SwapTwoBits_G0 -->\n",
       "<g id=\"node4\" class=\"node\">\n",
       "<title>SwapTwoBits_G0</title>\n",
       "<polygon fill=\"none\" stroke=\"black\" points=\"202,-66 202,-83 276,-83 276,-66 202,-66\"/>\n",
       "<text text-anchor=\"start\" x=\"205\" y=\"-72\" font-family=\"Times,serif\" font-size=\"10.00\">SwapTwoBits</text>\n",
       "<polygon fill=\"none\" stroke=\"black\" points=\"202,-45 202,-66 276,-66 276,-45 202,-45\"/>\n",
       "<text text-anchor=\"start\" x=\"234.5\" y=\"-51.8\" font-family=\"Times,serif\" font-size=\"14.00\">x</text>\n",
       "<polygon fill=\"none\" stroke=\"black\" points=\"202,-24 202,-45 276,-45 276,-24 202,-24\"/>\n",
       "<text text-anchor=\"start\" x=\"234.5\" y=\"-30.8\" font-family=\"Times,serif\" font-size=\"14.00\">y</text>\n",
       "</g>\n",
       "<!-- SwapTwoBits&#45;&gt;SwapTwoBits_G0 -->\n",
       "<g id=\"edge3\" class=\"edge\">\n",
       "<title>SwapTwoBits:e-&gt;SwapTwoBits_G0:w</title>\n",
       "<path fill=\"none\" stroke=\"black\" d=\"M165,-56C180.67,-56 185.14,-56 199.77,-56\"/>\n",
       "<ellipse fill=\"black\" stroke=\"black\" cx=\"201\" cy=\"-56\" rx=\"1\" ry=\"1\"/>\n",
       "<text text-anchor=\"middle\" x=\"183.5\" y=\"-59\" font-family=\"Times,serif\" font-size=\"10.00\">1</text>\n",
       "</g>\n",
       "<!-- SwapTwoBits&#45;&gt;SwapTwoBits_G0 -->\n",
       "<g id=\"edge4\" class=\"edge\">\n",
       "<title>SwapTwoBits:e-&gt;SwapTwoBits_G0:w</title>\n",
       "<path fill=\"none\" stroke=\"black\" d=\"M165,-34C180.67,-34 185.14,-34 199.77,-34\"/>\n",
       "<ellipse fill=\"black\" stroke=\"black\" cx=\"201\" cy=\"-34\" rx=\"1\" ry=\"1\"/>\n",
       "<text text-anchor=\"middle\" x=\"183.5\" y=\"-37\" font-family=\"Times,serif\" font-size=\"10.00\">1</text>\n",
       "</g>\n",
       "<!-- x_G7 -->\n",
       "<g id=\"node5\" class=\"node\">\n",
       "<title>x_G7</title>\n",
       "<text text-anchor=\"middle\" x=\"340\" y=\"-68.3\" font-family=\"Times,serif\" font-size=\"14.00\">x</text>\n",
       "</g>\n",
       "<!-- SwapTwoBits_G0&#45;&gt;x_G7 -->\n",
       "<g id=\"edge5\" class=\"edge\">\n",
       "<title>SwapTwoBits_G0:e-&gt;x_G7:w</title>\n",
       "<path fill=\"none\" stroke=\"black\" d=\"M276,-56C293.22,-56 294.97,-70.77 310.98,-71.93\"/>\n",
       "<ellipse fill=\"black\" stroke=\"black\" cx=\"312\" cy=\"-71.96\" rx=\"1\" ry=\"1\"/>\n",
       "<text text-anchor=\"middle\" x=\"294.5\" y=\"-67\" font-family=\"Times,serif\" font-size=\"10.00\">1</text>\n",
       "</g>\n",
       "<!-- y_G4 -->\n",
       "<g id=\"node6\" class=\"node\">\n",
       "<title>y_G4</title>\n",
       "<text text-anchor=\"middle\" x=\"340\" y=\"-14.3\" font-family=\"Times,serif\" font-size=\"14.00\">y</text>\n",
       "</g>\n",
       "<!-- SwapTwoBits_G0&#45;&gt;y_G4 -->\n",
       "<g id=\"edge6\" class=\"edge\">\n",
       "<title>SwapTwoBits_G0:e-&gt;y_G4:w</title>\n",
       "<path fill=\"none\" stroke=\"black\" d=\"M276,-34C293.22,-34 294.97,-19.23 310.98,-18.07\"/>\n",
       "<ellipse fill=\"black\" stroke=\"black\" cx=\"312\" cy=\"-18.04\" rx=\"1\" ry=\"1\"/>\n",
       "<text text-anchor=\"middle\" x=\"294.5\" y=\"-29\" font-family=\"Times,serif\" font-size=\"10.00\">1</text>\n",
       "</g>\n",
       "</g>\n",
       "</svg>"
      ],
      "text/plain": [
       "<IPython.core.display.SVG object>"
      ]
     },
     "metadata": {},
     "output_type": "display_data"
    },
    {
     "data": {
      "image/svg+xml": [
       "<svg xmlns=\"http://www.w3.org/2000/svg\" width=\"220.0\" height=\"100.0\"><line x1=\"30.0\" x2=\"190.0\" y1=\"25.0\" y2=\"25.0\" stroke=\"#1967d2\" stroke-width=\"1\" /><line x1=\"30.0\" x2=\"190.0\" y1=\"75.0\" y2=\"75.0\" stroke=\"#1967d2\" stroke-width=\"1\" /><line x1=\"90.0\" x2=\"90.0\" y1=\"25.0\" y2=\"75.0\" stroke=\"black\" stroke-width=\"3\" /><line x1=\"150.0\" x2=\"150.0\" y1=\"25.0\" y2=\"75.0\" stroke=\"black\" stroke-width=\"3\" /><rect x=\"10.0\" y=\"5.0\" width=\"40\" height=\"40\" stroke=\"black\" fill=\"white\" stroke-width=\"0\" /><text x=\"30.0\" y=\"25.0\" dominant-baseline=\"middle\" text-anchor=\"middle\" font-size=\"14px\" font-family=\"sans\\-serif:style=normal:variant=normal:weight=normal:stretch=normal:size=10.0\">x: </text><rect x=\"10.0\" y=\"55.0\" width=\"40\" height=\"40\" stroke=\"black\" fill=\"white\" stroke-width=\"0\" /><text x=\"30.0\" y=\"75.0\" dominant-baseline=\"middle\" text-anchor=\"middle\" font-size=\"14px\" font-family=\"sans\\-serif:style=normal:variant=normal:weight=normal:stretch=normal:size=10.0\">y: </text><text x=\"90.0\" y=\"28.0\" dominant-baseline=\"middle\" text-anchor=\"middle\" font-size=\"40px\" font-family=\"sans\\-serif:style=normal:variant=normal:weight=normal:stretch=normal:size=10.0\">×</text><text x=\"90.0\" y=\"78.0\" dominant-baseline=\"middle\" text-anchor=\"middle\" font-size=\"40px\" font-family=\"sans\\-serif:style=normal:variant=normal:weight=normal:stretch=normal:size=10.0\">×</text><text x=\"150.0\" y=\"28.0\" dominant-baseline=\"middle\" text-anchor=\"middle\" font-size=\"40px\" font-family=\"sans\\-serif:style=normal:variant=normal:weight=normal:stretch=normal:size=10.0\">×</text><text x=\"150.0\" y=\"78.0\" dominant-baseline=\"middle\" text-anchor=\"middle\" font-size=\"40px\" font-family=\"sans\\-serif:style=normal:variant=normal:weight=normal:stretch=normal:size=10.0\">×</text></svg>"
      ],
      "text/plain": [
       "<cirq.contrib.svg.svg.SVGCircuit at 0x7696ee684250>"
      ]
     },
     "metadata": {},
     "output_type": "display_data"
    }
   ],
   "source": [
    "# Build a simple composite bloq\n",
    "bb = BloqBuilder()\n",
    "x = bb.add_register('x', 1)\n",
    "y = bb.add_register('y', 1)\n",
    "x, y = bb.add(SwapTwoBits(), x=x, y=y)\n",
    "x, y = bb.add(SwapTwoBits(), x=x, y=y)\n",
    "cbloq = bb.finalize(x=x, y=y)\n",
    "\n",
    "# Turn it into a cirq circuit\n",
    "circuit = cbloq.to_cirq_circuit()\n",
    "\n",
    "# Observe\n",
    "show_bloq(cbloq)\n",
    "display(SVGCircuit(circuit))"
   ]
  },
  {
   "cell_type": "markdown",
   "metadata": {
    "id": "QRDDUaSfRqd_"
   },
   "source": [
    "### `BloqAsCirqGate`- Converting high level Bloq\n",
    "For high-level bloq is very likely that there isn't an equivalent cirq gate. Moreover, for bloq can only be represented by large circuit, implementing `as_cirq_op` become tedious and impractical. Instead of overriding `as_cirq_op`, we use to its default implementation which wrap the `Bloq` inside `BloqAsCirqGate` and automatically return cirq operator.\n"
   ]
  },
  {
   "cell_type": "code",
   "execution_count": 52,
   "metadata": {
    "id": "mE0rjFQT6GRG",
    "jupyter": {
     "is_executing": true
    }
   },
   "outputs": [],
   "source": [
    "from qualtran.cirq_interop import BloqAsCirqGate, cirq_optree_to_cbloq\n",
    "\n",
    "@attrs.frozen\n",
    "class Swap(Bloq):\n",
    "    n: int\n",
    "\n",
    "    @property\n",
    "    def signature(self):\n",
    "        return Signature.build(x=self.n, y=self.n)\n",
    "\n",
    "    def build_composite_bloq(\n",
    "            self, bb: 'BloqBuilder', *, x: 'SoquetT', y: 'SoquetT'\n",
    "    ) -> Dict[str, 'SoquetT']:\n",
    "        xs = bb.split(x)\n",
    "        ys = bb.split(y)\n",
    "        for i in range(self.n):\n",
    "            xs[i], ys[i] = bb.add(SwapTwoBits(), x=xs[i], y=ys[i])\n",
    "        return {'x': bb.join(xs), 'y': bb.join(ys)}"
   ]
  },
  {
   "cell_type": "code",
   "execution_count": 53,
   "metadata": {
    "colab": {
     "base_uri": "https://localhost:8080/",
     "height": 675
    },
    "id": "G6Ximue4RzHr",
    "jupyter": {
     "is_executing": true
    },
    "outputId": "32d808b0-6fb7-417e-ffee-3e60d8b0f45b"
   },
   "outputs": [
    {
     "data": {
      "image/svg+xml": [
       "<svg xmlns=\"http://www.w3.org/2000/svg\" xmlns:xlink=\"http://www.w3.org/1999/xlink\" width=\"224pt\" height=\"98pt\" viewBox=\"0.00 0.00 224.00 98.00\">\n",
       "<g id=\"graph0\" class=\"graph\" transform=\"scale(1 1) rotate(0) translate(4 94)\">\n",
       "<title>my_graph</title>\n",
       "<polygon fill=\"white\" stroke=\"transparent\" points=\"-4,4 -4,-94 220,-94 220,4 -4,4\"/>\n",
       "<!-- x_G2 -->\n",
       "<g id=\"node1\" class=\"node\">\n",
       "<title>x_G2</title>\n",
       "<text text-anchor=\"middle\" x=\"27\" y=\"-68.3\" font-family=\"Times,serif\" font-size=\"14.00\">x</text>\n",
       "</g>\n",
       "<!-- Swap -->\n",
       "<g id=\"node3\" class=\"node\">\n",
       "<title>Swap</title>\n",
       "<polygon fill=\"none\" stroke=\"black\" points=\"91,-66 91,-83 125,-83 125,-66 91,-66\"/>\n",
       "<text text-anchor=\"start\" x=\"94\" y=\"-72\" font-family=\"Times,serif\" font-size=\"10.00\">Swap</text>\n",
       "<polygon fill=\"none\" stroke=\"black\" points=\"91,-45 91,-66 125,-66 125,-45 91,-45\"/>\n",
       "<text text-anchor=\"start\" x=\"103.5\" y=\"-51.8\" font-family=\"Times,serif\" font-size=\"14.00\">x</text>\n",
       "<polygon fill=\"none\" stroke=\"black\" points=\"91,-24 91,-45 125,-45 125,-24 91,-24\"/>\n",
       "<text text-anchor=\"start\" x=\"103.5\" y=\"-30.8\" font-family=\"Times,serif\" font-size=\"14.00\">y</text>\n",
       "</g>\n",
       "<!-- x_G2&#45;&gt;Swap -->\n",
       "<g id=\"edge1\" class=\"edge\">\n",
       "<title>x_G2:e-&gt;Swap:w</title>\n",
       "<path fill=\"none\" stroke=\"black\" d=\"M54,-72C71.22,-72 72.97,-57.23 88.98,-56.07\"/>\n",
       "<ellipse fill=\"black\" stroke=\"black\" cx=\"90\" cy=\"-56.04\" rx=\"1\" ry=\"1\"/>\n",
       "<text text-anchor=\"middle\" x=\"72.5\" y=\"-67\" font-family=\"Times,serif\" font-size=\"10.00\">5</text>\n",
       "</g>\n",
       "<!-- y_G0 -->\n",
       "<g id=\"node2\" class=\"node\">\n",
       "<title>y_G0</title>\n",
       "<text text-anchor=\"middle\" x=\"27\" y=\"-14.3\" font-family=\"Times,serif\" font-size=\"14.00\">y</text>\n",
       "</g>\n",
       "<!-- y_G0&#45;&gt;Swap -->\n",
       "<g id=\"edge2\" class=\"edge\">\n",
       "<title>y_G0:e-&gt;Swap:w</title>\n",
       "<path fill=\"none\" stroke=\"black\" d=\"M54,-18C71.22,-18 72.97,-32.77 88.98,-33.93\"/>\n",
       "<ellipse fill=\"black\" stroke=\"black\" cx=\"90\" cy=\"-33.96\" rx=\"1\" ry=\"1\"/>\n",
       "<text text-anchor=\"middle\" x=\"72.5\" y=\"-29\" font-family=\"Times,serif\" font-size=\"10.00\">5</text>\n",
       "</g>\n",
       "<!-- x_G3 -->\n",
       "<g id=\"node4\" class=\"node\">\n",
       "<title>x_G3</title>\n",
       "<text text-anchor=\"middle\" x=\"189\" y=\"-68.3\" font-family=\"Times,serif\" font-size=\"14.00\">x</text>\n",
       "</g>\n",
       "<!-- Swap&#45;&gt;x_G3 -->\n",
       "<g id=\"edge3\" class=\"edge\">\n",
       "<title>Swap:e-&gt;x_G3:w</title>\n",
       "<path fill=\"none\" stroke=\"black\" d=\"M125,-56C142.22,-56 143.97,-70.77 159.98,-71.93\"/>\n",
       "<ellipse fill=\"black\" stroke=\"black\" cx=\"161\" cy=\"-71.96\" rx=\"1\" ry=\"1\"/>\n",
       "<text text-anchor=\"middle\" x=\"143.5\" y=\"-67\" font-family=\"Times,serif\" font-size=\"10.00\">5</text>\n",
       "</g>\n",
       "<!-- y_G5 -->\n",
       "<g id=\"node5\" class=\"node\">\n",
       "<title>y_G5</title>\n",
       "<text text-anchor=\"middle\" x=\"189\" y=\"-14.3\" font-family=\"Times,serif\" font-size=\"14.00\">y</text>\n",
       "</g>\n",
       "<!-- Swap&#45;&gt;y_G5 -->\n",
       "<g id=\"edge4\" class=\"edge\">\n",
       "<title>Swap:e-&gt;y_G5:w</title>\n",
       "<path fill=\"none\" stroke=\"black\" d=\"M125,-34C142.22,-34 143.97,-19.23 159.98,-18.07\"/>\n",
       "<ellipse fill=\"black\" stroke=\"black\" cx=\"161\" cy=\"-18.04\" rx=\"1\" ry=\"1\"/>\n",
       "<text text-anchor=\"middle\" x=\"143.5\" y=\"-29\" font-family=\"Times,serif\" font-size=\"10.00\">5</text>\n",
       "</g>\n",
       "</g>\n",
       "</svg>"
      ],
      "text/plain": [
       "<IPython.core.display.SVG object>"
      ]
     },
     "metadata": {},
     "output_type": "display_data"
    },
    {
     "data": {
      "image/svg+xml": [
       "<svg xmlns=\"http://www.w3.org/2000/svg\" xmlns:xlink=\"http://www.w3.org/1999/xlink\" width=\"362pt\" height=\"375pt\" viewBox=\"0.00 0.00 362.00 375.00\">\n",
       "<g id=\"graph0\" class=\"graph\" transform=\"scale(1 1) rotate(0) translate(4 371)\">\n",
       "<title>my_graph</title>\n",
       "<polygon fill=\"white\" stroke=\"transparent\" points=\"-4,4 -4,-371 358,-371 358,4 -4,4\"/>\n",
       "<!-- x_G36 -->\n",
       "<g id=\"node1\" class=\"node\">\n",
       "<title>x_G36</title>\n",
       "<text text-anchor=\"middle\" x=\"27\" y=\"-226.8\" font-family=\"Times,serif\" font-size=\"14.00\">x</text>\n",
       "</g>\n",
       "<!-- Split -->\n",
       "<g id=\"node6\" class=\"node\">\n",
       "<title>Split</title>\n",
       "<polygon fill=\"none\" stroke=\"black\" points=\"91,-245.5 91,-251.5 103,-251.5 103,-245.5 91,-245.5\"/>\n",
       "<polygon fill=\"none\" stroke=\"black\" points=\"91,-215.5 91,-245.5 97,-245.5 97,-215.5 91,-215.5\"/>\n",
       "<polygon fill=\"none\" stroke=\"black\" points=\"97,-239.5 97,-245.5 103,-245.5 103,-239.5 97,-239.5\"/>\n",
       "<polygon fill=\"none\" stroke=\"black\" points=\"97,-233.5 97,-239.5 103,-239.5 103,-233.5 97,-233.5\"/>\n",
       "<polygon fill=\"none\" stroke=\"black\" points=\"97,-227.5 97,-233.5 103,-233.5 103,-227.5 97,-227.5\"/>\n",
       "<polygon fill=\"none\" stroke=\"black\" points=\"97,-221.5 97,-227.5 103,-227.5 103,-221.5 97,-221.5\"/>\n",
       "<polygon fill=\"none\" stroke=\"black\" points=\"97,-215.5 97,-221.5 103,-221.5 103,-215.5 97,-215.5\"/>\n",
       "</g>\n",
       "<!-- x_G36&#45;&gt;Split -->\n",
       "<g id=\"edge1\" class=\"edge\">\n",
       "<title>x_G36:e-&gt;Split:w</title>\n",
       "<path fill=\"none\" stroke=\"black\" d=\"M54,-230.5C69.67,-230.5 74.14,-230.5 88.77,-230.5\"/>\n",
       "<ellipse fill=\"black\" stroke=\"black\" cx=\"90\" cy=\"-230.5\" rx=\"1\" ry=\"1\"/>\n",
       "<text text-anchor=\"middle\" x=\"72.5\" y=\"-233.5\" font-family=\"Times,serif\" font-size=\"10.00\">5</text>\n",
       "</g>\n",
       "<!-- y_G22 -->\n",
       "<g id=\"node2\" class=\"node\">\n",
       "<title>y_G22</title>\n",
       "<text text-anchor=\"middle\" x=\"27\" y=\"-130.8\" font-family=\"Times,serif\" font-size=\"14.00\">y</text>\n",
       "</g>\n",
       "<!-- Split_G12 -->\n",
       "<g id=\"node10\" class=\"node\">\n",
       "<title>Split_G12</title>\n",
       "<polygon fill=\"none\" stroke=\"black\" points=\"91,-149.5 91,-155.5 103,-155.5 103,-149.5 91,-149.5\"/>\n",
       "<polygon fill=\"none\" stroke=\"black\" points=\"91,-119.5 91,-149.5 97,-149.5 97,-119.5 91,-119.5\"/>\n",
       "<polygon fill=\"none\" stroke=\"black\" points=\"97,-143.5 97,-149.5 103,-149.5 103,-143.5 97,-143.5\"/>\n",
       "<polygon fill=\"none\" stroke=\"black\" points=\"97,-137.5 97,-143.5 103,-143.5 103,-137.5 97,-137.5\"/>\n",
       "<polygon fill=\"none\" stroke=\"black\" points=\"97,-131.5 97,-137.5 103,-137.5 103,-131.5 97,-131.5\"/>\n",
       "<polygon fill=\"none\" stroke=\"black\" points=\"97,-125.5 97,-131.5 103,-131.5 103,-125.5 97,-125.5\"/>\n",
       "<polygon fill=\"none\" stroke=\"black\" points=\"97,-119.5 97,-125.5 103,-125.5 103,-119.5 97,-119.5\"/>\n",
       "</g>\n",
       "<!-- y_G22&#45;&gt;Split_G12 -->\n",
       "<g id=\"edge2\" class=\"edge\">\n",
       "<title>y_G22:e-&gt;Split_G12:w</title>\n",
       "<path fill=\"none\" stroke=\"black\" d=\"M54,-134.5C69.67,-134.5 74.14,-134.5 88.77,-134.5\"/>\n",
       "<ellipse fill=\"black\" stroke=\"black\" cx=\"90\" cy=\"-134.5\" rx=\"1\" ry=\"1\"/>\n",
       "<text text-anchor=\"middle\" x=\"72.5\" y=\"-137.5\" font-family=\"Times,serif\" font-size=\"10.00\">5</text>\n",
       "</g>\n",
       "<!-- SwapTwoBits -->\n",
       "<g id=\"node3\" class=\"node\">\n",
       "<title>SwapTwoBits</title>\n",
       "<polygon fill=\"none\" stroke=\"black\" points=\"140,-272.5 140,-289.5 214,-289.5 214,-272.5 140,-272.5\"/>\n",
       "<text text-anchor=\"start\" x=\"143\" y=\"-278.5\" font-family=\"Times,serif\" font-size=\"10.00\">SwapTwoBits</text>\n",
       "<polygon fill=\"none\" stroke=\"black\" points=\"140,-251.5 140,-272.5 214,-272.5 214,-251.5 140,-251.5\"/>\n",
       "<text text-anchor=\"start\" x=\"172.5\" y=\"-258.3\" font-family=\"Times,serif\" font-size=\"14.00\">x</text>\n",
       "<polygon fill=\"none\" stroke=\"black\" points=\"140,-230.5 140,-251.5 214,-251.5 214,-230.5 140,-230.5\"/>\n",
       "<text text-anchor=\"start\" x=\"172.5\" y=\"-237.3\" font-family=\"Times,serif\" font-size=\"14.00\">y</text>\n",
       "</g>\n",
       "<!-- Join -->\n",
       "<g id=\"node4\" class=\"node\">\n",
       "<title>Join</title>\n",
       "<polygon fill=\"none\" stroke=\"black\" points=\"251,-156.5 251,-162.5 263,-162.5 263,-156.5 251,-156.5\"/>\n",
       "<polygon fill=\"none\" stroke=\"black\" points=\"251,-150.5 251,-156.5 257,-156.5 257,-150.5 251,-150.5\"/>\n",
       "<polygon fill=\"none\" stroke=\"black\" points=\"257,-126.5 257,-156.5 263,-156.5 263,-126.5 257,-126.5\"/>\n",
       "<polygon fill=\"none\" stroke=\"black\" points=\"251,-144.5 251,-150.5 257,-150.5 257,-144.5 251,-144.5\"/>\n",
       "<polygon fill=\"none\" stroke=\"black\" points=\"251,-138.5 251,-144.5 257,-144.5 257,-138.5 251,-138.5\"/>\n",
       "<polygon fill=\"none\" stroke=\"black\" points=\"251,-132.5 251,-138.5 257,-138.5 257,-132.5 251,-132.5\"/>\n",
       "<polygon fill=\"none\" stroke=\"black\" points=\"251,-126.5 251,-132.5 257,-132.5 257,-126.5 251,-126.5\"/>\n",
       "</g>\n",
       "<!-- SwapTwoBits&#45;&gt;Join -->\n",
       "<g id=\"edge19\" class=\"edge\">\n",
       "<title>SwapTwoBits:e-&gt;Join:w</title>\n",
       "<path fill=\"none\" stroke=\"black\" d=\"M214,-240.5C235.55,-240.5 229.2,-153.22 249,-147.77\"/>\n",
       "<ellipse fill=\"black\" stroke=\"black\" cx=\"250.01\" cy=\"-147.63\" rx=\"1\" ry=\"1\"/>\n",
       "<text text-anchor=\"middle\" x=\"232.5\" y=\"-199.5\" font-family=\"Times,serif\" font-size=\"10.00\">1</text>\n",
       "</g>\n",
       "<!-- Join_G10 -->\n",
       "<g id=\"node9\" class=\"node\">\n",
       "<title>Join_G10</title>\n",
       "<polygon fill=\"none\" stroke=\"black\" points=\"251,-228.5 251,-234.5 263,-234.5 263,-228.5 251,-228.5\"/>\n",
       "<polygon fill=\"none\" stroke=\"black\" points=\"251,-222.5 251,-228.5 257,-228.5 257,-222.5 251,-222.5\"/>\n",
       "<polygon fill=\"none\" stroke=\"black\" points=\"257,-198.5 257,-228.5 263,-228.5 263,-198.5 257,-198.5\"/>\n",
       "<polygon fill=\"none\" stroke=\"black\" points=\"251,-216.5 251,-222.5 257,-222.5 257,-216.5 251,-216.5\"/>\n",
       "<polygon fill=\"none\" stroke=\"black\" points=\"251,-210.5 251,-216.5 257,-216.5 257,-210.5 251,-210.5\"/>\n",
       "<polygon fill=\"none\" stroke=\"black\" points=\"251,-204.5 251,-210.5 257,-210.5 257,-204.5 251,-204.5\"/>\n",
       "<polygon fill=\"none\" stroke=\"black\" points=\"251,-198.5 251,-204.5 257,-204.5 257,-198.5 251,-198.5\"/>\n",
       "</g>\n",
       "<!-- SwapTwoBits&#45;&gt;Join_G10 -->\n",
       "<g id=\"edge14\" class=\"edge\">\n",
       "<title>SwapTwoBits:e-&gt;Join_G10:w</title>\n",
       "<path fill=\"none\" stroke=\"black\" d=\"M214,-262.5C225.92,-262.5 237.1,-224.07 248.94,-219.87\"/>\n",
       "<ellipse fill=\"black\" stroke=\"black\" cx=\"250.02\" cy=\"-219.68\" rx=\"1\" ry=\"1\"/>\n",
       "<text text-anchor=\"middle\" x=\"232.5\" y=\"-243.5\" font-family=\"Times,serif\" font-size=\"10.00\">1</text>\n",
       "</g>\n",
       "<!-- y_G35 -->\n",
       "<g id=\"node13\" class=\"node\">\n",
       "<title>y_G35</title>\n",
       "<text text-anchor=\"middle\" x=\"327\" y=\"-137.8\" font-family=\"Times,serif\" font-size=\"14.00\">y</text>\n",
       "</g>\n",
       "<!-- Join&#45;&gt;y_G35 -->\n",
       "<g id=\"edge24\" class=\"edge\">\n",
       "<title>Join:e-&gt;y_G35:w</title>\n",
       "<path fill=\"none\" stroke=\"black\" d=\"M263,-141.5C278.67,-141.5 283.14,-141.5 297.77,-141.5\"/>\n",
       "<ellipse fill=\"black\" stroke=\"black\" cx=\"299\" cy=\"-141.5\" rx=\"1\" ry=\"1\"/>\n",
       "<text text-anchor=\"middle\" x=\"281.5\" y=\"-144.5\" font-family=\"Times,serif\" font-size=\"10.00\">5</text>\n",
       "</g>\n",
       "<!-- SwapTwoBits_G0 -->\n",
       "<g id=\"node5\" class=\"node\">\n",
       "<title>SwapTwoBits_G0</title>\n",
       "<polygon fill=\"none\" stroke=\"black\" points=\"140,-41.5 140,-58.5 214,-58.5 214,-41.5 140,-41.5\"/>\n",
       "<text text-anchor=\"start\" x=\"143\" y=\"-47.5\" font-family=\"Times,serif\" font-size=\"10.00\">SwapTwoBits</text>\n",
       "<polygon fill=\"none\" stroke=\"black\" points=\"140,-20.5 140,-41.5 214,-41.5 214,-20.5 140,-20.5\"/>\n",
       "<text text-anchor=\"start\" x=\"172.5\" y=\"-27.3\" font-family=\"Times,serif\" font-size=\"14.00\">x</text>\n",
       "<polygon fill=\"none\" stroke=\"black\" points=\"140,0.5 140,-20.5 214,-20.5 214,0.5 140,0.5\"/>\n",
       "<text text-anchor=\"start\" x=\"172.5\" y=\"-6.3\" font-family=\"Times,serif\" font-size=\"14.00\">y</text>\n",
       "</g>\n",
       "<!-- SwapTwoBits_G0&#45;&gt;Join -->\n",
       "<g id=\"edge22\" class=\"edge\">\n",
       "<title>SwapTwoBits_G0:e-&gt;Join:w</title>\n",
       "<path fill=\"none\" stroke=\"black\" d=\"M214,-9.5C241.14,-9.5 224.09,-123.03 248.81,-129.24\"/>\n",
       "<ellipse fill=\"black\" stroke=\"black\" cx=\"250.01\" cy=\"-129.38\" rx=\"1\" ry=\"1\"/>\n",
       "<text text-anchor=\"middle\" x=\"232.5\" y=\"-75.5\" font-family=\"Times,serif\" font-size=\"10.00\">1</text>\n",
       "</g>\n",
       "<!-- SwapTwoBits_G0&#45;&gt;Join_G10 -->\n",
       "<g id=\"edge17\" class=\"edge\">\n",
       "<title>SwapTwoBits_G0:e-&gt;Join_G10:w</title>\n",
       "<path fill=\"none\" stroke=\"black\" d=\"M214,-31.5C232.58,-31.5 231.77,-188.48 248.83,-200.74\"/>\n",
       "<ellipse fill=\"black\" stroke=\"black\" cx=\"250.06\" cy=\"-201.17\" rx=\"1\" ry=\"1\"/>\n",
       "<text text-anchor=\"middle\" x=\"232.5\" y=\"-119.5\" font-family=\"Times,serif\" font-size=\"10.00\">1</text>\n",
       "</g>\n",
       "<!-- Split&#45;&gt;SwapTwoBits -->\n",
       "<g id=\"edge5\" class=\"edge\">\n",
       "<title>Split:e-&gt;SwapTwoBits:w</title>\n",
       "<path fill=\"none\" stroke=\"black\" d=\"M103,-236.5C122.31,-236.5 120.12,-260.51 137.75,-262.38\"/>\n",
       "<ellipse fill=\"black\" stroke=\"black\" cx=\"139\" cy=\"-262.45\" rx=\"1\" ry=\"1\"/>\n",
       "<text text-anchor=\"middle\" x=\"121.5\" y=\"-252.5\" font-family=\"Times,serif\" font-size=\"10.00\">1</text>\n",
       "</g>\n",
       "<!-- Split&#45;&gt;SwapTwoBits_G0 -->\n",
       "<g id=\"edge11\" class=\"edge\">\n",
       "<title>Split:e-&gt;SwapTwoBits_G0:w</title>\n",
       "<path fill=\"none\" stroke=\"black\" d=\"M103,-218.5C130.13,-218.5 115.88,-186.93 122,-160.5 128.35,-133.07 111.99,-36.96 137.73,-31.72\"/>\n",
       "<ellipse fill=\"black\" stroke=\"black\" cx=\"139\" cy=\"-31.6\" rx=\"1\" ry=\"1\"/>\n",
       "<text text-anchor=\"middle\" x=\"121.5\" y=\"-167.5\" font-family=\"Times,serif\" font-size=\"10.00\">1</text>\n",
       "</g>\n",
       "<!-- SwapTwoBits_G4 -->\n",
       "<g id=\"node7\" class=\"node\">\n",
       "<title>SwapTwoBits_G4</title>\n",
       "<polygon fill=\"none\" stroke=\"black\" points=\"140,-118.5 140,-135.5 214,-135.5 214,-118.5 140,-118.5\"/>\n",
       "<text text-anchor=\"start\" x=\"143\" y=\"-124.5\" font-family=\"Times,serif\" font-size=\"10.00\">SwapTwoBits</text>\n",
       "<polygon fill=\"none\" stroke=\"black\" points=\"140,-97.5 140,-118.5 214,-118.5 214,-97.5 140,-97.5\"/>\n",
       "<text text-anchor=\"start\" x=\"172.5\" y=\"-104.3\" font-family=\"Times,serif\" font-size=\"14.00\">x</text>\n",
       "<polygon fill=\"none\" stroke=\"black\" points=\"140,-76.5 140,-97.5 214,-97.5 214,-76.5 140,-76.5\"/>\n",
       "<text text-anchor=\"start\" x=\"172.5\" y=\"-83.3\" font-family=\"Times,serif\" font-size=\"14.00\">y</text>\n",
       "</g>\n",
       "<!-- Split&#45;&gt;SwapTwoBits_G4 -->\n",
       "<g id=\"edge9\" class=\"edge\">\n",
       "<title>Split:e-&gt;SwapTwoBits_G4:w</title>\n",
       "<path fill=\"none\" stroke=\"black\" d=\"M103,-224.5C122.68,-224.5 115.47,-203.07 122,-184.5 127.49,-168.89 123.1,-113.99 137.7,-108.88\"/>\n",
       "<ellipse fill=\"black\" stroke=\"black\" cx=\"139.01\" cy=\"-108.66\" rx=\"1\" ry=\"1\"/>\n",
       "<text text-anchor=\"middle\" x=\"121.5\" y=\"-189.5\" font-family=\"Times,serif\" font-size=\"10.00\">1</text>\n",
       "</g>\n",
       "<!-- SwapTwoBits_G7 -->\n",
       "<g id=\"node8\" class=\"node\">\n",
       "<title>SwapTwoBits_G7</title>\n",
       "<polygon fill=\"none\" stroke=\"black\" points=\"140,-349.5 140,-366.5 214,-366.5 214,-349.5 140,-349.5\"/>\n",
       "<text text-anchor=\"start\" x=\"143\" y=\"-355.5\" font-family=\"Times,serif\" font-size=\"10.00\">SwapTwoBits</text>\n",
       "<polygon fill=\"none\" stroke=\"black\" points=\"140,-328.5 140,-349.5 214,-349.5 214,-328.5 140,-328.5\"/>\n",
       "<text text-anchor=\"start\" x=\"172.5\" y=\"-335.3\" font-family=\"Times,serif\" font-size=\"14.00\">x</text>\n",
       "<polygon fill=\"none\" stroke=\"black\" points=\"140,-307.5 140,-328.5 214,-328.5 214,-307.5 140,-307.5\"/>\n",
       "<text text-anchor=\"start\" x=\"172.5\" y=\"-314.3\" font-family=\"Times,serif\" font-size=\"14.00\">y</text>\n",
       "</g>\n",
       "<!-- Split&#45;&gt;SwapTwoBits_G7 -->\n",
       "<g id=\"edge3\" class=\"edge\">\n",
       "<title>Split:e-&gt;SwapTwoBits_G7:w</title>\n",
       "<path fill=\"none\" stroke=\"black\" d=\"M103,-242.5C131.27,-242.5 110.35,-277.32 121,-303.5 127.55,-319.6 122.35,-338 137.99,-339.41\"/>\n",
       "<ellipse fill=\"black\" stroke=\"black\" cx=\"139\" cy=\"-339.46\" rx=\"1\" ry=\"1\"/>\n",
       "<text text-anchor=\"middle\" x=\"121.5\" y=\"-308.5\" font-family=\"Times,serif\" font-size=\"10.00\">1</text>\n",
       "</g>\n",
       "<!-- SwapTwoBits_G14 -->\n",
       "<g id=\"node11\" class=\"node\">\n",
       "<title>SwapTwoBits_G14</title>\n",
       "<polygon fill=\"none\" stroke=\"black\" points=\"140,-195.5 140,-212.5 214,-212.5 214,-195.5 140,-195.5\"/>\n",
       "<text text-anchor=\"start\" x=\"143\" y=\"-201.5\" font-family=\"Times,serif\" font-size=\"10.00\">SwapTwoBits</text>\n",
       "<polygon fill=\"none\" stroke=\"black\" points=\"140,-174.5 140,-195.5 214,-195.5 214,-174.5 140,-174.5\"/>\n",
       "<text text-anchor=\"start\" x=\"172.5\" y=\"-181.3\" font-family=\"Times,serif\" font-size=\"14.00\">x</text>\n",
       "<polygon fill=\"none\" stroke=\"black\" points=\"140,-153.5 140,-174.5 214,-174.5 214,-153.5 140,-153.5\"/>\n",
       "<text text-anchor=\"start\" x=\"172.5\" y=\"-160.3\" font-family=\"Times,serif\" font-size=\"14.00\">y</text>\n",
       "</g>\n",
       "<!-- Split&#45;&gt;SwapTwoBits_G14 -->\n",
       "<g id=\"edge7\" class=\"edge\">\n",
       "<title>Split:e-&gt;SwapTwoBits_G14:w</title>\n",
       "<path fill=\"none\" stroke=\"black\" d=\"M103,-230.5C115.92,-230.5 113.79,-218.48 122,-208.5 129.73,-199.1 127.38,-187.11 137.75,-185.65\"/>\n",
       "<ellipse fill=\"black\" stroke=\"black\" cx=\"139\" cy=\"-185.57\" rx=\"1\" ry=\"1\"/>\n",
       "<text text-anchor=\"middle\" x=\"121.5\" y=\"-212.5\" font-family=\"Times,serif\" font-size=\"10.00\">1</text>\n",
       "</g>\n",
       "<!-- SwapTwoBits_G4&#45;&gt;Join -->\n",
       "<g id=\"edge21\" class=\"edge\">\n",
       "<title>SwapTwoBits_G4:e-&gt;Join:w</title>\n",
       "<path fill=\"none\" stroke=\"black\" d=\"M214,-86.5C223.54,-86.5 226.43,-89.58 233,-96.5 245.63,-109.8 232.98,-133.55 248.91,-135.39\"/>\n",
       "<ellipse fill=\"black\" stroke=\"black\" cx=\"250\" cy=\"-135.45\" rx=\"1\" ry=\"1\"/>\n",
       "<text text-anchor=\"middle\" x=\"232.5\" y=\"-99.5\" font-family=\"Times,serif\" font-size=\"10.00\">1</text>\n",
       "</g>\n",
       "<!-- SwapTwoBits_G4&#45;&gt;Join_G10 -->\n",
       "<g id=\"edge16\" class=\"edge\">\n",
       "<title>SwapTwoBits_G4:e-&gt;Join_G10:w</title>\n",
       "<path fill=\"none\" stroke=\"black\" d=\"M214,-108.5C236.75,-108.5 228.1,-201.41 248.89,-207.22\"/>\n",
       "<ellipse fill=\"black\" stroke=\"black\" cx=\"250.01\" cy=\"-207.37\" rx=\"1\" ry=\"1\"/>\n",
       "<text text-anchor=\"middle\" x=\"232.5\" y=\"-163.5\" font-family=\"Times,serif\" font-size=\"10.00\">1</text>\n",
       "</g>\n",
       "<!-- SwapTwoBits_G7&#45;&gt;Join -->\n",
       "<g id=\"edge18\" class=\"edge\">\n",
       "<title>SwapTwoBits_G7:e-&gt;Join:w</title>\n",
       "<path fill=\"none\" stroke=\"black\" d=\"M214,-317.5C231.95,-317.5 232.32,-166.06 248.9,-154.23\"/>\n",
       "<ellipse fill=\"black\" stroke=\"black\" cx=\"250.06\" cy=\"-153.83\" rx=\"1\" ry=\"1\"/>\n",
       "<text text-anchor=\"middle\" x=\"232.5\" y=\"-238.5\" font-family=\"Times,serif\" font-size=\"10.00\">1</text>\n",
       "</g>\n",
       "<!-- SwapTwoBits_G7&#45;&gt;Join_G10 -->\n",
       "<g id=\"edge13\" class=\"edge\">\n",
       "<title>SwapTwoBits_G7:e-&gt;Join_G10:w</title>\n",
       "<path fill=\"none\" stroke=\"black\" d=\"M214,-339.5C239.91,-339.5 225.22,-231.65 248.91,-225.75\"/>\n",
       "<ellipse fill=\"black\" stroke=\"black\" cx=\"250.01\" cy=\"-225.62\" rx=\"1\" ry=\"1\"/>\n",
       "<text text-anchor=\"middle\" x=\"232.5\" y=\"-288.5\" font-family=\"Times,serif\" font-size=\"10.00\">1</text>\n",
       "</g>\n",
       "<!-- x_G43 -->\n",
       "<g id=\"node12\" class=\"node\">\n",
       "<title>x_G43</title>\n",
       "<text text-anchor=\"middle\" x=\"327\" y=\"-209.8\" font-family=\"Times,serif\" font-size=\"14.00\">x</text>\n",
       "</g>\n",
       "<!-- Join_G10&#45;&gt;x_G43 -->\n",
       "<g id=\"edge23\" class=\"edge\">\n",
       "<title>Join_G10:e-&gt;x_G43:w</title>\n",
       "<path fill=\"none\" stroke=\"black\" d=\"M263,-213.5C278.67,-213.5 283.14,-213.5 297.77,-213.5\"/>\n",
       "<ellipse fill=\"black\" stroke=\"black\" cx=\"299\" cy=\"-213.5\" rx=\"1\" ry=\"1\"/>\n",
       "<text text-anchor=\"middle\" x=\"281.5\" y=\"-216.5\" font-family=\"Times,serif\" font-size=\"10.00\">5</text>\n",
       "</g>\n",
       "<!-- Split_G12&#45;&gt;SwapTwoBits -->\n",
       "<g id=\"edge6\" class=\"edge\">\n",
       "<title>Split_G12:e-&gt;SwapTwoBits:w</title>\n",
       "<path fill=\"none\" stroke=\"black\" d=\"M103,-140.5C117.67,-140.5 115.92,-154.15 122,-167.5 135.53,-197.2 107.93,-238.51 137.75,-240.43\"/>\n",
       "<ellipse fill=\"black\" stroke=\"black\" cx=\"139\" cy=\"-240.47\" rx=\"1\" ry=\"1\"/>\n",
       "<text text-anchor=\"middle\" x=\"121.5\" y=\"-170.5\" font-family=\"Times,serif\" font-size=\"10.00\">1</text>\n",
       "</g>\n",
       "<!-- Split_G12&#45;&gt;SwapTwoBits_G0 -->\n",
       "<g id=\"edge12\" class=\"edge\">\n",
       "<title>Split_G12:e-&gt;SwapTwoBits_G0:w</title>\n",
       "<path fill=\"none\" stroke=\"black\" d=\"M103,-122.5C128.7,-122.5 114.41,-15.6 137.93,-9.75\"/>\n",
       "<ellipse fill=\"black\" stroke=\"black\" cx=\"139.01\" cy=\"-9.62\" rx=\"1\" ry=\"1\"/>\n",
       "<text text-anchor=\"middle\" x=\"121.5\" y=\"-71.5\" font-family=\"Times,serif\" font-size=\"10.00\">1</text>\n",
       "</g>\n",
       "<!-- Split_G12&#45;&gt;SwapTwoBits_G4 -->\n",
       "<g id=\"edge10\" class=\"edge\">\n",
       "<title>Split_G12:e-&gt;SwapTwoBits_G4:w</title>\n",
       "<path fill=\"none\" stroke=\"black\" d=\"M103,-128.5C127.1,-128.5 115.88,-89.08 137.78,-86.62\"/>\n",
       "<ellipse fill=\"black\" stroke=\"black\" cx=\"139\" cy=\"-86.55\" rx=\"1\" ry=\"1\"/>\n",
       "<text text-anchor=\"middle\" x=\"121.5\" y=\"-111.5\" font-family=\"Times,serif\" font-size=\"10.00\">1</text>\n",
       "</g>\n",
       "<!-- Split_G12&#45;&gt;SwapTwoBits_G7 -->\n",
       "<g id=\"edge4\" class=\"edge\">\n",
       "<title>Split_G12:e-&gt;SwapTwoBits_G7:w</title>\n",
       "<path fill=\"none\" stroke=\"black\" d=\"M103,-146.5C127.33,-146.5 115.48,-230.8 121,-254.5 127.46,-282.2 111.66,-315.62 137.7,-317.42\"/>\n",
       "<ellipse fill=\"black\" stroke=\"black\" cx=\"139\" cy=\"-317.47\" rx=\"1\" ry=\"1\"/>\n",
       "<text text-anchor=\"middle\" x=\"121.5\" y=\"-262.5\" font-family=\"Times,serif\" font-size=\"10.00\">1</text>\n",
       "</g>\n",
       "<!-- Split_G12&#45;&gt;SwapTwoBits_G14 -->\n",
       "<g id=\"edge8\" class=\"edge\">\n",
       "<title>Split_G12:e-&gt;SwapTwoBits_G14:w</title>\n",
       "<path fill=\"none\" stroke=\"black\" d=\"M103,-134.5C112.34,-134.5 114.51,-137.92 122,-143.5 130.99,-150.2 128.43,-161.92 137.93,-163.35\"/>\n",
       "<ellipse fill=\"black\" stroke=\"black\" cx=\"139\" cy=\"-163.43\" rx=\"1\" ry=\"1\"/>\n",
       "<text text-anchor=\"middle\" x=\"121.5\" y=\"-146.5\" font-family=\"Times,serif\" font-size=\"10.00\">1</text>\n",
       "</g>\n",
       "<!-- SwapTwoBits_G14&#45;&gt;Join -->\n",
       "<g id=\"edge20\" class=\"edge\">\n",
       "<title>SwapTwoBits_G14:e-&gt;Join:w</title>\n",
       "<path fill=\"none\" stroke=\"black\" d=\"M214,-163.5C223.87,-163.5 223.51,-155.52 232,-150.5 239.41,-146.12 241.36,-142.17 248.94,-141.58\"/>\n",
       "<ellipse fill=\"black\" stroke=\"black\" cx=\"250\" cy=\"-141.54\" rx=\"1\" ry=\"1\"/>\n",
       "<text text-anchor=\"middle\" x=\"232.5\" y=\"-153.5\" font-family=\"Times,serif\" font-size=\"10.00\">1</text>\n",
       "</g>\n",
       "<!-- SwapTwoBits_G14&#45;&gt;Join_G10 -->\n",
       "<g id=\"edge15\" class=\"edge\">\n",
       "<title>SwapTwoBits_G14:e-&gt;Join_G10:w</title>\n",
       "<path fill=\"none\" stroke=\"black\" d=\"M214,-185.5C233.82,-185.5 230.67,-211.36 248.69,-213.38\"/>\n",
       "<ellipse fill=\"black\" stroke=\"black\" cx=\"250\" cy=\"-213.45\" rx=\"1\" ry=\"1\"/>\n",
       "<text text-anchor=\"middle\" x=\"232.5\" y=\"-202.5\" font-family=\"Times,serif\" font-size=\"10.00\">1</text>\n",
       "</g>\n",
       "</g>\n",
       "</svg>"
      ],
      "text/plain": [
       "<IPython.core.display.SVG object>"
      ]
     },
     "metadata": {},
     "output_type": "display_data"
    }
   ],
   "source": [
    "swap = Swap(n=5)\n",
    "\n",
    "show_bloq(swap)\n",
    "show_bloq(swap.decompose_bloq())"
   ]
  },
  {
   "cell_type": "code",
   "execution_count": 55,
   "metadata": {},
   "outputs": [],
   "source": [
    "circuit = swap.as_composite_bloq().to_cirq_circuit(\n",
    "    cirq_quregs= {'x':cirq.LineQubit.range(5), 'y':cirq.LineQubit.range(100,105)}\n",
    ")\n",
    "\n",
    "op = next(circuit.all_operations())"
   ]
  },
  {
   "cell_type": "code",
   "execution_count": 56,
   "metadata": {},
   "outputs": [
    {
     "name": "stdout",
     "output_type": "stream",
     "text": [
      "cirq.Circuit([\n",
      "    cirq.Moment(\n",
      "        cirq.SWAP(cirq.LineQubit(0), cirq.LineQubit(100)),\n",
      "        cirq.SWAP(cirq.LineQubit(1), cirq.LineQubit(101)),\n",
      "        cirq.SWAP(cirq.LineQubit(2), cirq.LineQubit(102)),\n",
      "        cirq.SWAP(cirq.LineQubit(3), cirq.LineQubit(103)),\n",
      "        cirq.SWAP(cirq.LineQubit(4), cirq.LineQubit(104)),\n",
      "    ),\n",
      "])\n"
     ]
    }
   ],
   "source": [
    "swap_decomp_circuit = cirq.Circuit(cirq.decompose_once(op))\n",
    "print(repr(swap_decomp_circuit))"
   ]
  },
  {
   "cell_type": "code",
   "execution_count": 57,
   "metadata": {},
   "outputs": [
    {
     "data": {
      "application/vnd.jupyter.widget-view+json": {
       "model_id": "84ff141c40d34f07abe58b575f9cc517",
       "version_major": 2,
       "version_minor": 0
      },
      "text/plain": [
       "HBox(children=(Output(outputs=({'output_type': 'display_data', 'data': {'text/plain': '<IPython.core.display.S…"
      ]
     },
     "metadata": {},
     "output_type": "display_data"
    }
   ],
   "source": [
    "import qualtran.cirq_interop.testing as cq_testing\n",
    "from qualtran.cirq_interop.jupyter_tools import display_gate_and_compilation\n",
    "\n",
    "g = cq_testing.GateHelper(op.gate)\n",
    "display_gate_and_compilation(g, include_costs=False)"
   ]
  },
  {
   "cell_type": "markdown",
   "metadata": {
    "id": "Zu2sBh08lFXv"
   },
   "source": [
    "# Appendix: Qualtran Multi Pauli"
   ]
  },
  {
   "cell_type": "markdown",
   "metadata": {
    "id": "U9W9ETtwlLn2"
   },
   "source": [
    "In this section we will use Call Graph protocol to investigate the cost of two gates: `MultiTargetCNOT`, `MultiControlPauli`."
   ]
  },
  {
   "cell_type": "code",
   "execution_count": 58,
   "metadata": {
    "id": "eym6vM10mbCM",
    "jupyter": {
     "is_executing": true
    }
   },
   "outputs": [],
   "source": [
    "from qualtran.bloqs.mcmt import MultiTargetCNOT, MultiControlPauli\n",
    "import cirq"
   ]
  },
  {
   "cell_type": "code",
   "execution_count": 59,
   "metadata": {
    "id": "e0M86TKBmd3k",
    "jupyter": {
     "is_executing": true
    }
   },
   "outputs": [],
   "source": [
    "c_multi_not = MultiTargetCNOT(bitsize=5)"
   ]
  },
  {
   "cell_type": "markdown",
   "metadata": {
    "id": "_4Zl4gKBmEVc"
   },
   "source": [
    "The primary method for accessing the call graph of a bloq is Bloq.call_graph(). It returns a `networkx` graph as well as a dictionary of totals for “leaf” bloqs.\n",
    "\n",
    "Another method is `Bloq.bloq_counts`, which will return a dictionary of immediate children."
   ]
  },
  {
   "cell_type": "code",
   "execution_count": 60,
   "metadata": {
    "colab": {
     "base_uri": "https://localhost:8080/",
     "height": 386
    },
    "id": "J1bNZOTXnmi9",
    "jupyter": {
     "is_executing": true
    },
    "outputId": "ac70bb6f-1c57-4e82-9537-75df40466b72"
   },
   "outputs": [
    {
     "data": {
      "image/svg+xml": [
       "<svg xmlns=\"http://www.w3.org/2000/svg\" xmlns:xlink=\"http://www.w3.org/1999/xlink\" width=\"353pt\" height=\"131pt\" viewBox=\"0.00 0.00 353.00 131.00\">\n",
       "<g id=\"graph0\" class=\"graph\" transform=\"scale(1 1) rotate(0) translate(4 127)\">\n",
       "<title>counts</title>\n",
       "<polygon fill=\"white\" stroke=\"transparent\" points=\"-4,4 -4,-127 349,-127 349,4 -4,4\"/>\n",
       "<!-- b0 -->\n",
       "<g id=\"node1\" class=\"node\">\n",
       "<title>b0</title>\n",
       "<polygon fill=\"none\" stroke=\"black\" points=\"277.5,-123 133.5,-123 133.5,-87 277.5,-87 277.5,-123\"/>\n",
       "<text text-anchor=\"start\" x=\"141.5\" y=\"-106.8\" font-family=\"Times,serif\" font-size=\"14.00\">MultiTargetCNOT</text>\n",
       "<text text-anchor=\"start\" x=\"178\" y=\"-96\" font-family=\"monospace\" font-size=\"10.00\">bitsize=5</text>\n",
       "</g>\n",
       "<!-- b1 -->\n",
       "<g id=\"node2\" class=\"node\">\n",
       "<title>b1</title>\n",
       "<polygon fill=\"none\" stroke=\"black\" points=\"125,-36 0,-36 0,0 125,0 125,-36\"/>\n",
       "<text text-anchor=\"start\" x=\"45.5\" y=\"-19.8\" font-family=\"Times,serif\" font-size=\"14.00\">Split</text>\n",
       "<text text-anchor=\"start\" x=\"8\" y=\"-9\" font-family=\"monospace\" font-size=\"10.00\">dtype=QAny(bit ...</text>\n",
       "</g>\n",
       "<!-- b0&#45;&gt;b1 -->\n",
       "<g id=\"edge1\" class=\"edge\">\n",
       "<title>b0-&gt;b1</title>\n",
       "<path fill=\"none\" stroke=\"black\" d=\"M176.56,-86.8C154.56,-73.72 124.11,-55.62 100.21,-41.41\"/>\n",
       "<polygon fill=\"black\" stroke=\"black\" points=\"101.78,-38.28 91.4,-36.18 98.2,-44.29 101.78,-38.28\"/>\n",
       "<text text-anchor=\"middle\" x=\"148.5\" y=\"-57.8\" font-family=\"Times,serif\" font-size=\"14.00\">1</text>\n",
       "</g>\n",
       "<!-- b2 -->\n",
       "<g id=\"node3\" class=\"node\">\n",
       "<title>b2</title>\n",
       "<polygon fill=\"none\" stroke=\"black\" points=\"268,-36 143,-36 143,0 268,0 268,-36\"/>\n",
       "<text text-anchor=\"start\" x=\"191.5\" y=\"-19.8\" font-family=\"Times,serif\" font-size=\"14.00\">Join</text>\n",
       "<text text-anchor=\"start\" x=\"151\" y=\"-9\" font-family=\"monospace\" font-size=\"10.00\">dtype=QAny(bit ...</text>\n",
       "</g>\n",
       "<!-- b0&#45;&gt;b2 -->\n",
       "<g id=\"edge2\" class=\"edge\">\n",
       "<title>b0-&gt;b2</title>\n",
       "<path fill=\"none\" stroke=\"black\" d=\"M205.5,-86.8C205.5,-75.16 205.5,-59.55 205.5,-46.24\"/>\n",
       "<polygon fill=\"black\" stroke=\"black\" points=\"209,-46.18 205.5,-36.18 202,-46.18 209,-46.18\"/>\n",
       "<text text-anchor=\"middle\" x=\"210.5\" y=\"-57.8\" font-family=\"Times,serif\" font-size=\"14.00\">1</text>\n",
       "</g>\n",
       "<!-- b3 -->\n",
       "<g id=\"node4\" class=\"node\">\n",
       "<title>b3</title>\n",
       "<polygon fill=\"none\" stroke=\"black\" points=\"345,-36 286,-36 286,0 345,0 345,-36\"/>\n",
       "<text text-anchor=\"start\" x=\"294\" y=\"-14.3\" font-family=\"Times,serif\" font-size=\"14.00\">CNOT</text>\n",
       "</g>\n",
       "<!-- b0&#45;&gt;b3 -->\n",
       "<g id=\"edge3\" class=\"edge\">\n",
       "<title>b0-&gt;b3</title>\n",
       "<path fill=\"none\" stroke=\"black\" d=\"M227.76,-86.8C244.31,-74.01 267.08,-56.42 285.27,-42.36\"/>\n",
       "<polygon fill=\"black\" stroke=\"black\" points=\"287.5,-45.06 293.27,-36.18 283.22,-39.52 287.5,-45.06\"/>\n",
       "<text text-anchor=\"middle\" x=\"271.5\" y=\"-57.8\" font-family=\"Times,serif\" font-size=\"14.00\">9</text>\n",
       "</g>\n",
       "</g>\n",
       "</svg>"
      ],
      "text/plain": [
       "<IPython.core.display.SVG object>"
      ]
     },
     "metadata": {},
     "output_type": "display_data"
    },
    {
     "data": {
      "text/markdown": [
       "#### Counts totals:\n",
       " - `CNOT`: 9\n",
       " - `Join`: 1\n",
       " - `Split`: 1"
      ],
      "text/plain": [
       "<IPython.core.display.Markdown object>"
      ]
     },
     "metadata": {},
     "output_type": "display_data"
    }
   ],
   "source": [
    "from qualtran.resource_counting.generalizers import ignore_split_join\n",
    "#c_multi_not_symb_g, c_multi_not_symb_sigma = c_multi_not.call_graph(max_depth=1, generalizer=ignore_split_join)\n",
    "c_multi_not_symb_g, c_multi_not_symb_sigma = c_multi_not.call_graph()\n",
    "show_call_graph(c_multi_not_symb_g)\n",
    "show_counts_sigma(c_multi_not_symb_sigma)"
   ]
  },
  {
   "cell_type": "markdown",
   "metadata": {
    "id": "k1AlZmdtmgcw"
   },
   "source": [
    "Generally, two qubits gate and non Clifford gate are expensive due to their low fidelity. Call graph Protocol is then particulaly useful for estimating resource requirements for an algorithm. Note that you can also filter out irrelevent cost to your analysis by changing generalizer parameter of `call_graph()` methods. Uncomment the sencond line of above code block and observe the result."
   ]
  },
  {
   "cell_type": "markdown",
   "metadata": {
    "id": "9At671u7nQYm"
   },
   "source": [
    "### Exercise: Investigate MultiControlPauli"
   ]
  },
  {
   "cell_type": "code",
   "execution_count": 61,
   "metadata": {
    "id": "CYPeU18Snu0D",
    "jupyter": {
     "is_executing": true
    }
   },
   "outputs": [],
   "source": [
    "ccpauli = MultiControlPauli(cvs=(1, 0, 1, 0, 1), target_gate=cirq.X)"
   ]
  },
  {
   "cell_type": "code",
   "execution_count": 62,
   "metadata": {
    "colab": {
     "base_uri": "https://localhost:8080/",
     "height": 459
    },
    "id": "9i24ug7zn5n6",
    "jupyter": {
     "is_executing": true
    },
    "outputId": "d8d44e82-4c24-4438-a55d-ff9957d89c83"
   },
   "outputs": [
    {
     "data": {
      "image/svg+xml": [
       "<svg xmlns=\"http://www.w3.org/2000/svg\" xmlns:xlink=\"http://www.w3.org/1999/xlink\" width=\"366pt\" height=\"314pt\" viewBox=\"0.00 0.00 366.00 314.00\">\n",
       "<g id=\"graph0\" class=\"graph\" transform=\"scale(1 1) rotate(0) translate(4 310)\">\n",
       "<title>my_graph</title>\n",
       "<polygon fill=\"white\" stroke=\"transparent\" points=\"-4,4 -4,-310 362,-310 362,4 -4,4\"/>\n",
       "<!-- controls_G6 -->\n",
       "<g id=\"node1\" class=\"node\">\n",
       "<title>controls_G6</title>\n",
       "<text text-anchor=\"middle\" x=\"47\" y=\"-284.3\" font-family=\"Times,serif\" font-size=\"14.00\">controls[0]</text>\n",
       "</g>\n",
       "<!-- MultiControlPauli -->\n",
       "<g id=\"node7\" class=\"node\">\n",
       "<title>MultiControlPauli</title>\n",
       "<polygon fill=\"none\" stroke=\"black\" points=\"131,-216 131,-233 227,-233 227,-216 131,-216\"/>\n",
       "<text text-anchor=\"start\" x=\"134\" y=\"-222\" font-family=\"Times,serif\" font-size=\"10.00\">MultiControlPauli</text>\n",
       "<polygon fill=\"none\" stroke=\"black\" points=\"131,-195 131,-216 227,-216 227,-195 131,-195\"/>\n",
       "<text text-anchor=\"start\" x=\"140\" y=\"-201.8\" font-family=\"Times,serif\" font-size=\"14.00\">controls[0]</text>\n",
       "<polygon fill=\"none\" stroke=\"black\" points=\"131,-174 131,-195 227,-195 227,-174 131,-174\"/>\n",
       "<text text-anchor=\"start\" x=\"140\" y=\"-180.8\" font-family=\"Times,serif\" font-size=\"14.00\">controls[1]</text>\n",
       "<polygon fill=\"none\" stroke=\"black\" points=\"131,-153 131,-174 227,-174 227,-153 131,-153\"/>\n",
       "<text text-anchor=\"start\" x=\"140\" y=\"-159.8\" font-family=\"Times,serif\" font-size=\"14.00\">controls[2]</text>\n",
       "<polygon fill=\"none\" stroke=\"black\" points=\"131,-132 131,-153 227,-153 227,-132 131,-132\"/>\n",
       "<text text-anchor=\"start\" x=\"140\" y=\"-138.8\" font-family=\"Times,serif\" font-size=\"14.00\">controls[3]</text>\n",
       "<polygon fill=\"none\" stroke=\"black\" points=\"131,-111 131,-132 227,-132 227,-111 131,-111\"/>\n",
       "<text text-anchor=\"start\" x=\"140\" y=\"-117.8\" font-family=\"Times,serif\" font-size=\"14.00\">controls[4]</text>\n",
       "<polygon fill=\"none\" stroke=\"black\" points=\"131,-90 131,-111 227,-111 227,-90 131,-90\"/>\n",
       "<text text-anchor=\"start\" x=\"156.5\" y=\"-96.8\" font-family=\"Times,serif\" font-size=\"14.00\">target</text>\n",
       "</g>\n",
       "<!-- controls_G6&#45;&gt;MultiControlPauli -->\n",
       "<g id=\"edge1\" class=\"edge\">\n",
       "<title>controls_G6:e-&gt;MultiControlPauli:w</title>\n",
       "<path fill=\"none\" stroke=\"black\" d=\"M94,-288C133.2,-288 92.66,-209.17 128.75,-206.09\"/>\n",
       "<ellipse fill=\"black\" stroke=\"black\" cx=\"130\" cy=\"-206.04\" rx=\"1\" ry=\"1\"/>\n",
       "<text text-anchor=\"middle\" x=\"112.5\" y=\"-273\" font-family=\"Times,serif\" font-size=\"10.00\">1</text>\n",
       "</g>\n",
       "<!-- controls_G4 -->\n",
       "<g id=\"node2\" class=\"node\">\n",
       "<title>controls_G4</title>\n",
       "<text text-anchor=\"middle\" x=\"47\" y=\"-230.3\" font-family=\"Times,serif\" font-size=\"14.00\">controls[1]</text>\n",
       "</g>\n",
       "<!-- controls_G4&#45;&gt;MultiControlPauli -->\n",
       "<g id=\"edge2\" class=\"edge\">\n",
       "<title>controls_G4:e-&gt;MultiControlPauli:w</title>\n",
       "<path fill=\"none\" stroke=\"black\" d=\"M94,-234C120.54,-234 104.64,-187.64 128.86,-185.11\"/>\n",
       "<ellipse fill=\"black\" stroke=\"black\" cx=\"130\" cy=\"-185.05\" rx=\"1\" ry=\"1\"/>\n",
       "<text text-anchor=\"middle\" x=\"112.5\" y=\"-213\" font-family=\"Times,serif\" font-size=\"10.00\">1</text>\n",
       "</g>\n",
       "<!-- controls_G8 -->\n",
       "<g id=\"node3\" class=\"node\">\n",
       "<title>controls_G8</title>\n",
       "<text text-anchor=\"middle\" x=\"47\" y=\"-176.3\" font-family=\"Times,serif\" font-size=\"14.00\">controls[2]</text>\n",
       "</g>\n",
       "<!-- controls_G8&#45;&gt;MultiControlPauli -->\n",
       "<g id=\"edge3\" class=\"edge\">\n",
       "<title>controls_G8:e-&gt;MultiControlPauli:w</title>\n",
       "<path fill=\"none\" stroke=\"black\" d=\"M94,-180C111.22,-180 112.97,-165.23 128.98,-164.07\"/>\n",
       "<ellipse fill=\"black\" stroke=\"black\" cx=\"130\" cy=\"-164.04\" rx=\"1\" ry=\"1\"/>\n",
       "<text text-anchor=\"middle\" x=\"112.5\" y=\"-175\" font-family=\"Times,serif\" font-size=\"10.00\">1</text>\n",
       "</g>\n",
       "<!-- controls_G11 -->\n",
       "<g id=\"node4\" class=\"node\">\n",
       "<title>controls_G11</title>\n",
       "<text text-anchor=\"middle\" x=\"47\" y=\"-122.3\" font-family=\"Times,serif\" font-size=\"14.00\">controls[3]</text>\n",
       "</g>\n",
       "<!-- controls_G11&#45;&gt;MultiControlPauli -->\n",
       "<g id=\"edge4\" class=\"edge\">\n",
       "<title>controls_G11:e-&gt;MultiControlPauli:w</title>\n",
       "<path fill=\"none\" stroke=\"black\" d=\"M94,-126C111.22,-126 112.97,-140.77 128.98,-141.93\"/>\n",
       "<ellipse fill=\"black\" stroke=\"black\" cx=\"130\" cy=\"-141.96\" rx=\"1\" ry=\"1\"/>\n",
       "<text text-anchor=\"middle\" x=\"112.5\" y=\"-137\" font-family=\"Times,serif\" font-size=\"10.00\">1</text>\n",
       "</g>\n",
       "<!-- controls_G13 -->\n",
       "<g id=\"node5\" class=\"node\">\n",
       "<title>controls_G13</title>\n",
       "<text text-anchor=\"middle\" x=\"47\" y=\"-68.3\" font-family=\"Times,serif\" font-size=\"14.00\">controls[4]</text>\n",
       "</g>\n",
       "<!-- controls_G13&#45;&gt;MultiControlPauli -->\n",
       "<g id=\"edge5\" class=\"edge\">\n",
       "<title>controls_G13:e-&gt;MultiControlPauli:w</title>\n",
       "<path fill=\"none\" stroke=\"black\" d=\"M94,-72C120.54,-72 104.64,-118.36 128.86,-120.89\"/>\n",
       "<ellipse fill=\"black\" stroke=\"black\" cx=\"130\" cy=\"-120.95\" rx=\"1\" ry=\"1\"/>\n",
       "<text text-anchor=\"middle\" x=\"112.5\" y=\"-100\" font-family=\"Times,serif\" font-size=\"10.00\">1</text>\n",
       "</g>\n",
       "<!-- target_G3 -->\n",
       "<g id=\"node6\" class=\"node\">\n",
       "<title>target_G3</title>\n",
       "<text text-anchor=\"middle\" x=\"47\" y=\"-14.3\" font-family=\"Times,serif\" font-size=\"14.00\">target</text>\n",
       "</g>\n",
       "<!-- target_G3&#45;&gt;MultiControlPauli -->\n",
       "<g id=\"edge6\" class=\"edge\">\n",
       "<title>target_G3:e-&gt;MultiControlPauli:w</title>\n",
       "<path fill=\"none\" stroke=\"black\" d=\"M79,-18C99.9,-18 108.86,-94.96 129.01,-99.76\"/>\n",
       "<ellipse fill=\"black\" stroke=\"black\" cx=\"130.01\" cy=\"-99.88\" rx=\"1\" ry=\"1\"/>\n",
       "<text text-anchor=\"middle\" x=\"112.5\" y=\"-82\" font-family=\"Times,serif\" font-size=\"10.00\">1</text>\n",
       "</g>\n",
       "<!-- controls_G1 -->\n",
       "<g id=\"node8\" class=\"node\">\n",
       "<title>controls_G1</title>\n",
       "<text text-anchor=\"middle\" x=\"311\" y=\"-284.3\" font-family=\"Times,serif\" font-size=\"14.00\">controls[0]</text>\n",
       "</g>\n",
       "<!-- MultiControlPauli&#45;&gt;controls_G1 -->\n",
       "<g id=\"edge7\" class=\"edge\">\n",
       "<title>MultiControlPauli:e-&gt;controls_G1:w</title>\n",
       "<path fill=\"none\" stroke=\"black\" d=\"M227,-206C266.2,-206 225.66,-284.83 261.75,-287.91\"/>\n",
       "<ellipse fill=\"black\" stroke=\"black\" cx=\"263\" cy=\"-287.96\" rx=\"1\" ry=\"1\"/>\n",
       "<text text-anchor=\"middle\" x=\"245.5\" y=\"-273\" font-family=\"Times,serif\" font-size=\"10.00\">1</text>\n",
       "</g>\n",
       "<!-- controls_G16 -->\n",
       "<g id=\"node9\" class=\"node\">\n",
       "<title>controls_G16</title>\n",
       "<text text-anchor=\"middle\" x=\"311\" y=\"-230.3\" font-family=\"Times,serif\" font-size=\"14.00\">controls[1]</text>\n",
       "</g>\n",
       "<!-- MultiControlPauli&#45;&gt;controls_G16 -->\n",
       "<g id=\"edge8\" class=\"edge\">\n",
       "<title>MultiControlPauli:e-&gt;controls_G16:w</title>\n",
       "<path fill=\"none\" stroke=\"black\" d=\"M227,-185C253.54,-185 237.64,-231.36 261.86,-233.89\"/>\n",
       "<ellipse fill=\"black\" stroke=\"black\" cx=\"263\" cy=\"-233.95\" rx=\"1\" ry=\"1\"/>\n",
       "<text text-anchor=\"middle\" x=\"245.5\" y=\"-213\" font-family=\"Times,serif\" font-size=\"10.00\">1</text>\n",
       "</g>\n",
       "<!-- controls_G2 -->\n",
       "<g id=\"node10\" class=\"node\">\n",
       "<title>controls_G2</title>\n",
       "<text text-anchor=\"middle\" x=\"311\" y=\"-176.3\" font-family=\"Times,serif\" font-size=\"14.00\">controls[2]</text>\n",
       "</g>\n",
       "<!-- MultiControlPauli&#45;&gt;controls_G2 -->\n",
       "<g id=\"edge9\" class=\"edge\">\n",
       "<title>MultiControlPauli:e-&gt;controls_G2:w</title>\n",
       "<path fill=\"none\" stroke=\"black\" d=\"M227,-164C244.22,-164 245.97,-178.77 261.98,-179.93\"/>\n",
       "<ellipse fill=\"black\" stroke=\"black\" cx=\"263\" cy=\"-179.96\" rx=\"1\" ry=\"1\"/>\n",
       "<text text-anchor=\"middle\" x=\"245.5\" y=\"-175\" font-family=\"Times,serif\" font-size=\"10.00\">1</text>\n",
       "</g>\n",
       "<!-- controls_G7 -->\n",
       "<g id=\"node11\" class=\"node\">\n",
       "<title>controls_G7</title>\n",
       "<text text-anchor=\"middle\" x=\"311\" y=\"-122.3\" font-family=\"Times,serif\" font-size=\"14.00\">controls[3]</text>\n",
       "</g>\n",
       "<!-- MultiControlPauli&#45;&gt;controls_G7 -->\n",
       "<g id=\"edge10\" class=\"edge\">\n",
       "<title>MultiControlPauli:e-&gt;controls_G7:w</title>\n",
       "<path fill=\"none\" stroke=\"black\" d=\"M227,-142C244.22,-142 245.97,-127.23 261.98,-126.07\"/>\n",
       "<ellipse fill=\"black\" stroke=\"black\" cx=\"263\" cy=\"-126.04\" rx=\"1\" ry=\"1\"/>\n",
       "<text text-anchor=\"middle\" x=\"245.5\" y=\"-137\" font-family=\"Times,serif\" font-size=\"10.00\">1</text>\n",
       "</g>\n",
       "<!-- controls_G10 -->\n",
       "<g id=\"node12\" class=\"node\">\n",
       "<title>controls_G10</title>\n",
       "<text text-anchor=\"middle\" x=\"311\" y=\"-68.3\" font-family=\"Times,serif\" font-size=\"14.00\">controls[4]</text>\n",
       "</g>\n",
       "<!-- MultiControlPauli&#45;&gt;controls_G10 -->\n",
       "<g id=\"edge11\" class=\"edge\">\n",
       "<title>MultiControlPauli:e-&gt;controls_G10:w</title>\n",
       "<path fill=\"none\" stroke=\"black\" d=\"M227,-121C253.54,-121 237.64,-74.64 261.86,-72.11\"/>\n",
       "<ellipse fill=\"black\" stroke=\"black\" cx=\"263\" cy=\"-72.05\" rx=\"1\" ry=\"1\"/>\n",
       "<text text-anchor=\"middle\" x=\"245.5\" y=\"-100\" font-family=\"Times,serif\" font-size=\"10.00\">1</text>\n",
       "</g>\n",
       "<!-- target_G14 -->\n",
       "<g id=\"node13\" class=\"node\">\n",
       "<title>target_G14</title>\n",
       "<text text-anchor=\"middle\" x=\"311\" y=\"-14.3\" font-family=\"Times,serif\" font-size=\"14.00\">target</text>\n",
       "</g>\n",
       "<!-- MultiControlPauli&#45;&gt;target_G14 -->\n",
       "<g id=\"edge12\" class=\"edge\">\n",
       "<title>MultiControlPauli:e-&gt;target_G14:w</title>\n",
       "<path fill=\"none\" stroke=\"black\" d=\"M227,-100C247.9,-100 256.86,-23.04 277.01,-18.24\"/>\n",
       "<ellipse fill=\"black\" stroke=\"black\" cx=\"278.01\" cy=\"-18.12\" rx=\"1\" ry=\"1\"/>\n",
       "<text text-anchor=\"middle\" x=\"245.5\" y=\"-82\" font-family=\"Times,serif\" font-size=\"10.00\">1</text>\n",
       "</g>\n",
       "</g>\n",
       "</svg>"
      ],
      "text/plain": [
       "<IPython.core.display.SVG object>"
      ]
     },
     "metadata": {},
     "output_type": "display_data"
    }
   ],
   "source": [
    "show_bloq(ccpauli)"
   ]
  },
  {
   "cell_type": "markdown",
   "metadata": {
    "id": "Iv2TLLV8MAj1"
   },
   "source": [
    "#### Attempt solution here:"
   ]
  },
  {
   "cell_type": "code",
   "execution_count": null,
   "metadata": {
    "id": "BQObl-VoMJc3",
    "jupyter": {
     "is_executing": true
    }
   },
   "outputs": [],
   "source": []
  },
  {
   "cell_type": "markdown",
   "metadata": {
    "id": "mJ9bOiGhMLhL"
   },
   "source": [
    "#### Expand to view the solution"
   ]
  },
  {
   "cell_type": "code",
   "execution_count": 63,
   "metadata": {
    "colab": {
     "base_uri": "https://localhost:8080/",
     "height": 525
    },
    "id": "FbMIr0iHkmGD",
    "jupyter": {
     "is_executing": true
    },
    "outputId": "300fc575-06e8-449e-cbe2-d5d35dbbc02e"
   },
   "outputs": [
    {
     "data": {
      "image/svg+xml": [
       "<svg xmlns=\"http://www.w3.org/2000/svg\" xmlns:xlink=\"http://www.w3.org/1999/xlink\" width=\"353pt\" height=\"131pt\" viewBox=\"0.00 0.00 353.00 131.00\">\n",
       "<g id=\"graph0\" class=\"graph\" transform=\"scale(1 1) rotate(0) translate(4 127)\">\n",
       "<title>counts</title>\n",
       "<polygon fill=\"white\" stroke=\"transparent\" points=\"-4,4 -4,-127 349,-127 349,4 -4,4\"/>\n",
       "<!-- b0 -->\n",
       "<g id=\"node1\" class=\"node\">\n",
       "<title>b0</title>\n",
       "<polygon fill=\"none\" stroke=\"black\" points=\"277,-123 44,-123 44,-87 277,-87 277,-123\"/>\n",
       "<text text-anchor=\"start\" x=\"139.5\" y=\"-106.8\" font-family=\"Times,serif\" font-size=\"14.00\">C^5X</text>\n",
       "<text text-anchor=\"start\" x=\"52\" y=\"-96\" font-family=\"monospace\" font-size=\"10.00\">cvs=(1, 0, 1 ..., target_gate=cirq.X</text>\n",
       "</g>\n",
       "<!-- b1 -->\n",
       "<g id=\"node2\" class=\"node\">\n",
       "<title>b1</title>\n",
       "<polygon fill=\"none\" stroke=\"black\" points=\"113,-36 0,-36 0,0 113,0 113,-36\"/>\n",
       "<text text-anchor=\"start\" x=\"23\" y=\"-19.8\" font-family=\"Times,serif\" font-size=\"14.00\">MultiAnd</text>\n",
       "<text text-anchor=\"start\" x=\"8\" y=\"-9\" font-family=\"monospace\" font-size=\"10.00\">cvs=(1, 0, 1 ...</text>\n",
       "</g>\n",
       "<!-- b0&#45;&gt;b1 -->\n",
       "<g id=\"edge1\" class=\"edge\">\n",
       "<title>b0-&gt;b1</title>\n",
       "<path fill=\"none\" stroke=\"black\" d=\"M139.45,-86.8C123.95,-74.13 102.67,-56.73 85.54,-42.74\"/>\n",
       "<polygon fill=\"black\" stroke=\"black\" points=\"87.47,-39.79 77.51,-36.18 83.04,-45.21 87.47,-39.79\"/>\n",
       "<text text-anchor=\"middle\" x=\"120.5\" y=\"-57.8\" font-family=\"Times,serif\" font-size=\"14.00\">1</text>\n",
       "</g>\n",
       "<!-- b2 -->\n",
       "<g id=\"node3\" class=\"node\">\n",
       "<title>b2</title>\n",
       "<polygon fill=\"none\" stroke=\"black\" points=\"190,-36 131,-36 131,0 190,0 190,-36\"/>\n",
       "<text text-anchor=\"start\" x=\"139\" y=\"-14.3\" font-family=\"Times,serif\" font-size=\"14.00\">CNOT</text>\n",
       "</g>\n",
       "<!-- b0&#45;&gt;b2 -->\n",
       "<g id=\"edge2\" class=\"edge\">\n",
       "<title>b0-&gt;b2</title>\n",
       "<path fill=\"none\" stroke=\"black\" d=\"M160.5,-86.8C160.5,-75.16 160.5,-59.55 160.5,-46.24\"/>\n",
       "<polygon fill=\"black\" stroke=\"black\" points=\"164,-46.18 160.5,-36.18 157,-46.18 164,-46.18\"/>\n",
       "<text text-anchor=\"middle\" x=\"165.5\" y=\"-57.8\" font-family=\"Times,serif\" font-size=\"14.00\">1</text>\n",
       "</g>\n",
       "<!-- b3 -->\n",
       "<g id=\"node4\" class=\"node\">\n",
       "<title>b3</title>\n",
       "<polygon fill=\"none\" stroke=\"black\" points=\"345,-36 208,-36 208,0 345,0 345,-36\"/>\n",
       "<text text-anchor=\"start\" x=\"240\" y=\"-19.8\" font-family=\"Times,serif\" font-size=\"14.00\">MultiAnd†</text>\n",
       "<text text-anchor=\"start\" x=\"216\" y=\"-9\" font-family=\"monospace\" font-size=\"10.00\">subbloq=MultiAnd ...</text>\n",
       "</g>\n",
       "<!-- b0&#45;&gt;b3 -->\n",
       "<g id=\"edge3\" class=\"edge\">\n",
       "<title>b0-&gt;b3</title>\n",
       "<path fill=\"none\" stroke=\"black\" d=\"M183.97,-86.8C201.51,-73.95 225.65,-56.26 244.88,-42.17\"/>\n",
       "<polygon fill=\"black\" stroke=\"black\" points=\"247.06,-44.91 253.06,-36.18 242.93,-39.26 247.06,-44.91\"/>\n",
       "<text text-anchor=\"middle\" x=\"229.5\" y=\"-57.8\" font-family=\"Times,serif\" font-size=\"14.00\">1</text>\n",
       "</g>\n",
       "</g>\n",
       "</svg>"
      ],
      "text/plain": [
       "<IPython.core.display.SVG object>"
      ]
     },
     "metadata": {},
     "output_type": "display_data"
    },
    {
     "data": {
      "text/markdown": [
       "#### Counts totals:\n",
       " - `Adjoint(subbloq=MultiAnd(n=5))`: 1\n",
       " - `CNOT`: 1\n",
       " - `MultiAnd(n=5)`: 1"
      ],
      "text/plain": [
       "<IPython.core.display.Markdown object>"
      ]
     },
     "metadata": {},
     "output_type": "display_data"
    }
   ],
   "source": [
    "\n",
    "\n",
    "ccpauli_g, ccpauli_sigma = ccpauli.call_graph(max_depth=1, generalizer=ignore_split_join)\n",
    "#ccpauli_g, ccpauli_sigma = ccpauli.call_graph()\n",
    "show_call_graph(ccpauli_g)\n",
    "show_counts_sigma(ccpauli_sigma)\n",
    "\n"
   ]
  },
  {
   "cell_type": "markdown",
   "metadata": {
    "id": "lo29lrTINAdy"
   },
   "source": [
    "# Appendix - Exercise Protocols: Match the methods:\n",
    "\n",
    "\n",
    "\n",
    "\n",
    "\n",
    "\n"
   ]
  },
  {
   "cell_type": "markdown",
   "metadata": {
    "id": "kPSiRYcrOjX4"
   },
   "source": [
    "Decide which method is the Interface the Implementation and Additional functionality\n",
    "1. `add_my_tensors()`: ...\n",
    "2. `tensor_contract()`: ...\n",
    "3. `qualtran.simulation.tensor`: ..."
   ]
  },
  {
   "cell_type": "markdown",
   "metadata": {},
   "source": [
    "# References:\n",
    "This tutorial is based on on various part of qualtran doc. For a more throughout treatment, reader can consult the original material:\n",
    "1. Bloq Tutorial: https://qualtran.readthedocs.io/en/latest/_infra/Bloqs-Tutorial.html\n",
    "2. Protocol: https://qualtran.readthedocs.io/en/latest/Protocols.html\n",
    "3. Multi Pauli: https://qualtran.readthedocs.io/en/latest/bloqs/mcmt/multi_control_multi_target_pauli.html\n",
    "\n"
   ]
  },
  {
   "cell_type": "code",
   "execution_count": null,
   "metadata": {},
   "outputs": [],
   "source": []
  }
 ],
 "metadata": {
  "colab": {
   "collapsed_sections": [
    "n2EmgZEyql2g",
    "2id-xdR7qsEO",
    "Zu2sBh08lFXv",
    "Iv2TLLV8MAj1"
   ],
   "provenance": [],
   "toc_visible": true
  },
  "kernelspec": {
   "display_name": "Python 3 (ipykernel)",
   "language": "python",
   "name": "python3"
  },
  "language_info": {
   "codemirror_mode": {
    "name": "ipython",
    "version": 3
   },
   "file_extension": ".py",
   "mimetype": "text/x-python",
   "name": "python",
   "nbconvert_exporter": "python",
   "pygments_lexer": "ipython3",
   "version": "3.10.12"
  },
  "widgets": {
   "application/vnd.jupyter.widget-state+json": {
    "048286cbd942442b84c0be0cb3418cb2": {
     "model_module": "@jupyter-widgets/base",
     "model_module_version": "1.2.0",
     "model_name": "LayoutModel",
     "state": {
      "_model_module": "@jupyter-widgets/base",
      "_model_module_version": "1.2.0",
      "_model_name": "LayoutModel",
      "_view_count": null,
      "_view_module": "@jupyter-widgets/base",
      "_view_module_version": "1.2.0",
      "_view_name": "LayoutView",
      "align_content": null,
      "align_items": null,
      "align_self": null,
      "border": null,
      "bottom": null,
      "display": null,
      "flex": null,
      "flex_flow": null,
      "grid_area": null,
      "grid_auto_columns": null,
      "grid_auto_flow": null,
      "grid_auto_rows": null,
      "grid_column": null,
      "grid_gap": null,
      "grid_row": null,
      "grid_template_areas": null,
      "grid_template_columns": null,
      "grid_template_rows": null,
      "height": null,
      "justify_content": null,
      "justify_items": null,
      "left": null,
      "margin": null,
      "max_height": null,
      "max_width": null,
      "min_height": null,
      "min_width": null,
      "object_fit": null,
      "object_position": null,
      "order": null,
      "overflow": null,
      "overflow_x": null,
      "overflow_y": null,
      "padding": null,
      "right": null,
      "top": null,
      "visibility": null,
      "width": null
     }
    },
    "27149ca4b39e4b1cb4b95e8af772c550": {
     "model_module": "@jupyter-widgets/output",
     "model_module_version": "1.0.0",
     "model_name": "OutputModel",
     "state": {
      "_dom_classes": [],
      "_model_module": "@jupyter-widgets/output",
      "_model_module_version": "1.0.0",
      "_model_name": "OutputModel",
      "_view_count": null,
      "_view_module": "@jupyter-widgets/output",
      "_view_module_version": "1.0.0",
      "_view_name": "OutputView",
      "layout": "IPY_MODEL_048286cbd942442b84c0be0cb3418cb2",
      "msg_id": "",
      "outputs": [
       {
        "data": {
         "text/markdown": "c_not",
         "text/plain": "<IPython.core.display.Markdown object>"
        },
        "metadata": {},
        "output_type": "display_data"
       },
       {
        "data": {
         "image/svg+xml": "<svg xmlns=\"http://www.w3.org/2000/svg\" xmlns:xlink=\"http://www.w3.org/1999/xlink\" width=\"227pt\" height=\"98pt\" viewBox=\"0.00 0.00 227.00 98.00\">\n<g id=\"graph0\" class=\"graph\" transform=\"scale(1 1) rotate(0) translate(4 94)\">\n<title>my_graph</title>\n<polygon fill=\"white\" stroke=\"transparent\" points=\"-4,4 -4,-94 223,-94 223,4 -4,4\"/>\n<!-- ctrl_G2 -->\n<g id=\"node1\" class=\"node\">\n<title>ctrl_G2</title>\n<text text-anchor=\"middle\" x=\"27\" y=\"-68.3\" font-family=\"Times,serif\" font-size=\"14.00\">ctrl</text>\n</g>\n<!-- CNOT -->\n<g id=\"node3\" class=\"node\">\n<title>CNOT</title>\n<polygon fill=\"none\" stroke=\"black\" points=\"91.5,-66 91.5,-83 128.5,-83 128.5,-66 91.5,-66\"/>\n<text text-anchor=\"start\" x=\"96\" y=\"-72\" font-family=\"Times,serif\" font-size=\"10.00\">CNOT</text>\n<polygon fill=\"none\" stroke=\"black\" points=\"91.5,-45 91.5,-66 128.5,-66 128.5,-45 91.5,-45\"/>\n<text text-anchor=\"start\" x=\"100.5\" y=\"-51.8\" font-family=\"Times,serif\" font-size=\"14.00\">ctrl</text>\n<polygon fill=\"none\" stroke=\"black\" points=\"91.5,-24 91.5,-45 128.5,-45 128.5,-24 91.5,-24\"/>\n<text text-anchor=\"start\" x=\"94.5\" y=\"-30.8\" font-family=\"Times,serif\" font-size=\"14.00\">target</text>\n</g>\n<!-- ctrl_G2&#45;&gt;CNOT -->\n<g id=\"edge1\" class=\"edge\">\n<title>ctrl_G2:e-&gt;CNOT:w</title>\n<path fill=\"none\" stroke=\"black\" d=\"M54,-72C71.22,-72 72.97,-57.23 88.98,-56.07\"/>\n<ellipse fill=\"black\" stroke=\"black\" cx=\"90\" cy=\"-56.04\" rx=\"1\" ry=\"1\"/>\n<text text-anchor=\"middle\" x=\"72.5\" y=\"-67\" font-family=\"Times,serif\" font-size=\"10.00\">1</text>\n</g>\n<!-- target_G1 -->\n<g id=\"node2\" class=\"node\">\n<title>target_G1</title>\n<text text-anchor=\"middle\" x=\"27\" y=\"-14.3\" font-family=\"Times,serif\" font-size=\"14.00\">target</text>\n</g>\n<!-- target_G1&#45;&gt;CNOT -->\n<g id=\"edge2\" class=\"edge\">\n<title>target_G1:e-&gt;CNOT:w</title>\n<path fill=\"none\" stroke=\"black\" d=\"M54,-18C71.22,-18 72.97,-32.77 88.98,-33.93\"/>\n<ellipse fill=\"black\" stroke=\"black\" cx=\"90\" cy=\"-33.96\" rx=\"1\" ry=\"1\"/>\n<text text-anchor=\"middle\" x=\"72.5\" y=\"-29\" font-family=\"Times,serif\" font-size=\"10.00\">1</text>\n</g>\n<!-- ctrl_G5 -->\n<g id=\"node4\" class=\"node\">\n<title>ctrl_G5</title>\n<text text-anchor=\"middle\" x=\"192\" y=\"-68.3\" font-family=\"Times,serif\" font-size=\"14.00\">ctrl</text>\n</g>\n<!-- CNOT&#45;&gt;ctrl_G5 -->\n<g id=\"edge3\" class=\"edge\">\n<title>CNOT:e-&gt;ctrl_G5:w</title>\n<path fill=\"none\" stroke=\"black\" d=\"M128,-56C145.22,-56 146.97,-70.77 162.98,-71.93\"/>\n<ellipse fill=\"black\" stroke=\"black\" cx=\"164\" cy=\"-71.96\" rx=\"1\" ry=\"1\"/>\n<text text-anchor=\"middle\" x=\"146.5\" y=\"-67\" font-family=\"Times,serif\" font-size=\"10.00\">1</text>\n</g>\n<!-- target_G3 -->\n<g id=\"node5\" class=\"node\">\n<title>target_G3</title>\n<text text-anchor=\"middle\" x=\"192\" y=\"-14.3\" font-family=\"Times,serif\" font-size=\"14.00\">target</text>\n</g>\n<!-- CNOT&#45;&gt;target_G3 -->\n<g id=\"edge4\" class=\"edge\">\n<title>CNOT:e-&gt;target_G3:w</title>\n<path fill=\"none\" stroke=\"black\" d=\"M128,-34C145.22,-34 146.97,-19.23 162.98,-18.07\"/>\n<ellipse fill=\"black\" stroke=\"black\" cx=\"164\" cy=\"-18.04\" rx=\"1\" ry=\"1\"/>\n<text text-anchor=\"middle\" x=\"146.5\" y=\"-29\" font-family=\"Times,serif\" font-size=\"10.00\">1</text>\n</g>\n</g>\n</svg>",
         "text/plain": "<IPython.core.display.SVG object>"
        },
        "metadata": {},
        "output_type": "display_data"
       }
      ]
     }
    },
    "54c59e8e7e4245369b7ad3818450d333": {
     "model_module": "@jupyter-widgets/controls",
     "model_module_version": "1.5.0",
     "model_name": "HBoxModel",
     "state": {
      "_dom_classes": [],
      "_model_module": "@jupyter-widgets/controls",
      "_model_module_version": "1.5.0",
      "_model_name": "HBoxModel",
      "_view_count": null,
      "_view_module": "@jupyter-widgets/controls",
      "_view_module_version": "1.5.0",
      "_view_name": "HBoxView",
      "box_style": "",
      "children": [
       "IPY_MODEL_769ae37762004278a9a3b896cac9b43e",
       "IPY_MODEL_27149ca4b39e4b1cb4b95e8af772c550"
      ],
      "layout": "IPY_MODEL_bae1f0ccd57448f3a2ff660bbd2865f9"
     }
    },
    "769ae37762004278a9a3b896cac9b43e": {
     "model_module": "@jupyter-widgets/output",
     "model_module_version": "1.0.0",
     "model_name": "OutputModel",
     "state": {
      "_dom_classes": [],
      "_model_module": "@jupyter-widgets/output",
      "_model_module_version": "1.0.0",
      "_model_name": "OutputModel",
      "_view_count": null,
      "_view_module": "@jupyter-widgets/output",
      "_view_module_version": "1.0.0",
      "_view_name": "OutputView",
      "layout": "IPY_MODEL_cb288f3f506744e3824e75506dcd8177",
      "msg_id": "",
      "outputs": [
       {
        "data": {
         "text/markdown": "`t_gate`",
         "text/plain": "<IPython.core.display.Markdown object>"
        },
        "metadata": {},
        "output_type": "display_data"
       },
       {
        "data": {
         "image/svg+xml": "<svg xmlns=\"http://www.w3.org/2000/svg\" xmlns:xlink=\"http://www.w3.org/1999/xlink\" width=\"203pt\" height=\"54pt\" viewBox=\"0.00 0.00 203.00 54.00\">\n<g id=\"graph0\" class=\"graph\" transform=\"scale(1 1) rotate(0) translate(4 50)\">\n<title>my_graph</title>\n<polygon fill=\"white\" stroke=\"transparent\" points=\"-4,4 -4,-50 199,-50 199,4 -4,4\"/>\n<!-- q_G1 -->\n<g id=\"node1\" class=\"node\">\n<title>q_G1</title>\n<text text-anchor=\"middle\" x=\"27\" y=\"-14.3\" font-family=\"Times,serif\" font-size=\"14.00\">q</text>\n</g>\n<!-- TGate -->\n<g id=\"node2\" class=\"node\">\n<title>TGate</title>\n<polygon fill=\"none\" stroke=\"black\" points=\"91.5,-29 91.5,-46 104.5,-46 104.5,-29 91.5,-29\"/>\n<text text-anchor=\"start\" x=\"94.5\" y=\"-35\" font-family=\"Times,serif\" font-size=\"10.00\">T</text>\n<polygon fill=\"none\" stroke=\"black\" points=\"91.5,-8 91.5,-29 104.5,-29 104.5,-8 91.5,-8\"/>\n<text text-anchor=\"start\" x=\"94.5\" y=\"-14.8\" font-family=\"Times,serif\" font-size=\"14.00\">q</text>\n</g>\n<!-- q_G1&#45;&gt;TGate -->\n<g id=\"edge1\" class=\"edge\">\n<title>q_G1:e-&gt;TGate:w</title>\n<path fill=\"none\" stroke=\"black\" d=\"M54,-18C69.67,-18 74.14,-18 88.77,-18\"/>\n<ellipse fill=\"black\" stroke=\"black\" cx=\"90\" cy=\"-18\" rx=\"1\" ry=\"1\"/>\n<text text-anchor=\"middle\" x=\"72.5\" y=\"-21\" font-family=\"Times,serif\" font-size=\"10.00\">1</text>\n</g>\n<!-- q_G2 -->\n<g id=\"node3\" class=\"node\">\n<title>q_G2</title>\n<text text-anchor=\"middle\" x=\"168\" y=\"-14.3\" font-family=\"Times,serif\" font-size=\"14.00\">q</text>\n</g>\n<!-- TGate&#45;&gt;q_G2 -->\n<g id=\"edge2\" class=\"edge\">\n<title>TGate:e-&gt;q_G2:w</title>\n<path fill=\"none\" stroke=\"black\" d=\"M104,-18C119.67,-18 124.14,-18 138.77,-18\"/>\n<ellipse fill=\"black\" stroke=\"black\" cx=\"140\" cy=\"-18\" rx=\"1\" ry=\"1\"/>\n<text text-anchor=\"middle\" x=\"122.5\" y=\"-21\" font-family=\"Times,serif\" font-size=\"10.00\">1</text>\n</g>\n</g>\n</svg>",
         "text/plain": "<IPython.core.display.SVG object>"
        },
        "metadata": {},
        "output_type": "display_data"
       }
      ]
     }
    },
    "bae1f0ccd57448f3a2ff660bbd2865f9": {
     "model_module": "@jupyter-widgets/base",
     "model_module_version": "1.2.0",
     "model_name": "LayoutModel",
     "state": {
      "_model_module": "@jupyter-widgets/base",
      "_model_module_version": "1.2.0",
      "_model_name": "LayoutModel",
      "_view_count": null,
      "_view_module": "@jupyter-widgets/base",
      "_view_module_version": "1.2.0",
      "_view_name": "LayoutView",
      "align_content": null,
      "align_items": null,
      "align_self": null,
      "border": null,
      "bottom": null,
      "display": null,
      "flex": null,
      "flex_flow": null,
      "grid_area": null,
      "grid_auto_columns": null,
      "grid_auto_flow": null,
      "grid_auto_rows": null,
      "grid_column": null,
      "grid_gap": null,
      "grid_row": null,
      "grid_template_areas": null,
      "grid_template_columns": null,
      "grid_template_rows": null,
      "height": null,
      "justify_content": null,
      "justify_items": null,
      "left": null,
      "margin": null,
      "max_height": null,
      "max_width": null,
      "min_height": null,
      "min_width": null,
      "object_fit": null,
      "object_position": null,
      "order": null,
      "overflow": null,
      "overflow_x": null,
      "overflow_y": null,
      "padding": null,
      "right": null,
      "top": null,
      "visibility": null,
      "width": null
     }
    },
    "cb288f3f506744e3824e75506dcd8177": {
     "model_module": "@jupyter-widgets/base",
     "model_module_version": "1.2.0",
     "model_name": "LayoutModel",
     "state": {
      "_model_module": "@jupyter-widgets/base",
      "_model_module_version": "1.2.0",
      "_model_name": "LayoutModel",
      "_view_count": null,
      "_view_module": "@jupyter-widgets/base",
      "_view_module_version": "1.2.0",
      "_view_name": "LayoutView",
      "align_content": null,
      "align_items": null,
      "align_self": null,
      "border": null,
      "bottom": null,
      "display": null,
      "flex": null,
      "flex_flow": null,
      "grid_area": null,
      "grid_auto_columns": null,
      "grid_auto_flow": null,
      "grid_auto_rows": null,
      "grid_column": null,
      "grid_gap": null,
      "grid_row": null,
      "grid_template_areas": null,
      "grid_template_columns": null,
      "grid_template_rows": null,
      "height": null,
      "justify_content": null,
      "justify_items": null,
      "left": null,
      "margin": null,
      "max_height": null,
      "max_width": null,
      "min_height": null,
      "min_width": null,
      "object_fit": null,
      "object_position": null,
      "order": null,
      "overflow": null,
      "overflow_x": null,
      "overflow_y": null,
      "padding": null,
      "right": null,
      "top": null,
      "visibility": null,
      "width": null
     }
    }
   }
  }
 },
 "nbformat": 4,
 "nbformat_minor": 4
}
