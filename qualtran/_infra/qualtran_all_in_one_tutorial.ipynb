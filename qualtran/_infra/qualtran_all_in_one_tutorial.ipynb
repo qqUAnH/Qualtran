{
 "cells": [
  {
   "cell_type": "markdown",
   "metadata": {},
   "source": [
    "# Introduction:\n",
    "In recent years, we have witnessed advancements in quantum technology. While better hardware is important to realize quantum advantage, quantum software also plays a crucial role. With the help of SDKs such as Cirq and Qiskit, quantum programs can be created and expressed in terms of quantum circuits. In some sense, Cirq and Qiskit are similar to quantum assembly languages, where quantum programs are created by adding elementary gates one by one. However, large-scale quantum programs requiring thousands of qubits and millions of operations (e.g., Shor's algorithm for factoring) demain more efficient management tools. To address this, we need something akin to the C programming language for quantum computing.\n",
    "\n",
    "In this tutorial, we introduce Qualtran (Quantum Algorithms Translator): a set of abstractions for representing quantum programs and a library of quantum algorithms expressed in that language. The tutorial is composed of various parts in qualtran doc and come with some optional excersie. This notebook seek to give as all-in-one introduction to `Qualtran` infrastructure and answer to the following question:\n",
    "1. How to define basic quantum program with `Qualtran` using `Bloq` ?\n",
    "2. What is a protocol in `Qualtran` ?\n",
    "3. How to translate `cirq.Circuit` to `Qualtran.Bloq`"
   ]
  },
  {
   "cell_type": "markdown",
   "metadata": {
    "id": "lXixoICa8hXw"
   },
   "source": [
    "# Basic Bloq"
   ]
  },
  {
   "cell_type": "markdown",
   "metadata": {
    "id": "RRoXJi2wSaXp"
   },
   "source": [
    "Similar to other quantum framework, `qualtran` come with a set of basic gates. All basic gates in qualtran inherit from `Bloq`: an abstract base class for all operation.  "
   ]
  },
  {
   "cell_type": "code",
   "execution_count": null,
   "metadata": {
    "ExecuteTime": {
     "end_time": "2024-06-16T10:28:10.424057Z",
     "start_time": "2024-06-16T10:28:08.245206Z"
    },
    "colab": {
     "base_uri": "https://localhost:8080/"
    },
    "id": "0tW42ZThSdbO",
    "outputId": "da287e50-56c6-4b57-8a76-f17c9a67e05d"
   },
   "outputs": [],
   "source": [
    "from qualtran.bloqs.basic_gates import TGate, CNOT\n",
    "c_not = CNOT()\n",
    "t_gate = TGate()"
   ]
  },
  {
   "cell_type": "code",
   "execution_count": null,
   "metadata": {
    "ExecuteTime": {
     "end_time": "2024-06-11T03:36:42.492353Z",
     "start_time": "2024-06-11T03:36:42.363211Z"
    },
    "colab": {
     "base_uri": "https://localhost:8080/",
     "height": 201,
     "referenced_widgets": [
      "54c59e8e7e4245369b7ad3818450d333",
      "769ae37762004278a9a3b896cac9b43e",
      "27149ca4b39e4b1cb4b95e8af772c550",
      "bae1f0ccd57448f3a2ff660bbd2865f9",
      "cb288f3f506744e3824e75506dcd8177",
      "048286cbd942442b84c0be0cb3418cb2"
     ]
    },
    "id": "UB0vBsay1yK9",
    "outputId": "ef7ff751-1745-4186-f4f2-5a47a0c12e9a"
   },
   "outputs": [],
   "source": [
    "from qualtran.drawing import show_bloqs\n",
    "\n",
    "show_bloqs([t_gate, c_not], ['`t_gate`', 'c_not'])"
   ]
  },
  {
   "cell_type": "markdown",
   "metadata": {
    "id": "xWiwKj_m4FXr"
   },
   "source": [
    "\n",
    "By creating a new class inheriting `Bloq`, we can represent quantum program in various complexity in a a hierarchical collection of Python objects. The only mandatory methods to create a new Bloq is `Bloq.signature`. In the example below, we create a two qubits controlled gate with minimal information: class name and signature property.\n"
   ]
  },
  {
   "cell_type": "code",
   "execution_count": null,
   "metadata": {
    "id": "oQ_yWu90zBq4"
   },
   "outputs": [],
   "source": [
    "from typing import *\n",
    "\n",
    "import numpy as np\n",
    "import sympy\n",
    "import attrs\n",
    "\n",
    "from qualtran import Bloq, CompositeBloq, BloqBuilder, Signature, Register, QBit,QAny\n",
    "from qualtran.drawing import show_bloq, show_call_graph, show_counts_sigma"
   ]
  },
  {
   "cell_type": "code",
   "execution_count": null,
   "metadata": {
    "ExecuteTime": {
     "start_time": "2024-06-11T03:36:42.505223Z"
    },
    "id": "AAJwqAyuSxrp",
    "jupyter": {
     "is_executing": true
    }
   },
   "outputs": [],
   "source": [
    "@attrs.frozen # this decorator is used to create classes with immutable instances\n",
    "class CNOT(Bloq):\n",
    "    @property\n",
    "    def signature(self):\n",
    "        return Signature([\n",
    "            Register('ctrl', QBit()),\n",
    "            Register('target', QBit())\n",
    "        ])"
   ]
  },
  {
   "cell_type": "code",
   "execution_count": null,
   "metadata": {
    "colab": {
     "base_uri": "https://localhost:8080/",
     "height": 171
    },
    "id": "5yYFs4TeS-J1",
    "jupyter": {
     "is_executing": true
    },
    "outputId": "dc6256cc-173e-4af6-f37b-d8b8f7fedad1"
   },
   "outputs": [],
   "source": [
    "cg = CNOT()\n",
    "show_bloq(cg)"
   ]
  },
  {
   "cell_type": "markdown",
   "metadata": {},
   "source": [
    "This is the absolute minimum amount of information needed to define a Bloq: a name (i.e.\n",
    "the class name) and a `signature` property.\n",
    "The `Bloq.signature` property can be thought of as analogous\n",
    "to the function signature in ordinary programming. You can think of a bloq\n",
    "with just this property implemented like a function\n",
    "declarations in a C header (`*.h`) file.\n",
    "\n",
    "```\n",
    "void CNOT(Qbit* control, Qbit* target);\n",
    "```\n"
   ]
  },
  {
   "cell_type": "markdown",
   "metadata": {},
   "source": [
    "There are many other methods we can optionally implement to encode more information about the bloq. We will examine each method in detail in another tutorial. The main idea is that new methods can be added to the bloq as we progress."
   ]
  },
  {
   "cell_type": "markdown",
   "metadata": {},
   "source": [
    "## Decomposing Bloqs:\n",
    "Quantum operators can be decomposed into sub operators. In `Qualtran`, such operator can be define using `CompositeBloq`, a subclass of `Bloq`. In the example below, we define SWAP in terms of three CNOTs."
   ]
  },
  {
   "cell_type": "code",
   "execution_count": null,
   "metadata": {
    "id": "Nb_5oBIwX89y",
    "jupyter": {
     "is_executing": true
    }
   },
   "outputs": [],
   "source": [
    "class SwapTwoBits(Bloq):\n",
    "    @property\n",
    "\n",
    "    def signature(self):\n",
    "        # Signature.build(x=1, y=1) is an alternative syntax for this block\n",
    "        return Signature([\n",
    "            Register('x', QBit()),\n",
    "            Register('y', QBit()),\n",
    "        ])\n",
    "\n",
    "    def build_composite_bloq(self, bb: BloqBuilder, *, x, y):\n",
    "        x, y = bb.add(CNOT(), ctrl=x, target=y) # the bb.add(...) add sub operator\n",
    "        y, x = bb.add(CNOT(), ctrl=y, target=x)\n",
    "        x, y = bb.add(CNOT(), ctrl=x, target=y)\n",
    "        return {'x': x, 'y': y}\n"
   ]
  },
  {
   "cell_type": "code",
   "execution_count": null,
   "metadata": {
    "colab": {
     "base_uri": "https://localhost:8080/",
     "height": 171
    },
    "id": "1ha6z2cAX_nV",
    "jupyter": {
     "is_executing": true
    },
    "outputId": "3bc44d7c-6e3b-45a1-c74e-ad63560dd80a"
   },
   "outputs": [],
   "source": [
    "swapBloq = SwapTwoBits()\n",
    "show_bloq(swapBloq)"
   ]
  },
  {
   "cell_type": "markdown",
   "metadata": {
    "id": "KQm5CjMGus0i"
   },
   "source": [
    "In the example above the SWAP gate is defined by concatenating three CNOTs. If `show_bloq()` is used directly on `SwapTwoBits()`, the information implementation of the three CNOT gates won't be visible. To show a composite bloq we call the `decompose_bloq()` method."
   ]
  },
  {
   "cell_type": "code",
   "execution_count": null,
   "metadata": {
    "colab": {
     "base_uri": "https://localhost:8080/",
     "height": 171
    },
    "id": "UkDK48G2YltW",
    "jupyter": {
     "is_executing": true
    },
    "outputId": "67c47686-e036-4b0f-cf0e-f6d1dcebcb53"
   },
   "outputs": [],
   "source": [
    "show_bloq(swapBloq.decompose_bloq())"
   ]
  },
  {
   "cell_type": "markdown",
   "metadata": {
    "id": "hxr2CAiFYzSl"
   },
   "source": [
    "\n",
    "Similarly, a SWAP can also be created using BloqBuilder directly. This approach can be useful for testing or prototyping."
   ]
  },
  {
   "cell_type": "code",
   "execution_count": null,
   "metadata": {
    "colab": {
     "base_uri": "https://localhost:8080/",
     "height": 171
    },
    "id": "SdwuLo52Y6sj",
    "jupyter": {
     "is_executing": true
    },
    "outputId": "d4d88ec6-c518-4252-ba46-8b1d74d7ebed"
   },
   "outputs": [],
   "source": [
    "bb = BloqBuilder()\n",
    "x = bb.add_register('x', 1)\n",
    "y = bb.add_register('y', 1)\n",
    "y, x = bb.add(CNOT(), ctrl=y, target=x)\n",
    "x, y = bb.add(CNOT(), ctrl=x, target=y)\n",
    "y, x = bb.add(CNOT(), ctrl=y, target=x)\n",
    "cbloq = bb.finalize(x=x, y=y)\n",
    "show_bloq(cbloq)"
   ]
  },
  {
   "cell_type": "markdown",
   "metadata": {
    "id": "xK1DTIdqqR-r"
   },
   "source": [
    "## Exercise: Create a Bell state"
   ]
  },
  {
   "cell_type": "markdown",
   "metadata": {
    "id": "n2EmgZEyql2g"
   },
   "source": [
    "### Write your solution here"
   ]
  },
  {
   "cell_type": "code",
   "execution_count": null,
   "metadata": {
    "id": "wUJK37pqqpzU",
    "jupyter": {
     "is_executing": true
    }
   },
   "outputs": [],
   "source": [
    "from qualtran.bloqs.basic_gates import CNOT, PlusState, ZeroState\n",
    "## declare BloqBuilder\n",
    "\n",
    "## add plus state\n",
    "\n",
    "## add zero state\n",
    "\n",
    "## entangle plus and zero state\n",
    "\n",
    "## finalize and show bloq"
   ]
  },
  {
   "cell_type": "markdown",
   "metadata": {
    "id": "2id-xdR7qsEO"
   },
   "source": [
    "### Expand to view the solution"
   ]
  },
  {
   "cell_type": "code",
   "execution_count": null,
   "metadata": {
    "colab": {
     "base_uri": "https://localhost:8080/",
     "height": 186
    },
    "id": "enDXCCtCBQIG",
    "jupyter": {
     "is_executing": true
    },
    "outputId": "1ffd78b7-a72b-4330-b11c-3d68ecd0d06f"
   },
   "outputs": [],
   "source": [
    "from qualtran.bloqs.basic_gates import CNOT, PlusState, ZeroState\n",
    "\n",
    "bb = BloqBuilder()\n",
    "q0 = bb.add(PlusState())\n",
    "q1 = bb.add(ZeroState())\n",
    "\n",
    "q0, q1 = bb.add(CNOT(), ctrl=q0, target=q1)\n",
    "\n",
    "cbloq = bb.finalize(q0=q0, q1=q1)\n",
    "show_bloq(cbloq)"
   ]
  },
  {
   "cell_type": "markdown",
   "metadata": {
    "id": "A5BHn66w4xHS"
   },
   "source": [
    "## Quantum variables and Soquets.\n",
    "In the example of SWAP bloq above `x, y` are quantum variables. In Qualtran quantum varibles have type `Soquet` and must follow the rules of quantum mechanics. All of these rule are enforced by `BloqBuilder`."
   ]
  },
  {
   "cell_type": "code",
   "execution_count": null,
   "metadata": {
    "colab": {
     "base_uri": "https://localhost:8080/"
    },
    "id": "MXpcBG8tkL3Y",
    "jupyter": {
     "is_executing": true
    },
    "outputId": "f042df3a-4775-4883-cd1f-7a542751a45d"
   },
   "outputs": [],
   "source": [
    "from qualtran import BloqError\n",
    "\n",
    "bb = BloqBuilder()\n",
    "x = bb.add_register('x', 1)\n",
    "y = bb.add_register('y', 1)\n",
    "\n",
    "try:\n",
    "    _ = bb.add(CNOT(), ctrl=x, target=x)\n",
    "except BloqError as e:\n",
    "    print(\"Can't use a variable as both control and target!\")\n",
    "    print(e)"
   ]
  },
  {
   "cell_type": "code",
   "execution_count": null,
   "metadata": {
    "colab": {
     "base_uri": "https://localhost:8080/"
    },
    "id": "_it5BEJZkL-s",
    "jupyter": {
     "is_executing": true
    },
    "outputId": "80ffc6b3-9b2f-4339-d9d8-62104f7b5304"
   },
   "outputs": [],
   "source": [
    "bb = BloqBuilder()\n",
    "x = bb.add_register('x', 1)\n",
    "y = bb.add_register('y', 1)\n",
    "\n",
    "x2, y2 = bb.add(CNOT(), ctrl=x, target=y)\n",
    "\n",
    "try:\n",
    "    x3, y3 = bb.add(CNOT(), ctrl=x, target=y)\n",
    "except BloqError as e:\n",
    "    print(\"`x` and `y` were consumed by the first call to `add`.\")\n",
    "    print(\"Returned quantum variables are *new, immutable* variables that you use\")\n",
    "    print(\"in subsequent operations\")\n",
    "    print(e)\n"
   ]
  },
  {
   "cell_type": "code",
   "execution_count": null,
   "metadata": {
    "colab": {
     "base_uri": "https://localhost:8080/"
    },
    "id": "IMs3wt6tkMGr",
    "jupyter": {
     "is_executing": true
    },
    "outputId": "7d22bde2-f23b-46d9-e479-e4af642abea0"
   },
   "outputs": [],
   "source": [
    "bb = BloqBuilder()\n",
    "x = bb.add_register('x', 1)\n",
    "y = bb.add_register('y', 1)\n",
    "\n",
    "# The following line turns on the additional checks needed to\n",
    "# raise an exception in this case:\n",
    "bb.add_register_allowed = False\n",
    "\n",
    "x2, y2 = bb.add(CNOT(), ctrl=x, target=y)\n",
    "x3, y3 = bb.add(CNOT(), ctrl=x2, target=y2)\n",
    "\n",
    "try:\n",
    "    bb.finalize(x=x3)\n",
    "except BloqError as e:\n",
    "    print(\"Any unused variables must be 'passed on' to `finalize` to be outputs.\")\n",
    "    print(e)\n"
   ]
  },
  {
   "cell_type": "markdown",
   "metadata": {
    "id": "cHSSWnaGk6tG"
   },
   "source": [
    "## Large registers"
   ]
  },
  {
   "cell_type": "code",
   "execution_count": null,
   "metadata": {},
   "outputs": [],
   "source": [
    "arr_reg = Register('arr', QAny(32), shape=(3, 3))\n",
    "print('total bits:', arr_reg.total_bits())"
   ]
  },
  {
   "cell_type": "markdown",
   "metadata": {},
   "source": [
    "<div class=\"alert alert-block alert-info\">`shape` is like `np.ndarray.shape`.</div>\n",
    "\n",
    "In computing, we can think of all data as an ndarray of bits or qubits, but -- analogous to\n",
    "classical data types -- it's preferable to treat a certain number of bits (or qubits) as\n",
    "our atomic datatype. For example, in C, an array of `int32 x[10];` does not let you index\n",
    "into individual bits like `x[3][31]`. Unlike in C, you are not limited by machine word size\n",
    "for atomic type sizes, which is why above we could define a register of `bitsize=5`.\n",
    "\n",
    "In the `SwapTwoBits` example everything was `bitsize=1` and we could write our decomposition\n",
    "without slicing into the registers. Let's write a version of `Swap` that uses an array\n",
    "of `bitsize=1` values."
   ]
  },
  {
   "cell_type": "markdown",
   "metadata": {
    "id": "4e-GwR-olUlg"
   },
   "source": [
    "Let's move on to a more complicated example where we create a `Bloq` that performs bitwise CNOT betwen two n-bits quantum registers.\n",
    "\n",
    "This kind of operator will be useful to Quantum Error Correction, where we wish to apply logical CNOTs on two logical qubits. As mentioned before, it is not possible to index individual bits. To overcome this problem, you can change the shape of the Register or use `BloqBuilder.split()` and `BloqBuilder.join()` to manipulate the register."
   ]
  },
  {
   "cell_type": "code",
   "execution_count": null,
   "metadata": {
    "id": "JTUJcranWeeF",
    "jupyter": {
     "is_executing": true
    }
   },
   "outputs": [],
   "source": [
    "\"\"\"\n",
    "  Approach 1: use split() and join()\n",
    "\"\"\"\n",
    "\n",
    "@attrs.frozen\n",
    "class BitwiseCnot2(Bloq):\n",
    "    n: int\n",
    "    @property\n",
    "    def signature(self):\n",
    "        return Signature.build(x=self.n, y=self.n)\n",
    "\n",
    "    def build_composite_bloq(\n",
    "            self, bb: BloqBuilder, *, x: SoquetT, y: SoquetT\n",
    "    ) -> Dict[str, SoquetT]:\n",
    "        xs = bb.split(x)\n",
    "        ys = bb.split(y)\n",
    "\n",
    "        for i in range(self.n):\n",
    "            xs[i], ys[i] = bb.add(CNOT(), ctrl=xs[i], target=ys[i])\n",
    "        return {\n",
    "            'x': bb.join(xs),\n",
    "            'y': bb.join(ys),\n",
    "        }"
   ]
  },
  {
   "cell_type": "code",
   "execution_count": null,
   "metadata": {
    "colab": {
     "base_uri": "https://localhost:8080/",
     "height": 630
    },
    "id": "sIGxHY2aZue_",
    "jupyter": {
     "is_executing": true
    },
    "outputId": "bffc3410-b518-4587-b302-93cd9ae86439"
   },
   "outputs": [],
   "source": [
    "cbloq = BitwiseCnot1(n=4).decompose_bloq()\n",
    "show_bloq(cbloq)"
   ]
  },
  {
   "cell_type": "markdown",
   "metadata": {},
   "source": [
    "Another approach is to define use shape for register."
   ]
  },
  {
   "cell_type": "code",
   "execution_count": null,
   "metadata": {
    "id": "1L6ulgJZVha6",
    "jupyter": {
     "is_executing": true
    }
   },
   "outputs": [],
   "source": [
    "\"\"\"\n",
    "  Approach 2: Change the shape of the register\n",
    "\"\"\"\n",
    "\n",
    "# SoquetT is defined to be either Soquet or ndarray of Soquet\n",
    "# that is a quantum varible or n-darray of quantum varible.\n",
    "from qualtran import SoquetT\n",
    "@attrs.frozen\n",
    "class BitwiseCnot1(Bloq):\n",
    "    n: int\n",
    "    @property\n",
    "    def signature(self):\n",
    "        return Signature([\n",
    "            #`shape` is like `np.ndarray.shape`\n",
    "            Register('ctrl', QBit(), shape=(self.n,)),\n",
    "            Register('target', QBit(), shape=(self.n,)),\n",
    "        ])\n",
    "\n",
    "    def build_composite_bloq(\n",
    "            self, bb: BloqBuilder, *, ctrl: SoquetT, target: SoquetT\n",
    "    ) -> Dict[str, SoquetT]:\n",
    "        for i in range(self.n):\n",
    "            ctrl[i], target[i] = bb.add(CNOT(), ctrl=ctrl[i], target=target[i])\n",
    "        return {'ctrl': ctrl, 'target': target}\n"
   ]
  },
  {
   "cell_type": "code",
   "execution_count": null,
   "metadata": {
    "colab": {
     "base_uri": "https://localhost:8080/",
     "height": 438
    },
    "id": "T3ZT6HKqWtN-",
    "jupyter": {
     "is_executing": true
    },
    "outputId": "c20a36cc-abfd-4158-f141-33a71c3698a6"
   },
   "outputs": [],
   "source": [
    "cbloq = BitwiseCnot2(n=4).decompose_bloq()\n",
    "show_bloq(cbloq)"
   ]
  },
  {
   "cell_type": "markdown",
   "metadata": {
    "id": "-3-vA57dAMUh"
   },
   "source": [
    "## Protocols: Using Bloqs"
   ]
  },
  {
   "cell_type": "markdown",
   "metadata": {
    "id": "UcegZfIsch3l"
   },
   "source": [
    "Put simply, `Protocol` is what we can do with `Bloq`. For a more precise definition of protocol:\n",
    "\n",
    "> A protocol is a set of methods, functions, or procedures to structure a relevant piece of functionality.\n",
    "\n",
    "A protocol is composed of:\n",
    "* **The interface**: a method on `Bloq` that takes no arguments and returns a property of interest.\n",
    "* **The implementation**: a method on `Bloq` that takes system-supplied arguments which `Bloq` authors can override to provide information for the protocol. This is the implementation.\n",
    "* **A Python module**: functions for plumbing the implementation into the interface and other additional functionality.\n",
    "* **Helper functions**: for implementing one protocol in terms of another called fallbacks. Some protocols have a default fallback that requires no special action from the `Bloq` author.\n"
   ]
  },
  {
   "cell_type": "markdown",
   "metadata": {
    "id": "x3lGeWidJOle"
   },
   "source": [
    "\n",
    "We can't do much with the `ControlledGate` from our earlier example because no protocol is associated with that `Bloq`. On the other hand, we can do much more with composite `Bloqs` because they support `Decomposition` protocol."
   ]
  },
  {
   "cell_type": "markdown",
   "metadata": {
    "id": "4U_AKyviKa8u"
   },
   "source": [
    "### Decomposition protocol:\n",
    "\n",
    "* **Interface**: `decompose_bloq()`\n",
    "This method provides a decomposition of a `Bloq` into its components.\n",
    "\n",
    "* **Implementation**: `build_composite_bloq()`\n",
    "This method is used to implement the decomposition protocol. Authors of bloqs can override this method to define how the bloq should be decomposed into its components.\n",
    "\n",
    "* **Additional functionality**: `qualtran.BloqBuilder`\n",
    "The qualtran.BloqBuilder class offers additional functionality for working with bloqs, enhancing the decomposition process.\n",
    "\n",
    "* **Fallback**: `qualtran.DecomposeNotImplementedError`\n",
    "If there is no specified fallback method for decomposing a bloq, this error will be raised to indicate that the decomposition is not implemented.\n",
    "\n",
    "\n",
    "\n",
    "\n",
    "\n",
    "\n",
    "\n"
   ]
  },
  {
   "cell_type": "markdown",
   "metadata": {
    "id": "gn54WZiunxyt"
   },
   "source": [
    "\n",
    "### Tensor protocol\n",
    "\n",
    "The tensor protocol lets you query the tensor (vector, matrix, etc.) representation of a `Bloq`.\n",
    "  * `add_my_tensors()`: This method is responsible for adding a tensor corresponding to the unitary, state, or effect of the bloq to the provided tensor network `tn`.\n",
    "  * `tensor_contract()`:  Provides a tensor representation (vector or matrix) of a bloq or composite bloq.\n",
    "  * `qualtran.simulation.tensor`:a module that contain a host of methods related to the tensor network.\n",
    "  * `cbloq_as_contracted_tensor()`:the default fallback uses the decomposition protocol and this method\n",
    "\n",
    "\n",
    "  \n",
    "\n",
    "\n",
    "\n",
    "\n",
    "\n"
   ]
  },
  {
   "cell_type": "markdown",
   "metadata": {
    "id": "T7NxVs1Pdy_-"
   },
   "source": [
    "### Call Graph Protocol\n",
    "\n",
    "* **Interface**: `call_graph()`\n",
    "This method provides a directed-acyclic graph representing the hierarchical decomposition of bloqs.\n",
    "\n",
    "* **Implementation**: `build_call_graph()`\n",
    "The `build_call_graph()` method is used to implement the call graph protocol. Bloq authors can override this method to customize the generation of the call graph.\n",
    "\n",
    "* **Additional functionality**: `qualtran.resource_counting`\n",
    "The `qualtran.resource_counting` module offers additional functionality for working with call graphs, including resource counting and analysis.\n",
    "\n",
    "* **Fallback**: Default fallback uses the Decomposition protocol and `build_cbloq_call_graph().`\n",
    "\n",
    "If no specific method for generating the call graph is implemented for a `Bloq`, the default fallback utilizes the `Decomposition` protocol and `build_cbloq_call_graph()`"
   ]
  },
  {
   "cell_type": "markdown",
   "metadata": {
    "id": "Jd_lXV3TfrUL"
   },
   "source": [
    "The number of protocols isn't limited to what have discussed in this tutorial. You can implement new protocol yourself. For the rest of this tutorial, we will focus on the `Call Graph` protocol and interoperabilty with Cirq."
   ]
  },
  {
   "cell_type": "markdown",
   "metadata": {
    "id": "e3a-V9aGAShh"
   },
   "source": [
    "# Qualtran-Cirq Interoperability"
   ]
  },
  {
   "cell_type": "markdown",
   "metadata": {
    "id": "VFwpaRR9wnpZ"
   },
   "source": [
    "You might notice that syntactically, Qualtran and Cirq are very similar. They are, in fact, siblings, both created by Google. One feature of Qualtran is Cirq interoperability, and you can convert Cirq circuits to Bloqs and viceversa."
   ]
  },
  {
   "cell_type": "markdown",
   "metadata": {
    "id": "LJsPI2g75Gne"
   },
   "source": [
    "## Cirq Circuit to Bloq\n",
    "Converting Cirq gates or circuits to Bloqs is fairly straightforward process. Basic gates in cirq are mapped to a corresponding `Bloq` while circuits are mapped into `CompositeBloq`  "
   ]
  },
  {
   "cell_type": "code",
   "execution_count": null,
   "metadata": {
    "colab": {
     "base_uri": "https://localhost:8080/"
    },
    "id": "HFxgdr3ZxYDO",
    "jupyter": {
     "is_executing": true
    },
    "outputId": "c2b8a56d-86b4-4a75-d7c0-c13ee16ea927"
   },
   "outputs": [],
   "source": [
    "# Converting cirq gate\n",
    "from qualtran.cirq_interop import CirqGateAsBloq\n",
    "import cirq\n",
    "\n",
    "cgab = CirqGateAsBloq(cirq.QuantumFourierTransformGate(num_qubits=5))\n",
    "print(cgab)\n",
    "for reg in cgab.signature:\n",
    "    print(' ', reg)"
   ]
  },
  {
   "cell_type": "code",
   "execution_count": null,
   "metadata": {
    "colab": {
     "base_uri": "https://localhost:8080/",
     "height": 387
    },
    "id": "Nx25OmFa3Rp6",
    "jupyter": {
     "is_executing": true
    },
    "outputId": "190f9c1a-8cfb-468a-8a42-638f305048af"
   },
   "outputs": [],
   "source": [
    "show_bloq(cgab)"
   ]
  },
  {
   "cell_type": "code",
   "execution_count": null,
   "metadata": {
    "colab": {
     "base_uri": "https://localhost:8080/",
     "height": 599
    },
    "id": "iYnwWLRMxYiM",
    "jupyter": {
     "is_executing": true
    },
    "outputId": "a64e588b-9b4d-4b0d-b9fc-1eae3fa44663"
   },
   "outputs": [],
   "source": [
    "#Converting Cirq Circuit to CompositeBloq\n",
    "from cirq.contrib.svg import SVGCircuit\n",
    "\n",
    "# Make a random Cirq circuit\n",
    "qubits = cirq.LineQubit.range(4)\n",
    "circuit = cirq.testing.random_circuit(qubits, n_moments=5, op_density=1.0, random_state=52)\n",
    "\n",
    "# Convert to CompositeBloq\n",
    "cbloq = CompositeBloq.from_cirq_circuit(circuit)\n",
    "display(SVGCircuit(circuit))\n",
    "show_bloq(cbloq)"
   ]
  },
  {
   "cell_type": "markdown",
   "metadata": {
    "id": "Zz0W3zPtJ6IS"
   },
   "source": [
    "## Bloq to Cirq Circuit"
   ]
  },
  {
   "cell_type": "markdown",
   "metadata": {
    "id": "V6d27-X9KHbW"
   },
   "source": [
    "### `Bloq.as_cirq_op`\n",
    "This is an overridable method to declare what Cirq operation corresponds to a bloq. The `SwapTwoBits` in early example to `cirq.Swap` as follow:"
   ]
  },
  {
   "cell_type": "code",
   "execution_count": null,
   "metadata": {
    "id": "5GS4cX0DxZI1",
    "jupyter": {
     "is_executing": true
    }
   },
   "outputs": [],
   "source": [
    "from qualtran.cirq_interop import CirqQuregT\n",
    "@attrs.frozen\n",
    "class SwapTwoBits(Bloq):\n",
    "    @property\n",
    "    def signature(self):\n",
    "        return Signature.build(x=1, y=1)\n",
    "\n",
    "    def as_cirq_op(\n",
    "            self, qubit_manager, x: CirqQuregT, y: CirqQuregT\n",
    "    ) -> Tuple[cirq.Operation, Dict[str, CirqQuregT]]:\n",
    "        x, = x  # each is an array of length one\n",
    "        y, = y\n",
    "        op = cirq.SWAP(x, y)\n",
    "        out_quregs = {'x': [x], 'y': [y]}\n",
    "        return op, out_quregs"
   ]
  },
  {
   "cell_type": "code",
   "execution_count": null,
   "metadata": {
    "colab": {
     "base_uri": "https://localhost:8080/",
     "height": 141
    },
    "id": "nNQjbhdt4k0H",
    "jupyter": {
     "is_executing": true
    },
    "outputId": "86457afb-e3f7-4ea5-a613-9e2b11eb06aa"
   },
   "outputs": [],
   "source": [
    "circuit, out_quregs = SwapTwoBits().as_composite_bloq()\\\n",
    "    .to_cirq_circuit_and_quregs(x=[cirq.NamedQubit('q1')], y=[cirq.NamedQubit('q2')])\n",
    "SVGCircuit(circuit)"
   ]
  },
  {
   "cell_type": "markdown",
   "metadata": {
    "id": "CprhjT1-5Qy3"
   },
   "source": [
    "### `CompositeBloq.to_cirq_circuit`\n",
    "\n",
    "A composite bloq can be turned into a circuit composed of the result of as_cirq_op for each of the subbloqs via CompositeBloq.to_cirq_circuit.\n",
    "A bloq's Signature can be passed to a helper method get_named_qubits to instantiate Cirq qubits in the correct form for input to CompositeBloq.to_cirq_circuit_and_quregs. Users can also directly call CompositeBloq.to_cirq_circuit() which allocates the named qubits for you."
   ]
  },
  {
   "cell_type": "code",
   "execution_count": null,
   "metadata": {
    "colab": {
     "base_uri": "https://localhost:8080/"
    },
    "id": "isIK8sFm5UMC",
    "jupyter": {
     "is_executing": true
    },
    "outputId": "f740492d-59c6-42cd-c5d7-d4608a8a7339"
   },
   "outputs": [],
   "source": [
    "from qualtran._infra.gate_with_registers import get_named_qubits\n",
    "\n",
    "get_named_qubits(SwapTwoBits().signature.lefts())\n"
   ]
  },
  {
   "cell_type": "code",
   "execution_count": null,
   "metadata": {
    "colab": {
     "base_uri": "https://localhost:8080/",
     "height": 275
    },
    "id": "2yqSChzlxZoX",
    "jupyter": {
     "is_executing": true
    },
    "outputId": "2b9181c3-f979-4820-e661-21342e938341"
   },
   "outputs": [],
   "source": [
    "# Build a simple composite bloq\n",
    "bb = BloqBuilder()\n",
    "x = bb.add_register('x', 1)\n",
    "y = bb.add_register('y', 1)\n",
    "x, y = bb.add(SwapTwoBits(), x=x, y=y)\n",
    "x, y = bb.add(SwapTwoBits(), x=x, y=y)\n",
    "cbloq = bb.finalize(x=x, y=y)\n",
    "\n",
    "# Turn it into a cirq circuit\n",
    "circuit = cbloq.to_cirq_circuit()\n",
    "\n",
    "# Observe\n",
    "show_bloq(cbloq)\n",
    "display(SVGCircuit(circuit))"
   ]
  },
  {
   "cell_type": "markdown",
   "metadata": {
    "id": "QRDDUaSfRqd_"
   },
   "source": [
    "### `BloqAsCirqGate`- Converting high level Bloq\n",
    "For high-level bloq is very likely that there isn't an equivalent cirq gate. Moreover, for bloq can only be represented by large circuit, implementing `as_cirq_op` become tedious and impractical. Instead of overriding `as_cirq_op`, we use to its default implementation which wrap the `Bloq` inside `BloqAsCirqGate` and automatically return cirq operator.\n"
   ]
  },
  {
   "cell_type": "code",
   "execution_count": null,
   "metadata": {
    "id": "mE0rjFQT6GRG",
    "jupyter": {
     "is_executing": true
    }
   },
   "outputs": [],
   "source": [
    "from qualtran.cirq_interop import BloqAsCirqGate, cirq_optree_to_cbloq\n",
    "\n",
    "@attrs.frozen\n",
    "class Swap(Bloq):\n",
    "    n: int\n",
    "\n",
    "    @property\n",
    "    def signature(self):\n",
    "        return Signature.build(x=self.n, y=self.n)\n",
    "\n",
    "    def build_composite_bloq(\n",
    "            self, bb: 'BloqBuilder', *, x: 'SoquetT', y: 'SoquetT'\n",
    "    ) -> Dict[str, 'SoquetT']:\n",
    "        xs = bb.split(x)\n",
    "        ys = bb.split(y)\n",
    "        for i in range(self.n):\n",
    "            xs[i], ys[i] = bb.add(SwapTwoBits(), x=xs[i], y=ys[i])\n",
    "        return {'x': bb.join(xs), 'y': bb.join(ys)}"
   ]
  },
  {
   "cell_type": "code",
   "execution_count": null,
   "metadata": {
    "colab": {
     "base_uri": "https://localhost:8080/",
     "height": 675
    },
    "id": "G6Ximue4RzHr",
    "jupyter": {
     "is_executing": true
    },
    "outputId": "32d808b0-6fb7-417e-ffee-3e60d8b0f45b"
   },
   "outputs": [],
   "source": [
    "swap = Swap(n=5)\n",
    "\n",
    "show_bloq(swap)\n",
    "show_bloq(swap.decompose_bloq())"
   ]
  },
  {
   "cell_type": "code",
   "execution_count": null,
   "metadata": {},
   "outputs": [],
   "source": [
    "circuit = swap.as_composite_bloq().to_cirq_circuit(\n",
    "    cirq_quregs= {'x':cirq.LineQubit.range(5), 'y':cirq.LineQubit.range(100,105)}\n",
    ")\n",
    "\n",
    "op = next(circuit.all_operations())"
   ]
  },
  {
   "cell_type": "code",
   "execution_count": null,
   "metadata": {},
   "outputs": [],
   "source": [
    "swap_decomp_circuit = cirq.Circuit(cirq.decompose_once(op))\n",
    "print(repr(swap_decomp_circuit))"
   ]
  },
  {
   "cell_type": "code",
   "execution_count": null,
   "metadata": {},
   "outputs": [],
   "source": [
    "import qualtran.cirq_interop.testing as cq_testing\n",
    "from qualtran.cirq_interop.jupyter_tools import display_gate_and_compilation\n",
    "\n",
    "g = cq_testing.GateHelper(op.gate)\n",
    "display_gate_and_compilation(g, include_costs=False)"
   ]
  },
  {
   "cell_type": "markdown",
   "metadata": {
    "id": "Zu2sBh08lFXv"
   },
   "source": [
    "# Appendix: Qualtran Multi Pauli"
   ]
  },
  {
   "cell_type": "markdown",
   "metadata": {
    "id": "U9W9ETtwlLn2"
   },
   "source": [
    "In this section we will use Call Graph protocol to investigate the cost of two gates: `MultiTargetCNOT`, `MultiControlPauli`."
   ]
  },
  {
   "cell_type": "code",
   "execution_count": null,
   "metadata": {
    "id": "eym6vM10mbCM",
    "jupyter": {
     "is_executing": true
    }
   },
   "outputs": [],
   "source": [
    "from qualtran.bloqs.mcmt import MultiTargetCNOT, MultiControlPauli\n",
    "import cirq"
   ]
  },
  {
   "cell_type": "code",
   "execution_count": null,
   "metadata": {
    "id": "e0M86TKBmd3k",
    "jupyter": {
     "is_executing": true
    }
   },
   "outputs": [],
   "source": [
    "c_multi_not = MultiTargetCNOT(bitsize=5)"
   ]
  },
  {
   "cell_type": "markdown",
   "metadata": {
    "id": "_4Zl4gKBmEVc"
   },
   "source": [
    "The primary method for accessing the call graph of a bloq is Bloq.call_graph(). It returns a `networkx` graph as well as a dictionary of totals for “leaf” bloqs.\n",
    "\n",
    "Another method is `Bloq.bloq_counts`, which will return a dictionary of immediate children."
   ]
  },
  {
   "cell_type": "code",
   "execution_count": null,
   "metadata": {
    "colab": {
     "base_uri": "https://localhost:8080/",
     "height": 386
    },
    "id": "J1bNZOTXnmi9",
    "jupyter": {
     "is_executing": true
    },
    "outputId": "ac70bb6f-1c57-4e82-9537-75df40466b72"
   },
   "outputs": [],
   "source": [
    "from qualtran.resource_counting.generalizers import ignore_split_join\n",
    "#c_multi_not_symb_g, c_multi_not_symb_sigma = c_multi_not.call_graph(max_depth=1, generalizer=ignore_split_join)\n",
    "c_multi_not_symb_g, c_multi_not_symb_sigma = c_multi_not.call_graph()\n",
    "show_call_graph(c_multi_not_symb_g)\n",
    "show_counts_sigma(c_multi_not_symb_sigma)"
   ]
  },
  {
   "cell_type": "markdown",
   "metadata": {
    "id": "k1AlZmdtmgcw"
   },
   "source": [
    "Generally, two qubits gate and non Clifford gate are expensive due to their low fidelity. Call graph Protocol is then particulaly useful for estimating resource requirements for an algorithm. Note that you can also filter out irrelevent cost to your analysis by changing generalizer parameter of `call_graph()` methods. Uncomment the sencond line of above code block and observe the result."
   ]
  },
  {
   "cell_type": "markdown",
   "metadata": {
    "id": "9At671u7nQYm"
   },
   "source": [
    "### Exercise: Investigate MultiControlPauli"
   ]
  },
  {
   "cell_type": "code",
   "execution_count": null,
   "metadata": {
    "id": "CYPeU18Snu0D",
    "jupyter": {
     "is_executing": true
    }
   },
   "outputs": [],
   "source": [
    "ccpauli = MultiControlPauli(cvs=(1, 0, 1, 0, 1), target_gate=cirq.X)"
   ]
  },
  {
   "cell_type": "code",
   "execution_count": null,
   "metadata": {
    "colab": {
     "base_uri": "https://localhost:8080/",
     "height": 459
    },
    "id": "9i24ug7zn5n6",
    "jupyter": {
     "is_executing": true
    },
    "outputId": "d8d44e82-4c24-4438-a55d-ff9957d89c83"
   },
   "outputs": [],
   "source": [
    "show_bloq(ccpauli)"
   ]
  },
  {
   "cell_type": "markdown",
   "metadata": {
    "id": "Iv2TLLV8MAj1"
   },
   "source": [
    "#### Attempt solution here:"
   ]
  },
  {
   "cell_type": "code",
   "execution_count": null,
   "metadata": {
    "id": "BQObl-VoMJc3",
    "jupyter": {
     "is_executing": true
    }
   },
   "outputs": [],
   "source": []
  },
  {
   "cell_type": "markdown",
   "metadata": {
    "id": "mJ9bOiGhMLhL"
   },
   "source": [
    "#### Expand to view the solution"
   ]
  },
  {
   "cell_type": "code",
   "execution_count": null,
   "metadata": {
    "colab": {
     "base_uri": "https://localhost:8080/",
     "height": 525
    },
    "id": "FbMIr0iHkmGD",
    "jupyter": {
     "is_executing": true
    },
    "outputId": "300fc575-06e8-449e-cbe2-d5d35dbbc02e"
   },
   "outputs": [],
   "source": [
    "\n",
    "\n",
    "ccpauli_g, ccpauli_sigma = ccpauli.call_graph(max_depth=1, generalizer=ignore_split_join)\n",
    "#ccpauli_g, ccpauli_sigma = ccpauli.call_graph()\n",
    "show_call_graph(ccpauli_g)\n",
    "show_counts_sigma(ccpauli_sigma)\n",
    "\n"
   ]
  },
  {
   "cell_type": "markdown",
   "metadata": {
    "id": "lo29lrTINAdy"
   },
   "source": [
    "# Appendix - Exercise Protocols: Match the methods:\n",
    "\n",
    "\n",
    "\n",
    "\n",
    "\n",
    "\n"
   ]
  },
  {
   "cell_type": "markdown",
   "metadata": {
    "id": "kPSiRYcrOjX4"
   },
   "source": [
    "Decide which method is the Interface the Implementation and Additional functionality\n",
    "1. `add_my_tensors()`: ...\n",
    "2. `tensor_contract()`: ...\n",
    "3. `qualtran.simulation.tensor`: ..."
   ]
  },
  {
   "cell_type": "markdown",
   "metadata": {},
   "source": [
    "# References:\n",
    "This tutorial is based on on various part of qualtran doc. For a more throughout treatment, reader can consult the original material:\n",
    "1. Bloq Tutorial: https://qualtran.readthedocs.io/en/latest/_infra/Bloqs-Tutorial.html\n",
    "2. Protocol: https://qualtran.readthedocs.io/en/latest/Protocols.html\n",
    "3. Multi Pauli: https://qualtran.readthedocs.io/en/latest/bloqs/mcmt/multi_control_multi_target_pauli.html\n",
    "\n"
   ]
  },
  {
   "cell_type": "code",
   "execution_count": null,
   "metadata": {},
   "outputs": [],
   "source": []
  }
 ],
 "metadata": {
  "colab": {
   "collapsed_sections": [
    "n2EmgZEyql2g",
    "2id-xdR7qsEO",
    "Zu2sBh08lFXv",
    "Iv2TLLV8MAj1"
   ],
   "provenance": [],
   "toc_visible": true
  },
  "kernelspec": {
   "display_name": "Python 3 (ipykernel)",
   "language": "python",
   "name": "python3"
  },
  "language_info": {
   "codemirror_mode": {
    "name": "ipython",
    "version": 3
   },
   "file_extension": ".py",
   "mimetype": "text/x-python",
   "name": "python",
   "nbconvert_exporter": "python",
   "pygments_lexer": "ipython3",
   "version": "3.10.12"
  },
  "widgets": {
   "application/vnd.jupyter.widget-state+json": {
    "048286cbd942442b84c0be0cb3418cb2": {
     "model_module": "@jupyter-widgets/base",
     "model_module_version": "1.2.0",
     "model_name": "LayoutModel",
     "state": {
      "_model_module": "@jupyter-widgets/base",
      "_model_module_version": "1.2.0",
      "_model_name": "LayoutModel",
      "_view_count": null,
      "_view_module": "@jupyter-widgets/base",
      "_view_module_version": "1.2.0",
      "_view_name": "LayoutView",
      "align_content": null,
      "align_items": null,
      "align_self": null,
      "border": null,
      "bottom": null,
      "display": null,
      "flex": null,
      "flex_flow": null,
      "grid_area": null,
      "grid_auto_columns": null,
      "grid_auto_flow": null,
      "grid_auto_rows": null,
      "grid_column": null,
      "grid_gap": null,
      "grid_row": null,
      "grid_template_areas": null,
      "grid_template_columns": null,
      "grid_template_rows": null,
      "height": null,
      "justify_content": null,
      "justify_items": null,
      "left": null,
      "margin": null,
      "max_height": null,
      "max_width": null,
      "min_height": null,
      "min_width": null,
      "object_fit": null,
      "object_position": null,
      "order": null,
      "overflow": null,
      "overflow_x": null,
      "overflow_y": null,
      "padding": null,
      "right": null,
      "top": null,
      "visibility": null,
      "width": null
     }
    },
    "27149ca4b39e4b1cb4b95e8af772c550": {
     "model_module": "@jupyter-widgets/output",
     "model_module_version": "1.0.0",
     "model_name": "OutputModel",
     "state": {
      "_dom_classes": [],
      "_model_module": "@jupyter-widgets/output",
      "_model_module_version": "1.0.0",
      "_model_name": "OutputModel",
      "_view_count": null,
      "_view_module": "@jupyter-widgets/output",
      "_view_module_version": "1.0.0",
      "_view_name": "OutputView",
      "layout": "IPY_MODEL_048286cbd942442b84c0be0cb3418cb2",
      "msg_id": "",
      "outputs": [
       {
        "data": {
         "text/markdown": "c_not",
         "text/plain": "<IPython.core.display.Markdown object>"
        },
        "metadata": {},
        "output_type": "display_data"
       },
       {
        "data": {
         "image/svg+xml": "<svg xmlns=\"http://www.w3.org/2000/svg\" xmlns:xlink=\"http://www.w3.org/1999/xlink\" width=\"227pt\" height=\"98pt\" viewBox=\"0.00 0.00 227.00 98.00\">\n<g id=\"graph0\" class=\"graph\" transform=\"scale(1 1) rotate(0) translate(4 94)\">\n<title>my_graph</title>\n<polygon fill=\"white\" stroke=\"transparent\" points=\"-4,4 -4,-94 223,-94 223,4 -4,4\"/>\n<!-- ctrl_G2 -->\n<g id=\"node1\" class=\"node\">\n<title>ctrl_G2</title>\n<text text-anchor=\"middle\" x=\"27\" y=\"-68.3\" font-family=\"Times,serif\" font-size=\"14.00\">ctrl</text>\n</g>\n<!-- CNOT -->\n<g id=\"node3\" class=\"node\">\n<title>CNOT</title>\n<polygon fill=\"none\" stroke=\"black\" points=\"91.5,-66 91.5,-83 128.5,-83 128.5,-66 91.5,-66\"/>\n<text text-anchor=\"start\" x=\"96\" y=\"-72\" font-family=\"Times,serif\" font-size=\"10.00\">CNOT</text>\n<polygon fill=\"none\" stroke=\"black\" points=\"91.5,-45 91.5,-66 128.5,-66 128.5,-45 91.5,-45\"/>\n<text text-anchor=\"start\" x=\"100.5\" y=\"-51.8\" font-family=\"Times,serif\" font-size=\"14.00\">ctrl</text>\n<polygon fill=\"none\" stroke=\"black\" points=\"91.5,-24 91.5,-45 128.5,-45 128.5,-24 91.5,-24\"/>\n<text text-anchor=\"start\" x=\"94.5\" y=\"-30.8\" font-family=\"Times,serif\" font-size=\"14.00\">target</text>\n</g>\n<!-- ctrl_G2&#45;&gt;CNOT -->\n<g id=\"edge1\" class=\"edge\">\n<title>ctrl_G2:e-&gt;CNOT:w</title>\n<path fill=\"none\" stroke=\"black\" d=\"M54,-72C71.22,-72 72.97,-57.23 88.98,-56.07\"/>\n<ellipse fill=\"black\" stroke=\"black\" cx=\"90\" cy=\"-56.04\" rx=\"1\" ry=\"1\"/>\n<text text-anchor=\"middle\" x=\"72.5\" y=\"-67\" font-family=\"Times,serif\" font-size=\"10.00\">1</text>\n</g>\n<!-- target_G1 -->\n<g id=\"node2\" class=\"node\">\n<title>target_G1</title>\n<text text-anchor=\"middle\" x=\"27\" y=\"-14.3\" font-family=\"Times,serif\" font-size=\"14.00\">target</text>\n</g>\n<!-- target_G1&#45;&gt;CNOT -->\n<g id=\"edge2\" class=\"edge\">\n<title>target_G1:e-&gt;CNOT:w</title>\n<path fill=\"none\" stroke=\"black\" d=\"M54,-18C71.22,-18 72.97,-32.77 88.98,-33.93\"/>\n<ellipse fill=\"black\" stroke=\"black\" cx=\"90\" cy=\"-33.96\" rx=\"1\" ry=\"1\"/>\n<text text-anchor=\"middle\" x=\"72.5\" y=\"-29\" font-family=\"Times,serif\" font-size=\"10.00\">1</text>\n</g>\n<!-- ctrl_G5 -->\n<g id=\"node4\" class=\"node\">\n<title>ctrl_G5</title>\n<text text-anchor=\"middle\" x=\"192\" y=\"-68.3\" font-family=\"Times,serif\" font-size=\"14.00\">ctrl</text>\n</g>\n<!-- CNOT&#45;&gt;ctrl_G5 -->\n<g id=\"edge3\" class=\"edge\">\n<title>CNOT:e-&gt;ctrl_G5:w</title>\n<path fill=\"none\" stroke=\"black\" d=\"M128,-56C145.22,-56 146.97,-70.77 162.98,-71.93\"/>\n<ellipse fill=\"black\" stroke=\"black\" cx=\"164\" cy=\"-71.96\" rx=\"1\" ry=\"1\"/>\n<text text-anchor=\"middle\" x=\"146.5\" y=\"-67\" font-family=\"Times,serif\" font-size=\"10.00\">1</text>\n</g>\n<!-- target_G3 -->\n<g id=\"node5\" class=\"node\">\n<title>target_G3</title>\n<text text-anchor=\"middle\" x=\"192\" y=\"-14.3\" font-family=\"Times,serif\" font-size=\"14.00\">target</text>\n</g>\n<!-- CNOT&#45;&gt;target_G3 -->\n<g id=\"edge4\" class=\"edge\">\n<title>CNOT:e-&gt;target_G3:w</title>\n<path fill=\"none\" stroke=\"black\" d=\"M128,-34C145.22,-34 146.97,-19.23 162.98,-18.07\"/>\n<ellipse fill=\"black\" stroke=\"black\" cx=\"164\" cy=\"-18.04\" rx=\"1\" ry=\"1\"/>\n<text text-anchor=\"middle\" x=\"146.5\" y=\"-29\" font-family=\"Times,serif\" font-size=\"10.00\">1</text>\n</g>\n</g>\n</svg>",
         "text/plain": "<IPython.core.display.SVG object>"
        },
        "metadata": {},
        "output_type": "display_data"
       }
      ]
     }
    },
    "54c59e8e7e4245369b7ad3818450d333": {
     "model_module": "@jupyter-widgets/controls",
     "model_module_version": "1.5.0",
     "model_name": "HBoxModel",
     "state": {
      "_dom_classes": [],
      "_model_module": "@jupyter-widgets/controls",
      "_model_module_version": "1.5.0",
      "_model_name": "HBoxModel",
      "_view_count": null,
      "_view_module": "@jupyter-widgets/controls",
      "_view_module_version": "1.5.0",
      "_view_name": "HBoxView",
      "box_style": "",
      "children": [
       "IPY_MODEL_769ae37762004278a9a3b896cac9b43e",
       "IPY_MODEL_27149ca4b39e4b1cb4b95e8af772c550"
      ],
      "layout": "IPY_MODEL_bae1f0ccd57448f3a2ff660bbd2865f9"
     }
    },
    "769ae37762004278a9a3b896cac9b43e": {
     "model_module": "@jupyter-widgets/output",
     "model_module_version": "1.0.0",
     "model_name": "OutputModel",
     "state": {
      "_dom_classes": [],
      "_model_module": "@jupyter-widgets/output",
      "_model_module_version": "1.0.0",
      "_model_name": "OutputModel",
      "_view_count": null,
      "_view_module": "@jupyter-widgets/output",
      "_view_module_version": "1.0.0",
      "_view_name": "OutputView",
      "layout": "IPY_MODEL_cb288f3f506744e3824e75506dcd8177",
      "msg_id": "",
      "outputs": [
       {
        "data": {
         "text/markdown": "`t_gate`",
         "text/plain": "<IPython.core.display.Markdown object>"
        },
        "metadata": {},
        "output_type": "display_data"
       },
       {
        "data": {
         "image/svg+xml": "<svg xmlns=\"http://www.w3.org/2000/svg\" xmlns:xlink=\"http://www.w3.org/1999/xlink\" width=\"203pt\" height=\"54pt\" viewBox=\"0.00 0.00 203.00 54.00\">\n<g id=\"graph0\" class=\"graph\" transform=\"scale(1 1) rotate(0) translate(4 50)\">\n<title>my_graph</title>\n<polygon fill=\"white\" stroke=\"transparent\" points=\"-4,4 -4,-50 199,-50 199,4 -4,4\"/>\n<!-- q_G1 -->\n<g id=\"node1\" class=\"node\">\n<title>q_G1</title>\n<text text-anchor=\"middle\" x=\"27\" y=\"-14.3\" font-family=\"Times,serif\" font-size=\"14.00\">q</text>\n</g>\n<!-- TGate -->\n<g id=\"node2\" class=\"node\">\n<title>TGate</title>\n<polygon fill=\"none\" stroke=\"black\" points=\"91.5,-29 91.5,-46 104.5,-46 104.5,-29 91.5,-29\"/>\n<text text-anchor=\"start\" x=\"94.5\" y=\"-35\" font-family=\"Times,serif\" font-size=\"10.00\">T</text>\n<polygon fill=\"none\" stroke=\"black\" points=\"91.5,-8 91.5,-29 104.5,-29 104.5,-8 91.5,-8\"/>\n<text text-anchor=\"start\" x=\"94.5\" y=\"-14.8\" font-family=\"Times,serif\" font-size=\"14.00\">q</text>\n</g>\n<!-- q_G1&#45;&gt;TGate -->\n<g id=\"edge1\" class=\"edge\">\n<title>q_G1:e-&gt;TGate:w</title>\n<path fill=\"none\" stroke=\"black\" d=\"M54,-18C69.67,-18 74.14,-18 88.77,-18\"/>\n<ellipse fill=\"black\" stroke=\"black\" cx=\"90\" cy=\"-18\" rx=\"1\" ry=\"1\"/>\n<text text-anchor=\"middle\" x=\"72.5\" y=\"-21\" font-family=\"Times,serif\" font-size=\"10.00\">1</text>\n</g>\n<!-- q_G2 -->\n<g id=\"node3\" class=\"node\">\n<title>q_G2</title>\n<text text-anchor=\"middle\" x=\"168\" y=\"-14.3\" font-family=\"Times,serif\" font-size=\"14.00\">q</text>\n</g>\n<!-- TGate&#45;&gt;q_G2 -->\n<g id=\"edge2\" class=\"edge\">\n<title>TGate:e-&gt;q_G2:w</title>\n<path fill=\"none\" stroke=\"black\" d=\"M104,-18C119.67,-18 124.14,-18 138.77,-18\"/>\n<ellipse fill=\"black\" stroke=\"black\" cx=\"140\" cy=\"-18\" rx=\"1\" ry=\"1\"/>\n<text text-anchor=\"middle\" x=\"122.5\" y=\"-21\" font-family=\"Times,serif\" font-size=\"10.00\">1</text>\n</g>\n</g>\n</svg>",
         "text/plain": "<IPython.core.display.SVG object>"
        },
        "metadata": {},
        "output_type": "display_data"
       }
      ]
     }
    },
    "bae1f0ccd57448f3a2ff660bbd2865f9": {
     "model_module": "@jupyter-widgets/base",
     "model_module_version": "1.2.0",
     "model_name": "LayoutModel",
     "state": {
      "_model_module": "@jupyter-widgets/base",
      "_model_module_version": "1.2.0",
      "_model_name": "LayoutModel",
      "_view_count": null,
      "_view_module": "@jupyter-widgets/base",
      "_view_module_version": "1.2.0",
      "_view_name": "LayoutView",
      "align_content": null,
      "align_items": null,
      "align_self": null,
      "border": null,
      "bottom": null,
      "display": null,
      "flex": null,
      "flex_flow": null,
      "grid_area": null,
      "grid_auto_columns": null,
      "grid_auto_flow": null,
      "grid_auto_rows": null,
      "grid_column": null,
      "grid_gap": null,
      "grid_row": null,
      "grid_template_areas": null,
      "grid_template_columns": null,
      "grid_template_rows": null,
      "height": null,
      "justify_content": null,
      "justify_items": null,
      "left": null,
      "margin": null,
      "max_height": null,
      "max_width": null,
      "min_height": null,
      "min_width": null,
      "object_fit": null,
      "object_position": null,
      "order": null,
      "overflow": null,
      "overflow_x": null,
      "overflow_y": null,
      "padding": null,
      "right": null,
      "top": null,
      "visibility": null,
      "width": null
     }
    },
    "cb288f3f506744e3824e75506dcd8177": {
     "model_module": "@jupyter-widgets/base",
     "model_module_version": "1.2.0",
     "model_name": "LayoutModel",
     "state": {
      "_model_module": "@jupyter-widgets/base",
      "_model_module_version": "1.2.0",
      "_model_name": "LayoutModel",
      "_view_count": null,
      "_view_module": "@jupyter-widgets/base",
      "_view_module_version": "1.2.0",
      "_view_name": "LayoutView",
      "align_content": null,
      "align_items": null,
      "align_self": null,
      "border": null,
      "bottom": null,
      "display": null,
      "flex": null,
      "flex_flow": null,
      "grid_area": null,
      "grid_auto_columns": null,
      "grid_auto_flow": null,
      "grid_auto_rows": null,
      "grid_column": null,
      "grid_gap": null,
      "grid_row": null,
      "grid_template_areas": null,
      "grid_template_columns": null,
      "grid_template_rows": null,
      "height": null,
      "justify_content": null,
      "justify_items": null,
      "left": null,
      "margin": null,
      "max_height": null,
      "max_width": null,
      "min_height": null,
      "min_width": null,
      "object_fit": null,
      "object_position": null,
      "order": null,
      "overflow": null,
      "overflow_x": null,
      "overflow_y": null,
      "padding": null,
      "right": null,
      "top": null,
      "visibility": null,
      "width": null
     }
    }
   }
  }
 },
 "nbformat": 4,
 "nbformat_minor": 4
}
